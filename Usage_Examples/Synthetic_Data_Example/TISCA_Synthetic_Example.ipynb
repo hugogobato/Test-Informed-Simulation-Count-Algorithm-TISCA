{
 "cells": [
  {
   "cell_type": "markdown",
   "metadata": {},
   "source": [
    "# TISCA Example Usage with User-Defined Simulation"
   ]
  },
  {
   "cell_type": "markdown",
   "metadata": {},
   "source": [
    "This script demonstrates how to use the TISCA framework with a custom simulation function. It provides a complete working example that researchers can adapt for their own studies"
   ]
  },
  {
   "cell_type": "code",
   "execution_count": 1,
   "metadata": {
    "vscode": {
     "languageId": "r"
    }
   },
   "outputs": [],
   "source": [
    "source(\"TISCA.R\")\n",
    "\n",
    "# Load required packages for this example\n",
    "library(MASS)  # For mvrnorm function"
   ]
  },
  {
   "cell_type": "markdown",
   "metadata": {},
   "source": [
    "Example: Simple Treatment Effect Estimation Simulation\n",
    "\n",
    "This example simulates a basic treatment effect estimation scenario with:\n",
    " - Two competing methods: a proposed method and a benchmark\n",
    " - Two performance metrics: PEHE (lower is better) and Coverage (higher is better)\n",
    " - Simple data generation process with heterogeneous treatment effects\n"
   ]
  },
  {
   "cell_type": "code",
   "execution_count": 2,
   "metadata": {
    "vscode": {
     "languageId": "r"
    }
   },
   "outputs": [],
   "source": [
    "#' @param seed Random seed for reproducibility\n",
    "#' @return A data frame with performance metrics for both methods\n",
    "simulate_treatment_effects <- function(seed) {\n",
    "  # Set random seed for reproducibility\n",
    "  set.seed(seed)\n",
    "  \n",
    "  # 1. Generate synthetic data\n",
    "  n <- 100  # Sample size\n",
    "  p <- 5    # Number of covariates\n",
    "  \n",
    "  # Generate covariates\n",
    "  X <- matrix(rnorm(n * p), nrow = n, ncol = p)\n",
    "  \n",
    "  # Generate true treatment effects (heterogeneous)\n",
    "  tau <- 2 * X[,1] + X[,2]^2\n",
    "  \n",
    "  # Generate treatment assignment\n",
    "  propensity <- plogis(0.5 + 0.3 * X[,1] - 0.2 * X[,3])\n",
    "  Z <- rbinom(n, 1, propensity)\n",
    "  \n",
    "  # Generate outcomes\n",
    "  mu <- 1 + X %*% c(1, 0.5, -0.5, 1, 2)  # Baseline effect\n",
    "  Y <- mu + Z * tau + rnorm(n, 0, 1)     # Observed outcome\n",
    "  \n",
    "  # 2. Split data into training and testing\n",
    "  train_idx <- sample(1:n, 0.8 * n)\n",
    "  test_idx <- setdiff(1:n, train_idx)\n",
    "  \n",
    "  X_train <- X[train_idx, ]\n",
    "  Z_train <- Z[train_idx]\n",
    "  Y_train <- Y[train_idx]\n",
    "  \n",
    "  X_test <- X[test_idx, ]\n",
    "  Z_test <- Z[test_idx]\n",
    "  Y_test <- Y[test_idx]\n",
    "  tau_test <- tau[test_idx]  # True treatment effects for evaluation\n",
    "  \n",
    "  # 3. Fit models\n",
    "  \n",
    "  # Proposed method: More complex model (simulated)\n",
    "  # In a real application, this would be your novel method\n",
    "  proposed_fit <- function() {\n",
    "    # Simulate a more accurate but variable model\n",
    "    tau_hat <- tau_test + rnorm(length(test_idx), 0, 0.8)\n",
    "    \n",
    "    # Generate posterior samples for uncertainty quantification\n",
    "    posterior_samples <- matrix(NA, nrow = 100, ncol = length(test_idx))\n",
    "    for (i in 1:100) {\n",
    "      posterior_samples[i, ] <- tau_hat + rnorm(length(test_idx), 0, 0.7)\n",
    "    }\n",
    "    \n",
    "    return(list(\n",
    "      point_estimates = tau_hat,\n",
    "      posterior_samples = posterior_samples\n",
    "    ))\n",
    "  }\n",
    "  \n",
    "  # Benchmark method: Simpler model (simulated)\n",
    "  # In a real application, this would be a standard method\n",
    "  benchmark_fit <- function() {\n",
    "    # Simulate a less accurate but more stable model\n",
    "    tau_hat <- tau_test + rnorm(length(test_idx), 0.2, 1.0)\n",
    "    \n",
    "    # Generate posterior samples for uncertainty quantification\n",
    "    posterior_samples <- matrix(NA, nrow = 100, ncol = length(test_idx))\n",
    "    for (i in 1:100) {\n",
    "      posterior_samples[i, ] <- tau_hat + rnorm(length(test_idx), 0, 0.9)\n",
    "    }\n",
    "    \n",
    "    return(list(\n",
    "      point_estimates = tau_hat,\n",
    "      posterior_samples = posterior_samples\n",
    "    ))\n",
    "  }\n",
    "  \n",
    "  # 4. Get model predictions\n",
    "  proposed_results <- proposed_fit()\n",
    "  benchmark_results <- benchmark_fit()\n",
    "  \n",
    "  # 5. Calculate performance metrics\n",
    "  \n",
    "  # PEHE (Precision in Estimation of Heterogeneous Effects)\n",
    "  proposed_pehe <- sqrt(mean((proposed_results$point_estimates - tau_test)^2))\n",
    "  benchmark_pehe <- sqrt(mean((benchmark_results$point_estimates - tau_test)^2))\n",
    "  \n",
    "  # Coverage of 95% credible intervals\n",
    "  calculate_coverage <- function(posterior_samples, true_values) {\n",
    "    lower <- apply(posterior_samples, 2, function(x) quantile(x, 0.025))\n",
    "    upper <- apply(posterior_samples, 2, function(x) quantile(x, 0.975))\n",
    "    mean(true_values >= lower & true_values <= upper)\n",
    "  }\n",
    "  \n",
    "  proposed_coverage <- calculate_coverage(proposed_results$posterior_samples, tau_test)\n",
    "  benchmark_coverage <- calculate_coverage(benchmark_results$posterior_samples, tau_test)\n",
    "  \n",
    "  # 6. Return results as a data frame\n",
    "  return(data.frame(\n",
    "    proposed_pehe = proposed_pehe,\n",
    "    benchmark_pehe = benchmark_pehe,\n",
    "    proposed_coverage = proposed_coverage,\n",
    "    benchmark_coverage = benchmark_coverage\n",
    "  ))\n",
    "}"
   ]
  },
  {
   "cell_type": "code",
   "execution_count": 3,
   "metadata": {
    "vscode": {
     "languageId": "r"
    }
   },
   "outputs": [
    {
     "name": "stdout",
     "output_type": "stream",
     "text": [
      "[1] \"Single simulation run results:\"\n",
      "  proposed_pehe benchmark_pehe proposed_coverage benchmark_coverage\n",
      "1     0.6960714      0.7112506              0.95               0.95\n"
     ]
    }
   ],
   "source": [
    "# Test the simulation function with a single run\n",
    "test_run <- simulate_treatment_effects(seed = 42)\n",
    "print(\"Single simulation run results:\")\n",
    "print(test_run)"
   ]
  },
  {
   "cell_type": "code",
   "execution_count": 4,
   "metadata": {
    "vscode": {
     "languageId": "r"
    }
   },
   "outputs": [],
   "source": [
    "# Define comparison pairs for TISCA\n",
    "# Format: list of c(\"proposed_metric\", \"benchmark_metric\") pairs\n",
    "comparison_pairs <- list(\n",
    "  c(\"proposed_pehe\", \"benchmark_pehe\"),         # Compare PEHE (lower is better)\n",
    "  c(\"proposed_coverage\", \"benchmark_coverage\")  # Compare coverage (higher is better)\n",
    ")"
   ]
  },
  {
   "cell_type": "code",
   "execution_count": 5,
   "metadata": {
    "vscode": {
     "languageId": "r"
    }
   },
   "outputs": [],
   "source": [
    "# Define minimum detectable effect sizes (MDEs)\n",
    "# For PEHE: -0.1 means proposed is at least 0.1 better\n",
    "# For coverage: 0.05 means proposed is at least 0.05 closer to 0.95\n",
    "mdes <- c(-0.1, 0.05)"
   ]
  },
  {
   "cell_type": "code",
   "execution_count": 6,
   "metadata": {
    "vscode": {
     "languageId": "r"
    }
   },
   "outputs": [
    {
     "name": "stdout",
     "output_type": "stream",
     "text": [
      "\n",
      "Running TISCA to determine optimal simulation count...\n",
      "\n",
      "Starting TISCA algorithm...\n",
      "Target power: 0.9 \n",
      "Significance level: 0.01 \n",
      "Batch size: 10 \n",
      "Initial count: 10 \n",
      "Correction method: holm \n",
      "Number of comparisons: 2 \n",
      "\n",
      "Running initial 10 simulations...\n",
      "\n",
      "After initial 10 simulations:\n",
      "Comparison 1: Power = 0.1537, p-value = 0.0002, adjusted p-value = 0.0005\n",
      "Comparison 2: Power = 0.1988, p-value = 0.1043, adjusted p-value = 0.1043\n",
      "Minimum power: 0.1537198 \n",
      "\n",
      "Iteration 1: Running batch of 10 simulations (total will be 20)...\n",
      "\n",
      "After 20 simulations:\n",
      "Comparison 1: Power = 0.3323, p-value = 0.0000, adjusted p-value = 0.0000\n",
      "Comparison 2: Power = 0.5889, p-value = 0.0121, adjusted p-value = 0.0121\n",
      "Minimum power: 0.3323259 \n",
      "\n",
      "Iteration 2: Running batch of 10 simulations (total will be 30)...\n",
      "\n",
      "After 30 simulations:\n",
      "Comparison 1: Power = 0.4812, p-value = 0.0000, adjusted p-value = 0.0000\n",
      "Comparison 2: Power = 0.7292, p-value = 0.0253, adjusted p-value = 0.0253\n",
      "Minimum power: 0.481195 \n",
      "\n",
      "Iteration 3: Running batch of 10 simulations (total will be 40)...\n",
      "\n",
      "After 40 simulations:\n",
      "Comparison 1: Power = 0.6954, p-value = 0.0000, adjusted p-value = 0.0000\n",
      "Comparison 2: Power = 0.8559, p-value = 0.1182, adjusted p-value = 0.1182\n",
      "Minimum power: 0.6954184 \n",
      "\n",
      "Iteration 4: Running batch of 10 simulations (total will be 50)...\n",
      "\n",
      "After 50 simulations:\n",
      "Comparison 1: Power = 0.7966, p-value = 0.0000, adjusted p-value = 0.0000\n",
      "Comparison 2: Power = 0.9394, p-value = 0.2778, adjusted p-value = 0.2778\n",
      "Minimum power: 0.7965558 \n",
      "\n",
      "Iteration 5: Running batch of 10 simulations (total will be 60)...\n"
     ]
    },
    {
     "name": "stderr",
     "output_type": "stream",
     "text": [
      "Warning message in pt(crit, df, ncp):\n",
      "“precisão completa pode não ser conseguida em 'pnt{final}'”\n"
     ]
    },
    {
     "name": "stdout",
     "output_type": "stream",
     "text": [
      "\n",
      "After 60 simulations:\n",
      "Comparison 1: Power = 0.9030, p-value = 0.0000, adjusted p-value = 0.0000\n",
      "Comparison 2: Power = 0.9743, p-value = 0.1712, adjusted p-value = 0.1712\n",
      "Minimum power: 0.9029805 \n",
      "\n",
      "\n",
      "=== TISCA COMPLETED ===\n",
      "Final number of simulations required: 60 \n",
      "Final achieved powers:\n",
      "Comparison 1 (proposed_pehe vs benchmark_pehe): Power = 0.9030, p-value = 0.0000, adjusted p-value = 0.0000\n",
      "Comparison 2 (proposed_coverage vs benchmark_coverage): Power = 0.9743, p-value = 0.1712, adjusted p-value = 0.1712\n",
      "\n",
      "Results saved to CSV files:\n",
      "-  ./tisca_simulation_results.csv \n",
      "-  ./tisca_summary_results.csv \n",
      "-  ./power_tracking.csv \n",
      "-  ./pvalue_tracking.csv \n",
      "\n",
      "Visualizations saved:\n",
      "-  ./power_vs_simulations.png \n",
      "-  ./pvalue_comparison.png \n",
      "\n",
      "TISCA Summary Table:\n",
      "                               Comparison   Proposed_Metric   Benchmark_Metric\n",
      "1         proposed_pehe vs benchmark_pehe     proposed_pehe     benchmark_pehe\n",
      "2 proposed_coverage vs benchmark_coverage proposed_coverage benchmark_coverage\n",
      "    MDE Mean_Difference     Power      P_Value Adjusted_P_Value T_Statistic\n",
      "1 -0.10      -0.2304405 0.9029805 3.774627e-15     7.549254e-15   -9.058528\n",
      "2  0.05       0.0150000 0.9743016 1.712147e-01     1.712147e-01    1.376699\n"
     ]
    }
   ],
   "source": [
    "# Run TISCA with the simulation function\n",
    "cat(\"\\nRunning TISCA to determine optimal simulation count...\\n\\n\")\n",
    "\n",
    "tisca_results <- run_tisca(\n",
    "  sim_func = simulate_treatment_effects,\n",
    "  comparison_pairs = comparison_pairs,\n",
    "  mdes = mdes,\n",
    "  target_power = 0.90,     # Target statistical power\n",
    "  alpha = 0.01,            # Significance level\n",
    "  batch_size = 10,         # Number of simulations per batch (small for demonstration)\n",
    "  initial_count = 10,      # Initial simulations before first power check\n",
    "  correction_method = \"holm\",  # Multiple testing correction method\n",
    "  verbose = TRUE,          # Print progress updates\n",
    "  save_results = TRUE      # Save results to CSV files\n",
    ")\n",
    "\n",
    "# Print summary table\n",
    "cat(\"\\nTISCA Summary Table:\\n\")\n",
    "print(tisca_results$summary_table)"
   ]
  },
  {
   "cell_type": "code",
   "execution_count": 7,
   "metadata": {
    "vscode": {
     "languageId": "r"
    }
   },
   "outputs": [
    {
     "name": "stderr",
     "output_type": "stream",
     "text": [
      "No id variables; using all as measure variables\n",
      "\n",
      "No id variables; using all as measure variables\n",
      "\n"
     ]
    },
    {
     "name": "stdout",
     "output_type": "stream",
     "text": [
      "\n",
      "Visualization plots saved as 'pehe_comparison.png' and 'coverage_comparison.png'\n"
     ]
    }
   ],
   "source": [
    "# Create visualizations of the results\n",
    "if (requireNamespace(\"ggplot2\", quietly = TRUE)) {\n",
    "  library(ggplot2)\n",
    "  library(reshape2)\n",
    "  \n",
    "  # 1. Plot PEHE values across simulations\n",
    "  pehe_data <- melt(tisca_results$results[, c(\"proposed_pehe\", \"benchmark_pehe\")], \n",
    "                    variable.name = \"Method\", value.name = \"PEHE\")\n",
    "  \n",
    "  pehe_plot <- ggplot(pehe_data, aes(x = Method, y = PEHE, fill = Method)) +\n",
    "    geom_boxplot() +\n",
    "    theme_classic() +\n",
    "    labs(title = \"Comparison of PEHE Values\",\n",
    "         subtitle = paste(\"Based on\", tisca_results$J_final, \"simulations\"),\n",
    "         y = \"PEHE (lower is better)\") +\n",
    "    scale_fill_brewer(palette = \"Set1\")\n",
    "  \n",
    "  # 2. Plot coverage values across simulations\n",
    "  coverage_data <- melt(tisca_results$results[, c(\"proposed_coverage\", \"benchmark_coverage\")], \n",
    "                        variable.name = \"Method\", value.name = \"Coverage\")\n",
    "  \n",
    "  coverage_plot <- ggplot(coverage_data, aes(x = Method, y = Coverage, fill = Method)) +\n",
    "    geom_boxplot() +\n",
    "    theme_classic() +\n",
    "    labs(title = \"Comparison of Coverage Values\",\n",
    "         subtitle = paste(\"Based on\", tisca_results$J_final, \"simulations\"),\n",
    "         y = \"Coverage (higher is better)\") +\n",
    "    scale_fill_brewer(palette = \"Set1\") +\n",
    "    coord_cartesian(ylim = c(0.7, 1.0))\n",
    "  \n",
    "  # Save plots\n",
    "  ggsave(\"pehe_comparison.png\", pehe_plot, width = 8, height = 6)\n",
    "  ggsave(\"coverage_comparison.png\", coverage_plot, width = 8, height = 6)\n",
    "  \n",
    "  cat(\"\\nVisualization plots saved as 'pehe_comparison.png' and 'coverage_comparison.png'\\n\")\n",
    "}"
   ]
  },
  {
   "cell_type": "code",
   "execution_count": 8,
   "metadata": {
    "vscode": {
     "languageId": "r"
    }
   },
   "outputs": [
    {
     "name": "stdout",
     "output_type": "stream",
     "text": [
      "\n",
      "Accessing TISCA results programmatically:\n",
      "Required number of simulations: 60 \n",
      "Achieved power for PEHE comparison: 0.9029805 \n",
      "Achieved power for coverage comparison: 0.9743016 \n",
      "Raw p-value for PEHE comparison: 3.774627e-15 \n",
      "Adjusted p-value for PEHE comparison: 7.549254e-15 \n"
     ]
    }
   ],
   "source": [
    "# Demonstrate how to access and use TISCA results\n",
    "cat(\"\\nAccessing TISCA results programmatically:\\n\")\n",
    "cat(\"Required number of simulations:\", tisca_results$J_final, \"\\n\")\n",
    "cat(\"Achieved power for PEHE comparison:\", tisca_results$P_achieved[1], \"\\n\")\n",
    "cat(\"Achieved power for coverage comparison:\", tisca_results$P_achieved[2], \"\\n\")\n",
    "cat(\"Raw p-value for PEHE comparison:\", tisca_results$P_raw[1], \"\\n\")\n",
    "cat(\"Adjusted p-value for PEHE comparison:\", tisca_results$P_adj[1], \"\\n\")"
   ]
  },
  {
   "cell_type": "code",
   "execution_count": 9,
   "metadata": {
    "vscode": {
     "languageId": "r"
    }
   },
   "outputs": [
    {
     "name": "stdout",
     "output_type": "stream",
     "text": [
      "\n",
      "Example text for reporting in a publication:\n",
      "\n",
      "We conducted a simulation study to compare our proposed method with the benchmark approach. Using the Test-Informed Simulation Count Algorithm (TISCA), we determined that 60 simulations were required to achieve 80% power for detecting a minimum difference of 0.1 in PEHE and 0.05 in coverage at a significance level of 0.05. Our proposed method achieved significantly lower PEHE (0.781 vs. 1.011, adjusted p-value = 0) and significantly similar coverage (0.902 vs. 0.887, adjusted p-value = 0.1712)."
     ]
    }
   ],
   "source": [
    "# Example of how to report results in a publication\n",
    "cat(\"\\nExample text for reporting in a publication:\\n\\n\")\n",
    "cat(paste0(\n",
    "  \"We conducted a simulation study to compare our proposed method with the benchmark approach. \",\n",
    "  \"Using the Test-Informed Simulation Count Algorithm (TISCA), we determined that \", \n",
    "  tisca_results$J_final, \" simulations were required to achieve 80% power for detecting \",\n",
    "  \"a minimum difference of 0.1 in PEHE and 0.05 in coverage at a significance level of 0.05. \",\n",
    "  \"Our proposed method achieved significantly \", \n",
    "  ifelse(tisca_results$P_adj[1] < 0.05, \"lower\", \"similar\"), \" PEHE \",\n",
    "  \"(\", round(mean(tisca_results$results$proposed_pehe), 3), \" vs. \", \n",
    "  round(mean(tisca_results$results$benchmark_pehe), 3), \", adjusted p-value = \", \n",
    "  round(tisca_results$P_adj[1], 4), \") and significantly \",\n",
    "  ifelse(tisca_results$P_adj[2] < 0.05, \"higher\", \"similar\"), \" coverage \",\n",
    "  \"(\", round(mean(tisca_results$results$proposed_coverage), 3), \" vs. \", \n",
    "  round(mean(tisca_results$results$benchmark_coverage), 3), \", adjusted p-value = \", \n",
    "  round(tisca_results$P_adj[2], 4), \").\"\n",
    "))\n"
   ]
  },
  {
   "cell_type": "code",
   "execution_count": null,
   "metadata": {
    "vscode": {
     "languageId": "r"
    }
   },
   "outputs": [],
   "source": []
  }
 ],
 "metadata": {
  "kernelspec": {
   "display_name": "R",
   "language": "R",
   "name": "ir"
  },
  "language_info": {
   "codemirror_mode": "r",
   "file_extension": ".r",
   "mimetype": "text/x-r-source",
   "name": "R",
   "pygments_lexer": "r",
   "version": "4.4.3"
  }
 },
 "nbformat": 4,
 "nbformat_minor": 2
}

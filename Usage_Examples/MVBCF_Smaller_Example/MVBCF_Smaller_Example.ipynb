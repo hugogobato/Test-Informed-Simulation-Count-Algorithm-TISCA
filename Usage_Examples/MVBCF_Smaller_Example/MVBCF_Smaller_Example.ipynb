{
  "cells": [
    {
      "cell_type": "code",
      "execution_count": 1,
      "metadata": {
        "id": "JtwbpHddq-W7"
      },
      "outputs": [],
      "source": [
        "library(progress)"
      ]
    },
    {
      "cell_type": "code",
      "execution_count": 2,
      "metadata": {
        "colab": {
          "base_uri": "https://localhost:8080/"
        },
        "id": "VCgtXhkqrg71",
        "outputId": "323a1686-6185-4dd7-d01e-21367dbb6199"
      },
      "outputs": [
        {
          "output_type": "stream",
          "name": "stderr",
          "text": [
            "Installing package into ‘/usr/local/lib/R/site-library’\n",
            "(as ‘lib’ is unspecified)\n",
            "\n"
          ]
        }
      ],
      "source": [
        "install.packages(\"dbarts\")"
      ]
    },
    {
      "cell_type": "code",
      "execution_count": 3,
      "metadata": {
        "colab": {
          "base_uri": "https://localhost:8080/"
        },
        "id": "YzupZmqVrhBC",
        "outputId": "259d4b4f-632d-440d-ee1d-7e77e5a655f3"
      },
      "outputs": [
        {
          "output_type": "stream",
          "name": "stderr",
          "text": [
            "Installing package into ‘/usr/local/lib/R/site-library’\n",
            "(as ‘lib’ is unspecified)\n",
            "\n",
            "also installing the dependency ‘BH’\n",
            "\n",
            "\n"
          ]
        }
      ],
      "source": [
        "install.packages(\"stochtree\")"
      ]
    },
    {
      "cell_type": "code",
      "execution_count": 4,
      "metadata": {
        "id": "bULNGsEcrhPQ",
        "colab": {
          "base_uri": "https://localhost:8080/"
        },
        "outputId": "987e23bb-9414-4133-afc2-7efa48a3a72b"
      },
      "outputs": [
        {
          "output_type": "stream",
          "name": "stderr",
          "text": [
            "Loading required package: devtools\n",
            "\n",
            "Loading required package: usethis\n",
            "\n",
            "Downloading GitHub repo Nathan-McJames/mvbcf@HEAD\n",
            "\n"
          ]
        },
        {
          "output_type": "stream",
          "name": "stdout",
          "text": [
            "RcppArmad... (NA -> 14.4.3-1) [CRAN]\n",
            "RcppDist     (NA -> 0.1.1   ) [CRAN]\n"
          ]
        },
        {
          "output_type": "stream",
          "name": "stderr",
          "text": [
            "Installing 2 packages: RcppArmadillo, RcppDist\n",
            "\n",
            "Installing packages into ‘/usr/local/lib/R/site-library’\n",
            "(as ‘lib’ is unspecified)\n",
            "\n"
          ]
        },
        {
          "output_type": "stream",
          "name": "stdout",
          "text": [
            "\u001b[36m──\u001b[39m \u001b[36mR CMD build\u001b[39m \u001b[36m─────────────────────────────────────────────────────────────────\u001b[39m\n",
            "* checking for file ‘/tmp/RtmpUiWMZc/remotes115651eb93a/Nathan-McJames-mvbcf-fc3b89b/DESCRIPTION’ ... OK\n",
            "* preparing ‘mvbcf’:\n",
            "* checking DESCRIPTION meta-information ... OK\n",
            "* cleaning src\n",
            "* checking for LF line-endings in source and make files and shell scripts\n",
            "* checking for empty or unneeded directories\n",
            "* building ‘mvbcf_1.0.tar.gz’\n",
            "\n"
          ]
        },
        {
          "output_type": "stream",
          "name": "stderr",
          "text": [
            "Installing package into ‘/usr/local/lib/R/site-library’\n",
            "(as ‘lib’ is unspecified)\n",
            "\n"
          ]
        }
      ],
      "source": [
        "if (!require(\"devtools\")) {\n",
        "  install.packages(\"devtools\")\n",
        "}\n",
        "install_github(\"Nathan-McJames/mvbcf\")"
      ]
    },
    {
      "cell_type": "code",
      "execution_count": 5,
      "metadata": {
        "id": "TF5jpDpAaC77",
        "colab": {
          "base_uri": "https://localhost:8080/"
        },
        "outputId": "89f80445-dd02-4b9b-a462-27e0e9053689"
      },
      "outputs": [
        {
          "output_type": "stream",
          "name": "stderr",
          "text": [
            "Installing package into ‘/usr/local/lib/R/site-library’\n",
            "(as ‘lib’ is unspecified)\n",
            "\n",
            "Downloading GitHub repo Seungha-Um/skewBART@HEAD\n",
            "\n"
          ]
        },
        {
          "output_type": "stream",
          "name": "stdout",
          "text": [
            "MatrixModels (NA -> 0.5-4     ) [CRAN]\n",
            "SparseM      (NA -> 1.84-2    ) [CRAN]\n",
            "rbibutils    (NA -> 2.3       ) [CRAN]\n",
            "Rdpack       (NA -> 2.6.4     ) [CRAN]\n",
            "microbenc... (NA -> 1.5.0     ) [CRAN]\n",
            "Deriv        (NA -> 4.1.6     ) [CRAN]\n",
            "cowplot      (NA -> 1.1.3     ) [CRAN]\n",
            "doBy         (NA -> 4.6.27    ) [CRAN]\n",
            "numDeriv     (NA -> 2016.8-1.1) [CRAN]\n",
            "RcppEigen    (NA -> 0.3.4.0.2 ) [CRAN]\n",
            "reformulas   (NA -> 0.4.1     ) [CRAN]\n",
            "nloptr       (NA -> 2.2.1     ) [CRAN]\n",
            "minqa        (NA -> 1.2.8     ) [CRAN]\n",
            "lme4         (NA -> 1.1-37    ) [CRAN]\n",
            "quantreg     (NA -> 6.1       ) [CRAN]\n",
            "pbkrtest     (NA -> 0.5.4     ) [CRAN]\n",
            "Formula      (NA -> 1.2-5     ) [CRAN]\n",
            "abind        (NA -> 1.4-8     ) [CRAN]\n",
            "carData      (NA -> 3.0-5     ) [CRAN]\n",
            "car          (NA -> 3.1-3     ) [CRAN]\n",
            "corrplot     (NA -> 0.95      ) [CRAN]\n",
            "matrixStats  (NA -> 1.5.0     ) [CRAN]\n",
            "distribut... (NA -> 0.5.0     ) [CRAN]\n",
            "tensorA      (NA -> 0.36.2.1  ) [CRAN]\n",
            "checkmate    (NA -> 2.3.2     ) [CRAN]\n",
            "iterators    (NA -> 1.0.14    ) [CRAN]\n",
            "mcmc         (NA -> 0.9-8     ) [CRAN]\n",
            "coda         (NA -> 0.19-4.1  ) [CRAN]\n",
            "rstatix      (NA -> 0.7.2     ) [CRAN]\n",
            "polynom      (NA -> 1.4-1     ) [CRAN]\n",
            "gridExtra    (NA -> 2.3       ) [CRAN]\n",
            "ggsignif     (NA -> 0.6.4     ) [CRAN]\n",
            "ggsci        (NA -> 3.2.0     ) [CRAN]\n",
            "ggrepel      (NA -> 0.9.6     ) [CRAN]\n",
            "svglite      (NA -> 2.2.1     ) [CRAN]\n",
            "posterior    (NA -> 1.6.1     ) [CRAN]\n",
            "alabama      (NA -> 2023.1.0  ) [CRAN]\n",
            "spacefillr   (NA -> 0.4.0     ) [CRAN]\n",
            "qrng         (NA -> 0.0-10    ) [CRAN]\n",
            "nleqslv      (NA -> 3.3.5     ) [CRAN]\n",
            "mnormt       (NA -> 2.1.1     ) [CRAN]\n",
            "shape        (NA -> 1.4.6.1   ) [CRAN]\n",
            "foreach      (NA -> 1.5.2     ) [CRAN]\n",
            "MCMCpack     (NA -> 1.7-1     ) [CRAN]\n",
            "tictoc       (NA -> 1.2.1     ) [CRAN]\n",
            "ggpubr       (NA -> 0.6.0     ) [CRAN]\n",
            "kableExtra   (NA -> 1.4.0     ) [CRAN]\n",
            "loo          (NA -> 2.8.0     ) [CRAN]\n",
            "mvtnorm      (NA -> 1.3-3     ) [CRAN]\n",
            "zeallot      (NA -> 0.1.0     ) [CRAN]\n",
            "Truncated... (NA -> 2.3       ) [CRAN]\n",
            "sn           (NA -> 2.1.1     ) [CRAN]\n",
            "glmnet       (NA -> 4.1-8     ) [CRAN]\n",
            "truncnorm    (NA -> 1.0-9     ) [CRAN]\n"
          ]
        },
        {
          "output_type": "stream",
          "name": "stderr",
          "text": [
            "Installing 54 packages: MatrixModels, SparseM, rbibutils, Rdpack, microbenchmark, Deriv, cowplot, doBy, numDeriv, RcppEigen, reformulas, nloptr, minqa, lme4, quantreg, pbkrtest, Formula, abind, carData, car, corrplot, matrixStats, distributional, tensorA, checkmate, iterators, mcmc, coda, rstatix, polynom, gridExtra, ggsignif, ggsci, ggrepel, svglite, posterior, alabama, spacefillr, qrng, nleqslv, mnormt, shape, foreach, MCMCpack, tictoc, ggpubr, kableExtra, loo, mvtnorm, zeallot, TruncatedNormal, sn, glmnet, truncnorm\n",
            "\n",
            "Installing packages into ‘/usr/local/lib/R/site-library’\n",
            "(as ‘lib’ is unspecified)\n",
            "\n"
          ]
        },
        {
          "output_type": "stream",
          "name": "stdout",
          "text": [
            "\u001b[36m──\u001b[39m \u001b[36mR CMD build\u001b[39m \u001b[36m─────────────────────────────────────────────────────────────────\u001b[39m\n",
            "* checking for file ‘/tmp/RtmpUiWMZc/remotes11525e66f45/Seungha-Um-skewBART-f64dc20/DESCRIPTION’ ... OK\n",
            "* preparing ‘skewBART’:\n",
            "* checking DESCRIPTION meta-information ... OK\n",
            "* cleaning src\n",
            "* checking for LF line-endings in source and make files and shell scripts\n",
            "* checking for empty or unneeded directories\n",
            "Removed empty directory ‘skewBART/inst’\n",
            "* looking to see if a ‘data/datalist’ file should be added\n",
            "* building ‘skewBART_0.1.0.tar.gz’\n",
            "\n"
          ]
        },
        {
          "output_type": "stream",
          "name": "stderr",
          "text": [
            "Installing package into ‘/usr/local/lib/R/site-library’\n",
            "(as ‘lib’ is unspecified)\n",
            "\n"
          ]
        }
      ],
      "source": [
        "install.packages(\"bartCause\")\n",
        "if (!require(\"devtools\")) {\n",
        "  install.packages(\"devtools\")\n",
        "}\n",
        "install_github(\"Seungha-Um/skewBART\")\n"
      ]
    },
    {
      "cell_type": "code",
      "execution_count": 6,
      "metadata": {
        "id": "sUrrMQqbtYv0",
        "colab": {
          "base_uri": "https://localhost:8080/"
        },
        "outputId": "b5044b27-6ab2-4b6a-e063-b45c0c915a19"
      },
      "outputs": [
        {
          "output_type": "stream",
          "name": "stderr",
          "text": [
            "Installing package into ‘/usr/local/lib/R/site-library’\n",
            "(as ‘lib’ is unspecified)\n",
            "\n"
          ]
        }
      ],
      "source": [
        "install.packages(\"mvtnorm\")\n",
        "library(mvtnorm)\n"
      ]
    },
    {
      "cell_type": "code",
      "execution_count": 7,
      "metadata": {
        "id": "xwLACfqptS64",
        "colab": {
          "base_uri": "https://localhost:8080/"
        },
        "outputId": "aaf790b2-6ec5-440c-ce11-532e154ac49f"
      },
      "outputs": [
        {
          "output_type": "stream",
          "name": "stderr",
          "text": [
            "\n",
            "Attaching package: ‘dbarts’\n",
            "\n",
            "\n",
            "The following object is masked from ‘package:stochtree’:\n",
            "\n",
            "    bart\n",
            "\n",
            "\n",
            "Loading required package: Rcpp\n",
            "\n"
          ]
        }
      ],
      "source": [
        "library(stochtree)\n",
        "library(mvbcf)\n",
        "library(dbarts)\n",
        "library(progress)\n",
        "library(bartCause)\n",
        "library(skewBART)"
      ]
    },
    {
      "cell_type": "code",
      "source": [
        "install.packages(\"reshape2\")"
      ],
      "metadata": {
        "id": "WcS05kZ6XOU7",
        "colab": {
          "base_uri": "https://localhost:8080/"
        },
        "outputId": "a8cb95a9-26ea-45f8-a130-32ee504786db"
      },
      "execution_count": 8,
      "outputs": [
        {
          "output_type": "stream",
          "name": "stderr",
          "text": [
            "Installing package into ‘/usr/local/lib/R/site-library’\n",
            "(as ‘lib’ is unspecified)\n",
            "\n",
            "also installing the dependency ‘plyr’\n",
            "\n",
            "\n"
          ]
        }
      ]
    },
    {
      "cell_type": "code",
      "execution_count": 9,
      "metadata": {
        "id": "QMsVhm9zaaRj",
        "colab": {
          "base_uri": "https://localhost:8080/"
        },
        "outputId": "cef2607a-83b1-4626-abc8-4085735d6ece"
      },
      "outputs": [
        {
          "metadata": {
            "tags": null
          },
          "name": "stdout",
          "output_type": "stream",
          "text": [
            "Starting TISCA algorithm...\n",
            "Target power: 0.6 \n",
            "Significance level: 0.1 \n",
            "Batch size: 10 \n",
            "Initial count: 10 \n",
            "Correction method: holm \n",
            "Number of comparisons: 4 \n",
            "\n",
            "Running initial 10 simulations...\n"
          ]
        },
        {
          "metadata": {
            "tags": null
          },
          "name": "stderr",
          "output_type": "stream",
          "text": [
            "Warning message in validateXTest(test, attr(x, \"term.labels\"), ncol(x), colnames(x), :\n",
            "“column names of 'test' does not equal that of 'x': 'X1, X2, X3, X4, X5, X6, X7, X8, X9, X10'; match will be made by position”\n"
          ]
        },
        {
          "metadata": {
            "tags": null
          },
          "name": "stdout",
          "output_type": "stream",
          "text": [
            "Total of 1 of 100 iterations completed! (1%)             \rTotal of 2 of 100 iterations completed! (2%)             \rTotal of 3 of 100 iterations completed! (3%)             \rTotal of 4 of 100 iterations completed! (4%)             \rTotal of 5 of 100 iterations completed! (5%)             \rTotal of 6 of 100 iterations completed! (6%)             \rTotal of 7 of 100 iterations completed! (7%)             \rTotal of 8 of 100 iterations completed! (8%)             \rTotal of 9 of 100 iterations completed! (9%)             \rTotal of 10 of 100 iterations completed! (10%)             \rTotal of 11 of 100 iterations completed! (11%)             \rTotal of 12 of 100 iterations completed! (12%)             \rTotal of 13 of 100 iterations completed! (13%)             \rTotal of 14 of 100 iterations completed! (14%)             \rTotal of 15 of 100 iterations completed! (15%)             \rTotal of 16 of 100 iterations completed! (16%)             \rTotal of 17 of 100 iterations completed! (17%)             \rTotal of 18 of 100 iterations completed! (18%)             \rTotal of 19 of 100 iterations completed! (19%)             \rTotal of 20 of 100 iterations completed! (20%)             \rTotal of 21 of 100 iterations completed! (21%)             \rTotal of 22 of 100 iterations completed! (22%)             \rTotal of 23 of 100 iterations completed! (23%)             \rTotal of 24 of 100 iterations completed! (24%)             \rTotal of 25 of 100 iterations completed! (25%)             \rTotal of 26 of 100 iterations completed! (26%)             \rTotal of 27 of 100 iterations completed! (27%)             \rTotal of 28 of 100 iterations completed! (28%)             \rTotal of 29 of 100 iterations completed! (29%)             \rTotal of 30 of 100 iterations completed! (30%)             \rTotal of 31 of 100 iterations completed! (31%)             \rTotal of 32 of 100 iterations completed! (32%)             \rTotal of 33 of 100 iterations completed! (33%)             \rTotal of 34 of 100 iterations completed! (34%)             \rTotal of 35 of 100 iterations completed! (35%)             \rTotal of 36 of 100 iterations completed! (36%)             \rTotal of 37 of 100 iterations completed! (37%)             \rTotal of 38 of 100 iterations completed! (38%)             \rTotal of 39 of 100 iterations completed! (39%)             \rTotal of 40 of 100 iterations completed! (40%)             \rTotal of 41 of 100 iterations completed! (41%)             \rTotal of 42 of 100 iterations completed! (42%)             \rTotal of 43 of 100 iterations completed! (43%)             \rTotal of 44 of 100 iterations completed! (44%)             \rTotal of 45 of 100 iterations completed! (45%)             \rTotal of 46 of 100 iterations completed! (46%)             \rTotal of 47 of 100 iterations completed! (47%)             \rTotal of 48 of 100 iterations completed! (48%)             \rTotal of 49 of 100 iterations completed! (49%)             \rTotal of 50 of 100 iterations completed! (50%)             \rTotal of 51 of 100 iterations completed! (51%)             \rTotal of 52 of 100 iterations completed! (52%)             \rTotal of 53 of 100 iterations completed! (53%)             \rTotal of 54 of 100 iterations completed! (54%)             \rTotal of 55 of 100 iterations completed! (55%)             \rTotal of 56 of 100 iterations completed! (56%)             \rTotal of 57 of 100 iterations completed! (57%)             \rTotal of 58 of 100 iterations completed! (58%)             \rTotal of 59 of 100 iterations completed! (59%)             \rTotal of 60 of 100 iterations completed! (60%)             \rTotal of 61 of 100 iterations completed! (61%)             \rTotal of 62 of 100 iterations completed! (62%)             \rTotal of 63 of 100 iterations completed! (63%)             \rTotal of 64 of 100 iterations completed! (64%)             \rTotal of 65 of 100 iterations completed! (65%)             \rTotal of 66 of 100 iterations completed! (66%)             \rTotal of 67 of 100 iterations completed! (67%)             \rTotal of 68 of 100 iterations completed! (68%)             \rTotal of 69 of 100 iterations completed! (69%)             \rTotal of 70 of 100 iterations completed! (70%)             \rTotal of 71 of 100 iterations completed! (71%)             \rTotal of 72 of 100 iterations completed! (72%)             \rTotal of 73 of 100 iterations completed! (73%)             \rTotal of 74 of 100 iterations completed! (74%)             \rTotal of 75 of 100 iterations completed! (75%)             \rTotal of 76 of 100 iterations completed! (76%)             \rTotal of 77 of 100 iterations completed! (77%)             \rTotal of 78 of 100 iterations completed! (78%)             \rTotal of 79 of 100 iterations completed! (79%)             \rTotal of 80 of 100 iterations completed! (80%)             \rTotal of 81 of 100 iterations completed! (81%)             \rTotal of 82 of 100 iterations completed! (82%)             \rTotal of 83 of 100 iterations completed! (83%)             \rTotal of 84 of 100 iterations completed! (84%)             \rTotal of 85 of 100 iterations completed! (85%)             \rTotal of 86 of 100 iterations completed! (86%)             \rTotal of 87 of 100 iterations completed! (87%)             \rTotal of 88 of 100 iterations completed! (88%)             \rTotal of 89 of 100 iterations completed! (89%)             \rTotal of 90 of 100 iterations completed! (90%)             \rTotal of 91 of 100 iterations completed! (91%)             \rTotal of 92 of 100 iterations completed! (92%)             \rTotal of 93 of 100 iterations completed! (93%)             \rTotal of 94 of 100 iterations completed! (94%)             \rTotal of 95 of 100 iterations completed! (95%)             \rTotal of 96 of 100 iterations completed! (96%)             \rTotal of 97 of 100 iterations completed! (97%)             \rTotal of 98 of 100 iterations completed! (98%)             \rTotal of 99 of 100 iterations completed! (99%)             \rTotal of 100 of 100 iterations completed! (100%)             \rfitting treatment model via method 'bart'\n"
          ]
        },
        {
          "metadata": {
            "tags": null
          },
          "name": "stderr",
          "output_type": "stream",
          "text": [
            "Warning message in bartc(Y[, 1], Z, X, p.scoreAsCovariate = F, n.chains = 1, n.threads = 1, :\n",
            "“for response method 'bart', propensity score not used unless included as covariate”\n"
          ]
        },
        {
          "metadata": {
            "tags": null
          },
          "name": "stdout",
          "output_type": "stream",
          "text": [
            "fitting response model via method 'bart'\n",
            "fitting treatment model via method 'bart'\n"
          ]
        },
        {
          "metadata": {
            "tags": null
          },
          "name": "stderr",
          "output_type": "stream",
          "text": [
            "Warning message in bartc(Y[, 2], Z, X, p.scoreAsCovariate = F, n.chains = 1, n.threads = 1, :\n",
            "“for response method 'bart', propensity score not used unless included as covariate”\n"
          ]
        },
        {
          "metadata": {
            "tags": null
          },
          "name": "stdout",
          "output_type": "stream",
          "text": [
            "fitting response model via method 'bart'\n",
            "\rFinishing iteration 100 of 100"
          ]
        },
        {
          "metadata": {
            "tags": null
          },
          "name": "stderr",
          "output_type": "stream",
          "text": [
            "Warning message in validateXTest(test, attr(x, \"term.labels\"), ncol(x), colnames(x), :\n",
            "“column names of 'test' does not equal that of 'x': 'X1, X2, X3, X4, X5, X6, X7, X8, X9, X10'; match will be made by position”\n"
          ]
        },
        {
          "metadata": {
            "tags": null
          },
          "name": "stdout",
          "output_type": "stream",
          "text": [
            "Total of 1 of 100 iterations completed! (1%)             \rTotal of 2 of 100 iterations completed! (2%)             \rTotal of 3 of 100 iterations completed! (3%)             \rTotal of 4 of 100 iterations completed! (4%)             \rTotal of 5 of 100 iterations completed! (5%)             \rTotal of 6 of 100 iterations completed! (6%)             \rTotal of 7 of 100 iterations completed! (7%)             \rTotal of 8 of 100 iterations completed! (8%)             \rTotal of 9 of 100 iterations completed! (9%)             \rTotal of 10 of 100 iterations completed! (10%)             \rTotal of 11 of 100 iterations completed! (11%)             \rTotal of 12 of 100 iterations completed! (12%)             \rTotal of 13 of 100 iterations completed! (13%)             \rTotal of 14 of 100 iterations completed! (14%)             \rTotal of 15 of 100 iterations completed! (15%)             \rTotal of 16 of 100 iterations completed! (16%)             \rTotal of 17 of 100 iterations completed! (17%)             \rTotal of 18 of 100 iterations completed! (18%)             \rTotal of 19 of 100 iterations completed! (19%)             \rTotal of 20 of 100 iterations completed! (20%)             \rTotal of 21 of 100 iterations completed! (21%)             \rTotal of 22 of 100 iterations completed! (22%)             \rTotal of 23 of 100 iterations completed! (23%)             \rTotal of 24 of 100 iterations completed! (24%)             \rTotal of 25 of 100 iterations completed! (25%)             \rTotal of 26 of 100 iterations completed! (26%)             \rTotal of 27 of 100 iterations completed! (27%)             \rTotal of 28 of 100 iterations completed! (28%)             \rTotal of 29 of 100 iterations completed! (29%)             \rTotal of 30 of 100 iterations completed! (30%)             \rTotal of 31 of 100 iterations completed! (31%)             \rTotal of 32 of 100 iterations completed! (32%)             \rTotal of 33 of 100 iterations completed! (33%)             \rTotal of 34 of 100 iterations completed! (34%)             \rTotal of 35 of 100 iterations completed! (35%)             \rTotal of 36 of 100 iterations completed! (36%)             \rTotal of 37 of 100 iterations completed! (37%)             \rTotal of 38 of 100 iterations completed! (38%)             \rTotal of 39 of 100 iterations completed! (39%)             \rTotal of 40 of 100 iterations completed! (40%)             \rTotal of 41 of 100 iterations completed! (41%)             \rTotal of 42 of 100 iterations completed! (42%)             \rTotal of 43 of 100 iterations completed! (43%)             \rTotal of 44 of 100 iterations completed! (44%)             \rTotal of 45 of 100 iterations completed! (45%)             \rTotal of 46 of 100 iterations completed! (46%)             \rTotal of 47 of 100 iterations completed! (47%)             \rTotal of 48 of 100 iterations completed! (48%)             \rTotal of 49 of 100 iterations completed! (49%)             \rTotal of 50 of 100 iterations completed! (50%)             \rTotal of 51 of 100 iterations completed! (51%)             \rTotal of 52 of 100 iterations completed! (52%)             \rTotal of 53 of 100 iterations completed! (53%)             \rTotal of 54 of 100 iterations completed! (54%)             \rTotal of 55 of 100 iterations completed! (55%)             \rTotal of 56 of 100 iterations completed! (56%)             \rTotal of 57 of 100 iterations completed! (57%)             \rTotal of 58 of 100 iterations completed! (58%)             \rTotal of 59 of 100 iterations completed! (59%)             \rTotal of 60 of 100 iterations completed! (60%)             \rTotal of 61 of 100 iterations completed! (61%)             \rTotal of 62 of 100 iterations completed! (62%)             \rTotal of 63 of 100 iterations completed! (63%)             \rTotal of 64 of 100 iterations completed! (64%)             \rTotal of 65 of 100 iterations completed! (65%)             \rTotal of 66 of 100 iterations completed! (66%)             \rTotal of 67 of 100 iterations completed! (67%)             \rTotal of 68 of 100 iterations completed! (68%)             \rTotal of 69 of 100 iterations completed! (69%)             \rTotal of 70 of 100 iterations completed! (70%)             \rTotal of 71 of 100 iterations completed! (71%)             \rTotal of 72 of 100 iterations completed! (72%)             \rTotal of 73 of 100 iterations completed! (73%)             \rTotal of 74 of 100 iterations completed! (74%)             \rTotal of 75 of 100 iterations completed! (75%)             \rTotal of 76 of 100 iterations completed! (76%)             \rTotal of 77 of 100 iterations completed! (77%)             \rTotal of 78 of 100 iterations completed! (78%)             \rTotal of 79 of 100 iterations completed! (79%)             \rTotal of 80 of 100 iterations completed! (80%)             \rTotal of 81 of 100 iterations completed! (81%)             \rTotal of 82 of 100 iterations completed! (82%)             \rTotal of 83 of 100 iterations completed! (83%)             \rTotal of 84 of 100 iterations completed! (84%)             \rTotal of 85 of 100 iterations completed! (85%)             \rTotal of 86 of 100 iterations completed! (86%)             \rTotal of 87 of 100 iterations completed! (87%)             \rTotal of 88 of 100 iterations completed! (88%)             \rTotal of 89 of 100 iterations completed! (89%)             \rTotal of 90 of 100 iterations completed! (90%)             \rTotal of 91 of 100 iterations completed! (91%)             \rTotal of 92 of 100 iterations completed! (92%)             \rTotal of 93 of 100 iterations completed! (93%)             \rTotal of 94 of 100 iterations completed! (94%)             \rTotal of 95 of 100 iterations completed! (95%)             \rTotal of 96 of 100 iterations completed! (96%)             \rTotal of 97 of 100 iterations completed! (97%)             \rTotal of 98 of 100 iterations completed! (98%)             \rTotal of 99 of 100 iterations completed! (99%)             \rTotal of 100 of 100 iterations completed! (100%)             \rfitting treatment model via method 'bart'\n"
          ]
        },
        {
          "metadata": {
            "tags": null
          },
          "name": "stderr",
          "output_type": "stream",
          "text": [
            "Warning message in bartc(Y[, 1], Z, X, p.scoreAsCovariate = F, n.chains = 1, n.threads = 1, :\n",
            "“for response method 'bart', propensity score not used unless included as covariate”\n"
          ]
        },
        {
          "metadata": {
            "tags": null
          },
          "name": "stdout",
          "output_type": "stream",
          "text": [
            "fitting response model via method 'bart'\n",
            "fitting treatment model via method 'bart'\n"
          ]
        },
        {
          "metadata": {
            "tags": null
          },
          "name": "stderr",
          "output_type": "stream",
          "text": [
            "Warning message in bartc(Y[, 2], Z, X, p.scoreAsCovariate = F, n.chains = 1, n.threads = 1, :\n",
            "“for response method 'bart', propensity score not used unless included as covariate”\n"
          ]
        },
        {
          "metadata": {
            "tags": null
          },
          "name": "stdout",
          "output_type": "stream",
          "text": [
            "fitting response model via method 'bart'\n",
            "\rFinishing iteration 100 of 100"
          ]
        },
        {
          "metadata": {
            "tags": null
          },
          "name": "stderr",
          "output_type": "stream",
          "text": [
            "Warning message in validateXTest(test, attr(x, \"term.labels\"), ncol(x), colnames(x), :\n",
            "“column names of 'test' does not equal that of 'x': 'X1, X2, X3, X4, X5, X6, X7, X8, X9, X10'; match will be made by position”\n"
          ]
        },
        {
          "metadata": {
            "tags": null
          },
          "name": "stdout",
          "output_type": "stream",
          "text": [
            "Total of 1 of 100 iterations completed! (1%)             \rTotal of 2 of 100 iterations completed! (2%)             \rTotal of 3 of 100 iterations completed! (3%)             \rTotal of 4 of 100 iterations completed! (4%)             \rTotal of 5 of 100 iterations completed! (5%)             \rTotal of 6 of 100 iterations completed! (6%)             \rTotal of 7 of 100 iterations completed! (7%)             \rTotal of 8 of 100 iterations completed! (8%)             \rTotal of 9 of 100 iterations completed! (9%)             \rTotal of 10 of 100 iterations completed! (10%)             \rTotal of 11 of 100 iterations completed! (11%)             \rTotal of 12 of 100 iterations completed! (12%)             \rTotal of 13 of 100 iterations completed! (13%)             \rTotal of 14 of 100 iterations completed! (14%)             \rTotal of 15 of 100 iterations completed! (15%)             \rTotal of 16 of 100 iterations completed! (16%)             \rTotal of 17 of 100 iterations completed! (17%)             \rTotal of 18 of 100 iterations completed! (18%)             \rTotal of 19 of 100 iterations completed! (19%)             \rTotal of 20 of 100 iterations completed! (20%)             \rTotal of 21 of 100 iterations completed! (21%)             \rTotal of 22 of 100 iterations completed! (22%)             \rTotal of 23 of 100 iterations completed! (23%)             \rTotal of 24 of 100 iterations completed! (24%)             \rTotal of 25 of 100 iterations completed! (25%)             \rTotal of 26 of 100 iterations completed! (26%)             \rTotal of 27 of 100 iterations completed! (27%)             \rTotal of 28 of 100 iterations completed! (28%)             \rTotal of 29 of 100 iterations completed! (29%)             \rTotal of 30 of 100 iterations completed! (30%)             \rTotal of 31 of 100 iterations completed! (31%)             \rTotal of 32 of 100 iterations completed! (32%)             \rTotal of 33 of 100 iterations completed! (33%)             \rTotal of 34 of 100 iterations completed! (34%)             \rTotal of 35 of 100 iterations completed! (35%)             \rTotal of 36 of 100 iterations completed! (36%)             \rTotal of 37 of 100 iterations completed! (37%)             \rTotal of 38 of 100 iterations completed! (38%)             \rTotal of 39 of 100 iterations completed! (39%)             \rTotal of 40 of 100 iterations completed! (40%)             \rTotal of 41 of 100 iterations completed! (41%)             \rTotal of 42 of 100 iterations completed! (42%)             \rTotal of 43 of 100 iterations completed! (43%)             \rTotal of 44 of 100 iterations completed! (44%)             \rTotal of 45 of 100 iterations completed! (45%)             \rTotal of 46 of 100 iterations completed! (46%)             \rTotal of 47 of 100 iterations completed! (47%)             \rTotal of 48 of 100 iterations completed! (48%)             \rTotal of 49 of 100 iterations completed! (49%)             \rTotal of 50 of 100 iterations completed! (50%)             \rTotal of 51 of 100 iterations completed! (51%)             \rTotal of 52 of 100 iterations completed! (52%)             \rTotal of 53 of 100 iterations completed! (53%)             \rTotal of 54 of 100 iterations completed! (54%)             \rTotal of 55 of 100 iterations completed! (55%)             \rTotal of 56 of 100 iterations completed! (56%)             \rTotal of 57 of 100 iterations completed! (57%)             \rTotal of 58 of 100 iterations completed! (58%)             \rTotal of 59 of 100 iterations completed! (59%)             \rTotal of 60 of 100 iterations completed! (60%)             \rTotal of 61 of 100 iterations completed! (61%)             \rTotal of 62 of 100 iterations completed! (62%)             \rTotal of 63 of 100 iterations completed! (63%)             \rTotal of 64 of 100 iterations completed! (64%)             \rTotal of 65 of 100 iterations completed! (65%)             \rTotal of 66 of 100 iterations completed! (66%)             \rTotal of 67 of 100 iterations completed! (67%)             \rTotal of 68 of 100 iterations completed! (68%)             \rTotal of 69 of 100 iterations completed! (69%)             \rTotal of 70 of 100 iterations completed! (70%)             \rTotal of 71 of 100 iterations completed! (71%)             \rTotal of 72 of 100 iterations completed! (72%)             \rTotal of 73 of 100 iterations completed! (73%)             \rTotal of 74 of 100 iterations completed! (74%)             \rTotal of 75 of 100 iterations completed! (75%)             \rTotal of 76 of 100 iterations completed! (76%)             \rTotal of 77 of 100 iterations completed! (77%)             \rTotal of 78 of 100 iterations completed! (78%)             \rTotal of 79 of 100 iterations completed! (79%)             \rTotal of 80 of 100 iterations completed! (80%)             \rTotal of 81 of 100 iterations completed! (81%)             \rTotal of 82 of 100 iterations completed! (82%)             \rTotal of 83 of 100 iterations completed! (83%)             \rTotal of 84 of 100 iterations completed! (84%)             \rTotal of 85 of 100 iterations completed! (85%)             \rTotal of 86 of 100 iterations completed! (86%)             \rTotal of 87 of 100 iterations completed! (87%)             \rTotal of 88 of 100 iterations completed! (88%)             \rTotal of 89 of 100 iterations completed! (89%)             \rTotal of 90 of 100 iterations completed! (90%)             \rTotal of 91 of 100 iterations completed! (91%)             \rTotal of 92 of 100 iterations completed! (92%)             \rTotal of 93 of 100 iterations completed! (93%)             \rTotal of 94 of 100 iterations completed! (94%)             \rTotal of 95 of 100 iterations completed! (95%)             \rTotal of 96 of 100 iterations completed! (96%)             \rTotal of 97 of 100 iterations completed! (97%)             \rTotal of 98 of 100 iterations completed! (98%)             \rTotal of 99 of 100 iterations completed! (99%)             \rTotal of 100 of 100 iterations completed! (100%)             \rfitting treatment model via method 'bart'\n"
          ]
        },
        {
          "metadata": {
            "tags": null
          },
          "name": "stderr",
          "output_type": "stream",
          "text": [
            "Warning message in bartc(Y[, 1], Z, X, p.scoreAsCovariate = F, n.chains = 1, n.threads = 1, :\n",
            "“for response method 'bart', propensity score not used unless included as covariate”\n"
          ]
        },
        {
          "metadata": {
            "tags": null
          },
          "name": "stdout",
          "output_type": "stream",
          "text": [
            "fitting response model via method 'bart'\n",
            "fitting treatment model via method 'bart'\n"
          ]
        },
        {
          "metadata": {
            "tags": null
          },
          "name": "stderr",
          "output_type": "stream",
          "text": [
            "Warning message in bartc(Y[, 2], Z, X, p.scoreAsCovariate = F, n.chains = 1, n.threads = 1, :\n",
            "“for response method 'bart', propensity score not used unless included as covariate”\n"
          ]
        },
        {
          "metadata": {
            "tags": null
          },
          "name": "stdout",
          "output_type": "stream",
          "text": [
            "fitting response model via method 'bart'\n",
            "\rFinishing iteration 100 of 100"
          ]
        },
        {
          "metadata": {
            "tags": null
          },
          "name": "stderr",
          "output_type": "stream",
          "text": [
            "Warning message in validateXTest(test, attr(x, \"term.labels\"), ncol(x), colnames(x), :\n",
            "“column names of 'test' does not equal that of 'x': 'X1, X2, X3, X4, X5, X6, X7, X8, X9, X10'; match will be made by position”\n"
          ]
        },
        {
          "metadata": {
            "tags": null
          },
          "name": "stdout",
          "output_type": "stream",
          "text": [
            "Total of 1 of 100 iterations completed! (1%)             \rTotal of 2 of 100 iterations completed! (2%)             \rTotal of 3 of 100 iterations completed! (3%)             \rTotal of 4 of 100 iterations completed! (4%)             \rTotal of 5 of 100 iterations completed! (5%)             \rTotal of 6 of 100 iterations completed! (6%)             \rTotal of 7 of 100 iterations completed! (7%)             \rTotal of 8 of 100 iterations completed! (8%)             \rTotal of 9 of 100 iterations completed! (9%)             \rTotal of 10 of 100 iterations completed! (10%)             \rTotal of 11 of 100 iterations completed! (11%)             \rTotal of 12 of 100 iterations completed! (12%)             \rTotal of 13 of 100 iterations completed! (13%)             \rTotal of 14 of 100 iterations completed! (14%)             \rTotal of 15 of 100 iterations completed! (15%)             \rTotal of 16 of 100 iterations completed! (16%)             \rTotal of 17 of 100 iterations completed! (17%)             \rTotal of 18 of 100 iterations completed! (18%)             \rTotal of 19 of 100 iterations completed! (19%)             \rTotal of 20 of 100 iterations completed! (20%)             \rTotal of 21 of 100 iterations completed! (21%)             \rTotal of 22 of 100 iterations completed! (22%)             \rTotal of 23 of 100 iterations completed! (23%)             \rTotal of 24 of 100 iterations completed! (24%)             \rTotal of 25 of 100 iterations completed! (25%)             \rTotal of 26 of 100 iterations completed! (26%)             \rTotal of 27 of 100 iterations completed! (27%)             \rTotal of 28 of 100 iterations completed! (28%)             \rTotal of 29 of 100 iterations completed! (29%)             \rTotal of 30 of 100 iterations completed! (30%)             \rTotal of 31 of 100 iterations completed! (31%)             \rTotal of 32 of 100 iterations completed! (32%)             \rTotal of 33 of 100 iterations completed! (33%)             \rTotal of 34 of 100 iterations completed! (34%)             \rTotal of 35 of 100 iterations completed! (35%)             \rTotal of 36 of 100 iterations completed! (36%)             \rTotal of 37 of 100 iterations completed! (37%)             \rTotal of 38 of 100 iterations completed! (38%)             \rTotal of 39 of 100 iterations completed! (39%)             \rTotal of 40 of 100 iterations completed! (40%)             \rTotal of 41 of 100 iterations completed! (41%)             \rTotal of 42 of 100 iterations completed! (42%)             \rTotal of 43 of 100 iterations completed! (43%)             \rTotal of 44 of 100 iterations completed! (44%)             \rTotal of 45 of 100 iterations completed! (45%)             \rTotal of 46 of 100 iterations completed! (46%)             \rTotal of 47 of 100 iterations completed! (47%)             \rTotal of 48 of 100 iterations completed! (48%)             \rTotal of 49 of 100 iterations completed! (49%)             \rTotal of 50 of 100 iterations completed! (50%)             \rTotal of 51 of 100 iterations completed! (51%)             \rTotal of 52 of 100 iterations completed! (52%)             \rTotal of 53 of 100 iterations completed! (53%)             \rTotal of 54 of 100 iterations completed! (54%)             \rTotal of 55 of 100 iterations completed! (55%)             \rTotal of 56 of 100 iterations completed! (56%)             \rTotal of 57 of 100 iterations completed! (57%)             \rTotal of 58 of 100 iterations completed! (58%)             \rTotal of 59 of 100 iterations completed! (59%)             \rTotal of 60 of 100 iterations completed! (60%)             \rTotal of 61 of 100 iterations completed! (61%)             \rTotal of 62 of 100 iterations completed! (62%)             \rTotal of 63 of 100 iterations completed! (63%)             \rTotal of 64 of 100 iterations completed! (64%)             \rTotal of 65 of 100 iterations completed! (65%)             \rTotal of 66 of 100 iterations completed! (66%)             \rTotal of 67 of 100 iterations completed! (67%)             \rTotal of 68 of 100 iterations completed! (68%)             \rTotal of 69 of 100 iterations completed! (69%)             \rTotal of 70 of 100 iterations completed! (70%)             \rTotal of 71 of 100 iterations completed! (71%)             \rTotal of 72 of 100 iterations completed! (72%)             \rTotal of 73 of 100 iterations completed! (73%)             \rTotal of 74 of 100 iterations completed! (74%)             \rTotal of 75 of 100 iterations completed! (75%)             \rTotal of 76 of 100 iterations completed! (76%)             \rTotal of 77 of 100 iterations completed! (77%)             \rTotal of 78 of 100 iterations completed! (78%)             \rTotal of 79 of 100 iterations completed! (79%)             \rTotal of 80 of 100 iterations completed! (80%)             \rTotal of 81 of 100 iterations completed! (81%)             \rTotal of 82 of 100 iterations completed! (82%)             \rTotal of 83 of 100 iterations completed! (83%)             \rTotal of 84 of 100 iterations completed! (84%)             \rTotal of 85 of 100 iterations completed! (85%)             \rTotal of 86 of 100 iterations completed! (86%)             \rTotal of 87 of 100 iterations completed! (87%)             \rTotal of 88 of 100 iterations completed! (88%)             \rTotal of 89 of 100 iterations completed! (89%)             \rTotal of 90 of 100 iterations completed! (90%)             \rTotal of 91 of 100 iterations completed! (91%)             \rTotal of 92 of 100 iterations completed! (92%)             \rTotal of 93 of 100 iterations completed! (93%)             \rTotal of 94 of 100 iterations completed! (94%)             \rTotal of 95 of 100 iterations completed! (95%)             \rTotal of 96 of 100 iterations completed! (96%)             \rTotal of 97 of 100 iterations completed! (97%)             \rTotal of 98 of 100 iterations completed! (98%)             \rTotal of 99 of 100 iterations completed! (99%)             \rTotal of 100 of 100 iterations completed! (100%)             \rfitting treatment model via method 'bart'\n"
          ]
        },
        {
          "metadata": {
            "tags": null
          },
          "name": "stderr",
          "output_type": "stream",
          "text": [
            "Warning message in bartc(Y[, 1], Z, X, p.scoreAsCovariate = F, n.chains = 1, n.threads = 1, :\n",
            "“for response method 'bart', propensity score not used unless included as covariate”\n"
          ]
        },
        {
          "metadata": {
            "tags": null
          },
          "name": "stdout",
          "output_type": "stream",
          "text": [
            "fitting response model via method 'bart'\n",
            "fitting treatment model via method 'bart'\n"
          ]
        },
        {
          "metadata": {
            "tags": null
          },
          "name": "stderr",
          "output_type": "stream",
          "text": [
            "Warning message in bartc(Y[, 2], Z, X, p.scoreAsCovariate = F, n.chains = 1, n.threads = 1, :\n",
            "“for response method 'bart', propensity score not used unless included as covariate”\n"
          ]
        },
        {
          "metadata": {
            "tags": null
          },
          "name": "stdout",
          "output_type": "stream",
          "text": [
            "fitting response model via method 'bart'\n",
            "\rFinishing iteration 100 of 100"
          ]
        },
        {
          "metadata": {
            "tags": null
          },
          "name": "stderr",
          "output_type": "stream",
          "text": [
            "Warning message in validateXTest(test, attr(x, \"term.labels\"), ncol(x), colnames(x), :\n",
            "“column names of 'test' does not equal that of 'x': 'X1, X2, X3, X4, X5, X6, X7, X8, X9, X10'; match will be made by position”\n"
          ]
        },
        {
          "metadata": {
            "tags": null
          },
          "name": "stdout",
          "output_type": "stream",
          "text": [
            "Total of 1 of 100 iterations completed! (1%)             \rTotal of 2 of 100 iterations completed! (2%)             \rTotal of 3 of 100 iterations completed! (3%)             \rTotal of 4 of 100 iterations completed! (4%)             \rTotal of 5 of 100 iterations completed! (5%)             \rTotal of 6 of 100 iterations completed! (6%)             \rTotal of 7 of 100 iterations completed! (7%)             \rTotal of 8 of 100 iterations completed! (8%)             \rTotal of 9 of 100 iterations completed! (9%)             \rTotal of 10 of 100 iterations completed! (10%)             \rTotal of 11 of 100 iterations completed! (11%)             \rTotal of 12 of 100 iterations completed! (12%)             \rTotal of 13 of 100 iterations completed! (13%)             \rTotal of 14 of 100 iterations completed! (14%)             \rTotal of 15 of 100 iterations completed! (15%)             \rTotal of 16 of 100 iterations completed! (16%)             \rTotal of 17 of 100 iterations completed! (17%)             \rTotal of 18 of 100 iterations completed! (18%)             \rTotal of 19 of 100 iterations completed! (19%)             \rTotal of 20 of 100 iterations completed! (20%)             \rTotal of 21 of 100 iterations completed! (21%)             \rTotal of 22 of 100 iterations completed! (22%)             \rTotal of 23 of 100 iterations completed! (23%)             \rTotal of 24 of 100 iterations completed! (24%)             \rTotal of 25 of 100 iterations completed! (25%)             \rTotal of 26 of 100 iterations completed! (26%)             \rTotal of 27 of 100 iterations completed! (27%)             \rTotal of 28 of 100 iterations completed! (28%)             \rTotal of 29 of 100 iterations completed! (29%)             \rTotal of 30 of 100 iterations completed! (30%)             \rTotal of 31 of 100 iterations completed! (31%)             \rTotal of 32 of 100 iterations completed! (32%)             \rTotal of 33 of 100 iterations completed! (33%)             \rTotal of 34 of 100 iterations completed! (34%)             \rTotal of 35 of 100 iterations completed! (35%)             \rTotal of 36 of 100 iterations completed! (36%)             \rTotal of 37 of 100 iterations completed! (37%)             \rTotal of 38 of 100 iterations completed! (38%)             \rTotal of 39 of 100 iterations completed! (39%)             \rTotal of 40 of 100 iterations completed! (40%)             \rTotal of 41 of 100 iterations completed! (41%)             \rTotal of 42 of 100 iterations completed! (42%)             \rTotal of 43 of 100 iterations completed! (43%)             \rTotal of 44 of 100 iterations completed! (44%)             \rTotal of 45 of 100 iterations completed! (45%)             \rTotal of 46 of 100 iterations completed! (46%)             \rTotal of 47 of 100 iterations completed! (47%)             \rTotal of 48 of 100 iterations completed! (48%)             \rTotal of 49 of 100 iterations completed! (49%)             \rTotal of 50 of 100 iterations completed! (50%)             \rTotal of 51 of 100 iterations completed! (51%)             \rTotal of 52 of 100 iterations completed! (52%)             \rTotal of 53 of 100 iterations completed! (53%)             \rTotal of 54 of 100 iterations completed! (54%)             \rTotal of 55 of 100 iterations completed! (55%)             \rTotal of 56 of 100 iterations completed! (56%)             \rTotal of 57 of 100 iterations completed! (57%)             \rTotal of 58 of 100 iterations completed! (58%)             \rTotal of 59 of 100 iterations completed! (59%)             \rTotal of 60 of 100 iterations completed! (60%)             \rTotal of 61 of 100 iterations completed! (61%)             \rTotal of 62 of 100 iterations completed! (62%)             \rTotal of 63 of 100 iterations completed! (63%)             \rTotal of 64 of 100 iterations completed! (64%)             \rTotal of 65 of 100 iterations completed! (65%)             \rTotal of 66 of 100 iterations completed! (66%)             \rTotal of 67 of 100 iterations completed! (67%)             \rTotal of 68 of 100 iterations completed! (68%)             \rTotal of 69 of 100 iterations completed! (69%)             \rTotal of 70 of 100 iterations completed! (70%)             \rTotal of 71 of 100 iterations completed! (71%)             \rTotal of 72 of 100 iterations completed! (72%)             \rTotal of 73 of 100 iterations completed! (73%)             \rTotal of 74 of 100 iterations completed! (74%)             \rTotal of 75 of 100 iterations completed! (75%)             \rTotal of 76 of 100 iterations completed! (76%)             \rTotal of 77 of 100 iterations completed! (77%)             \rTotal of 78 of 100 iterations completed! (78%)             \rTotal of 79 of 100 iterations completed! (79%)             \rTotal of 80 of 100 iterations completed! (80%)             \rTotal of 81 of 100 iterations completed! (81%)             \rTotal of 82 of 100 iterations completed! (82%)             \rTotal of 83 of 100 iterations completed! (83%)             \rTotal of 84 of 100 iterations completed! (84%)             \rTotal of 85 of 100 iterations completed! (85%)             \rTotal of 86 of 100 iterations completed! (86%)             \rTotal of 87 of 100 iterations completed! (87%)             \rTotal of 88 of 100 iterations completed! (88%)             \rTotal of 89 of 100 iterations completed! (89%)             \rTotal of 90 of 100 iterations completed! (90%)             \rTotal of 91 of 100 iterations completed! (91%)             \rTotal of 92 of 100 iterations completed! (92%)             \rTotal of 93 of 100 iterations completed! (93%)             \rTotal of 94 of 100 iterations completed! (94%)             \rTotal of 95 of 100 iterations completed! (95%)             \rTotal of 96 of 100 iterations completed! (96%)             \rTotal of 97 of 100 iterations completed! (97%)             \rTotal of 98 of 100 iterations completed! (98%)             \rTotal of 99 of 100 iterations completed! (99%)             \rTotal of 100 of 100 iterations completed! (100%)             \rfitting treatment model via method 'bart'\n"
          ]
        },
        {
          "metadata": {
            "tags": null
          },
          "name": "stderr",
          "output_type": "stream",
          "text": [
            "Warning message in bartc(Y[, 1], Z, X, p.scoreAsCovariate = F, n.chains = 1, n.threads = 1, :\n",
            "“for response method 'bart', propensity score not used unless included as covariate”\n"
          ]
        },
        {
          "metadata": {
            "tags": null
          },
          "name": "stdout",
          "output_type": "stream",
          "text": [
            "fitting response model via method 'bart'\n",
            "fitting treatment model via method 'bart'\n"
          ]
        },
        {
          "metadata": {
            "tags": null
          },
          "name": "stderr",
          "output_type": "stream",
          "text": [
            "Warning message in bartc(Y[, 2], Z, X, p.scoreAsCovariate = F, n.chains = 1, n.threads = 1, :\n",
            "“for response method 'bart', propensity score not used unless included as covariate”\n"
          ]
        },
        {
          "metadata": {
            "tags": null
          },
          "name": "stdout",
          "output_type": "stream",
          "text": [
            "fitting response model via method 'bart'\n",
            "\rFinishing iteration 100 of 100"
          ]
        },
        {
          "metadata": {
            "tags": null
          },
          "name": "stderr",
          "output_type": "stream",
          "text": [
            "Warning message in validateXTest(test, attr(x, \"term.labels\"), ncol(x), colnames(x), :\n",
            "“column names of 'test' does not equal that of 'x': 'X1, X2, X3, X4, X5, X6, X7, X8, X9, X10'; match will be made by position”\n"
          ]
        },
        {
          "metadata": {
            "tags": null
          },
          "name": "stdout",
          "output_type": "stream",
          "text": [
            "Total of 1 of 100 iterations completed! (1%)             \rTotal of 2 of 100 iterations completed! (2%)             \rTotal of 3 of 100 iterations completed! (3%)             \rTotal of 4 of 100 iterations completed! (4%)             \rTotal of 5 of 100 iterations completed! (5%)             \rTotal of 6 of 100 iterations completed! (6%)             \rTotal of 7 of 100 iterations completed! (7%)             \rTotal of 8 of 100 iterations completed! (8%)             \rTotal of 9 of 100 iterations completed! (9%)             \rTotal of 10 of 100 iterations completed! (10%)             \rTotal of 11 of 100 iterations completed! (11%)             \rTotal of 12 of 100 iterations completed! (12%)             \rTotal of 13 of 100 iterations completed! (13%)             \rTotal of 14 of 100 iterations completed! (14%)             \rTotal of 15 of 100 iterations completed! (15%)             \rTotal of 16 of 100 iterations completed! (16%)             \rTotal of 17 of 100 iterations completed! (17%)             \rTotal of 18 of 100 iterations completed! (18%)             \rTotal of 19 of 100 iterations completed! (19%)             \rTotal of 20 of 100 iterations completed! (20%)             \rTotal of 21 of 100 iterations completed! (21%)             \rTotal of 22 of 100 iterations completed! (22%)             \rTotal of 23 of 100 iterations completed! (23%)             \rTotal of 24 of 100 iterations completed! (24%)             \rTotal of 25 of 100 iterations completed! (25%)             \rTotal of 26 of 100 iterations completed! (26%)             \rTotal of 27 of 100 iterations completed! (27%)             \rTotal of 28 of 100 iterations completed! (28%)             \rTotal of 29 of 100 iterations completed! (29%)             \rTotal of 30 of 100 iterations completed! (30%)             \rTotal of 31 of 100 iterations completed! (31%)             \rTotal of 32 of 100 iterations completed! (32%)             \rTotal of 33 of 100 iterations completed! (33%)             \rTotal of 34 of 100 iterations completed! (34%)             \rTotal of 35 of 100 iterations completed! (35%)             \rTotal of 36 of 100 iterations completed! (36%)             \rTotal of 37 of 100 iterations completed! (37%)             \rTotal of 38 of 100 iterations completed! (38%)             \rTotal of 39 of 100 iterations completed! (39%)             \rTotal of 40 of 100 iterations completed! (40%)             \rTotal of 41 of 100 iterations completed! (41%)             \rTotal of 42 of 100 iterations completed! (42%)             \rTotal of 43 of 100 iterations completed! (43%)             \rTotal of 44 of 100 iterations completed! (44%)             \rTotal of 45 of 100 iterations completed! (45%)             \rTotal of 46 of 100 iterations completed! (46%)             \rTotal of 47 of 100 iterations completed! (47%)             \rTotal of 48 of 100 iterations completed! (48%)             \rTotal of 49 of 100 iterations completed! (49%)             \rTotal of 50 of 100 iterations completed! (50%)             \rTotal of 51 of 100 iterations completed! (51%)             \rTotal of 52 of 100 iterations completed! (52%)             \rTotal of 53 of 100 iterations completed! (53%)             \rTotal of 54 of 100 iterations completed! (54%)             \rTotal of 55 of 100 iterations completed! (55%)             \rTotal of 56 of 100 iterations completed! (56%)             \rTotal of 57 of 100 iterations completed! (57%)             \rTotal of 58 of 100 iterations completed! (58%)             \rTotal of 59 of 100 iterations completed! (59%)             \rTotal of 60 of 100 iterations completed! (60%)             \rTotal of 61 of 100 iterations completed! (61%)             \rTotal of 62 of 100 iterations completed! (62%)             \rTotal of 63 of 100 iterations completed! (63%)             \rTotal of 64 of 100 iterations completed! (64%)             \rTotal of 65 of 100 iterations completed! (65%)             \rTotal of 66 of 100 iterations completed! (66%)             \rTotal of 67 of 100 iterations completed! (67%)             \rTotal of 68 of 100 iterations completed! (68%)             \rTotal of 69 of 100 iterations completed! (69%)             \rTotal of 70 of 100 iterations completed! (70%)             \rTotal of 71 of 100 iterations completed! (71%)             \rTotal of 72 of 100 iterations completed! (72%)             \rTotal of 73 of 100 iterations completed! (73%)             \rTotal of 74 of 100 iterations completed! (74%)             \rTotal of 75 of 100 iterations completed! (75%)             \rTotal of 76 of 100 iterations completed! (76%)             \rTotal of 77 of 100 iterations completed! (77%)             \rTotal of 78 of 100 iterations completed! (78%)             \rTotal of 79 of 100 iterations completed! (79%)             \rTotal of 80 of 100 iterations completed! (80%)             \rTotal of 81 of 100 iterations completed! (81%)             \rTotal of 82 of 100 iterations completed! (82%)             \rTotal of 83 of 100 iterations completed! (83%)             \rTotal of 84 of 100 iterations completed! (84%)             \rTotal of 85 of 100 iterations completed! (85%)             \rTotal of 86 of 100 iterations completed! (86%)             \rTotal of 87 of 100 iterations completed! (87%)             \rTotal of 88 of 100 iterations completed! (88%)             \rTotal of 89 of 100 iterations completed! (89%)             \rTotal of 90 of 100 iterations completed! (90%)             \rTotal of 91 of 100 iterations completed! (91%)             \rTotal of 92 of 100 iterations completed! (92%)             \rTotal of 93 of 100 iterations completed! (93%)             \rTotal of 94 of 100 iterations completed! (94%)             \rTotal of 95 of 100 iterations completed! (95%)             \rTotal of 96 of 100 iterations completed! (96%)             \rTotal of 97 of 100 iterations completed! (97%)             \rTotal of 98 of 100 iterations completed! (98%)             \rTotal of 99 of 100 iterations completed! (99%)             \rTotal of 100 of 100 iterations completed! (100%)             \rfitting treatment model via method 'bart'\n"
          ]
        },
        {
          "metadata": {
            "tags": null
          },
          "name": "stderr",
          "output_type": "stream",
          "text": [
            "Warning message in bartc(Y[, 1], Z, X, p.scoreAsCovariate = F, n.chains = 1, n.threads = 1, :\n",
            "“for response method 'bart', propensity score not used unless included as covariate”\n"
          ]
        },
        {
          "metadata": {
            "tags": null
          },
          "name": "stdout",
          "output_type": "stream",
          "text": [
            "fitting response model via method 'bart'\n",
            "fitting treatment model via method 'bart'\n"
          ]
        },
        {
          "metadata": {
            "tags": null
          },
          "name": "stderr",
          "output_type": "stream",
          "text": [
            "Warning message in bartc(Y[, 2], Z, X, p.scoreAsCovariate = F, n.chains = 1, n.threads = 1, :\n",
            "“for response method 'bart', propensity score not used unless included as covariate”\n"
          ]
        },
        {
          "metadata": {
            "tags": null
          },
          "name": "stdout",
          "output_type": "stream",
          "text": [
            "fitting response model via method 'bart'\n",
            "\rFinishing iteration 100 of 100"
          ]
        },
        {
          "metadata": {
            "tags": null
          },
          "name": "stderr",
          "output_type": "stream",
          "text": [
            "Warning message in validateXTest(test, attr(x, \"term.labels\"), ncol(x), colnames(x), :\n",
            "“column names of 'test' does not equal that of 'x': 'X1, X2, X3, X4, X5, X6, X7, X8, X9, X10'; match will be made by position”\n"
          ]
        },
        {
          "metadata": {
            "tags": null
          },
          "name": "stdout",
          "output_type": "stream",
          "text": [
            "Total of 1 of 100 iterations completed! (1%)             \rTotal of 2 of 100 iterations completed! (2%)             \rTotal of 3 of 100 iterations completed! (3%)             \rTotal of 4 of 100 iterations completed! (4%)             \rTotal of 5 of 100 iterations completed! (5%)             \rTotal of 6 of 100 iterations completed! (6%)             \rTotal of 7 of 100 iterations completed! (7%)             \rTotal of 8 of 100 iterations completed! (8%)             \rTotal of 9 of 100 iterations completed! (9%)             \rTotal of 10 of 100 iterations completed! (10%)             \rTotal of 11 of 100 iterations completed! (11%)             \rTotal of 12 of 100 iterations completed! (12%)             \rTotal of 13 of 100 iterations completed! (13%)             \rTotal of 14 of 100 iterations completed! (14%)             \rTotal of 15 of 100 iterations completed! (15%)             \rTotal of 16 of 100 iterations completed! (16%)             \rTotal of 17 of 100 iterations completed! (17%)             \rTotal of 18 of 100 iterations completed! (18%)             \rTotal of 19 of 100 iterations completed! (19%)             \rTotal of 20 of 100 iterations completed! (20%)             \rTotal of 21 of 100 iterations completed! (21%)             \rTotal of 22 of 100 iterations completed! (22%)             \rTotal of 23 of 100 iterations completed! (23%)             \rTotal of 24 of 100 iterations completed! (24%)             \rTotal of 25 of 100 iterations completed! (25%)             \rTotal of 26 of 100 iterations completed! (26%)             \rTotal of 27 of 100 iterations completed! (27%)             \rTotal of 28 of 100 iterations completed! (28%)             \rTotal of 29 of 100 iterations completed! (29%)             \rTotal of 30 of 100 iterations completed! (30%)             \rTotal of 31 of 100 iterations completed! (31%)             \rTotal of 32 of 100 iterations completed! (32%)             \rTotal of 33 of 100 iterations completed! (33%)             \rTotal of 34 of 100 iterations completed! (34%)             \rTotal of 35 of 100 iterations completed! (35%)             \rTotal of 36 of 100 iterations completed! (36%)             \rTotal of 37 of 100 iterations completed! (37%)             \rTotal of 38 of 100 iterations completed! (38%)             \rTotal of 39 of 100 iterations completed! (39%)             \rTotal of 40 of 100 iterations completed! (40%)             \rTotal of 41 of 100 iterations completed! (41%)             \rTotal of 42 of 100 iterations completed! (42%)             \rTotal of 43 of 100 iterations completed! (43%)             \rTotal of 44 of 100 iterations completed! (44%)             \rTotal of 45 of 100 iterations completed! (45%)             \rTotal of 46 of 100 iterations completed! (46%)             \rTotal of 47 of 100 iterations completed! (47%)             \rTotal of 48 of 100 iterations completed! (48%)             \rTotal of 49 of 100 iterations completed! (49%)             \rTotal of 50 of 100 iterations completed! (50%)             \rTotal of 51 of 100 iterations completed! (51%)             \rTotal of 52 of 100 iterations completed! (52%)             \rTotal of 53 of 100 iterations completed! (53%)             \rTotal of 54 of 100 iterations completed! (54%)             \rTotal of 55 of 100 iterations completed! (55%)             \rTotal of 56 of 100 iterations completed! (56%)             \rTotal of 57 of 100 iterations completed! (57%)             \rTotal of 58 of 100 iterations completed! (58%)             \rTotal of 59 of 100 iterations completed! (59%)             \rTotal of 60 of 100 iterations completed! (60%)             \rTotal of 61 of 100 iterations completed! (61%)             \rTotal of 62 of 100 iterations completed! (62%)             \rTotal of 63 of 100 iterations completed! (63%)             \rTotal of 64 of 100 iterations completed! (64%)             \rTotal of 65 of 100 iterations completed! (65%)             \rTotal of 66 of 100 iterations completed! (66%)             \rTotal of 67 of 100 iterations completed! (67%)             \rTotal of 68 of 100 iterations completed! (68%)             \rTotal of 69 of 100 iterations completed! (69%)             \rTotal of 70 of 100 iterations completed! (70%)             \rTotal of 71 of 100 iterations completed! (71%)             \rTotal of 72 of 100 iterations completed! (72%)             \rTotal of 73 of 100 iterations completed! (73%)             \rTotal of 74 of 100 iterations completed! (74%)             \rTotal of 75 of 100 iterations completed! (75%)             \rTotal of 76 of 100 iterations completed! (76%)             \rTotal of 77 of 100 iterations completed! (77%)             \rTotal of 78 of 100 iterations completed! (78%)             \rTotal of 79 of 100 iterations completed! (79%)             \rTotal of 80 of 100 iterations completed! (80%)             \rTotal of 81 of 100 iterations completed! (81%)             \rTotal of 82 of 100 iterations completed! (82%)             \rTotal of 83 of 100 iterations completed! (83%)             \rTotal of 84 of 100 iterations completed! (84%)             \rTotal of 85 of 100 iterations completed! (85%)             \rTotal of 86 of 100 iterations completed! (86%)             \rTotal of 87 of 100 iterations completed! (87%)             \rTotal of 88 of 100 iterations completed! (88%)             \rTotal of 89 of 100 iterations completed! (89%)             \rTotal of 90 of 100 iterations completed! (90%)             \rTotal of 91 of 100 iterations completed! (91%)             \rTotal of 92 of 100 iterations completed! (92%)             \rTotal of 93 of 100 iterations completed! (93%)             \rTotal of 94 of 100 iterations completed! (94%)             \rTotal of 95 of 100 iterations completed! (95%)             \rTotal of 96 of 100 iterations completed! (96%)             \rTotal of 97 of 100 iterations completed! (97%)             \rTotal of 98 of 100 iterations completed! (98%)             \rTotal of 99 of 100 iterations completed! (99%)             \rTotal of 100 of 100 iterations completed! (100%)             \rfitting treatment model via method 'bart'\n"
          ]
        },
        {
          "metadata": {
            "tags": null
          },
          "name": "stderr",
          "output_type": "stream",
          "text": [
            "Warning message in bartc(Y[, 1], Z, X, p.scoreAsCovariate = F, n.chains = 1, n.threads = 1, :\n",
            "“for response method 'bart', propensity score not used unless included as covariate”\n"
          ]
        },
        {
          "metadata": {
            "tags": null
          },
          "name": "stdout",
          "output_type": "stream",
          "text": [
            "fitting response model via method 'bart'\n",
            "fitting treatment model via method 'bart'\n"
          ]
        },
        {
          "metadata": {
            "tags": null
          },
          "name": "stderr",
          "output_type": "stream",
          "text": [
            "Warning message in bartc(Y[, 2], Z, X, p.scoreAsCovariate = F, n.chains = 1, n.threads = 1, :\n",
            "“for response method 'bart', propensity score not used unless included as covariate”\n"
          ]
        },
        {
          "metadata": {
            "tags": null
          },
          "name": "stdout",
          "output_type": "stream",
          "text": [
            "fitting response model via method 'bart'\n",
            "\rFinishing iteration 100 of 100"
          ]
        },
        {
          "metadata": {
            "tags": null
          },
          "name": "stderr",
          "output_type": "stream",
          "text": [
            "Warning message in validateXTest(test, attr(x, \"term.labels\"), ncol(x), colnames(x), :\n",
            "“column names of 'test' does not equal that of 'x': 'X1, X2, X3, X4, X5, X6, X7, X8, X9, X10'; match will be made by position”\n"
          ]
        },
        {
          "metadata": {
            "tags": null
          },
          "name": "stdout",
          "output_type": "stream",
          "text": [
            "Total of 1 of 100 iterations completed! (1%)             \rTotal of 2 of 100 iterations completed! (2%)             \rTotal of 3 of 100 iterations completed! (3%)             \rTotal of 4 of 100 iterations completed! (4%)             \rTotal of 5 of 100 iterations completed! (5%)             \rTotal of 6 of 100 iterations completed! (6%)             \rTotal of 7 of 100 iterations completed! (7%)             \rTotal of 8 of 100 iterations completed! (8%)             \rTotal of 9 of 100 iterations completed! (9%)             \rTotal of 10 of 100 iterations completed! (10%)             \rTotal of 11 of 100 iterations completed! (11%)             \rTotal of 12 of 100 iterations completed! (12%)             \rTotal of 13 of 100 iterations completed! (13%)             \rTotal of 14 of 100 iterations completed! (14%)             \rTotal of 15 of 100 iterations completed! (15%)             \rTotal of 16 of 100 iterations completed! (16%)             \rTotal of 17 of 100 iterations completed! (17%)             \rTotal of 18 of 100 iterations completed! (18%)             \rTotal of 19 of 100 iterations completed! (19%)             \rTotal of 20 of 100 iterations completed! (20%)             \rTotal of 21 of 100 iterations completed! (21%)             \rTotal of 22 of 100 iterations completed! (22%)             \rTotal of 23 of 100 iterations completed! (23%)             \rTotal of 24 of 100 iterations completed! (24%)             \rTotal of 25 of 100 iterations completed! (25%)             \rTotal of 26 of 100 iterations completed! (26%)             \rTotal of 27 of 100 iterations completed! (27%)             \rTotal of 28 of 100 iterations completed! (28%)             \rTotal of 29 of 100 iterations completed! (29%)             \rTotal of 30 of 100 iterations completed! (30%)             \rTotal of 31 of 100 iterations completed! (31%)             \rTotal of 32 of 100 iterations completed! (32%)             \rTotal of 33 of 100 iterations completed! (33%)             \rTotal of 34 of 100 iterations completed! (34%)             \rTotal of 35 of 100 iterations completed! (35%)             \rTotal of 36 of 100 iterations completed! (36%)             \rTotal of 37 of 100 iterations completed! (37%)             \rTotal of 38 of 100 iterations completed! (38%)             \rTotal of 39 of 100 iterations completed! (39%)             \rTotal of 40 of 100 iterations completed! (40%)             \rTotal of 41 of 100 iterations completed! (41%)             \rTotal of 42 of 100 iterations completed! (42%)             \rTotal of 43 of 100 iterations completed! (43%)             \rTotal of 44 of 100 iterations completed! (44%)             \rTotal of 45 of 100 iterations completed! (45%)             \rTotal of 46 of 100 iterations completed! (46%)             \rTotal of 47 of 100 iterations completed! (47%)             \rTotal of 48 of 100 iterations completed! (48%)             \rTotal of 49 of 100 iterations completed! (49%)             \rTotal of 50 of 100 iterations completed! (50%)             \rTotal of 51 of 100 iterations completed! (51%)             \rTotal of 52 of 100 iterations completed! (52%)             \rTotal of 53 of 100 iterations completed! (53%)             \rTotal of 54 of 100 iterations completed! (54%)             \rTotal of 55 of 100 iterations completed! (55%)             \rTotal of 56 of 100 iterations completed! (56%)             \rTotal of 57 of 100 iterations completed! (57%)             \rTotal of 58 of 100 iterations completed! (58%)             \rTotal of 59 of 100 iterations completed! (59%)             \rTotal of 60 of 100 iterations completed! (60%)             \rTotal of 61 of 100 iterations completed! (61%)             \rTotal of 62 of 100 iterations completed! (62%)             \rTotal of 63 of 100 iterations completed! (63%)             \rTotal of 64 of 100 iterations completed! (64%)             \rTotal of 65 of 100 iterations completed! (65%)             \rTotal of 66 of 100 iterations completed! (66%)             \rTotal of 67 of 100 iterations completed! (67%)             \rTotal of 68 of 100 iterations completed! (68%)             \rTotal of 69 of 100 iterations completed! (69%)             \rTotal of 70 of 100 iterations completed! (70%)             \rTotal of 71 of 100 iterations completed! (71%)             \rTotal of 72 of 100 iterations completed! (72%)             \rTotal of 73 of 100 iterations completed! (73%)             \rTotal of 74 of 100 iterations completed! (74%)             \rTotal of 75 of 100 iterations completed! (75%)             \rTotal of 76 of 100 iterations completed! (76%)             \rTotal of 77 of 100 iterations completed! (77%)             \rTotal of 78 of 100 iterations completed! (78%)             \rTotal of 79 of 100 iterations completed! (79%)             \rTotal of 80 of 100 iterations completed! (80%)             \rTotal of 81 of 100 iterations completed! (81%)             \rTotal of 82 of 100 iterations completed! (82%)             \rTotal of 83 of 100 iterations completed! (83%)             \rTotal of 84 of 100 iterations completed! (84%)             \rTotal of 85 of 100 iterations completed! (85%)             \rTotal of 86 of 100 iterations completed! (86%)             \rTotal of 87 of 100 iterations completed! (87%)             \rTotal of 88 of 100 iterations completed! (88%)             \rTotal of 89 of 100 iterations completed! (89%)             \rTotal of 90 of 100 iterations completed! (90%)             \rTotal of 91 of 100 iterations completed! (91%)             \rTotal of 92 of 100 iterations completed! (92%)             \rTotal of 93 of 100 iterations completed! (93%)             \rTotal of 94 of 100 iterations completed! (94%)             \rTotal of 95 of 100 iterations completed! (95%)             \rTotal of 96 of 100 iterations completed! (96%)             \rTotal of 97 of 100 iterations completed! (97%)             \rTotal of 98 of 100 iterations completed! (98%)             \rTotal of 99 of 100 iterations completed! (99%)             \rTotal of 100 of 100 iterations completed! (100%)             \rfitting treatment model via method 'bart'\n"
          ]
        },
        {
          "metadata": {
            "tags": null
          },
          "name": "stderr",
          "output_type": "stream",
          "text": [
            "Warning message in bartc(Y[, 1], Z, X, p.scoreAsCovariate = F, n.chains = 1, n.threads = 1, :\n",
            "“for response method 'bart', propensity score not used unless included as covariate”\n"
          ]
        },
        {
          "metadata": {
            "tags": null
          },
          "name": "stdout",
          "output_type": "stream",
          "text": [
            "fitting response model via method 'bart'\n",
            "fitting treatment model via method 'bart'\n"
          ]
        },
        {
          "metadata": {
            "tags": null
          },
          "name": "stderr",
          "output_type": "stream",
          "text": [
            "Warning message in bartc(Y[, 2], Z, X, p.scoreAsCovariate = F, n.chains = 1, n.threads = 1, :\n",
            "“for response method 'bart', propensity score not used unless included as covariate”\n"
          ]
        },
        {
          "metadata": {
            "tags": null
          },
          "name": "stdout",
          "output_type": "stream",
          "text": [
            "fitting response model via method 'bart'\n",
            "\rFinishing iteration 100 of 100"
          ]
        },
        {
          "metadata": {
            "tags": null
          },
          "name": "stderr",
          "output_type": "stream",
          "text": [
            "Warning message in validateXTest(test, attr(x, \"term.labels\"), ncol(x), colnames(x), :\n",
            "“column names of 'test' does not equal that of 'x': 'X1, X2, X3, X4, X5, X6, X7, X8, X9, X10'; match will be made by position”\n"
          ]
        },
        {
          "metadata": {
            "tags": null
          },
          "name": "stdout",
          "output_type": "stream",
          "text": [
            "Total of 1 of 100 iterations completed! (1%)             \rTotal of 2 of 100 iterations completed! (2%)             \rTotal of 3 of 100 iterations completed! (3%)             \rTotal of 4 of 100 iterations completed! (4%)             \rTotal of 5 of 100 iterations completed! (5%)             \rTotal of 6 of 100 iterations completed! (6%)             \rTotal of 7 of 100 iterations completed! (7%)             \rTotal of 8 of 100 iterations completed! (8%)             \rTotal of 9 of 100 iterations completed! (9%)             \rTotal of 10 of 100 iterations completed! (10%)             \rTotal of 11 of 100 iterations completed! (11%)             \rTotal of 12 of 100 iterations completed! (12%)             \rTotal of 13 of 100 iterations completed! (13%)             \rTotal of 14 of 100 iterations completed! (14%)             \rTotal of 15 of 100 iterations completed! (15%)             \rTotal of 16 of 100 iterations completed! (16%)             \rTotal of 17 of 100 iterations completed! (17%)             \rTotal of 18 of 100 iterations completed! (18%)             \rTotal of 19 of 100 iterations completed! (19%)             \rTotal of 20 of 100 iterations completed! (20%)             \rTotal of 21 of 100 iterations completed! (21%)             \rTotal of 22 of 100 iterations completed! (22%)             \rTotal of 23 of 100 iterations completed! (23%)             \rTotal of 24 of 100 iterations completed! (24%)             \rTotal of 25 of 100 iterations completed! (25%)             \rTotal of 26 of 100 iterations completed! (26%)             \rTotal of 27 of 100 iterations completed! (27%)             \rTotal of 28 of 100 iterations completed! (28%)             \rTotal of 29 of 100 iterations completed! (29%)             \rTotal of 30 of 100 iterations completed! (30%)             \rTotal of 31 of 100 iterations completed! (31%)             \rTotal of 32 of 100 iterations completed! (32%)             \rTotal of 33 of 100 iterations completed! (33%)             \rTotal of 34 of 100 iterations completed! (34%)             \rTotal of 35 of 100 iterations completed! (35%)             \rTotal of 36 of 100 iterations completed! (36%)             \rTotal of 37 of 100 iterations completed! (37%)             \rTotal of 38 of 100 iterations completed! (38%)             \rTotal of 39 of 100 iterations completed! (39%)             \rTotal of 40 of 100 iterations completed! (40%)             \rTotal of 41 of 100 iterations completed! (41%)             \rTotal of 42 of 100 iterations completed! (42%)             \rTotal of 43 of 100 iterations completed! (43%)             \rTotal of 44 of 100 iterations completed! (44%)             \rTotal of 45 of 100 iterations completed! (45%)             \rTotal of 46 of 100 iterations completed! (46%)             \rTotal of 47 of 100 iterations completed! (47%)             \rTotal of 48 of 100 iterations completed! (48%)             \rTotal of 49 of 100 iterations completed! (49%)             \rTotal of 50 of 100 iterations completed! (50%)             \rTotal of 51 of 100 iterations completed! (51%)             \rTotal of 52 of 100 iterations completed! (52%)             \rTotal of 53 of 100 iterations completed! (53%)             \rTotal of 54 of 100 iterations completed! (54%)             \rTotal of 55 of 100 iterations completed! (55%)             \rTotal of 56 of 100 iterations completed! (56%)             \rTotal of 57 of 100 iterations completed! (57%)             \rTotal of 58 of 100 iterations completed! (58%)             \rTotal of 59 of 100 iterations completed! (59%)             \rTotal of 60 of 100 iterations completed! (60%)             \rTotal of 61 of 100 iterations completed! (61%)             \rTotal of 62 of 100 iterations completed! (62%)             \rTotal of 63 of 100 iterations completed! (63%)             \rTotal of 64 of 100 iterations completed! (64%)             \rTotal of 65 of 100 iterations completed! (65%)             \rTotal of 66 of 100 iterations completed! (66%)             \rTotal of 67 of 100 iterations completed! (67%)             \rTotal of 68 of 100 iterations completed! (68%)             \rTotal of 69 of 100 iterations completed! (69%)             \rTotal of 70 of 100 iterations completed! (70%)             \rTotal of 71 of 100 iterations completed! (71%)             \rTotal of 72 of 100 iterations completed! (72%)             \rTotal of 73 of 100 iterations completed! (73%)             \rTotal of 74 of 100 iterations completed! (74%)             \rTotal of 75 of 100 iterations completed! (75%)             \rTotal of 76 of 100 iterations completed! (76%)             \rTotal of 77 of 100 iterations completed! (77%)             \rTotal of 78 of 100 iterations completed! (78%)             \rTotal of 79 of 100 iterations completed! (79%)             \rTotal of 80 of 100 iterations completed! (80%)             \rTotal of 81 of 100 iterations completed! (81%)             \rTotal of 82 of 100 iterations completed! (82%)             \rTotal of 83 of 100 iterations completed! (83%)             \rTotal of 84 of 100 iterations completed! (84%)             \rTotal of 85 of 100 iterations completed! (85%)             \rTotal of 86 of 100 iterations completed! (86%)             \rTotal of 87 of 100 iterations completed! (87%)             \rTotal of 88 of 100 iterations completed! (88%)             \rTotal of 89 of 100 iterations completed! (89%)             \rTotal of 90 of 100 iterations completed! (90%)             \rTotal of 91 of 100 iterations completed! (91%)             \rTotal of 92 of 100 iterations completed! (92%)             \rTotal of 93 of 100 iterations completed! (93%)             \rTotal of 94 of 100 iterations completed! (94%)             \rTotal of 95 of 100 iterations completed! (95%)             \rTotal of 96 of 100 iterations completed! (96%)             \rTotal of 97 of 100 iterations completed! (97%)             \rTotal of 98 of 100 iterations completed! (98%)             \rTotal of 99 of 100 iterations completed! (99%)             \rTotal of 100 of 100 iterations completed! (100%)             \rfitting treatment model via method 'bart'\n"
          ]
        },
        {
          "metadata": {
            "tags": null
          },
          "name": "stderr",
          "output_type": "stream",
          "text": [
            "Warning message in bartc(Y[, 1], Z, X, p.scoreAsCovariate = F, n.chains = 1, n.threads = 1, :\n",
            "“for response method 'bart', propensity score not used unless included as covariate”\n"
          ]
        },
        {
          "metadata": {
            "tags": null
          },
          "name": "stdout",
          "output_type": "stream",
          "text": [
            "fitting response model via method 'bart'\n",
            "fitting treatment model via method 'bart'\n"
          ]
        },
        {
          "metadata": {
            "tags": null
          },
          "name": "stderr",
          "output_type": "stream",
          "text": [
            "Warning message in bartc(Y[, 2], Z, X, p.scoreAsCovariate = F, n.chains = 1, n.threads = 1, :\n",
            "“for response method 'bart', propensity score not used unless included as covariate”\n"
          ]
        },
        {
          "metadata": {
            "tags": null
          },
          "name": "stdout",
          "output_type": "stream",
          "text": [
            "fitting response model via method 'bart'\n",
            "\rFinishing iteration 100 of 100"
          ]
        },
        {
          "metadata": {
            "tags": null
          },
          "name": "stderr",
          "output_type": "stream",
          "text": [
            "Warning message in validateXTest(test, attr(x, \"term.labels\"), ncol(x), colnames(x), :\n",
            "“column names of 'test' does not equal that of 'x': 'X1, X2, X3, X4, X5, X6, X7, X8, X9, X10'; match will be made by position”\n"
          ]
        },
        {
          "metadata": {
            "tags": null
          },
          "name": "stdout",
          "output_type": "stream",
          "text": [
            "Total of 1 of 100 iterations completed! (1%)             \rTotal of 2 of 100 iterations completed! (2%)             \rTotal of 3 of 100 iterations completed! (3%)             \rTotal of 4 of 100 iterations completed! (4%)             \rTotal of 5 of 100 iterations completed! (5%)             \rTotal of 6 of 100 iterations completed! (6%)             \rTotal of 7 of 100 iterations completed! (7%)             \rTotal of 8 of 100 iterations completed! (8%)             \rTotal of 9 of 100 iterations completed! (9%)             \rTotal of 10 of 100 iterations completed! (10%)             \rTotal of 11 of 100 iterations completed! (11%)             \rTotal of 12 of 100 iterations completed! (12%)             \rTotal of 13 of 100 iterations completed! (13%)             \rTotal of 14 of 100 iterations completed! (14%)             \rTotal of 15 of 100 iterations completed! (15%)             \rTotal of 16 of 100 iterations completed! (16%)             \rTotal of 17 of 100 iterations completed! (17%)             \rTotal of 18 of 100 iterations completed! (18%)             \rTotal of 19 of 100 iterations completed! (19%)             \rTotal of 20 of 100 iterations completed! (20%)             \rTotal of 21 of 100 iterations completed! (21%)             \rTotal of 22 of 100 iterations completed! (22%)             \rTotal of 23 of 100 iterations completed! (23%)             \rTotal of 24 of 100 iterations completed! (24%)             \rTotal of 25 of 100 iterations completed! (25%)             \rTotal of 26 of 100 iterations completed! (26%)             \rTotal of 27 of 100 iterations completed! (27%)             \rTotal of 28 of 100 iterations completed! (28%)             \rTotal of 29 of 100 iterations completed! (29%)             \rTotal of 30 of 100 iterations completed! (30%)             \rTotal of 31 of 100 iterations completed! (31%)             \rTotal of 32 of 100 iterations completed! (32%)             \rTotal of 33 of 100 iterations completed! (33%)             \rTotal of 34 of 100 iterations completed! (34%)             \rTotal of 35 of 100 iterations completed! (35%)             \rTotal of 36 of 100 iterations completed! (36%)             \rTotal of 37 of 100 iterations completed! (37%)             \rTotal of 38 of 100 iterations completed! (38%)             \rTotal of 39 of 100 iterations completed! (39%)             \rTotal of 40 of 100 iterations completed! (40%)             \rTotal of 41 of 100 iterations completed! (41%)             \rTotal of 42 of 100 iterations completed! (42%)             \rTotal of 43 of 100 iterations completed! (43%)             \rTotal of 44 of 100 iterations completed! (44%)             \rTotal of 45 of 100 iterations completed! (45%)             \rTotal of 46 of 100 iterations completed! (46%)             \rTotal of 47 of 100 iterations completed! (47%)             \rTotal of 48 of 100 iterations completed! (48%)             \rTotal of 49 of 100 iterations completed! (49%)             \rTotal of 50 of 100 iterations completed! (50%)             \rTotal of 51 of 100 iterations completed! (51%)             \rTotal of 52 of 100 iterations completed! (52%)             \rTotal of 53 of 100 iterations completed! (53%)             \rTotal of 54 of 100 iterations completed! (54%)             \rTotal of 55 of 100 iterations completed! (55%)             \rTotal of 56 of 100 iterations completed! (56%)             \rTotal of 57 of 100 iterations completed! (57%)             \rTotal of 58 of 100 iterations completed! (58%)             \rTotal of 59 of 100 iterations completed! (59%)             \rTotal of 60 of 100 iterations completed! (60%)             \rTotal of 61 of 100 iterations completed! (61%)             \rTotal of 62 of 100 iterations completed! (62%)             \rTotal of 63 of 100 iterations completed! (63%)             \rTotal of 64 of 100 iterations completed! (64%)             \rTotal of 65 of 100 iterations completed! (65%)             \rTotal of 66 of 100 iterations completed! (66%)             \rTotal of 67 of 100 iterations completed! (67%)             \rTotal of 68 of 100 iterations completed! (68%)             \rTotal of 69 of 100 iterations completed! (69%)             \rTotal of 70 of 100 iterations completed! (70%)             \rTotal of 71 of 100 iterations completed! (71%)             \rTotal of 72 of 100 iterations completed! (72%)             \rTotal of 73 of 100 iterations completed! (73%)             \rTotal of 74 of 100 iterations completed! (74%)             \rTotal of 75 of 100 iterations completed! (75%)             \rTotal of 76 of 100 iterations completed! (76%)             \rTotal of 77 of 100 iterations completed! (77%)             \rTotal of 78 of 100 iterations completed! (78%)             \rTotal of 79 of 100 iterations completed! (79%)             \rTotal of 80 of 100 iterations completed! (80%)             \rTotal of 81 of 100 iterations completed! (81%)             \rTotal of 82 of 100 iterations completed! (82%)             \rTotal of 83 of 100 iterations completed! (83%)             \rTotal of 84 of 100 iterations completed! (84%)             \rTotal of 85 of 100 iterations completed! (85%)             \rTotal of 86 of 100 iterations completed! (86%)             \rTotal of 87 of 100 iterations completed! (87%)             \rTotal of 88 of 100 iterations completed! (88%)             \rTotal of 89 of 100 iterations completed! (89%)             \rTotal of 90 of 100 iterations completed! (90%)             \rTotal of 91 of 100 iterations completed! (91%)             \rTotal of 92 of 100 iterations completed! (92%)             \rTotal of 93 of 100 iterations completed! (93%)             \rTotal of 94 of 100 iterations completed! (94%)             \rTotal of 95 of 100 iterations completed! (95%)             \rTotal of 96 of 100 iterations completed! (96%)             \rTotal of 97 of 100 iterations completed! (97%)             \rTotal of 98 of 100 iterations completed! (98%)             \rTotal of 99 of 100 iterations completed! (99%)             \rTotal of 100 of 100 iterations completed! (100%)             \rfitting treatment model via method 'bart'\n"
          ]
        },
        {
          "metadata": {
            "tags": null
          },
          "name": "stderr",
          "output_type": "stream",
          "text": [
            "Warning message in bartc(Y[, 1], Z, X, p.scoreAsCovariate = F, n.chains = 1, n.threads = 1, :\n",
            "“for response method 'bart', propensity score not used unless included as covariate”\n"
          ]
        },
        {
          "metadata": {
            "tags": null
          },
          "name": "stdout",
          "output_type": "stream",
          "text": [
            "fitting response model via method 'bart'\n",
            "fitting treatment model via method 'bart'\n"
          ]
        },
        {
          "metadata": {
            "tags": null
          },
          "name": "stderr",
          "output_type": "stream",
          "text": [
            "Warning message in bartc(Y[, 2], Z, X, p.scoreAsCovariate = F, n.chains = 1, n.threads = 1, :\n",
            "“for response method 'bart', propensity score not used unless included as covariate”\n"
          ]
        },
        {
          "metadata": {
            "tags": null
          },
          "name": "stdout",
          "output_type": "stream",
          "text": [
            "fitting response model via method 'bart'\n",
            "\rFinishing iteration 100 of 100\n",
            "After initial 10 simulations:\n",
            "Comparison 1: Power = 0.3370, p-value = 0.6991, adjusted p-value = 1.0000\n",
            "Comparison 2: Power = 0.2651, p-value = 0.1785, adjusted p-value = 0.7141\n",
            "Comparison 3: Power = 0.1937, p-value = 0.9117, adjusted p-value = 1.0000\n",
            "Comparison 4: Power = 0.1381, p-value = 0.2502, adjusted p-value = 0.7506\n",
            "Minimum power: 0.1380759 \n",
            "\n",
            "Iteration 1: Running batch of 10 simulations (total will be 20)...\n"
          ]
        },
        {
          "metadata": {
            "tags": null
          },
          "name": "stderr",
          "output_type": "stream",
          "text": [
            "Warning message in validateXTest(test, attr(x, \"term.labels\"), ncol(x), colnames(x), :\n",
            "“column names of 'test' does not equal that of 'x': 'X1, X2, X3, X4, X5, X6, X7, X8, X9, X10'; match will be made by position”\n"
          ]
        },
        {
          "metadata": {
            "tags": null
          },
          "name": "stdout",
          "output_type": "stream",
          "text": [
            "Total of 1 of 100 iterations completed! (1%)             \rTotal of 2 of 100 iterations completed! (2%)             \rTotal of 3 of 100 iterations completed! (3%)             \rTotal of 4 of 100 iterations completed! (4%)             \rTotal of 5 of 100 iterations completed! (5%)             \rTotal of 6 of 100 iterations completed! (6%)             \rTotal of 7 of 100 iterations completed! (7%)             \rTotal of 8 of 100 iterations completed! (8%)             \rTotal of 9 of 100 iterations completed! (9%)             \rTotal of 10 of 100 iterations completed! (10%)             \rTotal of 11 of 100 iterations completed! (11%)             \rTotal of 12 of 100 iterations completed! (12%)             \rTotal of 13 of 100 iterations completed! (13%)             \rTotal of 14 of 100 iterations completed! (14%)             \rTotal of 15 of 100 iterations completed! (15%)             \rTotal of 16 of 100 iterations completed! (16%)             \rTotal of 17 of 100 iterations completed! (17%)             \rTotal of 18 of 100 iterations completed! (18%)             \rTotal of 19 of 100 iterations completed! (19%)             \rTotal of 20 of 100 iterations completed! (20%)             \rTotal of 21 of 100 iterations completed! (21%)             \rTotal of 22 of 100 iterations completed! (22%)             \rTotal of 23 of 100 iterations completed! (23%)             \rTotal of 24 of 100 iterations completed! (24%)             \rTotal of 25 of 100 iterations completed! (25%)             \rTotal of 26 of 100 iterations completed! (26%)             \rTotal of 27 of 100 iterations completed! (27%)             \rTotal of 28 of 100 iterations completed! (28%)             \rTotal of 29 of 100 iterations completed! (29%)             \rTotal of 30 of 100 iterations completed! (30%)             \rTotal of 31 of 100 iterations completed! (31%)             \rTotal of 32 of 100 iterations completed! (32%)             \rTotal of 33 of 100 iterations completed! (33%)             \rTotal of 34 of 100 iterations completed! (34%)             \rTotal of 35 of 100 iterations completed! (35%)             \rTotal of 36 of 100 iterations completed! (36%)             \rTotal of 37 of 100 iterations completed! (37%)             \rTotal of 38 of 100 iterations completed! (38%)             \rTotal of 39 of 100 iterations completed! (39%)             \rTotal of 40 of 100 iterations completed! (40%)             \rTotal of 41 of 100 iterations completed! (41%)             \rTotal of 42 of 100 iterations completed! (42%)             \rTotal of 43 of 100 iterations completed! (43%)             \rTotal of 44 of 100 iterations completed! (44%)             \rTotal of 45 of 100 iterations completed! (45%)             \rTotal of 46 of 100 iterations completed! (46%)             \rTotal of 47 of 100 iterations completed! (47%)             \rTotal of 48 of 100 iterations completed! (48%)             \rTotal of 49 of 100 iterations completed! (49%)             \rTotal of 50 of 100 iterations completed! (50%)             \rTotal of 51 of 100 iterations completed! (51%)             \rTotal of 52 of 100 iterations completed! (52%)             \rTotal of 53 of 100 iterations completed! (53%)             \rTotal of 54 of 100 iterations completed! (54%)             \rTotal of 55 of 100 iterations completed! (55%)             \rTotal of 56 of 100 iterations completed! (56%)             \rTotal of 57 of 100 iterations completed! (57%)             \rTotal of 58 of 100 iterations completed! (58%)             \rTotal of 59 of 100 iterations completed! (59%)             \rTotal of 60 of 100 iterations completed! (60%)             \rTotal of 61 of 100 iterations completed! (61%)             \rTotal of 62 of 100 iterations completed! (62%)             \rTotal of 63 of 100 iterations completed! (63%)             \rTotal of 64 of 100 iterations completed! (64%)             \rTotal of 65 of 100 iterations completed! (65%)             \rTotal of 66 of 100 iterations completed! (66%)             \rTotal of 67 of 100 iterations completed! (67%)             \rTotal of 68 of 100 iterations completed! (68%)             \rTotal of 69 of 100 iterations completed! (69%)             \rTotal of 70 of 100 iterations completed! (70%)             \rTotal of 71 of 100 iterations completed! (71%)             \rTotal of 72 of 100 iterations completed! (72%)             \rTotal of 73 of 100 iterations completed! (73%)             \rTotal of 74 of 100 iterations completed! (74%)             \rTotal of 75 of 100 iterations completed! (75%)             \rTotal of 76 of 100 iterations completed! (76%)             \rTotal of 77 of 100 iterations completed! (77%)             \rTotal of 78 of 100 iterations completed! (78%)             \rTotal of 79 of 100 iterations completed! (79%)             \rTotal of 80 of 100 iterations completed! (80%)             \rTotal of 81 of 100 iterations completed! (81%)             \rTotal of 82 of 100 iterations completed! (82%)             \rTotal of 83 of 100 iterations completed! (83%)             \rTotal of 84 of 100 iterations completed! (84%)             \rTotal of 85 of 100 iterations completed! (85%)             \rTotal of 86 of 100 iterations completed! (86%)             \rTotal of 87 of 100 iterations completed! (87%)             \rTotal of 88 of 100 iterations completed! (88%)             \rTotal of 89 of 100 iterations completed! (89%)             \rTotal of 90 of 100 iterations completed! (90%)             \rTotal of 91 of 100 iterations completed! (91%)             \rTotal of 92 of 100 iterations completed! (92%)             \rTotal of 93 of 100 iterations completed! (93%)             \rTotal of 94 of 100 iterations completed! (94%)             \rTotal of 95 of 100 iterations completed! (95%)             \rTotal of 96 of 100 iterations completed! (96%)             \rTotal of 97 of 100 iterations completed! (97%)             \rTotal of 98 of 100 iterations completed! (98%)             \rTotal of 99 of 100 iterations completed! (99%)             \rTotal of 100 of 100 iterations completed! (100%)             \rfitting treatment model via method 'bart'\n"
          ]
        },
        {
          "metadata": {
            "tags": null
          },
          "name": "stderr",
          "output_type": "stream",
          "text": [
            "Warning message in bartc(Y[, 1], Z, X, p.scoreAsCovariate = F, n.chains = 1, n.threads = 1, :\n",
            "“for response method 'bart', propensity score not used unless included as covariate”\n"
          ]
        },
        {
          "metadata": {
            "tags": null
          },
          "name": "stdout",
          "output_type": "stream",
          "text": [
            "fitting response model via method 'bart'\n",
            "fitting treatment model via method 'bart'\n"
          ]
        },
        {
          "metadata": {
            "tags": null
          },
          "name": "stderr",
          "output_type": "stream",
          "text": [
            "Warning message in bartc(Y[, 2], Z, X, p.scoreAsCovariate = F, n.chains = 1, n.threads = 1, :\n",
            "“for response method 'bart', propensity score not used unless included as covariate”\n"
          ]
        },
        {
          "metadata": {
            "tags": null
          },
          "name": "stdout",
          "output_type": "stream",
          "text": [
            "fitting response model via method 'bart'\n",
            "\rFinishing iteration 100 of 100"
          ]
        },
        {
          "metadata": {
            "tags": null
          },
          "name": "stderr",
          "output_type": "stream",
          "text": [
            "Warning message in validateXTest(test, attr(x, \"term.labels\"), ncol(x), colnames(x), :\n",
            "“column names of 'test' does not equal that of 'x': 'X1, X2, X3, X4, X5, X6, X7, X8, X9, X10'; match will be made by position”\n"
          ]
        },
        {
          "metadata": {
            "tags": null
          },
          "name": "stdout",
          "output_type": "stream",
          "text": [
            "Total of 1 of 100 iterations completed! (1%)             \rTotal of 2 of 100 iterations completed! (2%)             \rTotal of 3 of 100 iterations completed! (3%)             \rTotal of 4 of 100 iterations completed! (4%)             \rTotal of 5 of 100 iterations completed! (5%)             \rTotal of 6 of 100 iterations completed! (6%)             \rTotal of 7 of 100 iterations completed! (7%)             \rTotal of 8 of 100 iterations completed! (8%)             \rTotal of 9 of 100 iterations completed! (9%)             \rTotal of 10 of 100 iterations completed! (10%)             \rTotal of 11 of 100 iterations completed! (11%)             \rTotal of 12 of 100 iterations completed! (12%)             \rTotal of 13 of 100 iterations completed! (13%)             \rTotal of 14 of 100 iterations completed! (14%)             \rTotal of 15 of 100 iterations completed! (15%)             \rTotal of 16 of 100 iterations completed! (16%)             \rTotal of 17 of 100 iterations completed! (17%)             \rTotal of 18 of 100 iterations completed! (18%)             \rTotal of 19 of 100 iterations completed! (19%)             \rTotal of 20 of 100 iterations completed! (20%)             \rTotal of 21 of 100 iterations completed! (21%)             \rTotal of 22 of 100 iterations completed! (22%)             \rTotal of 23 of 100 iterations completed! (23%)             \rTotal of 24 of 100 iterations completed! (24%)             \rTotal of 25 of 100 iterations completed! (25%)             \rTotal of 26 of 100 iterations completed! (26%)             \rTotal of 27 of 100 iterations completed! (27%)             \rTotal of 28 of 100 iterations completed! (28%)             \rTotal of 29 of 100 iterations completed! (29%)             \rTotal of 30 of 100 iterations completed! (30%)             \rTotal of 31 of 100 iterations completed! (31%)             \rTotal of 32 of 100 iterations completed! (32%)             \rTotal of 33 of 100 iterations completed! (33%)             \rTotal of 34 of 100 iterations completed! (34%)             \rTotal of 35 of 100 iterations completed! (35%)             \rTotal of 36 of 100 iterations completed! (36%)             \rTotal of 37 of 100 iterations completed! (37%)             \rTotal of 38 of 100 iterations completed! (38%)             \rTotal of 39 of 100 iterations completed! (39%)             \rTotal of 40 of 100 iterations completed! (40%)             \rTotal of 41 of 100 iterations completed! (41%)             \rTotal of 42 of 100 iterations completed! (42%)             \rTotal of 43 of 100 iterations completed! (43%)             \rTotal of 44 of 100 iterations completed! (44%)             \rTotal of 45 of 100 iterations completed! (45%)             \rTotal of 46 of 100 iterations completed! (46%)             \rTotal of 47 of 100 iterations completed! (47%)             \rTotal of 48 of 100 iterations completed! (48%)             \rTotal of 49 of 100 iterations completed! (49%)             \rTotal of 50 of 100 iterations completed! (50%)             \rTotal of 51 of 100 iterations completed! (51%)             \rTotal of 52 of 100 iterations completed! (52%)             \rTotal of 53 of 100 iterations completed! (53%)             \rTotal of 54 of 100 iterations completed! (54%)             \rTotal of 55 of 100 iterations completed! (55%)             \rTotal of 56 of 100 iterations completed! (56%)             \rTotal of 57 of 100 iterations completed! (57%)             \rTotal of 58 of 100 iterations completed! (58%)             \rTotal of 59 of 100 iterations completed! (59%)             \rTotal of 60 of 100 iterations completed! (60%)             \rTotal of 61 of 100 iterations completed! (61%)             \rTotal of 62 of 100 iterations completed! (62%)             \rTotal of 63 of 100 iterations completed! (63%)             \rTotal of 64 of 100 iterations completed! (64%)             \rTotal of 65 of 100 iterations completed! (65%)             \rTotal of 66 of 100 iterations completed! (66%)             \rTotal of 67 of 100 iterations completed! (67%)             \rTotal of 68 of 100 iterations completed! (68%)             \rTotal of 69 of 100 iterations completed! (69%)             \rTotal of 70 of 100 iterations completed! (70%)             \rTotal of 71 of 100 iterations completed! (71%)             \rTotal of 72 of 100 iterations completed! (72%)             \rTotal of 73 of 100 iterations completed! (73%)             \rTotal of 74 of 100 iterations completed! (74%)             \rTotal of 75 of 100 iterations completed! (75%)             \rTotal of 76 of 100 iterations completed! (76%)             \rTotal of 77 of 100 iterations completed! (77%)             \rTotal of 78 of 100 iterations completed! (78%)             \rTotal of 79 of 100 iterations completed! (79%)             \rTotal of 80 of 100 iterations completed! (80%)             \rTotal of 81 of 100 iterations completed! (81%)             \rTotal of 82 of 100 iterations completed! (82%)             \rTotal of 83 of 100 iterations completed! (83%)             \rTotal of 84 of 100 iterations completed! (84%)             \rTotal of 85 of 100 iterations completed! (85%)             \rTotal of 86 of 100 iterations completed! (86%)             \rTotal of 87 of 100 iterations completed! (87%)             \rTotal of 88 of 100 iterations completed! (88%)             \rTotal of 89 of 100 iterations completed! (89%)             \rTotal of 90 of 100 iterations completed! (90%)             \rTotal of 91 of 100 iterations completed! (91%)             \rTotal of 92 of 100 iterations completed! (92%)             \rTotal of 93 of 100 iterations completed! (93%)             \rTotal of 94 of 100 iterations completed! (94%)             \rTotal of 95 of 100 iterations completed! (95%)             \rTotal of 96 of 100 iterations completed! (96%)             \rTotal of 97 of 100 iterations completed! (97%)             \rTotal of 98 of 100 iterations completed! (98%)             \rTotal of 99 of 100 iterations completed! (99%)             \rTotal of 100 of 100 iterations completed! (100%)             \rfitting treatment model via method 'bart'\n"
          ]
        },
        {
          "metadata": {
            "tags": null
          },
          "name": "stderr",
          "output_type": "stream",
          "text": [
            "Warning message in bartc(Y[, 1], Z, X, p.scoreAsCovariate = F, n.chains = 1, n.threads = 1, :\n",
            "“for response method 'bart', propensity score not used unless included as covariate”\n"
          ]
        },
        {
          "metadata": {
            "tags": null
          },
          "name": "stdout",
          "output_type": "stream",
          "text": [
            "fitting response model via method 'bart'\n",
            "fitting treatment model via method 'bart'\n"
          ]
        },
        {
          "metadata": {
            "tags": null
          },
          "name": "stderr",
          "output_type": "stream",
          "text": [
            "Warning message in bartc(Y[, 2], Z, X, p.scoreAsCovariate = F, n.chains = 1, n.threads = 1, :\n",
            "“for response method 'bart', propensity score not used unless included as covariate”\n"
          ]
        },
        {
          "metadata": {
            "tags": null
          },
          "name": "stdout",
          "output_type": "stream",
          "text": [
            "fitting response model via method 'bart'\n",
            "\rFinishing iteration 100 of 100"
          ]
        },
        {
          "metadata": {
            "tags": null
          },
          "name": "stderr",
          "output_type": "stream",
          "text": [
            "Warning message in validateXTest(test, attr(x, \"term.labels\"), ncol(x), colnames(x), :\n",
            "“column names of 'test' does not equal that of 'x': 'X1, X2, X3, X4, X5, X6, X7, X8, X9, X10'; match will be made by position”\n"
          ]
        },
        {
          "metadata": {
            "tags": null
          },
          "name": "stdout",
          "output_type": "stream",
          "text": [
            "Total of 1 of 100 iterations completed! (1%)             \rTotal of 2 of 100 iterations completed! (2%)             \rTotal of 3 of 100 iterations completed! (3%)             \rTotal of 4 of 100 iterations completed! (4%)             \rTotal of 5 of 100 iterations completed! (5%)             \rTotal of 6 of 100 iterations completed! (6%)             \rTotal of 7 of 100 iterations completed! (7%)             \rTotal of 8 of 100 iterations completed! (8%)             \rTotal of 9 of 100 iterations completed! (9%)             \rTotal of 10 of 100 iterations completed! (10%)             \rTotal of 11 of 100 iterations completed! (11%)             \rTotal of 12 of 100 iterations completed! (12%)             \rTotal of 13 of 100 iterations completed! (13%)             \rTotal of 14 of 100 iterations completed! (14%)             \rTotal of 15 of 100 iterations completed! (15%)             \rTotal of 16 of 100 iterations completed! (16%)             \rTotal of 17 of 100 iterations completed! (17%)             \rTotal of 18 of 100 iterations completed! (18%)             \rTotal of 19 of 100 iterations completed! (19%)             \rTotal of 20 of 100 iterations completed! (20%)             \rTotal of 21 of 100 iterations completed! (21%)             \rTotal of 22 of 100 iterations completed! (22%)             \rTotal of 23 of 100 iterations completed! (23%)             \rTotal of 24 of 100 iterations completed! (24%)             \rTotal of 25 of 100 iterations completed! (25%)             \rTotal of 26 of 100 iterations completed! (26%)             \rTotal of 27 of 100 iterations completed! (27%)             \rTotal of 28 of 100 iterations completed! (28%)             \rTotal of 29 of 100 iterations completed! (29%)             \rTotal of 30 of 100 iterations completed! (30%)             \rTotal of 31 of 100 iterations completed! (31%)             \rTotal of 32 of 100 iterations completed! (32%)             \rTotal of 33 of 100 iterations completed! (33%)             \rTotal of 34 of 100 iterations completed! (34%)             \rTotal of 35 of 100 iterations completed! (35%)             \rTotal of 36 of 100 iterations completed! (36%)             \rTotal of 37 of 100 iterations completed! (37%)             \rTotal of 38 of 100 iterations completed! (38%)             \rTotal of 39 of 100 iterations completed! (39%)             \rTotal of 40 of 100 iterations completed! (40%)             \rTotal of 41 of 100 iterations completed! (41%)             \rTotal of 42 of 100 iterations completed! (42%)             \rTotal of 43 of 100 iterations completed! (43%)             \rTotal of 44 of 100 iterations completed! (44%)             \rTotal of 45 of 100 iterations completed! (45%)             \rTotal of 46 of 100 iterations completed! (46%)             \rTotal of 47 of 100 iterations completed! (47%)             \rTotal of 48 of 100 iterations completed! (48%)             \rTotal of 49 of 100 iterations completed! (49%)             \rTotal of 50 of 100 iterations completed! (50%)             \rTotal of 51 of 100 iterations completed! (51%)             \rTotal of 52 of 100 iterations completed! (52%)             \rTotal of 53 of 100 iterations completed! (53%)             \rTotal of 54 of 100 iterations completed! (54%)             \rTotal of 55 of 100 iterations completed! (55%)             \rTotal of 56 of 100 iterations completed! (56%)             \rTotal of 57 of 100 iterations completed! (57%)             \rTotal of 58 of 100 iterations completed! (58%)             \rTotal of 59 of 100 iterations completed! (59%)             \rTotal of 60 of 100 iterations completed! (60%)             \rTotal of 61 of 100 iterations completed! (61%)             \rTotal of 62 of 100 iterations completed! (62%)             \rTotal of 63 of 100 iterations completed! (63%)             \rTotal of 64 of 100 iterations completed! (64%)             \rTotal of 65 of 100 iterations completed! (65%)             \rTotal of 66 of 100 iterations completed! (66%)             \rTotal of 67 of 100 iterations completed! (67%)             \rTotal of 68 of 100 iterations completed! (68%)             \rTotal of 69 of 100 iterations completed! (69%)             \rTotal of 70 of 100 iterations completed! (70%)             \rTotal of 71 of 100 iterations completed! (71%)             \rTotal of 72 of 100 iterations completed! (72%)             \rTotal of 73 of 100 iterations completed! (73%)             \rTotal of 74 of 100 iterations completed! (74%)             \rTotal of 75 of 100 iterations completed! (75%)             \rTotal of 76 of 100 iterations completed! (76%)             \rTotal of 77 of 100 iterations completed! (77%)             \rTotal of 78 of 100 iterations completed! (78%)             \rTotal of 79 of 100 iterations completed! (79%)             \rTotal of 80 of 100 iterations completed! (80%)             \rTotal of 81 of 100 iterations completed! (81%)             \rTotal of 82 of 100 iterations completed! (82%)             \rTotal of 83 of 100 iterations completed! (83%)             \rTotal of 84 of 100 iterations completed! (84%)             \rTotal of 85 of 100 iterations completed! (85%)             \rTotal of 86 of 100 iterations completed! (86%)             \rTotal of 87 of 100 iterations completed! (87%)             \rTotal of 88 of 100 iterations completed! (88%)             \rTotal of 89 of 100 iterations completed! (89%)             \rTotal of 90 of 100 iterations completed! (90%)             \rTotal of 91 of 100 iterations completed! (91%)             \rTotal of 92 of 100 iterations completed! (92%)             \rTotal of 93 of 100 iterations completed! (93%)             \rTotal of 94 of 100 iterations completed! (94%)             \rTotal of 95 of 100 iterations completed! (95%)             \rTotal of 96 of 100 iterations completed! (96%)             \rTotal of 97 of 100 iterations completed! (97%)             \rTotal of 98 of 100 iterations completed! (98%)             \rTotal of 99 of 100 iterations completed! (99%)             \rTotal of 100 of 100 iterations completed! (100%)             \rfitting treatment model via method 'bart'\n"
          ]
        },
        {
          "metadata": {
            "tags": null
          },
          "name": "stderr",
          "output_type": "stream",
          "text": [
            "Warning message in bartc(Y[, 1], Z, X, p.scoreAsCovariate = F, n.chains = 1, n.threads = 1, :\n",
            "“for response method 'bart', propensity score not used unless included as covariate”\n"
          ]
        },
        {
          "metadata": {
            "tags": null
          },
          "name": "stdout",
          "output_type": "stream",
          "text": [
            "fitting response model via method 'bart'\n",
            "fitting treatment model via method 'bart'\n"
          ]
        },
        {
          "metadata": {
            "tags": null
          },
          "name": "stderr",
          "output_type": "stream",
          "text": [
            "Warning message in bartc(Y[, 2], Z, X, p.scoreAsCovariate = F, n.chains = 1, n.threads = 1, :\n",
            "“for response method 'bart', propensity score not used unless included as covariate”\n"
          ]
        },
        {
          "metadata": {
            "tags": null
          },
          "name": "stdout",
          "output_type": "stream",
          "text": [
            "fitting response model via method 'bart'\n",
            "\rFinishing iteration 100 of 100"
          ]
        },
        {
          "metadata": {
            "tags": null
          },
          "name": "stderr",
          "output_type": "stream",
          "text": [
            "Warning message in validateXTest(test, attr(x, \"term.labels\"), ncol(x), colnames(x), :\n",
            "“column names of 'test' does not equal that of 'x': 'X1, X2, X3, X4, X5, X6, X7, X8, X9, X10'; match will be made by position”\n"
          ]
        },
        {
          "metadata": {
            "tags": null
          },
          "name": "stdout",
          "output_type": "stream",
          "text": [
            "Total of 1 of 100 iterations completed! (1%)             \rTotal of 2 of 100 iterations completed! (2%)             \rTotal of 3 of 100 iterations completed! (3%)             \rTotal of 4 of 100 iterations completed! (4%)             \rTotal of 5 of 100 iterations completed! (5%)             \rTotal of 6 of 100 iterations completed! (6%)             \rTotal of 7 of 100 iterations completed! (7%)             \rTotal of 8 of 100 iterations completed! (8%)             \rTotal of 9 of 100 iterations completed! (9%)             \rTotal of 10 of 100 iterations completed! (10%)             \rTotal of 11 of 100 iterations completed! (11%)             \rTotal of 12 of 100 iterations completed! (12%)             \rTotal of 13 of 100 iterations completed! (13%)             \rTotal of 14 of 100 iterations completed! (14%)             \rTotal of 15 of 100 iterations completed! (15%)             \rTotal of 16 of 100 iterations completed! (16%)             \rTotal of 17 of 100 iterations completed! (17%)             \rTotal of 18 of 100 iterations completed! (18%)             \rTotal of 19 of 100 iterations completed! (19%)             \rTotal of 20 of 100 iterations completed! (20%)             \rTotal of 21 of 100 iterations completed! (21%)             \rTotal of 22 of 100 iterations completed! (22%)             \rTotal of 23 of 100 iterations completed! (23%)             \rTotal of 24 of 100 iterations completed! (24%)             \rTotal of 25 of 100 iterations completed! (25%)             \rTotal of 26 of 100 iterations completed! (26%)             \rTotal of 27 of 100 iterations completed! (27%)             \rTotal of 28 of 100 iterations completed! (28%)             \rTotal of 29 of 100 iterations completed! (29%)             \rTotal of 30 of 100 iterations completed! (30%)             \rTotal of 31 of 100 iterations completed! (31%)             \rTotal of 32 of 100 iterations completed! (32%)             \rTotal of 33 of 100 iterations completed! (33%)             \rTotal of 34 of 100 iterations completed! (34%)             \rTotal of 35 of 100 iterations completed! (35%)             \rTotal of 36 of 100 iterations completed! (36%)             \rTotal of 37 of 100 iterations completed! (37%)             \rTotal of 38 of 100 iterations completed! (38%)             \rTotal of 39 of 100 iterations completed! (39%)             \rTotal of 40 of 100 iterations completed! (40%)             \rTotal of 41 of 100 iterations completed! (41%)             \rTotal of 42 of 100 iterations completed! (42%)             \rTotal of 43 of 100 iterations completed! (43%)             \rTotal of 44 of 100 iterations completed! (44%)             \rTotal of 45 of 100 iterations completed! (45%)             \rTotal of 46 of 100 iterations completed! (46%)             \rTotal of 47 of 100 iterations completed! (47%)             \rTotal of 48 of 100 iterations completed! (48%)             \rTotal of 49 of 100 iterations completed! (49%)             \rTotal of 50 of 100 iterations completed! (50%)             \rTotal of 51 of 100 iterations completed! (51%)             \rTotal of 52 of 100 iterations completed! (52%)             \rTotal of 53 of 100 iterations completed! (53%)             \rTotal of 54 of 100 iterations completed! (54%)             \rTotal of 55 of 100 iterations completed! (55%)             \rTotal of 56 of 100 iterations completed! (56%)             \rTotal of 57 of 100 iterations completed! (57%)             \rTotal of 58 of 100 iterations completed! (58%)             \rTotal of 59 of 100 iterations completed! (59%)             \rTotal of 60 of 100 iterations completed! (60%)             \rTotal of 61 of 100 iterations completed! (61%)             \rTotal of 62 of 100 iterations completed! (62%)             \rTotal of 63 of 100 iterations completed! (63%)             \rTotal of 64 of 100 iterations completed! (64%)             \rTotal of 65 of 100 iterations completed! (65%)             \rTotal of 66 of 100 iterations completed! (66%)             \rTotal of 67 of 100 iterations completed! (67%)             \rTotal of 68 of 100 iterations completed! (68%)             \rTotal of 69 of 100 iterations completed! (69%)             \rTotal of 70 of 100 iterations completed! (70%)             \rTotal of 71 of 100 iterations completed! (71%)             \rTotal of 72 of 100 iterations completed! (72%)             \rTotal of 73 of 100 iterations completed! (73%)             \rTotal of 74 of 100 iterations completed! (74%)             \rTotal of 75 of 100 iterations completed! (75%)             \rTotal of 76 of 100 iterations completed! (76%)             \rTotal of 77 of 100 iterations completed! (77%)             \rTotal of 78 of 100 iterations completed! (78%)             \rTotal of 79 of 100 iterations completed! (79%)             \rTotal of 80 of 100 iterations completed! (80%)             \rTotal of 81 of 100 iterations completed! (81%)             \rTotal of 82 of 100 iterations completed! (82%)             \rTotal of 83 of 100 iterations completed! (83%)             \rTotal of 84 of 100 iterations completed! (84%)             \rTotal of 85 of 100 iterations completed! (85%)             \rTotal of 86 of 100 iterations completed! (86%)             \rTotal of 87 of 100 iterations completed! (87%)             \rTotal of 88 of 100 iterations completed! (88%)             \rTotal of 89 of 100 iterations completed! (89%)             \rTotal of 90 of 100 iterations completed! (90%)             \rTotal of 91 of 100 iterations completed! (91%)             \rTotal of 92 of 100 iterations completed! (92%)             \rTotal of 93 of 100 iterations completed! (93%)             \rTotal of 94 of 100 iterations completed! (94%)             \rTotal of 95 of 100 iterations completed! (95%)             \rTotal of 96 of 100 iterations completed! (96%)             \rTotal of 97 of 100 iterations completed! (97%)             \rTotal of 98 of 100 iterations completed! (98%)             \rTotal of 99 of 100 iterations completed! (99%)             \rTotal of 100 of 100 iterations completed! (100%)             \rfitting treatment model via method 'bart'\n"
          ]
        },
        {
          "metadata": {
            "tags": null
          },
          "name": "stderr",
          "output_type": "stream",
          "text": [
            "Warning message in bartc(Y[, 1], Z, X, p.scoreAsCovariate = F, n.chains = 1, n.threads = 1, :\n",
            "“for response method 'bart', propensity score not used unless included as covariate”\n"
          ]
        },
        {
          "metadata": {
            "tags": null
          },
          "name": "stdout",
          "output_type": "stream",
          "text": [
            "fitting response model via method 'bart'\n",
            "fitting treatment model via method 'bart'\n"
          ]
        },
        {
          "metadata": {
            "tags": null
          },
          "name": "stderr",
          "output_type": "stream",
          "text": [
            "Warning message in bartc(Y[, 2], Z, X, p.scoreAsCovariate = F, n.chains = 1, n.threads = 1, :\n",
            "“for response method 'bart', propensity score not used unless included as covariate”\n"
          ]
        },
        {
          "metadata": {
            "tags": null
          },
          "name": "stdout",
          "output_type": "stream",
          "text": [
            "fitting response model via method 'bart'\n",
            "\rFinishing iteration 100 of 100"
          ]
        },
        {
          "metadata": {
            "tags": null
          },
          "name": "stderr",
          "output_type": "stream",
          "text": [
            "Warning message in validateXTest(test, attr(x, \"term.labels\"), ncol(x), colnames(x), :\n",
            "“column names of 'test' does not equal that of 'x': 'X1, X2, X3, X4, X5, X6, X7, X8, X9, X10'; match will be made by position”\n"
          ]
        },
        {
          "metadata": {
            "tags": null
          },
          "name": "stdout",
          "output_type": "stream",
          "text": [
            "Total of 1 of 100 iterations completed! (1%)             \rTotal of 2 of 100 iterations completed! (2%)             \rTotal of 3 of 100 iterations completed! (3%)             \rTotal of 4 of 100 iterations completed! (4%)             \rTotal of 5 of 100 iterations completed! (5%)             \rTotal of 6 of 100 iterations completed! (6%)             \rTotal of 7 of 100 iterations completed! (7%)             \rTotal of 8 of 100 iterations completed! (8%)             \rTotal of 9 of 100 iterations completed! (9%)             \rTotal of 10 of 100 iterations completed! (10%)             \rTotal of 11 of 100 iterations completed! (11%)             \rTotal of 12 of 100 iterations completed! (12%)             \rTotal of 13 of 100 iterations completed! (13%)             \rTotal of 14 of 100 iterations completed! (14%)             \rTotal of 15 of 100 iterations completed! (15%)             \rTotal of 16 of 100 iterations completed! (16%)             \rTotal of 17 of 100 iterations completed! (17%)             \rTotal of 18 of 100 iterations completed! (18%)             \rTotal of 19 of 100 iterations completed! (19%)             \rTotal of 20 of 100 iterations completed! (20%)             \rTotal of 21 of 100 iterations completed! (21%)             \rTotal of 22 of 100 iterations completed! (22%)             \rTotal of 23 of 100 iterations completed! (23%)             \rTotal of 24 of 100 iterations completed! (24%)             \rTotal of 25 of 100 iterations completed! (25%)             \rTotal of 26 of 100 iterations completed! (26%)             \rTotal of 27 of 100 iterations completed! (27%)             \rTotal of 28 of 100 iterations completed! (28%)             \rTotal of 29 of 100 iterations completed! (29%)             \rTotal of 30 of 100 iterations completed! (30%)             \rTotal of 31 of 100 iterations completed! (31%)             \rTotal of 32 of 100 iterations completed! (32%)             \rTotal of 33 of 100 iterations completed! (33%)             \rTotal of 34 of 100 iterations completed! (34%)             \rTotal of 35 of 100 iterations completed! (35%)             \rTotal of 36 of 100 iterations completed! (36%)             \rTotal of 37 of 100 iterations completed! (37%)             \rTotal of 38 of 100 iterations completed! (38%)             \rTotal of 39 of 100 iterations completed! (39%)             \rTotal of 40 of 100 iterations completed! (40%)             \rTotal of 41 of 100 iterations completed! (41%)             \rTotal of 42 of 100 iterations completed! (42%)             \rTotal of 43 of 100 iterations completed! (43%)             \rTotal of 44 of 100 iterations completed! (44%)             \rTotal of 45 of 100 iterations completed! (45%)             \rTotal of 46 of 100 iterations completed! (46%)             \rTotal of 47 of 100 iterations completed! (47%)             \rTotal of 48 of 100 iterations completed! (48%)             \rTotal of 49 of 100 iterations completed! (49%)             \rTotal of 50 of 100 iterations completed! (50%)             \rTotal of 51 of 100 iterations completed! (51%)             \rTotal of 52 of 100 iterations completed! (52%)             \rTotal of 53 of 100 iterations completed! (53%)             \rTotal of 54 of 100 iterations completed! (54%)             \rTotal of 55 of 100 iterations completed! (55%)             \rTotal of 56 of 100 iterations completed! (56%)             \rTotal of 57 of 100 iterations completed! (57%)             \rTotal of 58 of 100 iterations completed! (58%)             \rTotal of 59 of 100 iterations completed! (59%)             \rTotal of 60 of 100 iterations completed! (60%)             \rTotal of 61 of 100 iterations completed! (61%)             \rTotal of 62 of 100 iterations completed! (62%)             \rTotal of 63 of 100 iterations completed! (63%)             \rTotal of 64 of 100 iterations completed! (64%)             \rTotal of 65 of 100 iterations completed! (65%)             \rTotal of 66 of 100 iterations completed! (66%)             \rTotal of 67 of 100 iterations completed! (67%)             \rTotal of 68 of 100 iterations completed! (68%)             \rTotal of 69 of 100 iterations completed! (69%)             \rTotal of 70 of 100 iterations completed! (70%)             \rTotal of 71 of 100 iterations completed! (71%)             \rTotal of 72 of 100 iterations completed! (72%)             \rTotal of 73 of 100 iterations completed! (73%)             \rTotal of 74 of 100 iterations completed! (74%)             \rTotal of 75 of 100 iterations completed! (75%)             \rTotal of 76 of 100 iterations completed! (76%)             \rTotal of 77 of 100 iterations completed! (77%)             \rTotal of 78 of 100 iterations completed! (78%)             \rTotal of 79 of 100 iterations completed! (79%)             \rTotal of 80 of 100 iterations completed! (80%)             \rTotal of 81 of 100 iterations completed! (81%)             \rTotal of 82 of 100 iterations completed! (82%)             \rTotal of 83 of 100 iterations completed! (83%)             \rTotal of 84 of 100 iterations completed! (84%)             \rTotal of 85 of 100 iterations completed! (85%)             \rTotal of 86 of 100 iterations completed! (86%)             \rTotal of 87 of 100 iterations completed! (87%)             \rTotal of 88 of 100 iterations completed! (88%)             \rTotal of 89 of 100 iterations completed! (89%)             \rTotal of 90 of 100 iterations completed! (90%)             \rTotal of 91 of 100 iterations completed! (91%)             \rTotal of 92 of 100 iterations completed! (92%)             \rTotal of 93 of 100 iterations completed! (93%)             \rTotal of 94 of 100 iterations completed! (94%)             \rTotal of 95 of 100 iterations completed! (95%)             \rTotal of 96 of 100 iterations completed! (96%)             \rTotal of 97 of 100 iterations completed! (97%)             \rTotal of 98 of 100 iterations completed! (98%)             \rTotal of 99 of 100 iterations completed! (99%)             \rTotal of 100 of 100 iterations completed! (100%)             \rfitting treatment model via method 'bart'\n"
          ]
        },
        {
          "metadata": {
            "tags": null
          },
          "name": "stderr",
          "output_type": "stream",
          "text": [
            "Warning message in bartc(Y[, 1], Z, X, p.scoreAsCovariate = F, n.chains = 1, n.threads = 1, :\n",
            "“for response method 'bart', propensity score not used unless included as covariate”\n"
          ]
        },
        {
          "metadata": {
            "tags": null
          },
          "name": "stdout",
          "output_type": "stream",
          "text": [
            "fitting response model via method 'bart'\n",
            "fitting treatment model via method 'bart'\n"
          ]
        },
        {
          "metadata": {
            "tags": null
          },
          "name": "stderr",
          "output_type": "stream",
          "text": [
            "Warning message in bartc(Y[, 2], Z, X, p.scoreAsCovariate = F, n.chains = 1, n.threads = 1, :\n",
            "“for response method 'bart', propensity score not used unless included as covariate”\n"
          ]
        },
        {
          "metadata": {
            "tags": null
          },
          "name": "stdout",
          "output_type": "stream",
          "text": [
            "fitting response model via method 'bart'\n",
            "\rFinishing iteration 100 of 100"
          ]
        },
        {
          "metadata": {
            "tags": null
          },
          "name": "stderr",
          "output_type": "stream",
          "text": [
            "Warning message in validateXTest(test, attr(x, \"term.labels\"), ncol(x), colnames(x), :\n",
            "“column names of 'test' does not equal that of 'x': 'X1, X2, X3, X4, X5, X6, X7, X8, X9, X10'; match will be made by position”\n"
          ]
        },
        {
          "metadata": {
            "tags": null
          },
          "name": "stdout",
          "output_type": "stream",
          "text": [
            "Total of 1 of 100 iterations completed! (1%)             \rTotal of 2 of 100 iterations completed! (2%)             \rTotal of 3 of 100 iterations completed! (3%)             \rTotal of 4 of 100 iterations completed! (4%)             \rTotal of 5 of 100 iterations completed! (5%)             \rTotal of 6 of 100 iterations completed! (6%)             \rTotal of 7 of 100 iterations completed! (7%)             \rTotal of 8 of 100 iterations completed! (8%)             \rTotal of 9 of 100 iterations completed! (9%)             \rTotal of 10 of 100 iterations completed! (10%)             \rTotal of 11 of 100 iterations completed! (11%)             \rTotal of 12 of 100 iterations completed! (12%)             \rTotal of 13 of 100 iterations completed! (13%)             \rTotal of 14 of 100 iterations completed! (14%)             \rTotal of 15 of 100 iterations completed! (15%)             \rTotal of 16 of 100 iterations completed! (16%)             \rTotal of 17 of 100 iterations completed! (17%)             \rTotal of 18 of 100 iterations completed! (18%)             \rTotal of 19 of 100 iterations completed! (19%)             \rTotal of 20 of 100 iterations completed! (20%)             \rTotal of 21 of 100 iterations completed! (21%)             \rTotal of 22 of 100 iterations completed! (22%)             \rTotal of 23 of 100 iterations completed! (23%)             \rTotal of 24 of 100 iterations completed! (24%)             \rTotal of 25 of 100 iterations completed! (25%)             \rTotal of 26 of 100 iterations completed! (26%)             \rTotal of 27 of 100 iterations completed! (27%)             \rTotal of 28 of 100 iterations completed! (28%)             \rTotal of 29 of 100 iterations completed! (29%)             \rTotal of 30 of 100 iterations completed! (30%)             \rTotal of 31 of 100 iterations completed! (31%)             \rTotal of 32 of 100 iterations completed! (32%)             \rTotal of 33 of 100 iterations completed! (33%)             \rTotal of 34 of 100 iterations completed! (34%)             \rTotal of 35 of 100 iterations completed! (35%)             \rTotal of 36 of 100 iterations completed! (36%)             \rTotal of 37 of 100 iterations completed! (37%)             \rTotal of 38 of 100 iterations completed! (38%)             \rTotal of 39 of 100 iterations completed! (39%)             \rTotal of 40 of 100 iterations completed! (40%)             \rTotal of 41 of 100 iterations completed! (41%)             \rTotal of 42 of 100 iterations completed! (42%)             \rTotal of 43 of 100 iterations completed! (43%)             \rTotal of 44 of 100 iterations completed! (44%)             \rTotal of 45 of 100 iterations completed! (45%)             \rTotal of 46 of 100 iterations completed! (46%)             \rTotal of 47 of 100 iterations completed! (47%)             \rTotal of 48 of 100 iterations completed! (48%)             \rTotal of 49 of 100 iterations completed! (49%)             \rTotal of 50 of 100 iterations completed! (50%)             \rTotal of 51 of 100 iterations completed! (51%)             \rTotal of 52 of 100 iterations completed! (52%)             \rTotal of 53 of 100 iterations completed! (53%)             \rTotal of 54 of 100 iterations completed! (54%)             \rTotal of 55 of 100 iterations completed! (55%)             \rTotal of 56 of 100 iterations completed! (56%)             \rTotal of 57 of 100 iterations completed! (57%)             \rTotal of 58 of 100 iterations completed! (58%)             \rTotal of 59 of 100 iterations completed! (59%)             \rTotal of 60 of 100 iterations completed! (60%)             \rTotal of 61 of 100 iterations completed! (61%)             \rTotal of 62 of 100 iterations completed! (62%)             \rTotal of 63 of 100 iterations completed! (63%)             \rTotal of 64 of 100 iterations completed! (64%)             \rTotal of 65 of 100 iterations completed! (65%)             \rTotal of 66 of 100 iterations completed! (66%)             \rTotal of 67 of 100 iterations completed! (67%)             \rTotal of 68 of 100 iterations completed! (68%)             \rTotal of 69 of 100 iterations completed! (69%)             \rTotal of 70 of 100 iterations completed! (70%)             \rTotal of 71 of 100 iterations completed! (71%)             \rTotal of 72 of 100 iterations completed! (72%)             \rTotal of 73 of 100 iterations completed! (73%)             \rTotal of 74 of 100 iterations completed! (74%)             \rTotal of 75 of 100 iterations completed! (75%)             \rTotal of 76 of 100 iterations completed! (76%)             \rTotal of 77 of 100 iterations completed! (77%)             \rTotal of 78 of 100 iterations completed! (78%)             \rTotal of 79 of 100 iterations completed! (79%)             \rTotal of 80 of 100 iterations completed! (80%)             \rTotal of 81 of 100 iterations completed! (81%)             \rTotal of 82 of 100 iterations completed! (82%)             \rTotal of 83 of 100 iterations completed! (83%)             \rTotal of 84 of 100 iterations completed! (84%)             \rTotal of 85 of 100 iterations completed! (85%)             \rTotal of 86 of 100 iterations completed! (86%)             \rTotal of 87 of 100 iterations completed! (87%)             \rTotal of 88 of 100 iterations completed! (88%)             \rTotal of 89 of 100 iterations completed! (89%)             \rTotal of 90 of 100 iterations completed! (90%)             \rTotal of 91 of 100 iterations completed! (91%)             \rTotal of 92 of 100 iterations completed! (92%)             \rTotal of 93 of 100 iterations completed! (93%)             \rTotal of 94 of 100 iterations completed! (94%)             \rTotal of 95 of 100 iterations completed! (95%)             \rTotal of 96 of 100 iterations completed! (96%)             \rTotal of 97 of 100 iterations completed! (97%)             \rTotal of 98 of 100 iterations completed! (98%)             \rTotal of 99 of 100 iterations completed! (99%)             \rTotal of 100 of 100 iterations completed! (100%)             \rfitting treatment model via method 'bart'\n"
          ]
        },
        {
          "metadata": {
            "tags": null
          },
          "name": "stderr",
          "output_type": "stream",
          "text": [
            "Warning message in bartc(Y[, 1], Z, X, p.scoreAsCovariate = F, n.chains = 1, n.threads = 1, :\n",
            "“for response method 'bart', propensity score not used unless included as covariate”\n"
          ]
        },
        {
          "metadata": {
            "tags": null
          },
          "name": "stdout",
          "output_type": "stream",
          "text": [
            "fitting response model via method 'bart'\n",
            "fitting treatment model via method 'bart'\n"
          ]
        },
        {
          "metadata": {
            "tags": null
          },
          "name": "stderr",
          "output_type": "stream",
          "text": [
            "Warning message in bartc(Y[, 2], Z, X, p.scoreAsCovariate = F, n.chains = 1, n.threads = 1, :\n",
            "“for response method 'bart', propensity score not used unless included as covariate”\n"
          ]
        },
        {
          "metadata": {
            "tags": null
          },
          "name": "stdout",
          "output_type": "stream",
          "text": [
            "fitting response model via method 'bart'\n",
            "\rFinishing iteration 100 of 100"
          ]
        },
        {
          "metadata": {
            "tags": null
          },
          "name": "stderr",
          "output_type": "stream",
          "text": [
            "Warning message in validateXTest(test, attr(x, \"term.labels\"), ncol(x), colnames(x), :\n",
            "“column names of 'test' does not equal that of 'x': 'X1, X2, X3, X4, X5, X6, X7, X8, X9, X10'; match will be made by position”\n"
          ]
        },
        {
          "metadata": {
            "tags": null
          },
          "name": "stdout",
          "output_type": "stream",
          "text": [
            "Total of 1 of 100 iterations completed! (1%)             \rTotal of 2 of 100 iterations completed! (2%)             \rTotal of 3 of 100 iterations completed! (3%)             \rTotal of 4 of 100 iterations completed! (4%)             \rTotal of 5 of 100 iterations completed! (5%)             \rTotal of 6 of 100 iterations completed! (6%)             \rTotal of 7 of 100 iterations completed! (7%)             \rTotal of 8 of 100 iterations completed! (8%)             \rTotal of 9 of 100 iterations completed! (9%)             \rTotal of 10 of 100 iterations completed! (10%)             \rTotal of 11 of 100 iterations completed! (11%)             \rTotal of 12 of 100 iterations completed! (12%)             \rTotal of 13 of 100 iterations completed! (13%)             \rTotal of 14 of 100 iterations completed! (14%)             \rTotal of 15 of 100 iterations completed! (15%)             \rTotal of 16 of 100 iterations completed! (16%)             \rTotal of 17 of 100 iterations completed! (17%)             \rTotal of 18 of 100 iterations completed! (18%)             \rTotal of 19 of 100 iterations completed! (19%)             \rTotal of 20 of 100 iterations completed! (20%)             \rTotal of 21 of 100 iterations completed! (21%)             \rTotal of 22 of 100 iterations completed! (22%)             \rTotal of 23 of 100 iterations completed! (23%)             \rTotal of 24 of 100 iterations completed! (24%)             \rTotal of 25 of 100 iterations completed! (25%)             \rTotal of 26 of 100 iterations completed! (26%)             \rTotal of 27 of 100 iterations completed! (27%)             \rTotal of 28 of 100 iterations completed! (28%)             \rTotal of 29 of 100 iterations completed! (29%)             \rTotal of 30 of 100 iterations completed! (30%)             \rTotal of 31 of 100 iterations completed! (31%)             \rTotal of 32 of 100 iterations completed! (32%)             \rTotal of 33 of 100 iterations completed! (33%)             \rTotal of 34 of 100 iterations completed! (34%)             \rTotal of 35 of 100 iterations completed! (35%)             \rTotal of 36 of 100 iterations completed! (36%)             \rTotal of 37 of 100 iterations completed! (37%)             \rTotal of 38 of 100 iterations completed! (38%)             \rTotal of 39 of 100 iterations completed! (39%)             \rTotal of 40 of 100 iterations completed! (40%)             \rTotal of 41 of 100 iterations completed! (41%)             \rTotal of 42 of 100 iterations completed! (42%)             \rTotal of 43 of 100 iterations completed! (43%)             \rTotal of 44 of 100 iterations completed! (44%)             \rTotal of 45 of 100 iterations completed! (45%)             \rTotal of 46 of 100 iterations completed! (46%)             \rTotal of 47 of 100 iterations completed! (47%)             \rTotal of 48 of 100 iterations completed! (48%)             \rTotal of 49 of 100 iterations completed! (49%)             \rTotal of 50 of 100 iterations completed! (50%)             \rTotal of 51 of 100 iterations completed! (51%)             \rTotal of 52 of 100 iterations completed! (52%)             \rTotal of 53 of 100 iterations completed! (53%)             \rTotal of 54 of 100 iterations completed! (54%)             \rTotal of 55 of 100 iterations completed! (55%)             \rTotal of 56 of 100 iterations completed! (56%)             \rTotal of 57 of 100 iterations completed! (57%)             \rTotal of 58 of 100 iterations completed! (58%)             \rTotal of 59 of 100 iterations completed! (59%)             \rTotal of 60 of 100 iterations completed! (60%)             \rTotal of 61 of 100 iterations completed! (61%)             \rTotal of 62 of 100 iterations completed! (62%)             \rTotal of 63 of 100 iterations completed! (63%)             \rTotal of 64 of 100 iterations completed! (64%)             \rTotal of 65 of 100 iterations completed! (65%)             \rTotal of 66 of 100 iterations completed! (66%)             \rTotal of 67 of 100 iterations completed! (67%)             \rTotal of 68 of 100 iterations completed! (68%)             \rTotal of 69 of 100 iterations completed! (69%)             \rTotal of 70 of 100 iterations completed! (70%)             \rTotal of 71 of 100 iterations completed! (71%)             \rTotal of 72 of 100 iterations completed! (72%)             \rTotal of 73 of 100 iterations completed! (73%)             \rTotal of 74 of 100 iterations completed! (74%)             \rTotal of 75 of 100 iterations completed! (75%)             \rTotal of 76 of 100 iterations completed! (76%)             \rTotal of 77 of 100 iterations completed! (77%)             \rTotal of 78 of 100 iterations completed! (78%)             \rTotal of 79 of 100 iterations completed! (79%)             \rTotal of 80 of 100 iterations completed! (80%)             \rTotal of 81 of 100 iterations completed! (81%)             \rTotal of 82 of 100 iterations completed! (82%)             \rTotal of 83 of 100 iterations completed! (83%)             \rTotal of 84 of 100 iterations completed! (84%)             \rTotal of 85 of 100 iterations completed! (85%)             \rTotal of 86 of 100 iterations completed! (86%)             \rTotal of 87 of 100 iterations completed! (87%)             \rTotal of 88 of 100 iterations completed! (88%)             \rTotal of 89 of 100 iterations completed! (89%)             \rTotal of 90 of 100 iterations completed! (90%)             \rTotal of 91 of 100 iterations completed! (91%)             \rTotal of 92 of 100 iterations completed! (92%)             \rTotal of 93 of 100 iterations completed! (93%)             \rTotal of 94 of 100 iterations completed! (94%)             \rTotal of 95 of 100 iterations completed! (95%)             \rTotal of 96 of 100 iterations completed! (96%)             \rTotal of 97 of 100 iterations completed! (97%)             \rTotal of 98 of 100 iterations completed! (98%)             \rTotal of 99 of 100 iterations completed! (99%)             \rTotal of 100 of 100 iterations completed! (100%)             \rfitting treatment model via method 'bart'\n"
          ]
        },
        {
          "metadata": {
            "tags": null
          },
          "name": "stderr",
          "output_type": "stream",
          "text": [
            "Warning message in bartc(Y[, 1], Z, X, p.scoreAsCovariate = F, n.chains = 1, n.threads = 1, :\n",
            "“for response method 'bart', propensity score not used unless included as covariate”\n"
          ]
        },
        {
          "metadata": {
            "tags": null
          },
          "name": "stdout",
          "output_type": "stream",
          "text": [
            "fitting response model via method 'bart'\n",
            "fitting treatment model via method 'bart'\n"
          ]
        },
        {
          "metadata": {
            "tags": null
          },
          "name": "stderr",
          "output_type": "stream",
          "text": [
            "Warning message in bartc(Y[, 2], Z, X, p.scoreAsCovariate = F, n.chains = 1, n.threads = 1, :\n",
            "“for response method 'bart', propensity score not used unless included as covariate”\n"
          ]
        },
        {
          "metadata": {
            "tags": null
          },
          "name": "stdout",
          "output_type": "stream",
          "text": [
            "fitting response model via method 'bart'\n",
            "\rFinishing iteration 100 of 100"
          ]
        },
        {
          "metadata": {
            "tags": null
          },
          "name": "stderr",
          "output_type": "stream",
          "text": [
            "Warning message in validateXTest(test, attr(x, \"term.labels\"), ncol(x), colnames(x), :\n",
            "“column names of 'test' does not equal that of 'x': 'X1, X2, X3, X4, X5, X6, X7, X8, X9, X10'; match will be made by position”\n"
          ]
        },
        {
          "metadata": {
            "tags": null
          },
          "name": "stdout",
          "output_type": "stream",
          "text": [
            "Total of 1 of 100 iterations completed! (1%)             \rTotal of 2 of 100 iterations completed! (2%)             \rTotal of 3 of 100 iterations completed! (3%)             \rTotal of 4 of 100 iterations completed! (4%)             \rTotal of 5 of 100 iterations completed! (5%)             \rTotal of 6 of 100 iterations completed! (6%)             \rTotal of 7 of 100 iterations completed! (7%)             \rTotal of 8 of 100 iterations completed! (8%)             \rTotal of 9 of 100 iterations completed! (9%)             \rTotal of 10 of 100 iterations completed! (10%)             \rTotal of 11 of 100 iterations completed! (11%)             \rTotal of 12 of 100 iterations completed! (12%)             \rTotal of 13 of 100 iterations completed! (13%)             \rTotal of 14 of 100 iterations completed! (14%)             \rTotal of 15 of 100 iterations completed! (15%)             \rTotal of 16 of 100 iterations completed! (16%)             \rTotal of 17 of 100 iterations completed! (17%)             \rTotal of 18 of 100 iterations completed! (18%)             \rTotal of 19 of 100 iterations completed! (19%)             \rTotal of 20 of 100 iterations completed! (20%)             \rTotal of 21 of 100 iterations completed! (21%)             \rTotal of 22 of 100 iterations completed! (22%)             \rTotal of 23 of 100 iterations completed! (23%)             \rTotal of 24 of 100 iterations completed! (24%)             \rTotal of 25 of 100 iterations completed! (25%)             \rTotal of 26 of 100 iterations completed! (26%)             \rTotal of 27 of 100 iterations completed! (27%)             \rTotal of 28 of 100 iterations completed! (28%)             \rTotal of 29 of 100 iterations completed! (29%)             \rTotal of 30 of 100 iterations completed! (30%)             \rTotal of 31 of 100 iterations completed! (31%)             \rTotal of 32 of 100 iterations completed! (32%)             \rTotal of 33 of 100 iterations completed! (33%)             \rTotal of 34 of 100 iterations completed! (34%)             \rTotal of 35 of 100 iterations completed! (35%)             \rTotal of 36 of 100 iterations completed! (36%)             \rTotal of 37 of 100 iterations completed! (37%)             \rTotal of 38 of 100 iterations completed! (38%)             \rTotal of 39 of 100 iterations completed! (39%)             \rTotal of 40 of 100 iterations completed! (40%)             \rTotal of 41 of 100 iterations completed! (41%)             \rTotal of 42 of 100 iterations completed! (42%)             \rTotal of 43 of 100 iterations completed! (43%)             \rTotal of 44 of 100 iterations completed! (44%)             \rTotal of 45 of 100 iterations completed! (45%)             \rTotal of 46 of 100 iterations completed! (46%)             \rTotal of 47 of 100 iterations completed! (47%)             \rTotal of 48 of 100 iterations completed! (48%)             \rTotal of 49 of 100 iterations completed! (49%)             \rTotal of 50 of 100 iterations completed! (50%)             \rTotal of 51 of 100 iterations completed! (51%)             \rTotal of 52 of 100 iterations completed! (52%)             \rTotal of 53 of 100 iterations completed! (53%)             \rTotal of 54 of 100 iterations completed! (54%)             \rTotal of 55 of 100 iterations completed! (55%)             \rTotal of 56 of 100 iterations completed! (56%)             \rTotal of 57 of 100 iterations completed! (57%)             \rTotal of 58 of 100 iterations completed! (58%)             \rTotal of 59 of 100 iterations completed! (59%)             \rTotal of 60 of 100 iterations completed! (60%)             \rTotal of 61 of 100 iterations completed! (61%)             \rTotal of 62 of 100 iterations completed! (62%)             \rTotal of 63 of 100 iterations completed! (63%)             \rTotal of 64 of 100 iterations completed! (64%)             \rTotal of 65 of 100 iterations completed! (65%)             \rTotal of 66 of 100 iterations completed! (66%)             \rTotal of 67 of 100 iterations completed! (67%)             \rTotal of 68 of 100 iterations completed! (68%)             \rTotal of 69 of 100 iterations completed! (69%)             \rTotal of 70 of 100 iterations completed! (70%)             \rTotal of 71 of 100 iterations completed! (71%)             \rTotal of 72 of 100 iterations completed! (72%)             \rTotal of 73 of 100 iterations completed! (73%)             \rTotal of 74 of 100 iterations completed! (74%)             \rTotal of 75 of 100 iterations completed! (75%)             \rTotal of 76 of 100 iterations completed! (76%)             \rTotal of 77 of 100 iterations completed! (77%)             \rTotal of 78 of 100 iterations completed! (78%)             \rTotal of 79 of 100 iterations completed! (79%)             \rTotal of 80 of 100 iterations completed! (80%)             \rTotal of 81 of 100 iterations completed! (81%)             \rTotal of 82 of 100 iterations completed! (82%)             \rTotal of 83 of 100 iterations completed! (83%)             \rTotal of 84 of 100 iterations completed! (84%)             \rTotal of 85 of 100 iterations completed! (85%)             \rTotal of 86 of 100 iterations completed! (86%)             \rTotal of 87 of 100 iterations completed! (87%)             \rTotal of 88 of 100 iterations completed! (88%)             \rTotal of 89 of 100 iterations completed! (89%)             \rTotal of 90 of 100 iterations completed! (90%)             \rTotal of 91 of 100 iterations completed! (91%)             \rTotal of 92 of 100 iterations completed! (92%)             \rTotal of 93 of 100 iterations completed! (93%)             \rTotal of 94 of 100 iterations completed! (94%)             \rTotal of 95 of 100 iterations completed! (95%)             \rTotal of 96 of 100 iterations completed! (96%)             \rTotal of 97 of 100 iterations completed! (97%)             \rTotal of 98 of 100 iterations completed! (98%)             \rTotal of 99 of 100 iterations completed! (99%)             \rTotal of 100 of 100 iterations completed! (100%)             \rfitting treatment model via method 'bart'\n"
          ]
        },
        {
          "metadata": {
            "tags": null
          },
          "name": "stderr",
          "output_type": "stream",
          "text": [
            "Warning message in bartc(Y[, 1], Z, X, p.scoreAsCovariate = F, n.chains = 1, n.threads = 1, :\n",
            "“for response method 'bart', propensity score not used unless included as covariate”\n"
          ]
        },
        {
          "metadata": {
            "tags": null
          },
          "name": "stdout",
          "output_type": "stream",
          "text": [
            "fitting response model via method 'bart'\n",
            "fitting treatment model via method 'bart'\n"
          ]
        },
        {
          "metadata": {
            "tags": null
          },
          "name": "stderr",
          "output_type": "stream",
          "text": [
            "Warning message in bartc(Y[, 2], Z, X, p.scoreAsCovariate = F, n.chains = 1, n.threads = 1, :\n",
            "“for response method 'bart', propensity score not used unless included as covariate”\n"
          ]
        },
        {
          "metadata": {
            "tags": null
          },
          "name": "stdout",
          "output_type": "stream",
          "text": [
            "fitting response model via method 'bart'\n",
            "\rFinishing iteration 100 of 100"
          ]
        },
        {
          "metadata": {
            "tags": null
          },
          "name": "stderr",
          "output_type": "stream",
          "text": [
            "Warning message in validateXTest(test, attr(x, \"term.labels\"), ncol(x), colnames(x), :\n",
            "“column names of 'test' does not equal that of 'x': 'X1, X2, X3, X4, X5, X6, X7, X8, X9, X10'; match will be made by position”\n"
          ]
        },
        {
          "metadata": {
            "tags": null
          },
          "name": "stdout",
          "output_type": "stream",
          "text": [
            "Total of 1 of 100 iterations completed! (1%)             \rTotal of 2 of 100 iterations completed! (2%)             \rTotal of 3 of 100 iterations completed! (3%)             \rTotal of 4 of 100 iterations completed! (4%)             \rTotal of 5 of 100 iterations completed! (5%)             \rTotal of 6 of 100 iterations completed! (6%)             \rTotal of 7 of 100 iterations completed! (7%)             \rTotal of 8 of 100 iterations completed! (8%)             \rTotal of 9 of 100 iterations completed! (9%)             \rTotal of 10 of 100 iterations completed! (10%)             \rTotal of 11 of 100 iterations completed! (11%)             \rTotal of 12 of 100 iterations completed! (12%)             \rTotal of 13 of 100 iterations completed! (13%)             \rTotal of 14 of 100 iterations completed! (14%)             \rTotal of 15 of 100 iterations completed! (15%)             \rTotal of 16 of 100 iterations completed! (16%)             \rTotal of 17 of 100 iterations completed! (17%)             \rTotal of 18 of 100 iterations completed! (18%)             \rTotal of 19 of 100 iterations completed! (19%)             \rTotal of 20 of 100 iterations completed! (20%)             \rTotal of 21 of 100 iterations completed! (21%)             \rTotal of 22 of 100 iterations completed! (22%)             \rTotal of 23 of 100 iterations completed! (23%)             \rTotal of 24 of 100 iterations completed! (24%)             \rTotal of 25 of 100 iterations completed! (25%)             \rTotal of 26 of 100 iterations completed! (26%)             \rTotal of 27 of 100 iterations completed! (27%)             \rTotal of 28 of 100 iterations completed! (28%)             \rTotal of 29 of 100 iterations completed! (29%)             \rTotal of 30 of 100 iterations completed! (30%)             \rTotal of 31 of 100 iterations completed! (31%)             \rTotal of 32 of 100 iterations completed! (32%)             \rTotal of 33 of 100 iterations completed! (33%)             \rTotal of 34 of 100 iterations completed! (34%)             \rTotal of 35 of 100 iterations completed! (35%)             \rTotal of 36 of 100 iterations completed! (36%)             \rTotal of 37 of 100 iterations completed! (37%)             \rTotal of 38 of 100 iterations completed! (38%)             \rTotal of 39 of 100 iterations completed! (39%)             \rTotal of 40 of 100 iterations completed! (40%)             \rTotal of 41 of 100 iterations completed! (41%)             \rTotal of 42 of 100 iterations completed! (42%)             \rTotal of 43 of 100 iterations completed! (43%)             \rTotal of 44 of 100 iterations completed! (44%)             \rTotal of 45 of 100 iterations completed! (45%)             \rTotal of 46 of 100 iterations completed! (46%)             \rTotal of 47 of 100 iterations completed! (47%)             \rTotal of 48 of 100 iterations completed! (48%)             \rTotal of 49 of 100 iterations completed! (49%)             \rTotal of 50 of 100 iterations completed! (50%)             \rTotal of 51 of 100 iterations completed! (51%)             \rTotal of 52 of 100 iterations completed! (52%)             \rTotal of 53 of 100 iterations completed! (53%)             \rTotal of 54 of 100 iterations completed! (54%)             \rTotal of 55 of 100 iterations completed! (55%)             \rTotal of 56 of 100 iterations completed! (56%)             \rTotal of 57 of 100 iterations completed! (57%)             \rTotal of 58 of 100 iterations completed! (58%)             \rTotal of 59 of 100 iterations completed! (59%)             \rTotal of 60 of 100 iterations completed! (60%)             \rTotal of 61 of 100 iterations completed! (61%)             \rTotal of 62 of 100 iterations completed! (62%)             \rTotal of 63 of 100 iterations completed! (63%)             \rTotal of 64 of 100 iterations completed! (64%)             \rTotal of 65 of 100 iterations completed! (65%)             \rTotal of 66 of 100 iterations completed! (66%)             \rTotal of 67 of 100 iterations completed! (67%)             \rTotal of 68 of 100 iterations completed! (68%)             \rTotal of 69 of 100 iterations completed! (69%)             \rTotal of 70 of 100 iterations completed! (70%)             \rTotal of 71 of 100 iterations completed! (71%)             \rTotal of 72 of 100 iterations completed! (72%)             \rTotal of 73 of 100 iterations completed! (73%)             \rTotal of 74 of 100 iterations completed! (74%)             \rTotal of 75 of 100 iterations completed! (75%)             \rTotal of 76 of 100 iterations completed! (76%)             \rTotal of 77 of 100 iterations completed! (77%)             \rTotal of 78 of 100 iterations completed! (78%)             \rTotal of 79 of 100 iterations completed! (79%)             \rTotal of 80 of 100 iterations completed! (80%)             \rTotal of 81 of 100 iterations completed! (81%)             \rTotal of 82 of 100 iterations completed! (82%)             \rTotal of 83 of 100 iterations completed! (83%)             \rTotal of 84 of 100 iterations completed! (84%)             \rTotal of 85 of 100 iterations completed! (85%)             \rTotal of 86 of 100 iterations completed! (86%)             \rTotal of 87 of 100 iterations completed! (87%)             \rTotal of 88 of 100 iterations completed! (88%)             \rTotal of 89 of 100 iterations completed! (89%)             \rTotal of 90 of 100 iterations completed! (90%)             \rTotal of 91 of 100 iterations completed! (91%)             \rTotal of 92 of 100 iterations completed! (92%)             \rTotal of 93 of 100 iterations completed! (93%)             \rTotal of 94 of 100 iterations completed! (94%)             \rTotal of 95 of 100 iterations completed! (95%)             \rTotal of 96 of 100 iterations completed! (96%)             \rTotal of 97 of 100 iterations completed! (97%)             \rTotal of 98 of 100 iterations completed! (98%)             \rTotal of 99 of 100 iterations completed! (99%)             \rTotal of 100 of 100 iterations completed! (100%)             \rfitting treatment model via method 'bart'\n"
          ]
        },
        {
          "metadata": {
            "tags": null
          },
          "name": "stderr",
          "output_type": "stream",
          "text": [
            "Warning message in bartc(Y[, 1], Z, X, p.scoreAsCovariate = F, n.chains = 1, n.threads = 1, :\n",
            "“for response method 'bart', propensity score not used unless included as covariate”\n"
          ]
        },
        {
          "metadata": {
            "tags": null
          },
          "name": "stdout",
          "output_type": "stream",
          "text": [
            "fitting response model via method 'bart'\n",
            "fitting treatment model via method 'bart'\n"
          ]
        },
        {
          "metadata": {
            "tags": null
          },
          "name": "stderr",
          "output_type": "stream",
          "text": [
            "Warning message in bartc(Y[, 2], Z, X, p.scoreAsCovariate = F, n.chains = 1, n.threads = 1, :\n",
            "“for response method 'bart', propensity score not used unless included as covariate”\n"
          ]
        },
        {
          "metadata": {
            "tags": null
          },
          "name": "stdout",
          "output_type": "stream",
          "text": [
            "fitting response model via method 'bart'\n",
            "\rFinishing iteration 100 of 100"
          ]
        },
        {
          "metadata": {
            "tags": null
          },
          "name": "stderr",
          "output_type": "stream",
          "text": [
            "Warning message in validateXTest(test, attr(x, \"term.labels\"), ncol(x), colnames(x), :\n",
            "“column names of 'test' does not equal that of 'x': 'X1, X2, X3, X4, X5, X6, X7, X8, X9, X10'; match will be made by position”\n"
          ]
        },
        {
          "metadata": {
            "tags": null
          },
          "name": "stdout",
          "output_type": "stream",
          "text": [
            "Total of 1 of 100 iterations completed! (1%)             \rTotal of 2 of 100 iterations completed! (2%)             \rTotal of 3 of 100 iterations completed! (3%)             \rTotal of 4 of 100 iterations completed! (4%)             \rTotal of 5 of 100 iterations completed! (5%)             \rTotal of 6 of 100 iterations completed! (6%)             \rTotal of 7 of 100 iterations completed! (7%)             \rTotal of 8 of 100 iterations completed! (8%)             \rTotal of 9 of 100 iterations completed! (9%)             \rTotal of 10 of 100 iterations completed! (10%)             \rTotal of 11 of 100 iterations completed! (11%)             \rTotal of 12 of 100 iterations completed! (12%)             \rTotal of 13 of 100 iterations completed! (13%)             \rTotal of 14 of 100 iterations completed! (14%)             \rTotal of 15 of 100 iterations completed! (15%)             \rTotal of 16 of 100 iterations completed! (16%)             \rTotal of 17 of 100 iterations completed! (17%)             \rTotal of 18 of 100 iterations completed! (18%)             \rTotal of 19 of 100 iterations completed! (19%)             \rTotal of 20 of 100 iterations completed! (20%)             \rTotal of 21 of 100 iterations completed! (21%)             \rTotal of 22 of 100 iterations completed! (22%)             \rTotal of 23 of 100 iterations completed! (23%)             \rTotal of 24 of 100 iterations completed! (24%)             \rTotal of 25 of 100 iterations completed! (25%)             \rTotal of 26 of 100 iterations completed! (26%)             \rTotal of 27 of 100 iterations completed! (27%)             \rTotal of 28 of 100 iterations completed! (28%)             \rTotal of 29 of 100 iterations completed! (29%)             \rTotal of 30 of 100 iterations completed! (30%)             \rTotal of 31 of 100 iterations completed! (31%)             \rTotal of 32 of 100 iterations completed! (32%)             \rTotal of 33 of 100 iterations completed! (33%)             \rTotal of 34 of 100 iterations completed! (34%)             \rTotal of 35 of 100 iterations completed! (35%)             \rTotal of 36 of 100 iterations completed! (36%)             \rTotal of 37 of 100 iterations completed! (37%)             \rTotal of 38 of 100 iterations completed! (38%)             \rTotal of 39 of 100 iterations completed! (39%)             \rTotal of 40 of 100 iterations completed! (40%)             \rTotal of 41 of 100 iterations completed! (41%)             \rTotal of 42 of 100 iterations completed! (42%)             \rTotal of 43 of 100 iterations completed! (43%)             \rTotal of 44 of 100 iterations completed! (44%)             \rTotal of 45 of 100 iterations completed! (45%)             \rTotal of 46 of 100 iterations completed! (46%)             \rTotal of 47 of 100 iterations completed! (47%)             \rTotal of 48 of 100 iterations completed! (48%)             \rTotal of 49 of 100 iterations completed! (49%)             \rTotal of 50 of 100 iterations completed! (50%)             \rTotal of 51 of 100 iterations completed! (51%)             \rTotal of 52 of 100 iterations completed! (52%)             \rTotal of 53 of 100 iterations completed! (53%)             \rTotal of 54 of 100 iterations completed! (54%)             \rTotal of 55 of 100 iterations completed! (55%)             \rTotal of 56 of 100 iterations completed! (56%)             \rTotal of 57 of 100 iterations completed! (57%)             \rTotal of 58 of 100 iterations completed! (58%)             \rTotal of 59 of 100 iterations completed! (59%)             \rTotal of 60 of 100 iterations completed! (60%)             \rTotal of 61 of 100 iterations completed! (61%)             \rTotal of 62 of 100 iterations completed! (62%)             \rTotal of 63 of 100 iterations completed! (63%)             \rTotal of 64 of 100 iterations completed! (64%)             \rTotal of 65 of 100 iterations completed! (65%)             \rTotal of 66 of 100 iterations completed! (66%)             \rTotal of 67 of 100 iterations completed! (67%)             \rTotal of 68 of 100 iterations completed! (68%)             \rTotal of 69 of 100 iterations completed! (69%)             \rTotal of 70 of 100 iterations completed! (70%)             \rTotal of 71 of 100 iterations completed! (71%)             \rTotal of 72 of 100 iterations completed! (72%)             \rTotal of 73 of 100 iterations completed! (73%)             \rTotal of 74 of 100 iterations completed! (74%)             \rTotal of 75 of 100 iterations completed! (75%)             \rTotal of 76 of 100 iterations completed! (76%)             \rTotal of 77 of 100 iterations completed! (77%)             \rTotal of 78 of 100 iterations completed! (78%)             \rTotal of 79 of 100 iterations completed! (79%)             \rTotal of 80 of 100 iterations completed! (80%)             \rTotal of 81 of 100 iterations completed! (81%)             \rTotal of 82 of 100 iterations completed! (82%)             \rTotal of 83 of 100 iterations completed! (83%)             \rTotal of 84 of 100 iterations completed! (84%)             \rTotal of 85 of 100 iterations completed! (85%)             \rTotal of 86 of 100 iterations completed! (86%)             \rTotal of 87 of 100 iterations completed! (87%)             \rTotal of 88 of 100 iterations completed! (88%)             \rTotal of 89 of 100 iterations completed! (89%)             \rTotal of 90 of 100 iterations completed! (90%)             \rTotal of 91 of 100 iterations completed! (91%)             \rTotal of 92 of 100 iterations completed! (92%)             \rTotal of 93 of 100 iterations completed! (93%)             \rTotal of 94 of 100 iterations completed! (94%)             \rTotal of 95 of 100 iterations completed! (95%)             \rTotal of 96 of 100 iterations completed! (96%)             \rTotal of 97 of 100 iterations completed! (97%)             \rTotal of 98 of 100 iterations completed! (98%)             \rTotal of 99 of 100 iterations completed! (99%)             \rTotal of 100 of 100 iterations completed! (100%)             \rfitting treatment model via method 'bart'\n"
          ]
        },
        {
          "metadata": {
            "tags": null
          },
          "name": "stderr",
          "output_type": "stream",
          "text": [
            "Warning message in bartc(Y[, 1], Z, X, p.scoreAsCovariate = F, n.chains = 1, n.threads = 1, :\n",
            "“for response method 'bart', propensity score not used unless included as covariate”\n"
          ]
        },
        {
          "metadata": {
            "tags": null
          },
          "name": "stdout",
          "output_type": "stream",
          "text": [
            "fitting response model via method 'bart'\n",
            "fitting treatment model via method 'bart'\n"
          ]
        },
        {
          "metadata": {
            "tags": null
          },
          "name": "stderr",
          "output_type": "stream",
          "text": [
            "Warning message in bartc(Y[, 2], Z, X, p.scoreAsCovariate = F, n.chains = 1, n.threads = 1, :\n",
            "“for response method 'bart', propensity score not used unless included as covariate”\n"
          ]
        },
        {
          "metadata": {
            "tags": null
          },
          "name": "stdout",
          "output_type": "stream",
          "text": [
            "fitting response model via method 'bart'\n",
            "\rFinishing iteration 100 of 100\n",
            "After 20 simulations:\n",
            "Comparison 1: Power = 0.4056, p-value = 0.8788, adjusted p-value = 0.9839\n",
            "Comparison 2: Power = 0.4592, p-value = 0.0505, adjusted p-value = 0.2019\n",
            "Comparison 3: Power = 0.2073, p-value = 0.4920, adjusted p-value = 0.9839\n",
            "Comparison 4: Power = 0.1890, p-value = 0.0589, adjusted p-value = 0.2019\n",
            "Minimum power: 0.1890371 \n",
            "\n",
            "Iteration 2: Running batch of 10 simulations (total will be 30)...\n"
          ]
        },
        {
          "metadata": {
            "tags": null
          },
          "name": "stderr",
          "output_type": "stream",
          "text": [
            "Warning message in validateXTest(test, attr(x, \"term.labels\"), ncol(x), colnames(x), :\n",
            "“column names of 'test' does not equal that of 'x': 'X1, X2, X3, X4, X5, X6, X7, X8, X9, X10'; match will be made by position”\n"
          ]
        },
        {
          "metadata": {
            "tags": null
          },
          "name": "stdout",
          "output_type": "stream",
          "text": [
            "Total of 1 of 100 iterations completed! (1%)             \rTotal of 2 of 100 iterations completed! (2%)             \rTotal of 3 of 100 iterations completed! (3%)             \rTotal of 4 of 100 iterations completed! (4%)             \rTotal of 5 of 100 iterations completed! (5%)             \rTotal of 6 of 100 iterations completed! (6%)             \rTotal of 7 of 100 iterations completed! (7%)             \rTotal of 8 of 100 iterations completed! (8%)             \rTotal of 9 of 100 iterations completed! (9%)             \rTotal of 10 of 100 iterations completed! (10%)             \rTotal of 11 of 100 iterations completed! (11%)             \rTotal of 12 of 100 iterations completed! (12%)             \rTotal of 13 of 100 iterations completed! (13%)             \rTotal of 14 of 100 iterations completed! (14%)             \rTotal of 15 of 100 iterations completed! (15%)             \rTotal of 16 of 100 iterations completed! (16%)             \rTotal of 17 of 100 iterations completed! (17%)             \rTotal of 18 of 100 iterations completed! (18%)             \rTotal of 19 of 100 iterations completed! (19%)             \rTotal of 20 of 100 iterations completed! (20%)             \rTotal of 21 of 100 iterations completed! (21%)             \rTotal of 22 of 100 iterations completed! (22%)             \rTotal of 23 of 100 iterations completed! (23%)             \rTotal of 24 of 100 iterations completed! (24%)             \rTotal of 25 of 100 iterations completed! (25%)             \rTotal of 26 of 100 iterations completed! (26%)             \rTotal of 27 of 100 iterations completed! (27%)             \rTotal of 28 of 100 iterations completed! (28%)             \rTotal of 29 of 100 iterations completed! (29%)             \rTotal of 30 of 100 iterations completed! (30%)             \rTotal of 31 of 100 iterations completed! (31%)             \rTotal of 32 of 100 iterations completed! (32%)             \rTotal of 33 of 100 iterations completed! (33%)             \rTotal of 34 of 100 iterations completed! (34%)             \rTotal of 35 of 100 iterations completed! (35%)             \rTotal of 36 of 100 iterations completed! (36%)             \rTotal of 37 of 100 iterations completed! (37%)             \rTotal of 38 of 100 iterations completed! (38%)             \rTotal of 39 of 100 iterations completed! (39%)             \rTotal of 40 of 100 iterations completed! (40%)             \rTotal of 41 of 100 iterations completed! (41%)             \rTotal of 42 of 100 iterations completed! (42%)             \rTotal of 43 of 100 iterations completed! (43%)             \rTotal of 44 of 100 iterations completed! (44%)             \rTotal of 45 of 100 iterations completed! (45%)             \rTotal of 46 of 100 iterations completed! (46%)             \rTotal of 47 of 100 iterations completed! (47%)             \rTotal of 48 of 100 iterations completed! (48%)             \rTotal of 49 of 100 iterations completed! (49%)             \rTotal of 50 of 100 iterations completed! (50%)             \rTotal of 51 of 100 iterations completed! (51%)             \rTotal of 52 of 100 iterations completed! (52%)             \rTotal of 53 of 100 iterations completed! (53%)             \rTotal of 54 of 100 iterations completed! (54%)             \rTotal of 55 of 100 iterations completed! (55%)             \rTotal of 56 of 100 iterations completed! (56%)             \rTotal of 57 of 100 iterations completed! (57%)             \rTotal of 58 of 100 iterations completed! (58%)             \rTotal of 59 of 100 iterations completed! (59%)             \rTotal of 60 of 100 iterations completed! (60%)             \rTotal of 61 of 100 iterations completed! (61%)             \rTotal of 62 of 100 iterations completed! (62%)             \rTotal of 63 of 100 iterations completed! (63%)             \rTotal of 64 of 100 iterations completed! (64%)             \rTotal of 65 of 100 iterations completed! (65%)             \rTotal of 66 of 100 iterations completed! (66%)             \rTotal of 67 of 100 iterations completed! (67%)             \rTotal of 68 of 100 iterations completed! (68%)             \rTotal of 69 of 100 iterations completed! (69%)             \rTotal of 70 of 100 iterations completed! (70%)             \rTotal of 71 of 100 iterations completed! (71%)             \rTotal of 72 of 100 iterations completed! (72%)             \rTotal of 73 of 100 iterations completed! (73%)             \rTotal of 74 of 100 iterations completed! (74%)             \rTotal of 75 of 100 iterations completed! (75%)             \rTotal of 76 of 100 iterations completed! (76%)             \rTotal of 77 of 100 iterations completed! (77%)             \rTotal of 78 of 100 iterations completed! (78%)             \rTotal of 79 of 100 iterations completed! (79%)             \rTotal of 80 of 100 iterations completed! (80%)             \rTotal of 81 of 100 iterations completed! (81%)             \rTotal of 82 of 100 iterations completed! (82%)             \rTotal of 83 of 100 iterations completed! (83%)             \rTotal of 84 of 100 iterations completed! (84%)             \rTotal of 85 of 100 iterations completed! (85%)             \rTotal of 86 of 100 iterations completed! (86%)             \rTotal of 87 of 100 iterations completed! (87%)             \rTotal of 88 of 100 iterations completed! (88%)             \rTotal of 89 of 100 iterations completed! (89%)             \rTotal of 90 of 100 iterations completed! (90%)             \rTotal of 91 of 100 iterations completed! (91%)             \rTotal of 92 of 100 iterations completed! (92%)             \rTotal of 93 of 100 iterations completed! (93%)             \rTotal of 94 of 100 iterations completed! (94%)             \rTotal of 95 of 100 iterations completed! (95%)             \rTotal of 96 of 100 iterations completed! (96%)             \rTotal of 97 of 100 iterations completed! (97%)             \rTotal of 98 of 100 iterations completed! (98%)             \rTotal of 99 of 100 iterations completed! (99%)             \rTotal of 100 of 100 iterations completed! (100%)             \rfitting treatment model via method 'bart'\n"
          ]
        },
        {
          "metadata": {
            "tags": null
          },
          "name": "stderr",
          "output_type": "stream",
          "text": [
            "Warning message in bartc(Y[, 1], Z, X, p.scoreAsCovariate = F, n.chains = 1, n.threads = 1, :\n",
            "“for response method 'bart', propensity score not used unless included as covariate”\n"
          ]
        },
        {
          "metadata": {
            "tags": null
          },
          "name": "stdout",
          "output_type": "stream",
          "text": [
            "fitting response model via method 'bart'\n",
            "fitting treatment model via method 'bart'\n"
          ]
        },
        {
          "metadata": {
            "tags": null
          },
          "name": "stderr",
          "output_type": "stream",
          "text": [
            "Warning message in bartc(Y[, 2], Z, X, p.scoreAsCovariate = F, n.chains = 1, n.threads = 1, :\n",
            "“for response method 'bart', propensity score not used unless included as covariate”\n"
          ]
        },
        {
          "metadata": {
            "tags": null
          },
          "name": "stdout",
          "output_type": "stream",
          "text": [
            "fitting response model via method 'bart'\n",
            "\rFinishing iteration 100 of 100"
          ]
        },
        {
          "metadata": {
            "tags": null
          },
          "name": "stderr",
          "output_type": "stream",
          "text": [
            "Warning message in validateXTest(test, attr(x, \"term.labels\"), ncol(x), colnames(x), :\n",
            "“column names of 'test' does not equal that of 'x': 'X1, X2, X3, X4, X5, X6, X7, X8, X9, X10'; match will be made by position”\n"
          ]
        },
        {
          "metadata": {
            "tags": null
          },
          "name": "stdout",
          "output_type": "stream",
          "text": [
            "Total of 1 of 100 iterations completed! (1%)             \rTotal of 2 of 100 iterations completed! (2%)             \rTotal of 3 of 100 iterations completed! (3%)             \rTotal of 4 of 100 iterations completed! (4%)             \rTotal of 5 of 100 iterations completed! (5%)             \rTotal of 6 of 100 iterations completed! (6%)             \rTotal of 7 of 100 iterations completed! (7%)             \rTotal of 8 of 100 iterations completed! (8%)             \rTotal of 9 of 100 iterations completed! (9%)             \rTotal of 10 of 100 iterations completed! (10%)             \rTotal of 11 of 100 iterations completed! (11%)             \rTotal of 12 of 100 iterations completed! (12%)             \rTotal of 13 of 100 iterations completed! (13%)             \rTotal of 14 of 100 iterations completed! (14%)             \rTotal of 15 of 100 iterations completed! (15%)             \rTotal of 16 of 100 iterations completed! (16%)             \rTotal of 17 of 100 iterations completed! (17%)             \rTotal of 18 of 100 iterations completed! (18%)             \rTotal of 19 of 100 iterations completed! (19%)             \rTotal of 20 of 100 iterations completed! (20%)             \rTotal of 21 of 100 iterations completed! (21%)             \rTotal of 22 of 100 iterations completed! (22%)             \rTotal of 23 of 100 iterations completed! (23%)             \rTotal of 24 of 100 iterations completed! (24%)             \rTotal of 25 of 100 iterations completed! (25%)             \rTotal of 26 of 100 iterations completed! (26%)             \rTotal of 27 of 100 iterations completed! (27%)             \rTotal of 28 of 100 iterations completed! (28%)             \rTotal of 29 of 100 iterations completed! (29%)             \rTotal of 30 of 100 iterations completed! (30%)             \rTotal of 31 of 100 iterations completed! (31%)             \rTotal of 32 of 100 iterations completed! (32%)             \rTotal of 33 of 100 iterations completed! (33%)             \rTotal of 34 of 100 iterations completed! (34%)             \rTotal of 35 of 100 iterations completed! (35%)             \rTotal of 36 of 100 iterations completed! (36%)             \rTotal of 37 of 100 iterations completed! (37%)             \rTotal of 38 of 100 iterations completed! (38%)             \rTotal of 39 of 100 iterations completed! (39%)             \rTotal of 40 of 100 iterations completed! (40%)             \rTotal of 41 of 100 iterations completed! (41%)             \rTotal of 42 of 100 iterations completed! (42%)             \rTotal of 43 of 100 iterations completed! (43%)             \rTotal of 44 of 100 iterations completed! (44%)             \rTotal of 45 of 100 iterations completed! (45%)             \rTotal of 46 of 100 iterations completed! (46%)             \rTotal of 47 of 100 iterations completed! (47%)             \rTotal of 48 of 100 iterations completed! (48%)             \rTotal of 49 of 100 iterations completed! (49%)             \rTotal of 50 of 100 iterations completed! (50%)             \rTotal of 51 of 100 iterations completed! (51%)             \rTotal of 52 of 100 iterations completed! (52%)             \rTotal of 53 of 100 iterations completed! (53%)             \rTotal of 54 of 100 iterations completed! (54%)             \rTotal of 55 of 100 iterations completed! (55%)             \rTotal of 56 of 100 iterations completed! (56%)             \rTotal of 57 of 100 iterations completed! (57%)             \rTotal of 58 of 100 iterations completed! (58%)             \rTotal of 59 of 100 iterations completed! (59%)             \rTotal of 60 of 100 iterations completed! (60%)             \rTotal of 61 of 100 iterations completed! (61%)             \rTotal of 62 of 100 iterations completed! (62%)             \rTotal of 63 of 100 iterations completed! (63%)             \rTotal of 64 of 100 iterations completed! (64%)             \rTotal of 65 of 100 iterations completed! (65%)             \rTotal of 66 of 100 iterations completed! (66%)             \rTotal of 67 of 100 iterations completed! (67%)             \rTotal of 68 of 100 iterations completed! (68%)             \rTotal of 69 of 100 iterations completed! (69%)             \rTotal of 70 of 100 iterations completed! (70%)             \rTotal of 71 of 100 iterations completed! (71%)             \rTotal of 72 of 100 iterations completed! (72%)             \rTotal of 73 of 100 iterations completed! (73%)             \rTotal of 74 of 100 iterations completed! (74%)             \rTotal of 75 of 100 iterations completed! (75%)             \rTotal of 76 of 100 iterations completed! (76%)             \rTotal of 77 of 100 iterations completed! (77%)             \rTotal of 78 of 100 iterations completed! (78%)             \rTotal of 79 of 100 iterations completed! (79%)             \rTotal of 80 of 100 iterations completed! (80%)             \rTotal of 81 of 100 iterations completed! (81%)             \rTotal of 82 of 100 iterations completed! (82%)             \rTotal of 83 of 100 iterations completed! (83%)             \rTotal of 84 of 100 iterations completed! (84%)             \rTotal of 85 of 100 iterations completed! (85%)             \rTotal of 86 of 100 iterations completed! (86%)             \rTotal of 87 of 100 iterations completed! (87%)             \rTotal of 88 of 100 iterations completed! (88%)             \rTotal of 89 of 100 iterations completed! (89%)             \rTotal of 90 of 100 iterations completed! (90%)             \rTotal of 91 of 100 iterations completed! (91%)             \rTotal of 92 of 100 iterations completed! (92%)             \rTotal of 93 of 100 iterations completed! (93%)             \rTotal of 94 of 100 iterations completed! (94%)             \rTotal of 95 of 100 iterations completed! (95%)             \rTotal of 96 of 100 iterations completed! (96%)             \rTotal of 97 of 100 iterations completed! (97%)             \rTotal of 98 of 100 iterations completed! (98%)             \rTotal of 99 of 100 iterations completed! (99%)             \rTotal of 100 of 100 iterations completed! (100%)             \rfitting treatment model via method 'bart'\n"
          ]
        },
        {
          "metadata": {
            "tags": null
          },
          "name": "stderr",
          "output_type": "stream",
          "text": [
            "Warning message in bartc(Y[, 1], Z, X, p.scoreAsCovariate = F, n.chains = 1, n.threads = 1, :\n",
            "“for response method 'bart', propensity score not used unless included as covariate”\n"
          ]
        },
        {
          "metadata": {
            "tags": null
          },
          "name": "stdout",
          "output_type": "stream",
          "text": [
            "fitting response model via method 'bart'\n",
            "fitting treatment model via method 'bart'\n"
          ]
        },
        {
          "metadata": {
            "tags": null
          },
          "name": "stderr",
          "output_type": "stream",
          "text": [
            "Warning message in bartc(Y[, 2], Z, X, p.scoreAsCovariate = F, n.chains = 1, n.threads = 1, :\n",
            "“for response method 'bart', propensity score not used unless included as covariate”\n"
          ]
        },
        {
          "metadata": {
            "tags": null
          },
          "name": "stdout",
          "output_type": "stream",
          "text": [
            "fitting response model via method 'bart'\n",
            "\rFinishing iteration 100 of 100"
          ]
        },
        {
          "metadata": {
            "tags": null
          },
          "name": "stderr",
          "output_type": "stream",
          "text": [
            "Warning message in validateXTest(test, attr(x, \"term.labels\"), ncol(x), colnames(x), :\n",
            "“column names of 'test' does not equal that of 'x': 'X1, X2, X3, X4, X5, X6, X7, X8, X9, X10'; match will be made by position”\n"
          ]
        },
        {
          "metadata": {
            "tags": null
          },
          "name": "stdout",
          "output_type": "stream",
          "text": [
            "Total of 1 of 100 iterations completed! (1%)             \rTotal of 2 of 100 iterations completed! (2%)             \rTotal of 3 of 100 iterations completed! (3%)             \rTotal of 4 of 100 iterations completed! (4%)             \rTotal of 5 of 100 iterations completed! (5%)             \rTotal of 6 of 100 iterations completed! (6%)             \rTotal of 7 of 100 iterations completed! (7%)             \rTotal of 8 of 100 iterations completed! (8%)             \rTotal of 9 of 100 iterations completed! (9%)             \rTotal of 10 of 100 iterations completed! (10%)             \rTotal of 11 of 100 iterations completed! (11%)             \rTotal of 12 of 100 iterations completed! (12%)             \rTotal of 13 of 100 iterations completed! (13%)             \rTotal of 14 of 100 iterations completed! (14%)             \rTotal of 15 of 100 iterations completed! (15%)             \rTotal of 16 of 100 iterations completed! (16%)             \rTotal of 17 of 100 iterations completed! (17%)             \rTotal of 18 of 100 iterations completed! (18%)             \rTotal of 19 of 100 iterations completed! (19%)             \rTotal of 20 of 100 iterations completed! (20%)             \rTotal of 21 of 100 iterations completed! (21%)             \rTotal of 22 of 100 iterations completed! (22%)             \rTotal of 23 of 100 iterations completed! (23%)             \rTotal of 24 of 100 iterations completed! (24%)             \rTotal of 25 of 100 iterations completed! (25%)             \rTotal of 26 of 100 iterations completed! (26%)             \rTotal of 27 of 100 iterations completed! (27%)             \rTotal of 28 of 100 iterations completed! (28%)             \rTotal of 29 of 100 iterations completed! (29%)             \rTotal of 30 of 100 iterations completed! (30%)             \rTotal of 31 of 100 iterations completed! (31%)             \rTotal of 32 of 100 iterations completed! (32%)             \rTotal of 33 of 100 iterations completed! (33%)             \rTotal of 34 of 100 iterations completed! (34%)             \rTotal of 35 of 100 iterations completed! (35%)             \rTotal of 36 of 100 iterations completed! (36%)             \rTotal of 37 of 100 iterations completed! (37%)             \rTotal of 38 of 100 iterations completed! (38%)             \rTotal of 39 of 100 iterations completed! (39%)             \rTotal of 40 of 100 iterations completed! (40%)             \rTotal of 41 of 100 iterations completed! (41%)             \rTotal of 42 of 100 iterations completed! (42%)             \rTotal of 43 of 100 iterations completed! (43%)             \rTotal of 44 of 100 iterations completed! (44%)             \rTotal of 45 of 100 iterations completed! (45%)             \rTotal of 46 of 100 iterations completed! (46%)             \rTotal of 47 of 100 iterations completed! (47%)             \rTotal of 48 of 100 iterations completed! (48%)             \rTotal of 49 of 100 iterations completed! (49%)             \rTotal of 50 of 100 iterations completed! (50%)             \rTotal of 51 of 100 iterations completed! (51%)             \rTotal of 52 of 100 iterations completed! (52%)             \rTotal of 53 of 100 iterations completed! (53%)             \rTotal of 54 of 100 iterations completed! (54%)             \rTotal of 55 of 100 iterations completed! (55%)             \rTotal of 56 of 100 iterations completed! (56%)             \rTotal of 57 of 100 iterations completed! (57%)             \rTotal of 58 of 100 iterations completed! (58%)             \rTotal of 59 of 100 iterations completed! (59%)             \rTotal of 60 of 100 iterations completed! (60%)             \rTotal of 61 of 100 iterations completed! (61%)             \rTotal of 62 of 100 iterations completed! (62%)             \rTotal of 63 of 100 iterations completed! (63%)             \rTotal of 64 of 100 iterations completed! (64%)             \rTotal of 65 of 100 iterations completed! (65%)             \rTotal of 66 of 100 iterations completed! (66%)             \rTotal of 67 of 100 iterations completed! (67%)             \rTotal of 68 of 100 iterations completed! (68%)             \rTotal of 69 of 100 iterations completed! (69%)             \rTotal of 70 of 100 iterations completed! (70%)             \rTotal of 71 of 100 iterations completed! (71%)             \rTotal of 72 of 100 iterations completed! (72%)             \rTotal of 73 of 100 iterations completed! (73%)             \rTotal of 74 of 100 iterations completed! (74%)             \rTotal of 75 of 100 iterations completed! (75%)             \rTotal of 76 of 100 iterations completed! (76%)             \rTotal of 77 of 100 iterations completed! (77%)             \rTotal of 78 of 100 iterations completed! (78%)             \rTotal of 79 of 100 iterations completed! (79%)             \rTotal of 80 of 100 iterations completed! (80%)             \rTotal of 81 of 100 iterations completed! (81%)             \rTotal of 82 of 100 iterations completed! (82%)             \rTotal of 83 of 100 iterations completed! (83%)             \rTotal of 84 of 100 iterations completed! (84%)             \rTotal of 85 of 100 iterations completed! (85%)             \rTotal of 86 of 100 iterations completed! (86%)             \rTotal of 87 of 100 iterations completed! (87%)             \rTotal of 88 of 100 iterations completed! (88%)             \rTotal of 89 of 100 iterations completed! (89%)             \rTotal of 90 of 100 iterations completed! (90%)             \rTotal of 91 of 100 iterations completed! (91%)             \rTotal of 92 of 100 iterations completed! (92%)             \rTotal of 93 of 100 iterations completed! (93%)             \rTotal of 94 of 100 iterations completed! (94%)             \rTotal of 95 of 100 iterations completed! (95%)             \rTotal of 96 of 100 iterations completed! (96%)             \rTotal of 97 of 100 iterations completed! (97%)             \rTotal of 98 of 100 iterations completed! (98%)             \rTotal of 99 of 100 iterations completed! (99%)             \rTotal of 100 of 100 iterations completed! (100%)             \rfitting treatment model via method 'bart'\n"
          ]
        },
        {
          "metadata": {
            "tags": null
          },
          "name": "stderr",
          "output_type": "stream",
          "text": [
            "Warning message in bartc(Y[, 1], Z, X, p.scoreAsCovariate = F, n.chains = 1, n.threads = 1, :\n",
            "“for response method 'bart', propensity score not used unless included as covariate”\n"
          ]
        },
        {
          "metadata": {
            "tags": null
          },
          "name": "stdout",
          "output_type": "stream",
          "text": [
            "fitting response model via method 'bart'\n",
            "fitting treatment model via method 'bart'\n"
          ]
        },
        {
          "metadata": {
            "tags": null
          },
          "name": "stderr",
          "output_type": "stream",
          "text": [
            "Warning message in bartc(Y[, 2], Z, X, p.scoreAsCovariate = F, n.chains = 1, n.threads = 1, :\n",
            "“for response method 'bart', propensity score not used unless included as covariate”\n"
          ]
        },
        {
          "metadata": {
            "tags": null
          },
          "name": "stdout",
          "output_type": "stream",
          "text": [
            "fitting response model via method 'bart'\n",
            "\rFinishing iteration 100 of 100"
          ]
        },
        {
          "metadata": {
            "tags": null
          },
          "name": "stderr",
          "output_type": "stream",
          "text": [
            "Warning message in validateXTest(test, attr(x, \"term.labels\"), ncol(x), colnames(x), :\n",
            "“column names of 'test' does not equal that of 'x': 'X1, X2, X3, X4, X5, X6, X7, X8, X9, X10'; match will be made by position”\n"
          ]
        },
        {
          "metadata": {
            "tags": null
          },
          "name": "stdout",
          "output_type": "stream",
          "text": [
            "Total of 1 of 100 iterations completed! (1%)             \rTotal of 2 of 100 iterations completed! (2%)             \rTotal of 3 of 100 iterations completed! (3%)             \rTotal of 4 of 100 iterations completed! (4%)             \rTotal of 5 of 100 iterations completed! (5%)             \rTotal of 6 of 100 iterations completed! (6%)             \rTotal of 7 of 100 iterations completed! (7%)             \rTotal of 8 of 100 iterations completed! (8%)             \rTotal of 9 of 100 iterations completed! (9%)             \rTotal of 10 of 100 iterations completed! (10%)             \rTotal of 11 of 100 iterations completed! (11%)             \rTotal of 12 of 100 iterations completed! (12%)             \rTotal of 13 of 100 iterations completed! (13%)             \rTotal of 14 of 100 iterations completed! (14%)             \rTotal of 15 of 100 iterations completed! (15%)             \rTotal of 16 of 100 iterations completed! (16%)             \rTotal of 17 of 100 iterations completed! (17%)             \rTotal of 18 of 100 iterations completed! (18%)             \rTotal of 19 of 100 iterations completed! (19%)             \rTotal of 20 of 100 iterations completed! (20%)             \rTotal of 21 of 100 iterations completed! (21%)             \rTotal of 22 of 100 iterations completed! (22%)             \rTotal of 23 of 100 iterations completed! (23%)             \rTotal of 24 of 100 iterations completed! (24%)             \rTotal of 25 of 100 iterations completed! (25%)             \rTotal of 26 of 100 iterations completed! (26%)             \rTotal of 27 of 100 iterations completed! (27%)             \rTotal of 28 of 100 iterations completed! (28%)             \rTotal of 29 of 100 iterations completed! (29%)             \rTotal of 30 of 100 iterations completed! (30%)             \rTotal of 31 of 100 iterations completed! (31%)             \rTotal of 32 of 100 iterations completed! (32%)             \rTotal of 33 of 100 iterations completed! (33%)             \rTotal of 34 of 100 iterations completed! (34%)             \rTotal of 35 of 100 iterations completed! (35%)             \rTotal of 36 of 100 iterations completed! (36%)             \rTotal of 37 of 100 iterations completed! (37%)             \rTotal of 38 of 100 iterations completed! (38%)             \rTotal of 39 of 100 iterations completed! (39%)             \rTotal of 40 of 100 iterations completed! (40%)             \rTotal of 41 of 100 iterations completed! (41%)             \rTotal of 42 of 100 iterations completed! (42%)             \rTotal of 43 of 100 iterations completed! (43%)             \rTotal of 44 of 100 iterations completed! (44%)             \rTotal of 45 of 100 iterations completed! (45%)             \rTotal of 46 of 100 iterations completed! (46%)             \rTotal of 47 of 100 iterations completed! (47%)             \rTotal of 48 of 100 iterations completed! (48%)             \rTotal of 49 of 100 iterations completed! (49%)             \rTotal of 50 of 100 iterations completed! (50%)             \rTotal of 51 of 100 iterations completed! (51%)             \rTotal of 52 of 100 iterations completed! (52%)             \rTotal of 53 of 100 iterations completed! (53%)             \rTotal of 54 of 100 iterations completed! (54%)             \rTotal of 55 of 100 iterations completed! (55%)             \rTotal of 56 of 100 iterations completed! (56%)             \rTotal of 57 of 100 iterations completed! (57%)             \rTotal of 58 of 100 iterations completed! (58%)             \rTotal of 59 of 100 iterations completed! (59%)             \rTotal of 60 of 100 iterations completed! (60%)             \rTotal of 61 of 100 iterations completed! (61%)             \rTotal of 62 of 100 iterations completed! (62%)             \rTotal of 63 of 100 iterations completed! (63%)             \rTotal of 64 of 100 iterations completed! (64%)             \rTotal of 65 of 100 iterations completed! (65%)             \rTotal of 66 of 100 iterations completed! (66%)             \rTotal of 67 of 100 iterations completed! (67%)             \rTotal of 68 of 100 iterations completed! (68%)             \rTotal of 69 of 100 iterations completed! (69%)             \rTotal of 70 of 100 iterations completed! (70%)             \rTotal of 71 of 100 iterations completed! (71%)             \rTotal of 72 of 100 iterations completed! (72%)             \rTotal of 73 of 100 iterations completed! (73%)             \rTotal of 74 of 100 iterations completed! (74%)             \rTotal of 75 of 100 iterations completed! (75%)             \rTotal of 76 of 100 iterations completed! (76%)             \rTotal of 77 of 100 iterations completed! (77%)             \rTotal of 78 of 100 iterations completed! (78%)             \rTotal of 79 of 100 iterations completed! (79%)             \rTotal of 80 of 100 iterations completed! (80%)             \rTotal of 81 of 100 iterations completed! (81%)             \rTotal of 82 of 100 iterations completed! (82%)             \rTotal of 83 of 100 iterations completed! (83%)             \rTotal of 84 of 100 iterations completed! (84%)             \rTotal of 85 of 100 iterations completed! (85%)             \rTotal of 86 of 100 iterations completed! (86%)             \rTotal of 87 of 100 iterations completed! (87%)             \rTotal of 88 of 100 iterations completed! (88%)             \rTotal of 89 of 100 iterations completed! (89%)             \rTotal of 90 of 100 iterations completed! (90%)             \rTotal of 91 of 100 iterations completed! (91%)             \rTotal of 92 of 100 iterations completed! (92%)             \rTotal of 93 of 100 iterations completed! (93%)             \rTotal of 94 of 100 iterations completed! (94%)             \rTotal of 95 of 100 iterations completed! (95%)             \rTotal of 96 of 100 iterations completed! (96%)             \rTotal of 97 of 100 iterations completed! (97%)             \rTotal of 98 of 100 iterations completed! (98%)             \rTotal of 99 of 100 iterations completed! (99%)             \rTotal of 100 of 100 iterations completed! (100%)             \rfitting treatment model via method 'bart'\n"
          ]
        },
        {
          "metadata": {
            "tags": null
          },
          "name": "stderr",
          "output_type": "stream",
          "text": [
            "Warning message in bartc(Y[, 1], Z, X, p.scoreAsCovariate = F, n.chains = 1, n.threads = 1, :\n",
            "“for response method 'bart', propensity score not used unless included as covariate”\n"
          ]
        },
        {
          "metadata": {
            "tags": null
          },
          "name": "stdout",
          "output_type": "stream",
          "text": [
            "fitting response model via method 'bart'\n",
            "fitting treatment model via method 'bart'\n"
          ]
        },
        {
          "metadata": {
            "tags": null
          },
          "name": "stderr",
          "output_type": "stream",
          "text": [
            "Warning message in bartc(Y[, 2], Z, X, p.scoreAsCovariate = F, n.chains = 1, n.threads = 1, :\n",
            "“for response method 'bart', propensity score not used unless included as covariate”\n"
          ]
        },
        {
          "metadata": {
            "tags": null
          },
          "name": "stdout",
          "output_type": "stream",
          "text": [
            "fitting response model via method 'bart'\n",
            "\rFinishing iteration 100 of 100"
          ]
        },
        {
          "metadata": {
            "tags": null
          },
          "name": "stderr",
          "output_type": "stream",
          "text": [
            "Warning message in validateXTest(test, attr(x, \"term.labels\"), ncol(x), colnames(x), :\n",
            "“column names of 'test' does not equal that of 'x': 'X1, X2, X3, X4, X5, X6, X7, X8, X9, X10'; match will be made by position”\n"
          ]
        },
        {
          "metadata": {
            "tags": null
          },
          "name": "stdout",
          "output_type": "stream",
          "text": [
            "Total of 1 of 100 iterations completed! (1%)             \rTotal of 2 of 100 iterations completed! (2%)             \rTotal of 3 of 100 iterations completed! (3%)             \rTotal of 4 of 100 iterations completed! (4%)             \rTotal of 5 of 100 iterations completed! (5%)             \rTotal of 6 of 100 iterations completed! (6%)             \rTotal of 7 of 100 iterations completed! (7%)             \rTotal of 8 of 100 iterations completed! (8%)             \rTotal of 9 of 100 iterations completed! (9%)             \rTotal of 10 of 100 iterations completed! (10%)             \rTotal of 11 of 100 iterations completed! (11%)             \rTotal of 12 of 100 iterations completed! (12%)             \rTotal of 13 of 100 iterations completed! (13%)             \rTotal of 14 of 100 iterations completed! (14%)             \rTotal of 15 of 100 iterations completed! (15%)             \rTotal of 16 of 100 iterations completed! (16%)             \rTotal of 17 of 100 iterations completed! (17%)             \rTotal of 18 of 100 iterations completed! (18%)             \rTotal of 19 of 100 iterations completed! (19%)             \rTotal of 20 of 100 iterations completed! (20%)             \rTotal of 21 of 100 iterations completed! (21%)             \rTotal of 22 of 100 iterations completed! (22%)             \rTotal of 23 of 100 iterations completed! (23%)             \rTotal of 24 of 100 iterations completed! (24%)             \rTotal of 25 of 100 iterations completed! (25%)             \rTotal of 26 of 100 iterations completed! (26%)             \rTotal of 27 of 100 iterations completed! (27%)             \rTotal of 28 of 100 iterations completed! (28%)             \rTotal of 29 of 100 iterations completed! (29%)             \rTotal of 30 of 100 iterations completed! (30%)             \rTotal of 31 of 100 iterations completed! (31%)             \rTotal of 32 of 100 iterations completed! (32%)             \rTotal of 33 of 100 iterations completed! (33%)             \rTotal of 34 of 100 iterations completed! (34%)             \rTotal of 35 of 100 iterations completed! (35%)             \rTotal of 36 of 100 iterations completed! (36%)             \rTotal of 37 of 100 iterations completed! (37%)             \rTotal of 38 of 100 iterations completed! (38%)             \rTotal of 39 of 100 iterations completed! (39%)             \rTotal of 40 of 100 iterations completed! (40%)             \rTotal of 41 of 100 iterations completed! (41%)             \rTotal of 42 of 100 iterations completed! (42%)             \rTotal of 43 of 100 iterations completed! (43%)             \rTotal of 44 of 100 iterations completed! (44%)             \rTotal of 45 of 100 iterations completed! (45%)             \rTotal of 46 of 100 iterations completed! (46%)             \rTotal of 47 of 100 iterations completed! (47%)             \rTotal of 48 of 100 iterations completed! (48%)             \rTotal of 49 of 100 iterations completed! (49%)             \rTotal of 50 of 100 iterations completed! (50%)             \rTotal of 51 of 100 iterations completed! (51%)             \rTotal of 52 of 100 iterations completed! (52%)             \rTotal of 53 of 100 iterations completed! (53%)             \rTotal of 54 of 100 iterations completed! (54%)             \rTotal of 55 of 100 iterations completed! (55%)             \rTotal of 56 of 100 iterations completed! (56%)             \rTotal of 57 of 100 iterations completed! (57%)             \rTotal of 58 of 100 iterations completed! (58%)             \rTotal of 59 of 100 iterations completed! (59%)             \rTotal of 60 of 100 iterations completed! (60%)             \rTotal of 61 of 100 iterations completed! (61%)             \rTotal of 62 of 100 iterations completed! (62%)             \rTotal of 63 of 100 iterations completed! (63%)             \rTotal of 64 of 100 iterations completed! (64%)             \rTotal of 65 of 100 iterations completed! (65%)             \rTotal of 66 of 100 iterations completed! (66%)             \rTotal of 67 of 100 iterations completed! (67%)             \rTotal of 68 of 100 iterations completed! (68%)             \rTotal of 69 of 100 iterations completed! (69%)             \rTotal of 70 of 100 iterations completed! (70%)             \rTotal of 71 of 100 iterations completed! (71%)             \rTotal of 72 of 100 iterations completed! (72%)             \rTotal of 73 of 100 iterations completed! (73%)             \rTotal of 74 of 100 iterations completed! (74%)             \rTotal of 75 of 100 iterations completed! (75%)             \rTotal of 76 of 100 iterations completed! (76%)             \rTotal of 77 of 100 iterations completed! (77%)             \rTotal of 78 of 100 iterations completed! (78%)             \rTotal of 79 of 100 iterations completed! (79%)             \rTotal of 80 of 100 iterations completed! (80%)             \rTotal of 81 of 100 iterations completed! (81%)             \rTotal of 82 of 100 iterations completed! (82%)             \rTotal of 83 of 100 iterations completed! (83%)             \rTotal of 84 of 100 iterations completed! (84%)             \rTotal of 85 of 100 iterations completed! (85%)             \rTotal of 86 of 100 iterations completed! (86%)             \rTotal of 87 of 100 iterations completed! (87%)             \rTotal of 88 of 100 iterations completed! (88%)             \rTotal of 89 of 100 iterations completed! (89%)             \rTotal of 90 of 100 iterations completed! (90%)             \rTotal of 91 of 100 iterations completed! (91%)             \rTotal of 92 of 100 iterations completed! (92%)             \rTotal of 93 of 100 iterations completed! (93%)             \rTotal of 94 of 100 iterations completed! (94%)             \rTotal of 95 of 100 iterations completed! (95%)             \rTotal of 96 of 100 iterations completed! (96%)             \rTotal of 97 of 100 iterations completed! (97%)             \rTotal of 98 of 100 iterations completed! (98%)             \rTotal of 99 of 100 iterations completed! (99%)             \rTotal of 100 of 100 iterations completed! (100%)             \rfitting treatment model via method 'bart'\n"
          ]
        },
        {
          "metadata": {
            "tags": null
          },
          "name": "stderr",
          "output_type": "stream",
          "text": [
            "Warning message in bartc(Y[, 1], Z, X, p.scoreAsCovariate = F, n.chains = 1, n.threads = 1, :\n",
            "“for response method 'bart', propensity score not used unless included as covariate”\n"
          ]
        },
        {
          "metadata": {
            "tags": null
          },
          "name": "stdout",
          "output_type": "stream",
          "text": [
            "fitting response model via method 'bart'\n",
            "fitting treatment model via method 'bart'\n"
          ]
        },
        {
          "metadata": {
            "tags": null
          },
          "name": "stderr",
          "output_type": "stream",
          "text": [
            "Warning message in bartc(Y[, 2], Z, X, p.scoreAsCovariate = F, n.chains = 1, n.threads = 1, :\n",
            "“for response method 'bart', propensity score not used unless included as covariate”\n"
          ]
        },
        {
          "metadata": {
            "tags": null
          },
          "name": "stdout",
          "output_type": "stream",
          "text": [
            "fitting response model via method 'bart'\n",
            "\rFinishing iteration 100 of 100"
          ]
        },
        {
          "metadata": {
            "tags": null
          },
          "name": "stderr",
          "output_type": "stream",
          "text": [
            "Warning message in validateXTest(test, attr(x, \"term.labels\"), ncol(x), colnames(x), :\n",
            "“column names of 'test' does not equal that of 'x': 'X1, X2, X3, X4, X5, X6, X7, X8, X9, X10'; match will be made by position”\n"
          ]
        },
        {
          "metadata": {
            "tags": null
          },
          "name": "stdout",
          "output_type": "stream",
          "text": [
            "Total of 1 of 100 iterations completed! (1%)             \rTotal of 2 of 100 iterations completed! (2%)             \rTotal of 3 of 100 iterations completed! (3%)             \rTotal of 4 of 100 iterations completed! (4%)             \rTotal of 5 of 100 iterations completed! (5%)             \rTotal of 6 of 100 iterations completed! (6%)             \rTotal of 7 of 100 iterations completed! (7%)             \rTotal of 8 of 100 iterations completed! (8%)             \rTotal of 9 of 100 iterations completed! (9%)             \rTotal of 10 of 100 iterations completed! (10%)             \rTotal of 11 of 100 iterations completed! (11%)             \rTotal of 12 of 100 iterations completed! (12%)             \rTotal of 13 of 100 iterations completed! (13%)             \rTotal of 14 of 100 iterations completed! (14%)             \rTotal of 15 of 100 iterations completed! (15%)             \rTotal of 16 of 100 iterations completed! (16%)             \rTotal of 17 of 100 iterations completed! (17%)             \rTotal of 18 of 100 iterations completed! (18%)             \rTotal of 19 of 100 iterations completed! (19%)             \rTotal of 20 of 100 iterations completed! (20%)             \rTotal of 21 of 100 iterations completed! (21%)             \rTotal of 22 of 100 iterations completed! (22%)             \rTotal of 23 of 100 iterations completed! (23%)             \rTotal of 24 of 100 iterations completed! (24%)             \rTotal of 25 of 100 iterations completed! (25%)             \rTotal of 26 of 100 iterations completed! (26%)             \rTotal of 27 of 100 iterations completed! (27%)             \rTotal of 28 of 100 iterations completed! (28%)             \rTotal of 29 of 100 iterations completed! (29%)             \rTotal of 30 of 100 iterations completed! (30%)             \rTotal of 31 of 100 iterations completed! (31%)             \rTotal of 32 of 100 iterations completed! (32%)             \rTotal of 33 of 100 iterations completed! (33%)             \rTotal of 34 of 100 iterations completed! (34%)             \rTotal of 35 of 100 iterations completed! (35%)             \rTotal of 36 of 100 iterations completed! (36%)             \rTotal of 37 of 100 iterations completed! (37%)             \rTotal of 38 of 100 iterations completed! (38%)             \rTotal of 39 of 100 iterations completed! (39%)             \rTotal of 40 of 100 iterations completed! (40%)             \rTotal of 41 of 100 iterations completed! (41%)             \rTotal of 42 of 100 iterations completed! (42%)             \rTotal of 43 of 100 iterations completed! (43%)             \rTotal of 44 of 100 iterations completed! (44%)             \rTotal of 45 of 100 iterations completed! (45%)             \rTotal of 46 of 100 iterations completed! (46%)             \rTotal of 47 of 100 iterations completed! (47%)             \rTotal of 48 of 100 iterations completed! (48%)             \rTotal of 49 of 100 iterations completed! (49%)             \rTotal of 50 of 100 iterations completed! (50%)             \rTotal of 51 of 100 iterations completed! (51%)             \rTotal of 52 of 100 iterations completed! (52%)             \rTotal of 53 of 100 iterations completed! (53%)             \rTotal of 54 of 100 iterations completed! (54%)             \rTotal of 55 of 100 iterations completed! (55%)             \rTotal of 56 of 100 iterations completed! (56%)             \rTotal of 57 of 100 iterations completed! (57%)             \rTotal of 58 of 100 iterations completed! (58%)             \rTotal of 59 of 100 iterations completed! (59%)             \rTotal of 60 of 100 iterations completed! (60%)             \rTotal of 61 of 100 iterations completed! (61%)             \rTotal of 62 of 100 iterations completed! (62%)             \rTotal of 63 of 100 iterations completed! (63%)             \rTotal of 64 of 100 iterations completed! (64%)             \rTotal of 65 of 100 iterations completed! (65%)             \rTotal of 66 of 100 iterations completed! (66%)             \rTotal of 67 of 100 iterations completed! (67%)             \rTotal of 68 of 100 iterations completed! (68%)             \rTotal of 69 of 100 iterations completed! (69%)             \rTotal of 70 of 100 iterations completed! (70%)             \rTotal of 71 of 100 iterations completed! (71%)             \rTotal of 72 of 100 iterations completed! (72%)             \rTotal of 73 of 100 iterations completed! (73%)             \rTotal of 74 of 100 iterations completed! (74%)             \rTotal of 75 of 100 iterations completed! (75%)             \rTotal of 76 of 100 iterations completed! (76%)             \rTotal of 77 of 100 iterations completed! (77%)             \rTotal of 78 of 100 iterations completed! (78%)             \rTotal of 79 of 100 iterations completed! (79%)             \rTotal of 80 of 100 iterations completed! (80%)             \rTotal of 81 of 100 iterations completed! (81%)             \rTotal of 82 of 100 iterations completed! (82%)             \rTotal of 83 of 100 iterations completed! (83%)             \rTotal of 84 of 100 iterations completed! (84%)             \rTotal of 85 of 100 iterations completed! (85%)             \rTotal of 86 of 100 iterations completed! (86%)             \rTotal of 87 of 100 iterations completed! (87%)             \rTotal of 88 of 100 iterations completed! (88%)             \rTotal of 89 of 100 iterations completed! (89%)             \rTotal of 90 of 100 iterations completed! (90%)             \rTotal of 91 of 100 iterations completed! (91%)             \rTotal of 92 of 100 iterations completed! (92%)             \rTotal of 93 of 100 iterations completed! (93%)             \rTotal of 94 of 100 iterations completed! (94%)             \rTotal of 95 of 100 iterations completed! (95%)             \rTotal of 96 of 100 iterations completed! (96%)             \rTotal of 97 of 100 iterations completed! (97%)             \rTotal of 98 of 100 iterations completed! (98%)             \rTotal of 99 of 100 iterations completed! (99%)             \rTotal of 100 of 100 iterations completed! (100%)             \rfitting treatment model via method 'bart'\n"
          ]
        },
        {
          "metadata": {
            "tags": null
          },
          "name": "stderr",
          "output_type": "stream",
          "text": [
            "Warning message in bartc(Y[, 1], Z, X, p.scoreAsCovariate = F, n.chains = 1, n.threads = 1, :\n",
            "“for response method 'bart', propensity score not used unless included as covariate”\n"
          ]
        },
        {
          "metadata": {
            "tags": null
          },
          "name": "stdout",
          "output_type": "stream",
          "text": [
            "fitting response model via method 'bart'\n",
            "fitting treatment model via method 'bart'\n"
          ]
        },
        {
          "metadata": {
            "tags": null
          },
          "name": "stderr",
          "output_type": "stream",
          "text": [
            "Warning message in bartc(Y[, 2], Z, X, p.scoreAsCovariate = F, n.chains = 1, n.threads = 1, :\n",
            "“for response method 'bart', propensity score not used unless included as covariate”\n"
          ]
        },
        {
          "metadata": {
            "tags": null
          },
          "name": "stdout",
          "output_type": "stream",
          "text": [
            "fitting response model via method 'bart'\n",
            "\rFinishing iteration 100 of 100"
          ]
        },
        {
          "metadata": {
            "tags": null
          },
          "name": "stderr",
          "output_type": "stream",
          "text": [
            "Warning message in validateXTest(test, attr(x, \"term.labels\"), ncol(x), colnames(x), :\n",
            "“column names of 'test' does not equal that of 'x': 'X1, X2, X3, X4, X5, X6, X7, X8, X9, X10'; match will be made by position”\n"
          ]
        },
        {
          "metadata": {
            "tags": null
          },
          "name": "stdout",
          "output_type": "stream",
          "text": [
            "Total of 1 of 100 iterations completed! (1%)             \rTotal of 2 of 100 iterations completed! (2%)             \rTotal of 3 of 100 iterations completed! (3%)             \rTotal of 4 of 100 iterations completed! (4%)             \rTotal of 5 of 100 iterations completed! (5%)             \rTotal of 6 of 100 iterations completed! (6%)             \rTotal of 7 of 100 iterations completed! (7%)             \rTotal of 8 of 100 iterations completed! (8%)             \rTotal of 9 of 100 iterations completed! (9%)             \rTotal of 10 of 100 iterations completed! (10%)             \rTotal of 11 of 100 iterations completed! (11%)             \rTotal of 12 of 100 iterations completed! (12%)             \rTotal of 13 of 100 iterations completed! (13%)             \rTotal of 14 of 100 iterations completed! (14%)             \rTotal of 15 of 100 iterations completed! (15%)             \rTotal of 16 of 100 iterations completed! (16%)             \rTotal of 17 of 100 iterations completed! (17%)             \rTotal of 18 of 100 iterations completed! (18%)             \rTotal of 19 of 100 iterations completed! (19%)             \rTotal of 20 of 100 iterations completed! (20%)             \rTotal of 21 of 100 iterations completed! (21%)             \rTotal of 22 of 100 iterations completed! (22%)             \rTotal of 23 of 100 iterations completed! (23%)             \rTotal of 24 of 100 iterations completed! (24%)             \rTotal of 25 of 100 iterations completed! (25%)             \rTotal of 26 of 100 iterations completed! (26%)             \rTotal of 27 of 100 iterations completed! (27%)             \rTotal of 28 of 100 iterations completed! (28%)             \rTotal of 29 of 100 iterations completed! (29%)             \rTotal of 30 of 100 iterations completed! (30%)             \rTotal of 31 of 100 iterations completed! (31%)             \rTotal of 32 of 100 iterations completed! (32%)             \rTotal of 33 of 100 iterations completed! (33%)             \rTotal of 34 of 100 iterations completed! (34%)             \rTotal of 35 of 100 iterations completed! (35%)             \rTotal of 36 of 100 iterations completed! (36%)             \rTotal of 37 of 100 iterations completed! (37%)             \rTotal of 38 of 100 iterations completed! (38%)             \rTotal of 39 of 100 iterations completed! (39%)             \rTotal of 40 of 100 iterations completed! (40%)             \rTotal of 41 of 100 iterations completed! (41%)             \rTotal of 42 of 100 iterations completed! (42%)             \rTotal of 43 of 100 iterations completed! (43%)             \rTotal of 44 of 100 iterations completed! (44%)             \rTotal of 45 of 100 iterations completed! (45%)             \rTotal of 46 of 100 iterations completed! (46%)             \rTotal of 47 of 100 iterations completed! (47%)             \rTotal of 48 of 100 iterations completed! (48%)             \rTotal of 49 of 100 iterations completed! (49%)             \rTotal of 50 of 100 iterations completed! (50%)             \rTotal of 51 of 100 iterations completed! (51%)             \rTotal of 52 of 100 iterations completed! (52%)             \rTotal of 53 of 100 iterations completed! (53%)             \rTotal of 54 of 100 iterations completed! (54%)             \rTotal of 55 of 100 iterations completed! (55%)             \rTotal of 56 of 100 iterations completed! (56%)             \rTotal of 57 of 100 iterations completed! (57%)             \rTotal of 58 of 100 iterations completed! (58%)             \rTotal of 59 of 100 iterations completed! (59%)             \rTotal of 60 of 100 iterations completed! (60%)             \rTotal of 61 of 100 iterations completed! (61%)             \rTotal of 62 of 100 iterations completed! (62%)             \rTotal of 63 of 100 iterations completed! (63%)             \rTotal of 64 of 100 iterations completed! (64%)             \rTotal of 65 of 100 iterations completed! (65%)             \rTotal of 66 of 100 iterations completed! (66%)             \rTotal of 67 of 100 iterations completed! (67%)             \rTotal of 68 of 100 iterations completed! (68%)             \rTotal of 69 of 100 iterations completed! (69%)             \rTotal of 70 of 100 iterations completed! (70%)             \rTotal of 71 of 100 iterations completed! (71%)             \rTotal of 72 of 100 iterations completed! (72%)             \rTotal of 73 of 100 iterations completed! (73%)             \rTotal of 74 of 100 iterations completed! (74%)             \rTotal of 75 of 100 iterations completed! (75%)             \rTotal of 76 of 100 iterations completed! (76%)             \rTotal of 77 of 100 iterations completed! (77%)             \rTotal of 78 of 100 iterations completed! (78%)             \rTotal of 79 of 100 iterations completed! (79%)             \rTotal of 80 of 100 iterations completed! (80%)             \rTotal of 81 of 100 iterations completed! (81%)             \rTotal of 82 of 100 iterations completed! (82%)             \rTotal of 83 of 100 iterations completed! (83%)             \rTotal of 84 of 100 iterations completed! (84%)             \rTotal of 85 of 100 iterations completed! (85%)             \rTotal of 86 of 100 iterations completed! (86%)             \rTotal of 87 of 100 iterations completed! (87%)             \rTotal of 88 of 100 iterations completed! (88%)             \rTotal of 89 of 100 iterations completed! (89%)             \rTotal of 90 of 100 iterations completed! (90%)             \rTotal of 91 of 100 iterations completed! (91%)             \rTotal of 92 of 100 iterations completed! (92%)             \rTotal of 93 of 100 iterations completed! (93%)             \rTotal of 94 of 100 iterations completed! (94%)             \rTotal of 95 of 100 iterations completed! (95%)             \rTotal of 96 of 100 iterations completed! (96%)             \rTotal of 97 of 100 iterations completed! (97%)             \rTotal of 98 of 100 iterations completed! (98%)             \rTotal of 99 of 100 iterations completed! (99%)             \rTotal of 100 of 100 iterations completed! (100%)             \rfitting treatment model via method 'bart'\n"
          ]
        },
        {
          "metadata": {
            "tags": null
          },
          "name": "stderr",
          "output_type": "stream",
          "text": [
            "Warning message in bartc(Y[, 1], Z, X, p.scoreAsCovariate = F, n.chains = 1, n.threads = 1, :\n",
            "“for response method 'bart', propensity score not used unless included as covariate”\n"
          ]
        },
        {
          "metadata": {
            "tags": null
          },
          "name": "stdout",
          "output_type": "stream",
          "text": [
            "fitting response model via method 'bart'\n",
            "fitting treatment model via method 'bart'\n"
          ]
        },
        {
          "metadata": {
            "tags": null
          },
          "name": "stderr",
          "output_type": "stream",
          "text": [
            "Warning message in bartc(Y[, 2], Z, X, p.scoreAsCovariate = F, n.chains = 1, n.threads = 1, :\n",
            "“for response method 'bart', propensity score not used unless included as covariate”\n"
          ]
        },
        {
          "metadata": {
            "tags": null
          },
          "name": "stdout",
          "output_type": "stream",
          "text": [
            "fitting response model via method 'bart'\n",
            "\rFinishing iteration 100 of 100"
          ]
        },
        {
          "metadata": {
            "tags": null
          },
          "name": "stderr",
          "output_type": "stream",
          "text": [
            "Warning message in validateXTest(test, attr(x, \"term.labels\"), ncol(x), colnames(x), :\n",
            "“column names of 'test' does not equal that of 'x': 'X1, X2, X3, X4, X5, X6, X7, X8, X9, X10'; match will be made by position”\n"
          ]
        },
        {
          "metadata": {
            "tags": null
          },
          "name": "stdout",
          "output_type": "stream",
          "text": [
            "Total of 1 of 100 iterations completed! (1%)             \rTotal of 2 of 100 iterations completed! (2%)             \rTotal of 3 of 100 iterations completed! (3%)             \rTotal of 4 of 100 iterations completed! (4%)             \rTotal of 5 of 100 iterations completed! (5%)             \rTotal of 6 of 100 iterations completed! (6%)             \rTotal of 7 of 100 iterations completed! (7%)             \rTotal of 8 of 100 iterations completed! (8%)             \rTotal of 9 of 100 iterations completed! (9%)             \rTotal of 10 of 100 iterations completed! (10%)             \rTotal of 11 of 100 iterations completed! (11%)             \rTotal of 12 of 100 iterations completed! (12%)             \rTotal of 13 of 100 iterations completed! (13%)             \rTotal of 14 of 100 iterations completed! (14%)             \rTotal of 15 of 100 iterations completed! (15%)             \rTotal of 16 of 100 iterations completed! (16%)             \rTotal of 17 of 100 iterations completed! (17%)             \rTotal of 18 of 100 iterations completed! (18%)             \rTotal of 19 of 100 iterations completed! (19%)             \rTotal of 20 of 100 iterations completed! (20%)             \rTotal of 21 of 100 iterations completed! (21%)             \rTotal of 22 of 100 iterations completed! (22%)             \rTotal of 23 of 100 iterations completed! (23%)             \rTotal of 24 of 100 iterations completed! (24%)             \rTotal of 25 of 100 iterations completed! (25%)             \rTotal of 26 of 100 iterations completed! (26%)             \rTotal of 27 of 100 iterations completed! (27%)             \rTotal of 28 of 100 iterations completed! (28%)             \rTotal of 29 of 100 iterations completed! (29%)             \rTotal of 30 of 100 iterations completed! (30%)             \rTotal of 31 of 100 iterations completed! (31%)             \rTotal of 32 of 100 iterations completed! (32%)             \rTotal of 33 of 100 iterations completed! (33%)             \rTotal of 34 of 100 iterations completed! (34%)             \rTotal of 35 of 100 iterations completed! (35%)             \rTotal of 36 of 100 iterations completed! (36%)             \rTotal of 37 of 100 iterations completed! (37%)             \rTotal of 38 of 100 iterations completed! (38%)             \rTotal of 39 of 100 iterations completed! (39%)             \rTotal of 40 of 100 iterations completed! (40%)             \rTotal of 41 of 100 iterations completed! (41%)             \rTotal of 42 of 100 iterations completed! (42%)             \rTotal of 43 of 100 iterations completed! (43%)             \rTotal of 44 of 100 iterations completed! (44%)             \rTotal of 45 of 100 iterations completed! (45%)             \rTotal of 46 of 100 iterations completed! (46%)             \rTotal of 47 of 100 iterations completed! (47%)             \rTotal of 48 of 100 iterations completed! (48%)             \rTotal of 49 of 100 iterations completed! (49%)             \rTotal of 50 of 100 iterations completed! (50%)             \rTotal of 51 of 100 iterations completed! (51%)             \rTotal of 52 of 100 iterations completed! (52%)             \rTotal of 53 of 100 iterations completed! (53%)             \rTotal of 54 of 100 iterations completed! (54%)             \rTotal of 55 of 100 iterations completed! (55%)             \rTotal of 56 of 100 iterations completed! (56%)             \rTotal of 57 of 100 iterations completed! (57%)             \rTotal of 58 of 100 iterations completed! (58%)             \rTotal of 59 of 100 iterations completed! (59%)             \rTotal of 60 of 100 iterations completed! (60%)             \rTotal of 61 of 100 iterations completed! (61%)             \rTotal of 62 of 100 iterations completed! (62%)             \rTotal of 63 of 100 iterations completed! (63%)             \rTotal of 64 of 100 iterations completed! (64%)             \rTotal of 65 of 100 iterations completed! (65%)             \rTotal of 66 of 100 iterations completed! (66%)             \rTotal of 67 of 100 iterations completed! (67%)             \rTotal of 68 of 100 iterations completed! (68%)             \rTotal of 69 of 100 iterations completed! (69%)             \rTotal of 70 of 100 iterations completed! (70%)             \rTotal of 71 of 100 iterations completed! (71%)             \rTotal of 72 of 100 iterations completed! (72%)             \rTotal of 73 of 100 iterations completed! (73%)             \rTotal of 74 of 100 iterations completed! (74%)             \rTotal of 75 of 100 iterations completed! (75%)             \rTotal of 76 of 100 iterations completed! (76%)             \rTotal of 77 of 100 iterations completed! (77%)             \rTotal of 78 of 100 iterations completed! (78%)             \rTotal of 79 of 100 iterations completed! (79%)             \rTotal of 80 of 100 iterations completed! (80%)             \rTotal of 81 of 100 iterations completed! (81%)             \rTotal of 82 of 100 iterations completed! (82%)             \rTotal of 83 of 100 iterations completed! (83%)             \rTotal of 84 of 100 iterations completed! (84%)             \rTotal of 85 of 100 iterations completed! (85%)             \rTotal of 86 of 100 iterations completed! (86%)             \rTotal of 87 of 100 iterations completed! (87%)             \rTotal of 88 of 100 iterations completed! (88%)             \rTotal of 89 of 100 iterations completed! (89%)             \rTotal of 90 of 100 iterations completed! (90%)             \rTotal of 91 of 100 iterations completed! (91%)             \rTotal of 92 of 100 iterations completed! (92%)             \rTotal of 93 of 100 iterations completed! (93%)             \rTotal of 94 of 100 iterations completed! (94%)             \rTotal of 95 of 100 iterations completed! (95%)             \rTotal of 96 of 100 iterations completed! (96%)             \rTotal of 97 of 100 iterations completed! (97%)             \rTotal of 98 of 100 iterations completed! (98%)             \rTotal of 99 of 100 iterations completed! (99%)             \rTotal of 100 of 100 iterations completed! (100%)             \rfitting treatment model via method 'bart'\n"
          ]
        },
        {
          "metadata": {
            "tags": null
          },
          "name": "stderr",
          "output_type": "stream",
          "text": [
            "Warning message in bartc(Y[, 1], Z, X, p.scoreAsCovariate = F, n.chains = 1, n.threads = 1, :\n",
            "“for response method 'bart', propensity score not used unless included as covariate”\n"
          ]
        },
        {
          "metadata": {
            "tags": null
          },
          "name": "stdout",
          "output_type": "stream",
          "text": [
            "fitting response model via method 'bart'\n",
            "fitting treatment model via method 'bart'\n"
          ]
        },
        {
          "metadata": {
            "tags": null
          },
          "name": "stderr",
          "output_type": "stream",
          "text": [
            "Warning message in bartc(Y[, 2], Z, X, p.scoreAsCovariate = F, n.chains = 1, n.threads = 1, :\n",
            "“for response method 'bart', propensity score not used unless included as covariate”\n"
          ]
        },
        {
          "metadata": {
            "tags": null
          },
          "name": "stdout",
          "output_type": "stream",
          "text": [
            "fitting response model via method 'bart'\n",
            "\rFinishing iteration 100 of 100"
          ]
        },
        {
          "metadata": {
            "tags": null
          },
          "name": "stderr",
          "output_type": "stream",
          "text": [
            "Warning message in validateXTest(test, attr(x, \"term.labels\"), ncol(x), colnames(x), :\n",
            "“column names of 'test' does not equal that of 'x': 'X1, X2, X3, X4, X5, X6, X7, X8, X9, X10'; match will be made by position”\n"
          ]
        },
        {
          "metadata": {
            "tags": null
          },
          "name": "stdout",
          "output_type": "stream",
          "text": [
            "Total of 1 of 100 iterations completed! (1%)             \rTotal of 2 of 100 iterations completed! (2%)             \rTotal of 3 of 100 iterations completed! (3%)             \rTotal of 4 of 100 iterations completed! (4%)             \rTotal of 5 of 100 iterations completed! (5%)             \rTotal of 6 of 100 iterations completed! (6%)             \rTotal of 7 of 100 iterations completed! (7%)             \rTotal of 8 of 100 iterations completed! (8%)             \rTotal of 9 of 100 iterations completed! (9%)             \rTotal of 10 of 100 iterations completed! (10%)             \rTotal of 11 of 100 iterations completed! (11%)             \rTotal of 12 of 100 iterations completed! (12%)             \rTotal of 13 of 100 iterations completed! (13%)             \rTotal of 14 of 100 iterations completed! (14%)             \rTotal of 15 of 100 iterations completed! (15%)             \rTotal of 16 of 100 iterations completed! (16%)             \rTotal of 17 of 100 iterations completed! (17%)             \rTotal of 18 of 100 iterations completed! (18%)             \rTotal of 19 of 100 iterations completed! (19%)             \rTotal of 20 of 100 iterations completed! (20%)             \rTotal of 21 of 100 iterations completed! (21%)             \rTotal of 22 of 100 iterations completed! (22%)             \rTotal of 23 of 100 iterations completed! (23%)             \rTotal of 24 of 100 iterations completed! (24%)             \rTotal of 25 of 100 iterations completed! (25%)             \rTotal of 26 of 100 iterations completed! (26%)             \rTotal of 27 of 100 iterations completed! (27%)             \rTotal of 28 of 100 iterations completed! (28%)             \rTotal of 29 of 100 iterations completed! (29%)             \rTotal of 30 of 100 iterations completed! (30%)             \rTotal of 31 of 100 iterations completed! (31%)             \rTotal of 32 of 100 iterations completed! (32%)             \rTotal of 33 of 100 iterations completed! (33%)             \rTotal of 34 of 100 iterations completed! (34%)             \rTotal of 35 of 100 iterations completed! (35%)             \rTotal of 36 of 100 iterations completed! (36%)             \rTotal of 37 of 100 iterations completed! (37%)             \rTotal of 38 of 100 iterations completed! (38%)             \rTotal of 39 of 100 iterations completed! (39%)             \rTotal of 40 of 100 iterations completed! (40%)             \rTotal of 41 of 100 iterations completed! (41%)             \rTotal of 42 of 100 iterations completed! (42%)             \rTotal of 43 of 100 iterations completed! (43%)             \rTotal of 44 of 100 iterations completed! (44%)             \rTotal of 45 of 100 iterations completed! (45%)             \rTotal of 46 of 100 iterations completed! (46%)             \rTotal of 47 of 100 iterations completed! (47%)             \rTotal of 48 of 100 iterations completed! (48%)             \rTotal of 49 of 100 iterations completed! (49%)             \rTotal of 50 of 100 iterations completed! (50%)             \rTotal of 51 of 100 iterations completed! (51%)             \rTotal of 52 of 100 iterations completed! (52%)             \rTotal of 53 of 100 iterations completed! (53%)             \rTotal of 54 of 100 iterations completed! (54%)             \rTotal of 55 of 100 iterations completed! (55%)             \rTotal of 56 of 100 iterations completed! (56%)             \rTotal of 57 of 100 iterations completed! (57%)             \rTotal of 58 of 100 iterations completed! (58%)             \rTotal of 59 of 100 iterations completed! (59%)             \rTotal of 60 of 100 iterations completed! (60%)             \rTotal of 61 of 100 iterations completed! (61%)             \rTotal of 62 of 100 iterations completed! (62%)             \rTotal of 63 of 100 iterations completed! (63%)             \rTotal of 64 of 100 iterations completed! (64%)             \rTotal of 65 of 100 iterations completed! (65%)             \rTotal of 66 of 100 iterations completed! (66%)             \rTotal of 67 of 100 iterations completed! (67%)             \rTotal of 68 of 100 iterations completed! (68%)             \rTotal of 69 of 100 iterations completed! (69%)             \rTotal of 70 of 100 iterations completed! (70%)             \rTotal of 71 of 100 iterations completed! (71%)             \rTotal of 72 of 100 iterations completed! (72%)             \rTotal of 73 of 100 iterations completed! (73%)             \rTotal of 74 of 100 iterations completed! (74%)             \rTotal of 75 of 100 iterations completed! (75%)             \rTotal of 76 of 100 iterations completed! (76%)             \rTotal of 77 of 100 iterations completed! (77%)             \rTotal of 78 of 100 iterations completed! (78%)             \rTotal of 79 of 100 iterations completed! (79%)             \rTotal of 80 of 100 iterations completed! (80%)             \rTotal of 81 of 100 iterations completed! (81%)             \rTotal of 82 of 100 iterations completed! (82%)             \rTotal of 83 of 100 iterations completed! (83%)             \rTotal of 84 of 100 iterations completed! (84%)             \rTotal of 85 of 100 iterations completed! (85%)             \rTotal of 86 of 100 iterations completed! (86%)             \rTotal of 87 of 100 iterations completed! (87%)             \rTotal of 88 of 100 iterations completed! (88%)             \rTotal of 89 of 100 iterations completed! (89%)             \rTotal of 90 of 100 iterations completed! (90%)             \rTotal of 91 of 100 iterations completed! (91%)             \rTotal of 92 of 100 iterations completed! (92%)             \rTotal of 93 of 100 iterations completed! (93%)             \rTotal of 94 of 100 iterations completed! (94%)             \rTotal of 95 of 100 iterations completed! (95%)             \rTotal of 96 of 100 iterations completed! (96%)             \rTotal of 97 of 100 iterations completed! (97%)             \rTotal of 98 of 100 iterations completed! (98%)             \rTotal of 99 of 100 iterations completed! (99%)             \rTotal of 100 of 100 iterations completed! (100%)             \rfitting treatment model via method 'bart'\n"
          ]
        },
        {
          "metadata": {
            "tags": null
          },
          "name": "stderr",
          "output_type": "stream",
          "text": [
            "Warning message in bartc(Y[, 1], Z, X, p.scoreAsCovariate = F, n.chains = 1, n.threads = 1, :\n",
            "“for response method 'bart', propensity score not used unless included as covariate”\n"
          ]
        },
        {
          "metadata": {
            "tags": null
          },
          "name": "stdout",
          "output_type": "stream",
          "text": [
            "fitting response model via method 'bart'\n",
            "fitting treatment model via method 'bart'\n"
          ]
        },
        {
          "metadata": {
            "tags": null
          },
          "name": "stderr",
          "output_type": "stream",
          "text": [
            "Warning message in bartc(Y[, 2], Z, X, p.scoreAsCovariate = F, n.chains = 1, n.threads = 1, :\n",
            "“for response method 'bart', propensity score not used unless included as covariate”\n"
          ]
        },
        {
          "metadata": {
            "tags": null
          },
          "name": "stdout",
          "output_type": "stream",
          "text": [
            "fitting response model via method 'bart'\n",
            "\rFinishing iteration 100 of 100"
          ]
        },
        {
          "metadata": {
            "tags": null
          },
          "name": "stderr",
          "output_type": "stream",
          "text": [
            "Warning message in validateXTest(test, attr(x, \"term.labels\"), ncol(x), colnames(x), :\n",
            "“column names of 'test' does not equal that of 'x': 'X1, X2, X3, X4, X5, X6, X7, X8, X9, X10'; match will be made by position”\n"
          ]
        },
        {
          "metadata": {
            "tags": null
          },
          "name": "stdout",
          "output_type": "stream",
          "text": [
            "Total of 1 of 100 iterations completed! (1%)             \rTotal of 2 of 100 iterations completed! (2%)             \rTotal of 3 of 100 iterations completed! (3%)             \rTotal of 4 of 100 iterations completed! (4%)             \rTotal of 5 of 100 iterations completed! (5%)             \rTotal of 6 of 100 iterations completed! (6%)             \rTotal of 7 of 100 iterations completed! (7%)             \rTotal of 8 of 100 iterations completed! (8%)             \rTotal of 9 of 100 iterations completed! (9%)             \rTotal of 10 of 100 iterations completed! (10%)             \rTotal of 11 of 100 iterations completed! (11%)             \rTotal of 12 of 100 iterations completed! (12%)             \rTotal of 13 of 100 iterations completed! (13%)             \rTotal of 14 of 100 iterations completed! (14%)             \rTotal of 15 of 100 iterations completed! (15%)             \rTotal of 16 of 100 iterations completed! (16%)             \rTotal of 17 of 100 iterations completed! (17%)             \rTotal of 18 of 100 iterations completed! (18%)             \rTotal of 19 of 100 iterations completed! (19%)             \rTotal of 20 of 100 iterations completed! (20%)             \rTotal of 21 of 100 iterations completed! (21%)             \rTotal of 22 of 100 iterations completed! (22%)             \rTotal of 23 of 100 iterations completed! (23%)             \rTotal of 24 of 100 iterations completed! (24%)             \rTotal of 25 of 100 iterations completed! (25%)             \rTotal of 26 of 100 iterations completed! (26%)             \rTotal of 27 of 100 iterations completed! (27%)             \rTotal of 28 of 100 iterations completed! (28%)             \rTotal of 29 of 100 iterations completed! (29%)             \rTotal of 30 of 100 iterations completed! (30%)             \rTotal of 31 of 100 iterations completed! (31%)             \rTotal of 32 of 100 iterations completed! (32%)             \rTotal of 33 of 100 iterations completed! (33%)             \rTotal of 34 of 100 iterations completed! (34%)             \rTotal of 35 of 100 iterations completed! (35%)             \rTotal of 36 of 100 iterations completed! (36%)             \rTotal of 37 of 100 iterations completed! (37%)             \rTotal of 38 of 100 iterations completed! (38%)             \rTotal of 39 of 100 iterations completed! (39%)             \rTotal of 40 of 100 iterations completed! (40%)             \rTotal of 41 of 100 iterations completed! (41%)             \rTotal of 42 of 100 iterations completed! (42%)             \rTotal of 43 of 100 iterations completed! (43%)             \rTotal of 44 of 100 iterations completed! (44%)             \rTotal of 45 of 100 iterations completed! (45%)             \rTotal of 46 of 100 iterations completed! (46%)             \rTotal of 47 of 100 iterations completed! (47%)             \rTotal of 48 of 100 iterations completed! (48%)             \rTotal of 49 of 100 iterations completed! (49%)             \rTotal of 50 of 100 iterations completed! (50%)             \rTotal of 51 of 100 iterations completed! (51%)             \rTotal of 52 of 100 iterations completed! (52%)             \rTotal of 53 of 100 iterations completed! (53%)             \rTotal of 54 of 100 iterations completed! (54%)             \rTotal of 55 of 100 iterations completed! (55%)             \rTotal of 56 of 100 iterations completed! (56%)             \rTotal of 57 of 100 iterations completed! (57%)             \rTotal of 58 of 100 iterations completed! (58%)             \rTotal of 59 of 100 iterations completed! (59%)             \rTotal of 60 of 100 iterations completed! (60%)             \rTotal of 61 of 100 iterations completed! (61%)             \rTotal of 62 of 100 iterations completed! (62%)             \rTotal of 63 of 100 iterations completed! (63%)             \rTotal of 64 of 100 iterations completed! (64%)             \rTotal of 65 of 100 iterations completed! (65%)             \rTotal of 66 of 100 iterations completed! (66%)             \rTotal of 67 of 100 iterations completed! (67%)             \rTotal of 68 of 100 iterations completed! (68%)             \rTotal of 69 of 100 iterations completed! (69%)             \rTotal of 70 of 100 iterations completed! (70%)             \rTotal of 71 of 100 iterations completed! (71%)             \rTotal of 72 of 100 iterations completed! (72%)             \rTotal of 73 of 100 iterations completed! (73%)             \rTotal of 74 of 100 iterations completed! (74%)             \rTotal of 75 of 100 iterations completed! (75%)             \rTotal of 76 of 100 iterations completed! (76%)             \rTotal of 77 of 100 iterations completed! (77%)             \rTotal of 78 of 100 iterations completed! (78%)             \rTotal of 79 of 100 iterations completed! (79%)             \rTotal of 80 of 100 iterations completed! (80%)             \rTotal of 81 of 100 iterations completed! (81%)             \rTotal of 82 of 100 iterations completed! (82%)             \rTotal of 83 of 100 iterations completed! (83%)             \rTotal of 84 of 100 iterations completed! (84%)             \rTotal of 85 of 100 iterations completed! (85%)             \rTotal of 86 of 100 iterations completed! (86%)             \rTotal of 87 of 100 iterations completed! (87%)             \rTotal of 88 of 100 iterations completed! (88%)             \rTotal of 89 of 100 iterations completed! (89%)             \rTotal of 90 of 100 iterations completed! (90%)             \rTotal of 91 of 100 iterations completed! (91%)             \rTotal of 92 of 100 iterations completed! (92%)             \rTotal of 93 of 100 iterations completed! (93%)             \rTotal of 94 of 100 iterations completed! (94%)             \rTotal of 95 of 100 iterations completed! (95%)             \rTotal of 96 of 100 iterations completed! (96%)             \rTotal of 97 of 100 iterations completed! (97%)             \rTotal of 98 of 100 iterations completed! (98%)             \rTotal of 99 of 100 iterations completed! (99%)             \rTotal of 100 of 100 iterations completed! (100%)             \rfitting treatment model via method 'bart'\n"
          ]
        },
        {
          "metadata": {
            "tags": null
          },
          "name": "stderr",
          "output_type": "stream",
          "text": [
            "Warning message in bartc(Y[, 1], Z, X, p.scoreAsCovariate = F, n.chains = 1, n.threads = 1, :\n",
            "“for response method 'bart', propensity score not used unless included as covariate”\n"
          ]
        },
        {
          "metadata": {
            "tags": null
          },
          "name": "stdout",
          "output_type": "stream",
          "text": [
            "fitting response model via method 'bart'\n",
            "fitting treatment model via method 'bart'\n"
          ]
        },
        {
          "metadata": {
            "tags": null
          },
          "name": "stderr",
          "output_type": "stream",
          "text": [
            "Warning message in bartc(Y[, 2], Z, X, p.scoreAsCovariate = F, n.chains = 1, n.threads = 1, :\n",
            "“for response method 'bart', propensity score not used unless included as covariate”\n"
          ]
        },
        {
          "metadata": {
            "tags": null
          },
          "name": "stdout",
          "output_type": "stream",
          "text": [
            "fitting response model via method 'bart'\n",
            "\rFinishing iteration 100 of 100\n",
            "After 30 simulations:\n",
            "Comparison 1: Power = 0.5297, p-value = 0.4389, adjusted p-value = 0.4389\n",
            "Comparison 2: Power = 0.3609, p-value = 0.0444, adjusted p-value = 0.1333\n",
            "Comparison 3: Power = 0.2506, p-value = 0.0836, adjusted p-value = 0.1672\n",
            "Comparison 4: Power = 0.2581, p-value = 0.0152, adjusted p-value = 0.0608\n",
            "Minimum power: 0.2505786 \n",
            "\n",
            "Iteration 3: Running batch of 10 simulations (total will be 40)...\n"
          ]
        },
        {
          "metadata": {
            "tags": null
          },
          "name": "stderr",
          "output_type": "stream",
          "text": [
            "Warning message in validateXTest(test, attr(x, \"term.labels\"), ncol(x), colnames(x), :\n",
            "“column names of 'test' does not equal that of 'x': 'X1, X2, X3, X4, X5, X6, X7, X8, X9, X10'; match will be made by position”\n"
          ]
        },
        {
          "metadata": {
            "tags": null
          },
          "name": "stdout",
          "output_type": "stream",
          "text": [
            "Total of 1 of 100 iterations completed! (1%)             \rTotal of 2 of 100 iterations completed! (2%)             \rTotal of 3 of 100 iterations completed! (3%)             \rTotal of 4 of 100 iterations completed! (4%)             \rTotal of 5 of 100 iterations completed! (5%)             \rTotal of 6 of 100 iterations completed! (6%)             \rTotal of 7 of 100 iterations completed! (7%)             \rTotal of 8 of 100 iterations completed! (8%)             \rTotal of 9 of 100 iterations completed! (9%)             \rTotal of 10 of 100 iterations completed! (10%)             \rTotal of 11 of 100 iterations completed! (11%)             \rTotal of 12 of 100 iterations completed! (12%)             \rTotal of 13 of 100 iterations completed! (13%)             \rTotal of 14 of 100 iterations completed! (14%)             \rTotal of 15 of 100 iterations completed! (15%)             \rTotal of 16 of 100 iterations completed! (16%)             \rTotal of 17 of 100 iterations completed! (17%)             \rTotal of 18 of 100 iterations completed! (18%)             \rTotal of 19 of 100 iterations completed! (19%)             \rTotal of 20 of 100 iterations completed! (20%)             \rTotal of 21 of 100 iterations completed! (21%)             \rTotal of 22 of 100 iterations completed! (22%)             \rTotal of 23 of 100 iterations completed! (23%)             \rTotal of 24 of 100 iterations completed! (24%)             \rTotal of 25 of 100 iterations completed! (25%)             \rTotal of 26 of 100 iterations completed! (26%)             \rTotal of 27 of 100 iterations completed! (27%)             \rTotal of 28 of 100 iterations completed! (28%)             \rTotal of 29 of 100 iterations completed! (29%)             \rTotal of 30 of 100 iterations completed! (30%)             \rTotal of 31 of 100 iterations completed! (31%)             \rTotal of 32 of 100 iterations completed! (32%)             \rTotal of 33 of 100 iterations completed! (33%)             \rTotal of 34 of 100 iterations completed! (34%)             \rTotal of 35 of 100 iterations completed! (35%)             \rTotal of 36 of 100 iterations completed! (36%)             \rTotal of 37 of 100 iterations completed! (37%)             \rTotal of 38 of 100 iterations completed! (38%)             \rTotal of 39 of 100 iterations completed! (39%)             \rTotal of 40 of 100 iterations completed! (40%)             \rTotal of 41 of 100 iterations completed! (41%)             \rTotal of 42 of 100 iterations completed! (42%)             \rTotal of 43 of 100 iterations completed! (43%)             \rTotal of 44 of 100 iterations completed! (44%)             \rTotal of 45 of 100 iterations completed! (45%)             \rTotal of 46 of 100 iterations completed! (46%)             \rTotal of 47 of 100 iterations completed! (47%)             \rTotal of 48 of 100 iterations completed! (48%)             \rTotal of 49 of 100 iterations completed! (49%)             \rTotal of 50 of 100 iterations completed! (50%)             \rTotal of 51 of 100 iterations completed! (51%)             \rTotal of 52 of 100 iterations completed! (52%)             \rTotal of 53 of 100 iterations completed! (53%)             \rTotal of 54 of 100 iterations completed! (54%)             \rTotal of 55 of 100 iterations completed! (55%)             \rTotal of 56 of 100 iterations completed! (56%)             \rTotal of 57 of 100 iterations completed! (57%)             \rTotal of 58 of 100 iterations completed! (58%)             \rTotal of 59 of 100 iterations completed! (59%)             \rTotal of 60 of 100 iterations completed! (60%)             \rTotal of 61 of 100 iterations completed! (61%)             \rTotal of 62 of 100 iterations completed! (62%)             \rTotal of 63 of 100 iterations completed! (63%)             \rTotal of 64 of 100 iterations completed! (64%)             \rTotal of 65 of 100 iterations completed! (65%)             \rTotal of 66 of 100 iterations completed! (66%)             \rTotal of 67 of 100 iterations completed! (67%)             \rTotal of 68 of 100 iterations completed! (68%)             \rTotal of 69 of 100 iterations completed! (69%)             \rTotal of 70 of 100 iterations completed! (70%)             \rTotal of 71 of 100 iterations completed! (71%)             \rTotal of 72 of 100 iterations completed! (72%)             \rTotal of 73 of 100 iterations completed! (73%)             \rTotal of 74 of 100 iterations completed! (74%)             \rTotal of 75 of 100 iterations completed! (75%)             \rTotal of 76 of 100 iterations completed! (76%)             \rTotal of 77 of 100 iterations completed! (77%)             \rTotal of 78 of 100 iterations completed! (78%)             \rTotal of 79 of 100 iterations completed! (79%)             \rTotal of 80 of 100 iterations completed! (80%)             \rTotal of 81 of 100 iterations completed! (81%)             \rTotal of 82 of 100 iterations completed! (82%)             \rTotal of 83 of 100 iterations completed! (83%)             \rTotal of 84 of 100 iterations completed! (84%)             \rTotal of 85 of 100 iterations completed! (85%)             \rTotal of 86 of 100 iterations completed! (86%)             \rTotal of 87 of 100 iterations completed! (87%)             \rTotal of 88 of 100 iterations completed! (88%)             \rTotal of 89 of 100 iterations completed! (89%)             \rTotal of 90 of 100 iterations completed! (90%)             \rTotal of 91 of 100 iterations completed! (91%)             \rTotal of 92 of 100 iterations completed! (92%)             \rTotal of 93 of 100 iterations completed! (93%)             \rTotal of 94 of 100 iterations completed! (94%)             \rTotal of 95 of 100 iterations completed! (95%)             \rTotal of 96 of 100 iterations completed! (96%)             \rTotal of 97 of 100 iterations completed! (97%)             \rTotal of 98 of 100 iterations completed! (98%)             \rTotal of 99 of 100 iterations completed! (99%)             \rTotal of 100 of 100 iterations completed! (100%)             \rfitting treatment model via method 'bart'\n"
          ]
        },
        {
          "metadata": {
            "tags": null
          },
          "name": "stderr",
          "output_type": "stream",
          "text": [
            "Warning message in bartc(Y[, 1], Z, X, p.scoreAsCovariate = F, n.chains = 1, n.threads = 1, :\n",
            "“for response method 'bart', propensity score not used unless included as covariate”\n"
          ]
        },
        {
          "metadata": {
            "tags": null
          },
          "name": "stdout",
          "output_type": "stream",
          "text": [
            "fitting response model via method 'bart'\n",
            "fitting treatment model via method 'bart'\n"
          ]
        },
        {
          "metadata": {
            "tags": null
          },
          "name": "stderr",
          "output_type": "stream",
          "text": [
            "Warning message in bartc(Y[, 2], Z, X, p.scoreAsCovariate = F, n.chains = 1, n.threads = 1, :\n",
            "“for response method 'bart', propensity score not used unless included as covariate”\n"
          ]
        },
        {
          "metadata": {
            "tags": null
          },
          "name": "stdout",
          "output_type": "stream",
          "text": [
            "fitting response model via method 'bart'\n",
            "\rFinishing iteration 100 of 100"
          ]
        },
        {
          "metadata": {
            "tags": null
          },
          "name": "stderr",
          "output_type": "stream",
          "text": [
            "Warning message in validateXTest(test, attr(x, \"term.labels\"), ncol(x), colnames(x), :\n",
            "“column names of 'test' does not equal that of 'x': 'X1, X2, X3, X4, X5, X6, X7, X8, X9, X10'; match will be made by position”\n"
          ]
        },
        {
          "metadata": {
            "tags": null
          },
          "name": "stdout",
          "output_type": "stream",
          "text": [
            "Total of 1 of 100 iterations completed! (1%)             \rTotal of 2 of 100 iterations completed! (2%)             \rTotal of 3 of 100 iterations completed! (3%)             \rTotal of 4 of 100 iterations completed! (4%)             \rTotal of 5 of 100 iterations completed! (5%)             \rTotal of 6 of 100 iterations completed! (6%)             \rTotal of 7 of 100 iterations completed! (7%)             \rTotal of 8 of 100 iterations completed! (8%)             \rTotal of 9 of 100 iterations completed! (9%)             \rTotal of 10 of 100 iterations completed! (10%)             \rTotal of 11 of 100 iterations completed! (11%)             \rTotal of 12 of 100 iterations completed! (12%)             \rTotal of 13 of 100 iterations completed! (13%)             \rTotal of 14 of 100 iterations completed! (14%)             \rTotal of 15 of 100 iterations completed! (15%)             \rTotal of 16 of 100 iterations completed! (16%)             \rTotal of 17 of 100 iterations completed! (17%)             \rTotal of 18 of 100 iterations completed! (18%)             \rTotal of 19 of 100 iterations completed! (19%)             \rTotal of 20 of 100 iterations completed! (20%)             \rTotal of 21 of 100 iterations completed! (21%)             \rTotal of 22 of 100 iterations completed! (22%)             \rTotal of 23 of 100 iterations completed! (23%)             \rTotal of 24 of 100 iterations completed! (24%)             \rTotal of 25 of 100 iterations completed! (25%)             \rTotal of 26 of 100 iterations completed! (26%)             \rTotal of 27 of 100 iterations completed! (27%)             \rTotal of 28 of 100 iterations completed! (28%)             \rTotal of 29 of 100 iterations completed! (29%)             \rTotal of 30 of 100 iterations completed! (30%)             \rTotal of 31 of 100 iterations completed! (31%)             \rTotal of 32 of 100 iterations completed! (32%)             \rTotal of 33 of 100 iterations completed! (33%)             \rTotal of 34 of 100 iterations completed! (34%)             \rTotal of 35 of 100 iterations completed! (35%)             \rTotal of 36 of 100 iterations completed! (36%)             \rTotal of 37 of 100 iterations completed! (37%)             \rTotal of 38 of 100 iterations completed! (38%)             \rTotal of 39 of 100 iterations completed! (39%)             \rTotal of 40 of 100 iterations completed! (40%)             \rTotal of 41 of 100 iterations completed! (41%)             \rTotal of 42 of 100 iterations completed! (42%)             \rTotal of 43 of 100 iterations completed! (43%)             \rTotal of 44 of 100 iterations completed! (44%)             \rTotal of 45 of 100 iterations completed! (45%)             \rTotal of 46 of 100 iterations completed! (46%)             \rTotal of 47 of 100 iterations completed! (47%)             \rTotal of 48 of 100 iterations completed! (48%)             \rTotal of 49 of 100 iterations completed! (49%)             \rTotal of 50 of 100 iterations completed! (50%)             \rTotal of 51 of 100 iterations completed! (51%)             \rTotal of 52 of 100 iterations completed! (52%)             \rTotal of 53 of 100 iterations completed! (53%)             \rTotal of 54 of 100 iterations completed! (54%)             \rTotal of 55 of 100 iterations completed! (55%)             \rTotal of 56 of 100 iterations completed! (56%)             \rTotal of 57 of 100 iterations completed! (57%)             \rTotal of 58 of 100 iterations completed! (58%)             \rTotal of 59 of 100 iterations completed! (59%)             \rTotal of 60 of 100 iterations completed! (60%)             \rTotal of 61 of 100 iterations completed! (61%)             \rTotal of 62 of 100 iterations completed! (62%)             \rTotal of 63 of 100 iterations completed! (63%)             \rTotal of 64 of 100 iterations completed! (64%)             \rTotal of 65 of 100 iterations completed! (65%)             \rTotal of 66 of 100 iterations completed! (66%)             \rTotal of 67 of 100 iterations completed! (67%)             \rTotal of 68 of 100 iterations completed! (68%)             \rTotal of 69 of 100 iterations completed! (69%)             \rTotal of 70 of 100 iterations completed! (70%)             \rTotal of 71 of 100 iterations completed! (71%)             \rTotal of 72 of 100 iterations completed! (72%)             \rTotal of 73 of 100 iterations completed! (73%)             \rTotal of 74 of 100 iterations completed! (74%)             \rTotal of 75 of 100 iterations completed! (75%)             \rTotal of 76 of 100 iterations completed! (76%)             \rTotal of 77 of 100 iterations completed! (77%)             \rTotal of 78 of 100 iterations completed! (78%)             \rTotal of 79 of 100 iterations completed! (79%)             \rTotal of 80 of 100 iterations completed! (80%)             \rTotal of 81 of 100 iterations completed! (81%)             \rTotal of 82 of 100 iterations completed! (82%)             \rTotal of 83 of 100 iterations completed! (83%)             \rTotal of 84 of 100 iterations completed! (84%)             \rTotal of 85 of 100 iterations completed! (85%)             \rTotal of 86 of 100 iterations completed! (86%)             \rTotal of 87 of 100 iterations completed! (87%)             \rTotal of 88 of 100 iterations completed! (88%)             \rTotal of 89 of 100 iterations completed! (89%)             \rTotal of 90 of 100 iterations completed! (90%)             \rTotal of 91 of 100 iterations completed! (91%)             \rTotal of 92 of 100 iterations completed! (92%)             \rTotal of 93 of 100 iterations completed! (93%)             \rTotal of 94 of 100 iterations completed! (94%)             \rTotal of 95 of 100 iterations completed! (95%)             \rTotal of 96 of 100 iterations completed! (96%)             \rTotal of 97 of 100 iterations completed! (97%)             \rTotal of 98 of 100 iterations completed! (98%)             \rTotal of 99 of 100 iterations completed! (99%)             \rTotal of 100 of 100 iterations completed! (100%)             \rfitting treatment model via method 'bart'\n"
          ]
        },
        {
          "metadata": {
            "tags": null
          },
          "name": "stderr",
          "output_type": "stream",
          "text": [
            "Warning message in bartc(Y[, 1], Z, X, p.scoreAsCovariate = F, n.chains = 1, n.threads = 1, :\n",
            "“for response method 'bart', propensity score not used unless included as covariate”\n"
          ]
        },
        {
          "metadata": {
            "tags": null
          },
          "name": "stdout",
          "output_type": "stream",
          "text": [
            "fitting response model via method 'bart'\n",
            "fitting treatment model via method 'bart'\n"
          ]
        },
        {
          "metadata": {
            "tags": null
          },
          "name": "stderr",
          "output_type": "stream",
          "text": [
            "Warning message in bartc(Y[, 2], Z, X, p.scoreAsCovariate = F, n.chains = 1, n.threads = 1, :\n",
            "“for response method 'bart', propensity score not used unless included as covariate”\n"
          ]
        },
        {
          "metadata": {
            "tags": null
          },
          "name": "stdout",
          "output_type": "stream",
          "text": [
            "fitting response model via method 'bart'\n",
            "\rFinishing iteration 100 of 100"
          ]
        },
        {
          "metadata": {
            "tags": null
          },
          "name": "stderr",
          "output_type": "stream",
          "text": [
            "Warning message in validateXTest(test, attr(x, \"term.labels\"), ncol(x), colnames(x), :\n",
            "“column names of 'test' does not equal that of 'x': 'X1, X2, X3, X4, X5, X6, X7, X8, X9, X10'; match will be made by position”\n"
          ]
        },
        {
          "metadata": {
            "tags": null
          },
          "name": "stdout",
          "output_type": "stream",
          "text": [
            "Total of 1 of 100 iterations completed! (1%)             \rTotal of 2 of 100 iterations completed! (2%)             \rTotal of 3 of 100 iterations completed! (3%)             \rTotal of 4 of 100 iterations completed! (4%)             \rTotal of 5 of 100 iterations completed! (5%)             \rTotal of 6 of 100 iterations completed! (6%)             \rTotal of 7 of 100 iterations completed! (7%)             \rTotal of 8 of 100 iterations completed! (8%)             \rTotal of 9 of 100 iterations completed! (9%)             \rTotal of 10 of 100 iterations completed! (10%)             \rTotal of 11 of 100 iterations completed! (11%)             \rTotal of 12 of 100 iterations completed! (12%)             \rTotal of 13 of 100 iterations completed! (13%)             \rTotal of 14 of 100 iterations completed! (14%)             \rTotal of 15 of 100 iterations completed! (15%)             \rTotal of 16 of 100 iterations completed! (16%)             \rTotal of 17 of 100 iterations completed! (17%)             \rTotal of 18 of 100 iterations completed! (18%)             \rTotal of 19 of 100 iterations completed! (19%)             \rTotal of 20 of 100 iterations completed! (20%)             \rTotal of 21 of 100 iterations completed! (21%)             \rTotal of 22 of 100 iterations completed! (22%)             \rTotal of 23 of 100 iterations completed! (23%)             \rTotal of 24 of 100 iterations completed! (24%)             \rTotal of 25 of 100 iterations completed! (25%)             \rTotal of 26 of 100 iterations completed! (26%)             \rTotal of 27 of 100 iterations completed! (27%)             \rTotal of 28 of 100 iterations completed! (28%)             \rTotal of 29 of 100 iterations completed! (29%)             \rTotal of 30 of 100 iterations completed! (30%)             \rTotal of 31 of 100 iterations completed! (31%)             \rTotal of 32 of 100 iterations completed! (32%)             \rTotal of 33 of 100 iterations completed! (33%)             \rTotal of 34 of 100 iterations completed! (34%)             \rTotal of 35 of 100 iterations completed! (35%)             \rTotal of 36 of 100 iterations completed! (36%)             \rTotal of 37 of 100 iterations completed! (37%)             \rTotal of 38 of 100 iterations completed! (38%)             \rTotal of 39 of 100 iterations completed! (39%)             \rTotal of 40 of 100 iterations completed! (40%)             \rTotal of 41 of 100 iterations completed! (41%)             \rTotal of 42 of 100 iterations completed! (42%)             \rTotal of 43 of 100 iterations completed! (43%)             \rTotal of 44 of 100 iterations completed! (44%)             \rTotal of 45 of 100 iterations completed! (45%)             \rTotal of 46 of 100 iterations completed! (46%)             \rTotal of 47 of 100 iterations completed! (47%)             \rTotal of 48 of 100 iterations completed! (48%)             \rTotal of 49 of 100 iterations completed! (49%)             \rTotal of 50 of 100 iterations completed! (50%)             \rTotal of 51 of 100 iterations completed! (51%)             \rTotal of 52 of 100 iterations completed! (52%)             \rTotal of 53 of 100 iterations completed! (53%)             \rTotal of 54 of 100 iterations completed! (54%)             \rTotal of 55 of 100 iterations completed! (55%)             \rTotal of 56 of 100 iterations completed! (56%)             \rTotal of 57 of 100 iterations completed! (57%)             \rTotal of 58 of 100 iterations completed! (58%)             \rTotal of 59 of 100 iterations completed! (59%)             \rTotal of 60 of 100 iterations completed! (60%)             \rTotal of 61 of 100 iterations completed! (61%)             \rTotal of 62 of 100 iterations completed! (62%)             \rTotal of 63 of 100 iterations completed! (63%)             \rTotal of 64 of 100 iterations completed! (64%)             \rTotal of 65 of 100 iterations completed! (65%)             \rTotal of 66 of 100 iterations completed! (66%)             \rTotal of 67 of 100 iterations completed! (67%)             \rTotal of 68 of 100 iterations completed! (68%)             \rTotal of 69 of 100 iterations completed! (69%)             \rTotal of 70 of 100 iterations completed! (70%)             \rTotal of 71 of 100 iterations completed! (71%)             \rTotal of 72 of 100 iterations completed! (72%)             \rTotal of 73 of 100 iterations completed! (73%)             \rTotal of 74 of 100 iterations completed! (74%)             \rTotal of 75 of 100 iterations completed! (75%)             \rTotal of 76 of 100 iterations completed! (76%)             \rTotal of 77 of 100 iterations completed! (77%)             \rTotal of 78 of 100 iterations completed! (78%)             \rTotal of 79 of 100 iterations completed! (79%)             \rTotal of 80 of 100 iterations completed! (80%)             \rTotal of 81 of 100 iterations completed! (81%)             \rTotal of 82 of 100 iterations completed! (82%)             \rTotal of 83 of 100 iterations completed! (83%)             \rTotal of 84 of 100 iterations completed! (84%)             \rTotal of 85 of 100 iterations completed! (85%)             \rTotal of 86 of 100 iterations completed! (86%)             \rTotal of 87 of 100 iterations completed! (87%)             \rTotal of 88 of 100 iterations completed! (88%)             \rTotal of 89 of 100 iterations completed! (89%)             \rTotal of 90 of 100 iterations completed! (90%)             \rTotal of 91 of 100 iterations completed! (91%)             \rTotal of 92 of 100 iterations completed! (92%)             \rTotal of 93 of 100 iterations completed! (93%)             \rTotal of 94 of 100 iterations completed! (94%)             \rTotal of 95 of 100 iterations completed! (95%)             \rTotal of 96 of 100 iterations completed! (96%)             \rTotal of 97 of 100 iterations completed! (97%)             \rTotal of 98 of 100 iterations completed! (98%)             \rTotal of 99 of 100 iterations completed! (99%)             \rTotal of 100 of 100 iterations completed! (100%)             \rfitting treatment model via method 'bart'\n"
          ]
        },
        {
          "metadata": {
            "tags": null
          },
          "name": "stderr",
          "output_type": "stream",
          "text": [
            "Warning message in bartc(Y[, 1], Z, X, p.scoreAsCovariate = F, n.chains = 1, n.threads = 1, :\n",
            "“for response method 'bart', propensity score not used unless included as covariate”\n"
          ]
        },
        {
          "metadata": {
            "tags": null
          },
          "name": "stdout",
          "output_type": "stream",
          "text": [
            "fitting response model via method 'bart'\n",
            "fitting treatment model via method 'bart'\n"
          ]
        },
        {
          "metadata": {
            "tags": null
          },
          "name": "stderr",
          "output_type": "stream",
          "text": [
            "Warning message in bartc(Y[, 2], Z, X, p.scoreAsCovariate = F, n.chains = 1, n.threads = 1, :\n",
            "“for response method 'bart', propensity score not used unless included as covariate”\n"
          ]
        },
        {
          "metadata": {
            "tags": null
          },
          "name": "stdout",
          "output_type": "stream",
          "text": [
            "fitting response model via method 'bart'\n",
            "\rFinishing iteration 100 of 100"
          ]
        },
        {
          "metadata": {
            "tags": null
          },
          "name": "stderr",
          "output_type": "stream",
          "text": [
            "Warning message in validateXTest(test, attr(x, \"term.labels\"), ncol(x), colnames(x), :\n",
            "“column names of 'test' does not equal that of 'x': 'X1, X2, X3, X4, X5, X6, X7, X8, X9, X10'; match will be made by position”\n"
          ]
        },
        {
          "metadata": {
            "tags": null
          },
          "name": "stdout",
          "output_type": "stream",
          "text": [
            "Total of 1 of 100 iterations completed! (1%)             \rTotal of 2 of 100 iterations completed! (2%)             \rTotal of 3 of 100 iterations completed! (3%)             \rTotal of 4 of 100 iterations completed! (4%)             \rTotal of 5 of 100 iterations completed! (5%)             \rTotal of 6 of 100 iterations completed! (6%)             \rTotal of 7 of 100 iterations completed! (7%)             \rTotal of 8 of 100 iterations completed! (8%)             \rTotal of 9 of 100 iterations completed! (9%)             \rTotal of 10 of 100 iterations completed! (10%)             \rTotal of 11 of 100 iterations completed! (11%)             \rTotal of 12 of 100 iterations completed! (12%)             \rTotal of 13 of 100 iterations completed! (13%)             \rTotal of 14 of 100 iterations completed! (14%)             \rTotal of 15 of 100 iterations completed! (15%)             \rTotal of 16 of 100 iterations completed! (16%)             \rTotal of 17 of 100 iterations completed! (17%)             \rTotal of 18 of 100 iterations completed! (18%)             \rTotal of 19 of 100 iterations completed! (19%)             \rTotal of 20 of 100 iterations completed! (20%)             \rTotal of 21 of 100 iterations completed! (21%)             \rTotal of 22 of 100 iterations completed! (22%)             \rTotal of 23 of 100 iterations completed! (23%)             \rTotal of 24 of 100 iterations completed! (24%)             \rTotal of 25 of 100 iterations completed! (25%)             \rTotal of 26 of 100 iterations completed! (26%)             \rTotal of 27 of 100 iterations completed! (27%)             \rTotal of 28 of 100 iterations completed! (28%)             \rTotal of 29 of 100 iterations completed! (29%)             \rTotal of 30 of 100 iterations completed! (30%)             \rTotal of 31 of 100 iterations completed! (31%)             \rTotal of 32 of 100 iterations completed! (32%)             \rTotal of 33 of 100 iterations completed! (33%)             \rTotal of 34 of 100 iterations completed! (34%)             \rTotal of 35 of 100 iterations completed! (35%)             \rTotal of 36 of 100 iterations completed! (36%)             \rTotal of 37 of 100 iterations completed! (37%)             \rTotal of 38 of 100 iterations completed! (38%)             \rTotal of 39 of 100 iterations completed! (39%)             \rTotal of 40 of 100 iterations completed! (40%)             \rTotal of 41 of 100 iterations completed! (41%)             \rTotal of 42 of 100 iterations completed! (42%)             \rTotal of 43 of 100 iterations completed! (43%)             \rTotal of 44 of 100 iterations completed! (44%)             \rTotal of 45 of 100 iterations completed! (45%)             \rTotal of 46 of 100 iterations completed! (46%)             \rTotal of 47 of 100 iterations completed! (47%)             \rTotal of 48 of 100 iterations completed! (48%)             \rTotal of 49 of 100 iterations completed! (49%)             \rTotal of 50 of 100 iterations completed! (50%)             \rTotal of 51 of 100 iterations completed! (51%)             \rTotal of 52 of 100 iterations completed! (52%)             \rTotal of 53 of 100 iterations completed! (53%)             \rTotal of 54 of 100 iterations completed! (54%)             \rTotal of 55 of 100 iterations completed! (55%)             \rTotal of 56 of 100 iterations completed! (56%)             \rTotal of 57 of 100 iterations completed! (57%)             \rTotal of 58 of 100 iterations completed! (58%)             \rTotal of 59 of 100 iterations completed! (59%)             \rTotal of 60 of 100 iterations completed! (60%)             \rTotal of 61 of 100 iterations completed! (61%)             \rTotal of 62 of 100 iterations completed! (62%)             \rTotal of 63 of 100 iterations completed! (63%)             \rTotal of 64 of 100 iterations completed! (64%)             \rTotal of 65 of 100 iterations completed! (65%)             \rTotal of 66 of 100 iterations completed! (66%)             \rTotal of 67 of 100 iterations completed! (67%)             \rTotal of 68 of 100 iterations completed! (68%)             \rTotal of 69 of 100 iterations completed! (69%)             \rTotal of 70 of 100 iterations completed! (70%)             \rTotal of 71 of 100 iterations completed! (71%)             \rTotal of 72 of 100 iterations completed! (72%)             \rTotal of 73 of 100 iterations completed! (73%)             \rTotal of 74 of 100 iterations completed! (74%)             \rTotal of 75 of 100 iterations completed! (75%)             \rTotal of 76 of 100 iterations completed! (76%)             \rTotal of 77 of 100 iterations completed! (77%)             \rTotal of 78 of 100 iterations completed! (78%)             \rTotal of 79 of 100 iterations completed! (79%)             \rTotal of 80 of 100 iterations completed! (80%)             \rTotal of 81 of 100 iterations completed! (81%)             \rTotal of 82 of 100 iterations completed! (82%)             \rTotal of 83 of 100 iterations completed! (83%)             \rTotal of 84 of 100 iterations completed! (84%)             \rTotal of 85 of 100 iterations completed! (85%)             \rTotal of 86 of 100 iterations completed! (86%)             \rTotal of 87 of 100 iterations completed! (87%)             \rTotal of 88 of 100 iterations completed! (88%)             \rTotal of 89 of 100 iterations completed! (89%)             \rTotal of 90 of 100 iterations completed! (90%)             \rTotal of 91 of 100 iterations completed! (91%)             \rTotal of 92 of 100 iterations completed! (92%)             \rTotal of 93 of 100 iterations completed! (93%)             \rTotal of 94 of 100 iterations completed! (94%)             \rTotal of 95 of 100 iterations completed! (95%)             \rTotal of 96 of 100 iterations completed! (96%)             \rTotal of 97 of 100 iterations completed! (97%)             \rTotal of 98 of 100 iterations completed! (98%)             \rTotal of 99 of 100 iterations completed! (99%)             \rTotal of 100 of 100 iterations completed! (100%)             \rfitting treatment model via method 'bart'\n"
          ]
        },
        {
          "metadata": {
            "tags": null
          },
          "name": "stderr",
          "output_type": "stream",
          "text": [
            "Warning message in bartc(Y[, 1], Z, X, p.scoreAsCovariate = F, n.chains = 1, n.threads = 1, :\n",
            "“for response method 'bart', propensity score not used unless included as covariate”\n"
          ]
        },
        {
          "metadata": {
            "tags": null
          },
          "name": "stdout",
          "output_type": "stream",
          "text": [
            "fitting response model via method 'bart'\n",
            "fitting treatment model via method 'bart'\n"
          ]
        },
        {
          "metadata": {
            "tags": null
          },
          "name": "stderr",
          "output_type": "stream",
          "text": [
            "Warning message in bartc(Y[, 2], Z, X, p.scoreAsCovariate = F, n.chains = 1, n.threads = 1, :\n",
            "“for response method 'bart', propensity score not used unless included as covariate”\n"
          ]
        },
        {
          "metadata": {
            "tags": null
          },
          "name": "stdout",
          "output_type": "stream",
          "text": [
            "fitting response model via method 'bart'\n",
            "\rFinishing iteration 100 of 100"
          ]
        },
        {
          "metadata": {
            "tags": null
          },
          "name": "stderr",
          "output_type": "stream",
          "text": [
            "Warning message in validateXTest(test, attr(x, \"term.labels\"), ncol(x), colnames(x), :\n",
            "“column names of 'test' does not equal that of 'x': 'X1, X2, X3, X4, X5, X6, X7, X8, X9, X10'; match will be made by position”\n"
          ]
        },
        {
          "metadata": {
            "tags": null
          },
          "name": "stdout",
          "output_type": "stream",
          "text": [
            "Total of 1 of 100 iterations completed! (1%)             \rTotal of 2 of 100 iterations completed! (2%)             \rTotal of 3 of 100 iterations completed! (3%)             \rTotal of 4 of 100 iterations completed! (4%)             \rTotal of 5 of 100 iterations completed! (5%)             \rTotal of 6 of 100 iterations completed! (6%)             \rTotal of 7 of 100 iterations completed! (7%)             \rTotal of 8 of 100 iterations completed! (8%)             \rTotal of 9 of 100 iterations completed! (9%)             \rTotal of 10 of 100 iterations completed! (10%)             \rTotal of 11 of 100 iterations completed! (11%)             \rTotal of 12 of 100 iterations completed! (12%)             \rTotal of 13 of 100 iterations completed! (13%)             \rTotal of 14 of 100 iterations completed! (14%)             \rTotal of 15 of 100 iterations completed! (15%)             \rTotal of 16 of 100 iterations completed! (16%)             \rTotal of 17 of 100 iterations completed! (17%)             \rTotal of 18 of 100 iterations completed! (18%)             \rTotal of 19 of 100 iterations completed! (19%)             \rTotal of 20 of 100 iterations completed! (20%)             \rTotal of 21 of 100 iterations completed! (21%)             \rTotal of 22 of 100 iterations completed! (22%)             \rTotal of 23 of 100 iterations completed! (23%)             \rTotal of 24 of 100 iterations completed! (24%)             \rTotal of 25 of 100 iterations completed! (25%)             \rTotal of 26 of 100 iterations completed! (26%)             \rTotal of 27 of 100 iterations completed! (27%)             \rTotal of 28 of 100 iterations completed! (28%)             \rTotal of 29 of 100 iterations completed! (29%)             \rTotal of 30 of 100 iterations completed! (30%)             \rTotal of 31 of 100 iterations completed! (31%)             \rTotal of 32 of 100 iterations completed! (32%)             \rTotal of 33 of 100 iterations completed! (33%)             \rTotal of 34 of 100 iterations completed! (34%)             \rTotal of 35 of 100 iterations completed! (35%)             \rTotal of 36 of 100 iterations completed! (36%)             \rTotal of 37 of 100 iterations completed! (37%)             \rTotal of 38 of 100 iterations completed! (38%)             \rTotal of 39 of 100 iterations completed! (39%)             \rTotal of 40 of 100 iterations completed! (40%)             \rTotal of 41 of 100 iterations completed! (41%)             \rTotal of 42 of 100 iterations completed! (42%)             \rTotal of 43 of 100 iterations completed! (43%)             \rTotal of 44 of 100 iterations completed! (44%)             \rTotal of 45 of 100 iterations completed! (45%)             \rTotal of 46 of 100 iterations completed! (46%)             \rTotal of 47 of 100 iterations completed! (47%)             \rTotal of 48 of 100 iterations completed! (48%)             \rTotal of 49 of 100 iterations completed! (49%)             \rTotal of 50 of 100 iterations completed! (50%)             \rTotal of 51 of 100 iterations completed! (51%)             \rTotal of 52 of 100 iterations completed! (52%)             \rTotal of 53 of 100 iterations completed! (53%)             \rTotal of 54 of 100 iterations completed! (54%)             \rTotal of 55 of 100 iterations completed! (55%)             \rTotal of 56 of 100 iterations completed! (56%)             \rTotal of 57 of 100 iterations completed! (57%)             \rTotal of 58 of 100 iterations completed! (58%)             \rTotal of 59 of 100 iterations completed! (59%)             \rTotal of 60 of 100 iterations completed! (60%)             \rTotal of 61 of 100 iterations completed! (61%)             \rTotal of 62 of 100 iterations completed! (62%)             \rTotal of 63 of 100 iterations completed! (63%)             \rTotal of 64 of 100 iterations completed! (64%)             \rTotal of 65 of 100 iterations completed! (65%)             \rTotal of 66 of 100 iterations completed! (66%)             \rTotal of 67 of 100 iterations completed! (67%)             \rTotal of 68 of 100 iterations completed! (68%)             \rTotal of 69 of 100 iterations completed! (69%)             \rTotal of 70 of 100 iterations completed! (70%)             \rTotal of 71 of 100 iterations completed! (71%)             \rTotal of 72 of 100 iterations completed! (72%)             \rTotal of 73 of 100 iterations completed! (73%)             \rTotal of 74 of 100 iterations completed! (74%)             \rTotal of 75 of 100 iterations completed! (75%)             \rTotal of 76 of 100 iterations completed! (76%)             \rTotal of 77 of 100 iterations completed! (77%)             \rTotal of 78 of 100 iterations completed! (78%)             \rTotal of 79 of 100 iterations completed! (79%)             \rTotal of 80 of 100 iterations completed! (80%)             \rTotal of 81 of 100 iterations completed! (81%)             \rTotal of 82 of 100 iterations completed! (82%)             \rTotal of 83 of 100 iterations completed! (83%)             \rTotal of 84 of 100 iterations completed! (84%)             \rTotal of 85 of 100 iterations completed! (85%)             \rTotal of 86 of 100 iterations completed! (86%)             \rTotal of 87 of 100 iterations completed! (87%)             \rTotal of 88 of 100 iterations completed! (88%)             \rTotal of 89 of 100 iterations completed! (89%)             \rTotal of 90 of 100 iterations completed! (90%)             \rTotal of 91 of 100 iterations completed! (91%)             \rTotal of 92 of 100 iterations completed! (92%)             \rTotal of 93 of 100 iterations completed! (93%)             \rTotal of 94 of 100 iterations completed! (94%)             \rTotal of 95 of 100 iterations completed! (95%)             \rTotal of 96 of 100 iterations completed! (96%)             \rTotal of 97 of 100 iterations completed! (97%)             \rTotal of 98 of 100 iterations completed! (98%)             \rTotal of 99 of 100 iterations completed! (99%)             \rTotal of 100 of 100 iterations completed! (100%)             \rfitting treatment model via method 'bart'\n"
          ]
        },
        {
          "metadata": {
            "tags": null
          },
          "name": "stderr",
          "output_type": "stream",
          "text": [
            "Warning message in bartc(Y[, 1], Z, X, p.scoreAsCovariate = F, n.chains = 1, n.threads = 1, :\n",
            "“for response method 'bart', propensity score not used unless included as covariate”\n"
          ]
        },
        {
          "metadata": {
            "tags": null
          },
          "name": "stdout",
          "output_type": "stream",
          "text": [
            "fitting response model via method 'bart'\n",
            "fitting treatment model via method 'bart'\n"
          ]
        },
        {
          "metadata": {
            "tags": null
          },
          "name": "stderr",
          "output_type": "stream",
          "text": [
            "Warning message in bartc(Y[, 2], Z, X, p.scoreAsCovariate = F, n.chains = 1, n.threads = 1, :\n",
            "“for response method 'bart', propensity score not used unless included as covariate”\n"
          ]
        },
        {
          "metadata": {
            "tags": null
          },
          "name": "stdout",
          "output_type": "stream",
          "text": [
            "fitting response model via method 'bart'\n",
            "\rFinishing iteration 100 of 100"
          ]
        },
        {
          "metadata": {
            "tags": null
          },
          "name": "stderr",
          "output_type": "stream",
          "text": [
            "Warning message in validateXTest(test, attr(x, \"term.labels\"), ncol(x), colnames(x), :\n",
            "“column names of 'test' does not equal that of 'x': 'X1, X2, X3, X4, X5, X6, X7, X8, X9, X10'; match will be made by position”\n"
          ]
        },
        {
          "metadata": {
            "tags": null
          },
          "name": "stdout",
          "output_type": "stream",
          "text": [
            "Total of 1 of 100 iterations completed! (1%)             \rTotal of 2 of 100 iterations completed! (2%)             \rTotal of 3 of 100 iterations completed! (3%)             \rTotal of 4 of 100 iterations completed! (4%)             \rTotal of 5 of 100 iterations completed! (5%)             \rTotal of 6 of 100 iterations completed! (6%)             \rTotal of 7 of 100 iterations completed! (7%)             \rTotal of 8 of 100 iterations completed! (8%)             \rTotal of 9 of 100 iterations completed! (9%)             \rTotal of 10 of 100 iterations completed! (10%)             \rTotal of 11 of 100 iterations completed! (11%)             \rTotal of 12 of 100 iterations completed! (12%)             \rTotal of 13 of 100 iterations completed! (13%)             \rTotal of 14 of 100 iterations completed! (14%)             \rTotal of 15 of 100 iterations completed! (15%)             \rTotal of 16 of 100 iterations completed! (16%)             \rTotal of 17 of 100 iterations completed! (17%)             \rTotal of 18 of 100 iterations completed! (18%)             \rTotal of 19 of 100 iterations completed! (19%)             \rTotal of 20 of 100 iterations completed! (20%)             \rTotal of 21 of 100 iterations completed! (21%)             \rTotal of 22 of 100 iterations completed! (22%)             \rTotal of 23 of 100 iterations completed! (23%)             \rTotal of 24 of 100 iterations completed! (24%)             \rTotal of 25 of 100 iterations completed! (25%)             \rTotal of 26 of 100 iterations completed! (26%)             \rTotal of 27 of 100 iterations completed! (27%)             \rTotal of 28 of 100 iterations completed! (28%)             \rTotal of 29 of 100 iterations completed! (29%)             \rTotal of 30 of 100 iterations completed! (30%)             \rTotal of 31 of 100 iterations completed! (31%)             \rTotal of 32 of 100 iterations completed! (32%)             \rTotal of 33 of 100 iterations completed! (33%)             \rTotal of 34 of 100 iterations completed! (34%)             \rTotal of 35 of 100 iterations completed! (35%)             \rTotal of 36 of 100 iterations completed! (36%)             \rTotal of 37 of 100 iterations completed! (37%)             \rTotal of 38 of 100 iterations completed! (38%)             \rTotal of 39 of 100 iterations completed! (39%)             \rTotal of 40 of 100 iterations completed! (40%)             \rTotal of 41 of 100 iterations completed! (41%)             \rTotal of 42 of 100 iterations completed! (42%)             \rTotal of 43 of 100 iterations completed! (43%)             \rTotal of 44 of 100 iterations completed! (44%)             \rTotal of 45 of 100 iterations completed! (45%)             \rTotal of 46 of 100 iterations completed! (46%)             \rTotal of 47 of 100 iterations completed! (47%)             \rTotal of 48 of 100 iterations completed! (48%)             \rTotal of 49 of 100 iterations completed! (49%)             \rTotal of 50 of 100 iterations completed! (50%)             \rTotal of 51 of 100 iterations completed! (51%)             \rTotal of 52 of 100 iterations completed! (52%)             \rTotal of 53 of 100 iterations completed! (53%)             \rTotal of 54 of 100 iterations completed! (54%)             \rTotal of 55 of 100 iterations completed! (55%)             \rTotal of 56 of 100 iterations completed! (56%)             \rTotal of 57 of 100 iterations completed! (57%)             \rTotal of 58 of 100 iterations completed! (58%)             \rTotal of 59 of 100 iterations completed! (59%)             \rTotal of 60 of 100 iterations completed! (60%)             \rTotal of 61 of 100 iterations completed! (61%)             \rTotal of 62 of 100 iterations completed! (62%)             \rTotal of 63 of 100 iterations completed! (63%)             \rTotal of 64 of 100 iterations completed! (64%)             \rTotal of 65 of 100 iterations completed! (65%)             \rTotal of 66 of 100 iterations completed! (66%)             \rTotal of 67 of 100 iterations completed! (67%)             \rTotal of 68 of 100 iterations completed! (68%)             \rTotal of 69 of 100 iterations completed! (69%)             \rTotal of 70 of 100 iterations completed! (70%)             \rTotal of 71 of 100 iterations completed! (71%)             \rTotal of 72 of 100 iterations completed! (72%)             \rTotal of 73 of 100 iterations completed! (73%)             \rTotal of 74 of 100 iterations completed! (74%)             \rTotal of 75 of 100 iterations completed! (75%)             \rTotal of 76 of 100 iterations completed! (76%)             \rTotal of 77 of 100 iterations completed! (77%)             \rTotal of 78 of 100 iterations completed! (78%)             \rTotal of 79 of 100 iterations completed! (79%)             \rTotal of 80 of 100 iterations completed! (80%)             \rTotal of 81 of 100 iterations completed! (81%)             \rTotal of 82 of 100 iterations completed! (82%)             \rTotal of 83 of 100 iterations completed! (83%)             \rTotal of 84 of 100 iterations completed! (84%)             \rTotal of 85 of 100 iterations completed! (85%)             \rTotal of 86 of 100 iterations completed! (86%)             \rTotal of 87 of 100 iterations completed! (87%)             \rTotal of 88 of 100 iterations completed! (88%)             \rTotal of 89 of 100 iterations completed! (89%)             \rTotal of 90 of 100 iterations completed! (90%)             \rTotal of 91 of 100 iterations completed! (91%)             \rTotal of 92 of 100 iterations completed! (92%)             \rTotal of 93 of 100 iterations completed! (93%)             \rTotal of 94 of 100 iterations completed! (94%)             \rTotal of 95 of 100 iterations completed! (95%)             \rTotal of 96 of 100 iterations completed! (96%)             \rTotal of 97 of 100 iterations completed! (97%)             \rTotal of 98 of 100 iterations completed! (98%)             \rTotal of 99 of 100 iterations completed! (99%)             \rTotal of 100 of 100 iterations completed! (100%)             \rfitting treatment model via method 'bart'\n"
          ]
        },
        {
          "metadata": {
            "tags": null
          },
          "name": "stderr",
          "output_type": "stream",
          "text": [
            "Warning message in bartc(Y[, 1], Z, X, p.scoreAsCovariate = F, n.chains = 1, n.threads = 1, :\n",
            "“for response method 'bart', propensity score not used unless included as covariate”\n"
          ]
        },
        {
          "metadata": {
            "tags": null
          },
          "name": "stdout",
          "output_type": "stream",
          "text": [
            "fitting response model via method 'bart'\n",
            "fitting treatment model via method 'bart'\n"
          ]
        },
        {
          "metadata": {
            "tags": null
          },
          "name": "stderr",
          "output_type": "stream",
          "text": [
            "Warning message in bartc(Y[, 2], Z, X, p.scoreAsCovariate = F, n.chains = 1, n.threads = 1, :\n",
            "“for response method 'bart', propensity score not used unless included as covariate”\n"
          ]
        },
        {
          "metadata": {
            "tags": null
          },
          "name": "stdout",
          "output_type": "stream",
          "text": [
            "fitting response model via method 'bart'\n",
            "\rFinishing iteration 100 of 100"
          ]
        },
        {
          "metadata": {
            "tags": null
          },
          "name": "stderr",
          "output_type": "stream",
          "text": [
            "Warning message in validateXTest(test, attr(x, \"term.labels\"), ncol(x), colnames(x), :\n",
            "“column names of 'test' does not equal that of 'x': 'X1, X2, X3, X4, X5, X6, X7, X8, X9, X10'; match will be made by position”\n"
          ]
        },
        {
          "metadata": {
            "tags": null
          },
          "name": "stdout",
          "output_type": "stream",
          "text": [
            "Total of 1 of 100 iterations completed! (1%)             \rTotal of 2 of 100 iterations completed! (2%)             \rTotal of 3 of 100 iterations completed! (3%)             \rTotal of 4 of 100 iterations completed! (4%)             \rTotal of 5 of 100 iterations completed! (5%)             \rTotal of 6 of 100 iterations completed! (6%)             \rTotal of 7 of 100 iterations completed! (7%)             \rTotal of 8 of 100 iterations completed! (8%)             \rTotal of 9 of 100 iterations completed! (9%)             \rTotal of 10 of 100 iterations completed! (10%)             \rTotal of 11 of 100 iterations completed! (11%)             \rTotal of 12 of 100 iterations completed! (12%)             \rTotal of 13 of 100 iterations completed! (13%)             \rTotal of 14 of 100 iterations completed! (14%)             \rTotal of 15 of 100 iterations completed! (15%)             \rTotal of 16 of 100 iterations completed! (16%)             \rTotal of 17 of 100 iterations completed! (17%)             \rTotal of 18 of 100 iterations completed! (18%)             \rTotal of 19 of 100 iterations completed! (19%)             \rTotal of 20 of 100 iterations completed! (20%)             \rTotal of 21 of 100 iterations completed! (21%)             \rTotal of 22 of 100 iterations completed! (22%)             \rTotal of 23 of 100 iterations completed! (23%)             \rTotal of 24 of 100 iterations completed! (24%)             \rTotal of 25 of 100 iterations completed! (25%)             \rTotal of 26 of 100 iterations completed! (26%)             \rTotal of 27 of 100 iterations completed! (27%)             \rTotal of 28 of 100 iterations completed! (28%)             \rTotal of 29 of 100 iterations completed! (29%)             \rTotal of 30 of 100 iterations completed! (30%)             \rTotal of 31 of 100 iterations completed! (31%)             \rTotal of 32 of 100 iterations completed! (32%)             \rTotal of 33 of 100 iterations completed! (33%)             \rTotal of 34 of 100 iterations completed! (34%)             \rTotal of 35 of 100 iterations completed! (35%)             \rTotal of 36 of 100 iterations completed! (36%)             \rTotal of 37 of 100 iterations completed! (37%)             \rTotal of 38 of 100 iterations completed! (38%)             \rTotal of 39 of 100 iterations completed! (39%)             \rTotal of 40 of 100 iterations completed! (40%)             \rTotal of 41 of 100 iterations completed! (41%)             \rTotal of 42 of 100 iterations completed! (42%)             \rTotal of 43 of 100 iterations completed! (43%)             \rTotal of 44 of 100 iterations completed! (44%)             \rTotal of 45 of 100 iterations completed! (45%)             \rTotal of 46 of 100 iterations completed! (46%)             \rTotal of 47 of 100 iterations completed! (47%)             \rTotal of 48 of 100 iterations completed! (48%)             \rTotal of 49 of 100 iterations completed! (49%)             \rTotal of 50 of 100 iterations completed! (50%)             \rTotal of 51 of 100 iterations completed! (51%)             \rTotal of 52 of 100 iterations completed! (52%)             \rTotal of 53 of 100 iterations completed! (53%)             \rTotal of 54 of 100 iterations completed! (54%)             \rTotal of 55 of 100 iterations completed! (55%)             \rTotal of 56 of 100 iterations completed! (56%)             \rTotal of 57 of 100 iterations completed! (57%)             \rTotal of 58 of 100 iterations completed! (58%)             \rTotal of 59 of 100 iterations completed! (59%)             \rTotal of 60 of 100 iterations completed! (60%)             \rTotal of 61 of 100 iterations completed! (61%)             \rTotal of 62 of 100 iterations completed! (62%)             \rTotal of 63 of 100 iterations completed! (63%)             \rTotal of 64 of 100 iterations completed! (64%)             \rTotal of 65 of 100 iterations completed! (65%)             \rTotal of 66 of 100 iterations completed! (66%)             \rTotal of 67 of 100 iterations completed! (67%)             \rTotal of 68 of 100 iterations completed! (68%)             \rTotal of 69 of 100 iterations completed! (69%)             \rTotal of 70 of 100 iterations completed! (70%)             \rTotal of 71 of 100 iterations completed! (71%)             \rTotal of 72 of 100 iterations completed! (72%)             \rTotal of 73 of 100 iterations completed! (73%)             \rTotal of 74 of 100 iterations completed! (74%)             \rTotal of 75 of 100 iterations completed! (75%)             \rTotal of 76 of 100 iterations completed! (76%)             \rTotal of 77 of 100 iterations completed! (77%)             \rTotal of 78 of 100 iterations completed! (78%)             \rTotal of 79 of 100 iterations completed! (79%)             \rTotal of 80 of 100 iterations completed! (80%)             \rTotal of 81 of 100 iterations completed! (81%)             \rTotal of 82 of 100 iterations completed! (82%)             \rTotal of 83 of 100 iterations completed! (83%)             \rTotal of 84 of 100 iterations completed! (84%)             \rTotal of 85 of 100 iterations completed! (85%)             \rTotal of 86 of 100 iterations completed! (86%)             \rTotal of 87 of 100 iterations completed! (87%)             \rTotal of 88 of 100 iterations completed! (88%)             \rTotal of 89 of 100 iterations completed! (89%)             \rTotal of 90 of 100 iterations completed! (90%)             \rTotal of 91 of 100 iterations completed! (91%)             \rTotal of 92 of 100 iterations completed! (92%)             \rTotal of 93 of 100 iterations completed! (93%)             \rTotal of 94 of 100 iterations completed! (94%)             \rTotal of 95 of 100 iterations completed! (95%)             \rTotal of 96 of 100 iterations completed! (96%)             \rTotal of 97 of 100 iterations completed! (97%)             \rTotal of 98 of 100 iterations completed! (98%)             \rTotal of 99 of 100 iterations completed! (99%)             \rTotal of 100 of 100 iterations completed! (100%)             \rfitting treatment model via method 'bart'\n"
          ]
        },
        {
          "metadata": {
            "tags": null
          },
          "name": "stderr",
          "output_type": "stream",
          "text": [
            "Warning message in bartc(Y[, 1], Z, X, p.scoreAsCovariate = F, n.chains = 1, n.threads = 1, :\n",
            "“for response method 'bart', propensity score not used unless included as covariate”\n"
          ]
        },
        {
          "metadata": {
            "tags": null
          },
          "name": "stdout",
          "output_type": "stream",
          "text": [
            "fitting response model via method 'bart'\n",
            "fitting treatment model via method 'bart'\n"
          ]
        },
        {
          "metadata": {
            "tags": null
          },
          "name": "stderr",
          "output_type": "stream",
          "text": [
            "Warning message in bartc(Y[, 2], Z, X, p.scoreAsCovariate = F, n.chains = 1, n.threads = 1, :\n",
            "“for response method 'bart', propensity score not used unless included as covariate”\n"
          ]
        },
        {
          "metadata": {
            "tags": null
          },
          "name": "stdout",
          "output_type": "stream",
          "text": [
            "fitting response model via method 'bart'\n",
            "\rFinishing iteration 100 of 100"
          ]
        },
        {
          "metadata": {
            "tags": null
          },
          "name": "stderr",
          "output_type": "stream",
          "text": [
            "Warning message in validateXTest(test, attr(x, \"term.labels\"), ncol(x), colnames(x), :\n",
            "“column names of 'test' does not equal that of 'x': 'X1, X2, X3, X4, X5, X6, X7, X8, X9, X10'; match will be made by position”\n"
          ]
        },
        {
          "metadata": {
            "tags": null
          },
          "name": "stdout",
          "output_type": "stream",
          "text": [
            "Total of 1 of 100 iterations completed! (1%)             \rTotal of 2 of 100 iterations completed! (2%)             \rTotal of 3 of 100 iterations completed! (3%)             \rTotal of 4 of 100 iterations completed! (4%)             \rTotal of 5 of 100 iterations completed! (5%)             \rTotal of 6 of 100 iterations completed! (6%)             \rTotal of 7 of 100 iterations completed! (7%)             \rTotal of 8 of 100 iterations completed! (8%)             \rTotal of 9 of 100 iterations completed! (9%)             \rTotal of 10 of 100 iterations completed! (10%)             \rTotal of 11 of 100 iterations completed! (11%)             \rTotal of 12 of 100 iterations completed! (12%)             \rTotal of 13 of 100 iterations completed! (13%)             \rTotal of 14 of 100 iterations completed! (14%)             \rTotal of 15 of 100 iterations completed! (15%)             \rTotal of 16 of 100 iterations completed! (16%)             \rTotal of 17 of 100 iterations completed! (17%)             \rTotal of 18 of 100 iterations completed! (18%)             \rTotal of 19 of 100 iterations completed! (19%)             \rTotal of 20 of 100 iterations completed! (20%)             \rTotal of 21 of 100 iterations completed! (21%)             \rTotal of 22 of 100 iterations completed! (22%)             \rTotal of 23 of 100 iterations completed! (23%)             \rTotal of 24 of 100 iterations completed! (24%)             \rTotal of 25 of 100 iterations completed! (25%)             \rTotal of 26 of 100 iterations completed! (26%)             \rTotal of 27 of 100 iterations completed! (27%)             \rTotal of 28 of 100 iterations completed! (28%)             \rTotal of 29 of 100 iterations completed! (29%)             \rTotal of 30 of 100 iterations completed! (30%)             \rTotal of 31 of 100 iterations completed! (31%)             \rTotal of 32 of 100 iterations completed! (32%)             \rTotal of 33 of 100 iterations completed! (33%)             \rTotal of 34 of 100 iterations completed! (34%)             \rTotal of 35 of 100 iterations completed! (35%)             \rTotal of 36 of 100 iterations completed! (36%)             \rTotal of 37 of 100 iterations completed! (37%)             \rTotal of 38 of 100 iterations completed! (38%)             \rTotal of 39 of 100 iterations completed! (39%)             \rTotal of 40 of 100 iterations completed! (40%)             \rTotal of 41 of 100 iterations completed! (41%)             \rTotal of 42 of 100 iterations completed! (42%)             \rTotal of 43 of 100 iterations completed! (43%)             \rTotal of 44 of 100 iterations completed! (44%)             \rTotal of 45 of 100 iterations completed! (45%)             \rTotal of 46 of 100 iterations completed! (46%)             \rTotal of 47 of 100 iterations completed! (47%)             \rTotal of 48 of 100 iterations completed! (48%)             \rTotal of 49 of 100 iterations completed! (49%)             \rTotal of 50 of 100 iterations completed! (50%)             \rTotal of 51 of 100 iterations completed! (51%)             \rTotal of 52 of 100 iterations completed! (52%)             \rTotal of 53 of 100 iterations completed! (53%)             \rTotal of 54 of 100 iterations completed! (54%)             \rTotal of 55 of 100 iterations completed! (55%)             \rTotal of 56 of 100 iterations completed! (56%)             \rTotal of 57 of 100 iterations completed! (57%)             \rTotal of 58 of 100 iterations completed! (58%)             \rTotal of 59 of 100 iterations completed! (59%)             \rTotal of 60 of 100 iterations completed! (60%)             \rTotal of 61 of 100 iterations completed! (61%)             \rTotal of 62 of 100 iterations completed! (62%)             \rTotal of 63 of 100 iterations completed! (63%)             \rTotal of 64 of 100 iterations completed! (64%)             \rTotal of 65 of 100 iterations completed! (65%)             \rTotal of 66 of 100 iterations completed! (66%)             \rTotal of 67 of 100 iterations completed! (67%)             \rTotal of 68 of 100 iterations completed! (68%)             \rTotal of 69 of 100 iterations completed! (69%)             \rTotal of 70 of 100 iterations completed! (70%)             \rTotal of 71 of 100 iterations completed! (71%)             \rTotal of 72 of 100 iterations completed! (72%)             \rTotal of 73 of 100 iterations completed! (73%)             \rTotal of 74 of 100 iterations completed! (74%)             \rTotal of 75 of 100 iterations completed! (75%)             \rTotal of 76 of 100 iterations completed! (76%)             \rTotal of 77 of 100 iterations completed! (77%)             \rTotal of 78 of 100 iterations completed! (78%)             \rTotal of 79 of 100 iterations completed! (79%)             \rTotal of 80 of 100 iterations completed! (80%)             \rTotal of 81 of 100 iterations completed! (81%)             \rTotal of 82 of 100 iterations completed! (82%)             \rTotal of 83 of 100 iterations completed! (83%)             \rTotal of 84 of 100 iterations completed! (84%)             \rTotal of 85 of 100 iterations completed! (85%)             \rTotal of 86 of 100 iterations completed! (86%)             \rTotal of 87 of 100 iterations completed! (87%)             \rTotal of 88 of 100 iterations completed! (88%)             \rTotal of 89 of 100 iterations completed! (89%)             \rTotal of 90 of 100 iterations completed! (90%)             \rTotal of 91 of 100 iterations completed! (91%)             \rTotal of 92 of 100 iterations completed! (92%)             \rTotal of 93 of 100 iterations completed! (93%)             \rTotal of 94 of 100 iterations completed! (94%)             \rTotal of 95 of 100 iterations completed! (95%)             \rTotal of 96 of 100 iterations completed! (96%)             \rTotal of 97 of 100 iterations completed! (97%)             \rTotal of 98 of 100 iterations completed! (98%)             \rTotal of 99 of 100 iterations completed! (99%)             \rTotal of 100 of 100 iterations completed! (100%)             \rfitting treatment model via method 'bart'\n"
          ]
        },
        {
          "metadata": {
            "tags": null
          },
          "name": "stderr",
          "output_type": "stream",
          "text": [
            "Warning message in bartc(Y[, 1], Z, X, p.scoreAsCovariate = F, n.chains = 1, n.threads = 1, :\n",
            "“for response method 'bart', propensity score not used unless included as covariate”\n"
          ]
        },
        {
          "metadata": {
            "tags": null
          },
          "name": "stdout",
          "output_type": "stream",
          "text": [
            "fitting response model via method 'bart'\n",
            "fitting treatment model via method 'bart'\n"
          ]
        },
        {
          "metadata": {
            "tags": null
          },
          "name": "stderr",
          "output_type": "stream",
          "text": [
            "Warning message in bartc(Y[, 2], Z, X, p.scoreAsCovariate = F, n.chains = 1, n.threads = 1, :\n",
            "“for response method 'bart', propensity score not used unless included as covariate”\n"
          ]
        },
        {
          "metadata": {
            "tags": null
          },
          "name": "stdout",
          "output_type": "stream",
          "text": [
            "fitting response model via method 'bart'\n",
            "\rFinishing iteration 100 of 100"
          ]
        },
        {
          "metadata": {
            "tags": null
          },
          "name": "stderr",
          "output_type": "stream",
          "text": [
            "Warning message in validateXTest(test, attr(x, \"term.labels\"), ncol(x), colnames(x), :\n",
            "“column names of 'test' does not equal that of 'x': 'X1, X2, X3, X4, X5, X6, X7, X8, X9, X10'; match will be made by position”\n"
          ]
        },
        {
          "metadata": {
            "tags": null
          },
          "name": "stdout",
          "output_type": "stream",
          "text": [
            "Total of 1 of 100 iterations completed! (1%)             \rTotal of 2 of 100 iterations completed! (2%)             \rTotal of 3 of 100 iterations completed! (3%)             \rTotal of 4 of 100 iterations completed! (4%)             \rTotal of 5 of 100 iterations completed! (5%)             \rTotal of 6 of 100 iterations completed! (6%)             \rTotal of 7 of 100 iterations completed! (7%)             \rTotal of 8 of 100 iterations completed! (8%)             \rTotal of 9 of 100 iterations completed! (9%)             \rTotal of 10 of 100 iterations completed! (10%)             \rTotal of 11 of 100 iterations completed! (11%)             \rTotal of 12 of 100 iterations completed! (12%)             \rTotal of 13 of 100 iterations completed! (13%)             \rTotal of 14 of 100 iterations completed! (14%)             \rTotal of 15 of 100 iterations completed! (15%)             \rTotal of 16 of 100 iterations completed! (16%)             \rTotal of 17 of 100 iterations completed! (17%)             \rTotal of 18 of 100 iterations completed! (18%)             \rTotal of 19 of 100 iterations completed! (19%)             \rTotal of 20 of 100 iterations completed! (20%)             \rTotal of 21 of 100 iterations completed! (21%)             \rTotal of 22 of 100 iterations completed! (22%)             \rTotal of 23 of 100 iterations completed! (23%)             \rTotal of 24 of 100 iterations completed! (24%)             \rTotal of 25 of 100 iterations completed! (25%)             \rTotal of 26 of 100 iterations completed! (26%)             \rTotal of 27 of 100 iterations completed! (27%)             \rTotal of 28 of 100 iterations completed! (28%)             \rTotal of 29 of 100 iterations completed! (29%)             \rTotal of 30 of 100 iterations completed! (30%)             \rTotal of 31 of 100 iterations completed! (31%)             \rTotal of 32 of 100 iterations completed! (32%)             \rTotal of 33 of 100 iterations completed! (33%)             \rTotal of 34 of 100 iterations completed! (34%)             \rTotal of 35 of 100 iterations completed! (35%)             \rTotal of 36 of 100 iterations completed! (36%)             \rTotal of 37 of 100 iterations completed! (37%)             \rTotal of 38 of 100 iterations completed! (38%)             \rTotal of 39 of 100 iterations completed! (39%)             \rTotal of 40 of 100 iterations completed! (40%)             \rTotal of 41 of 100 iterations completed! (41%)             \rTotal of 42 of 100 iterations completed! (42%)             \rTotal of 43 of 100 iterations completed! (43%)             \rTotal of 44 of 100 iterations completed! (44%)             \rTotal of 45 of 100 iterations completed! (45%)             \rTotal of 46 of 100 iterations completed! (46%)             \rTotal of 47 of 100 iterations completed! (47%)             \rTotal of 48 of 100 iterations completed! (48%)             \rTotal of 49 of 100 iterations completed! (49%)             \rTotal of 50 of 100 iterations completed! (50%)             \rTotal of 51 of 100 iterations completed! (51%)             \rTotal of 52 of 100 iterations completed! (52%)             \rTotal of 53 of 100 iterations completed! (53%)             \rTotal of 54 of 100 iterations completed! (54%)             \rTotal of 55 of 100 iterations completed! (55%)             \rTotal of 56 of 100 iterations completed! (56%)             \rTotal of 57 of 100 iterations completed! (57%)             \rTotal of 58 of 100 iterations completed! (58%)             \rTotal of 59 of 100 iterations completed! (59%)             \rTotal of 60 of 100 iterations completed! (60%)             \rTotal of 61 of 100 iterations completed! (61%)             \rTotal of 62 of 100 iterations completed! (62%)             \rTotal of 63 of 100 iterations completed! (63%)             \rTotal of 64 of 100 iterations completed! (64%)             \rTotal of 65 of 100 iterations completed! (65%)             \rTotal of 66 of 100 iterations completed! (66%)             \rTotal of 67 of 100 iterations completed! (67%)             \rTotal of 68 of 100 iterations completed! (68%)             \rTotal of 69 of 100 iterations completed! (69%)             \rTotal of 70 of 100 iterations completed! (70%)             \rTotal of 71 of 100 iterations completed! (71%)             \rTotal of 72 of 100 iterations completed! (72%)             \rTotal of 73 of 100 iterations completed! (73%)             \rTotal of 74 of 100 iterations completed! (74%)             \rTotal of 75 of 100 iterations completed! (75%)             \rTotal of 76 of 100 iterations completed! (76%)             \rTotal of 77 of 100 iterations completed! (77%)             \rTotal of 78 of 100 iterations completed! (78%)             \rTotal of 79 of 100 iterations completed! (79%)             \rTotal of 80 of 100 iterations completed! (80%)             \rTotal of 81 of 100 iterations completed! (81%)             \rTotal of 82 of 100 iterations completed! (82%)             \rTotal of 83 of 100 iterations completed! (83%)             \rTotal of 84 of 100 iterations completed! (84%)             \rTotal of 85 of 100 iterations completed! (85%)             \rTotal of 86 of 100 iterations completed! (86%)             \rTotal of 87 of 100 iterations completed! (87%)             \rTotal of 88 of 100 iterations completed! (88%)             \rTotal of 89 of 100 iterations completed! (89%)             \rTotal of 90 of 100 iterations completed! (90%)             \rTotal of 91 of 100 iterations completed! (91%)             \rTotal of 92 of 100 iterations completed! (92%)             \rTotal of 93 of 100 iterations completed! (93%)             \rTotal of 94 of 100 iterations completed! (94%)             \rTotal of 95 of 100 iterations completed! (95%)             \rTotal of 96 of 100 iterations completed! (96%)             \rTotal of 97 of 100 iterations completed! (97%)             \rTotal of 98 of 100 iterations completed! (98%)             \rTotal of 99 of 100 iterations completed! (99%)             \rTotal of 100 of 100 iterations completed! (100%)             \rfitting treatment model via method 'bart'\n"
          ]
        },
        {
          "metadata": {
            "tags": null
          },
          "name": "stderr",
          "output_type": "stream",
          "text": [
            "Warning message in bartc(Y[, 1], Z, X, p.scoreAsCovariate = F, n.chains = 1, n.threads = 1, :\n",
            "“for response method 'bart', propensity score not used unless included as covariate”\n"
          ]
        },
        {
          "metadata": {
            "tags": null
          },
          "name": "stdout",
          "output_type": "stream",
          "text": [
            "fitting response model via method 'bart'\n",
            "fitting treatment model via method 'bart'\n"
          ]
        },
        {
          "metadata": {
            "tags": null
          },
          "name": "stderr",
          "output_type": "stream",
          "text": [
            "Warning message in bartc(Y[, 2], Z, X, p.scoreAsCovariate = F, n.chains = 1, n.threads = 1, :\n",
            "“for response method 'bart', propensity score not used unless included as covariate”\n"
          ]
        },
        {
          "metadata": {
            "tags": null
          },
          "name": "stdout",
          "output_type": "stream",
          "text": [
            "fitting response model via method 'bart'\n",
            "\rFinishing iteration 100 of 100"
          ]
        },
        {
          "metadata": {
            "tags": null
          },
          "name": "stderr",
          "output_type": "stream",
          "text": [
            "Warning message in validateXTest(test, attr(x, \"term.labels\"), ncol(x), colnames(x), :\n",
            "“column names of 'test' does not equal that of 'x': 'X1, X2, X3, X4, X5, X6, X7, X8, X9, X10'; match will be made by position”\n"
          ]
        },
        {
          "metadata": {
            "tags": null
          },
          "name": "stdout",
          "output_type": "stream",
          "text": [
            "Total of 1 of 100 iterations completed! (1%)             \rTotal of 2 of 100 iterations completed! (2%)             \rTotal of 3 of 100 iterations completed! (3%)             \rTotal of 4 of 100 iterations completed! (4%)             \rTotal of 5 of 100 iterations completed! (5%)             \rTotal of 6 of 100 iterations completed! (6%)             \rTotal of 7 of 100 iterations completed! (7%)             \rTotal of 8 of 100 iterations completed! (8%)             \rTotal of 9 of 100 iterations completed! (9%)             \rTotal of 10 of 100 iterations completed! (10%)             \rTotal of 11 of 100 iterations completed! (11%)             \rTotal of 12 of 100 iterations completed! (12%)             \rTotal of 13 of 100 iterations completed! (13%)             \rTotal of 14 of 100 iterations completed! (14%)             \rTotal of 15 of 100 iterations completed! (15%)             \rTotal of 16 of 100 iterations completed! (16%)             \rTotal of 17 of 100 iterations completed! (17%)             \rTotal of 18 of 100 iterations completed! (18%)             \rTotal of 19 of 100 iterations completed! (19%)             \rTotal of 20 of 100 iterations completed! (20%)             \rTotal of 21 of 100 iterations completed! (21%)             \rTotal of 22 of 100 iterations completed! (22%)             \rTotal of 23 of 100 iterations completed! (23%)             \rTotal of 24 of 100 iterations completed! (24%)             \rTotal of 25 of 100 iterations completed! (25%)             \rTotal of 26 of 100 iterations completed! (26%)             \rTotal of 27 of 100 iterations completed! (27%)             \rTotal of 28 of 100 iterations completed! (28%)             \rTotal of 29 of 100 iterations completed! (29%)             \rTotal of 30 of 100 iterations completed! (30%)             \rTotal of 31 of 100 iterations completed! (31%)             \rTotal of 32 of 100 iterations completed! (32%)             \rTotal of 33 of 100 iterations completed! (33%)             \rTotal of 34 of 100 iterations completed! (34%)             \rTotal of 35 of 100 iterations completed! (35%)             \rTotal of 36 of 100 iterations completed! (36%)             \rTotal of 37 of 100 iterations completed! (37%)             \rTotal of 38 of 100 iterations completed! (38%)             \rTotal of 39 of 100 iterations completed! (39%)             \rTotal of 40 of 100 iterations completed! (40%)             \rTotal of 41 of 100 iterations completed! (41%)             \rTotal of 42 of 100 iterations completed! (42%)             \rTotal of 43 of 100 iterations completed! (43%)             \rTotal of 44 of 100 iterations completed! (44%)             \rTotal of 45 of 100 iterations completed! (45%)             \rTotal of 46 of 100 iterations completed! (46%)             \rTotal of 47 of 100 iterations completed! (47%)             \rTotal of 48 of 100 iterations completed! (48%)             \rTotal of 49 of 100 iterations completed! (49%)             \rTotal of 50 of 100 iterations completed! (50%)             \rTotal of 51 of 100 iterations completed! (51%)             \rTotal of 52 of 100 iterations completed! (52%)             \rTotal of 53 of 100 iterations completed! (53%)             \rTotal of 54 of 100 iterations completed! (54%)             \rTotal of 55 of 100 iterations completed! (55%)             \rTotal of 56 of 100 iterations completed! (56%)             \rTotal of 57 of 100 iterations completed! (57%)             \rTotal of 58 of 100 iterations completed! (58%)             \rTotal of 59 of 100 iterations completed! (59%)             \rTotal of 60 of 100 iterations completed! (60%)             \rTotal of 61 of 100 iterations completed! (61%)             \rTotal of 62 of 100 iterations completed! (62%)             \rTotal of 63 of 100 iterations completed! (63%)             \rTotal of 64 of 100 iterations completed! (64%)             \rTotal of 65 of 100 iterations completed! (65%)             \rTotal of 66 of 100 iterations completed! (66%)             \rTotal of 67 of 100 iterations completed! (67%)             \rTotal of 68 of 100 iterations completed! (68%)             \rTotal of 69 of 100 iterations completed! (69%)             \rTotal of 70 of 100 iterations completed! (70%)             \rTotal of 71 of 100 iterations completed! (71%)             \rTotal of 72 of 100 iterations completed! (72%)             \rTotal of 73 of 100 iterations completed! (73%)             \rTotal of 74 of 100 iterations completed! (74%)             \rTotal of 75 of 100 iterations completed! (75%)             \rTotal of 76 of 100 iterations completed! (76%)             \rTotal of 77 of 100 iterations completed! (77%)             \rTotal of 78 of 100 iterations completed! (78%)             \rTotal of 79 of 100 iterations completed! (79%)             \rTotal of 80 of 100 iterations completed! (80%)             \rTotal of 81 of 100 iterations completed! (81%)             \rTotal of 82 of 100 iterations completed! (82%)             \rTotal of 83 of 100 iterations completed! (83%)             \rTotal of 84 of 100 iterations completed! (84%)             \rTotal of 85 of 100 iterations completed! (85%)             \rTotal of 86 of 100 iterations completed! (86%)             \rTotal of 87 of 100 iterations completed! (87%)             \rTotal of 88 of 100 iterations completed! (88%)             \rTotal of 89 of 100 iterations completed! (89%)             \rTotal of 90 of 100 iterations completed! (90%)             \rTotal of 91 of 100 iterations completed! (91%)             \rTotal of 92 of 100 iterations completed! (92%)             \rTotal of 93 of 100 iterations completed! (93%)             \rTotal of 94 of 100 iterations completed! (94%)             \rTotal of 95 of 100 iterations completed! (95%)             \rTotal of 96 of 100 iterations completed! (96%)             \rTotal of 97 of 100 iterations completed! (97%)             \rTotal of 98 of 100 iterations completed! (98%)             \rTotal of 99 of 100 iterations completed! (99%)             \rTotal of 100 of 100 iterations completed! (100%)             \rfitting treatment model via method 'bart'\n"
          ]
        },
        {
          "metadata": {
            "tags": null
          },
          "name": "stderr",
          "output_type": "stream",
          "text": [
            "Warning message in bartc(Y[, 1], Z, X, p.scoreAsCovariate = F, n.chains = 1, n.threads = 1, :\n",
            "“for response method 'bart', propensity score not used unless included as covariate”\n"
          ]
        },
        {
          "metadata": {
            "tags": null
          },
          "name": "stdout",
          "output_type": "stream",
          "text": [
            "fitting response model via method 'bart'\n",
            "fitting treatment model via method 'bart'\n"
          ]
        },
        {
          "metadata": {
            "tags": null
          },
          "name": "stderr",
          "output_type": "stream",
          "text": [
            "Warning message in bartc(Y[, 2], Z, X, p.scoreAsCovariate = F, n.chains = 1, n.threads = 1, :\n",
            "“for response method 'bart', propensity score not used unless included as covariate”\n"
          ]
        },
        {
          "metadata": {
            "tags": null
          },
          "name": "stdout",
          "output_type": "stream",
          "text": [
            "fitting response model via method 'bart'\n",
            "\rFinishing iteration 100 of 100\n",
            "After 40 simulations:\n",
            "Comparison 1: Power = 0.6755, p-value = 0.5786, adjusted p-value = 0.5786\n",
            "Comparison 2: Power = 0.4775, p-value = 0.0097, adjusted p-value = 0.0292\n",
            "Comparison 3: Power = 0.3350, p-value = 0.0291, adjusted p-value = 0.0583\n",
            "Comparison 4: Power = 0.3298, p-value = 0.0020, adjusted p-value = 0.0078\n",
            "Minimum power: 0.3297532 \n",
            "\n",
            "Iteration 4: Running batch of 10 simulations (total will be 50)...\n"
          ]
        },
        {
          "metadata": {
            "tags": null
          },
          "name": "stderr",
          "output_type": "stream",
          "text": [
            "Warning message in validateXTest(test, attr(x, \"term.labels\"), ncol(x), colnames(x), :\n",
            "“column names of 'test' does not equal that of 'x': 'X1, X2, X3, X4, X5, X6, X7, X8, X9, X10'; match will be made by position”\n"
          ]
        },
        {
          "metadata": {
            "tags": null
          },
          "name": "stdout",
          "output_type": "stream",
          "text": [
            "Total of 1 of 100 iterations completed! (1%)             \rTotal of 2 of 100 iterations completed! (2%)             \rTotal of 3 of 100 iterations completed! (3%)             \rTotal of 4 of 100 iterations completed! (4%)             \rTotal of 5 of 100 iterations completed! (5%)             \rTotal of 6 of 100 iterations completed! (6%)             \rTotal of 7 of 100 iterations completed! (7%)             \rTotal of 8 of 100 iterations completed! (8%)             \rTotal of 9 of 100 iterations completed! (9%)             \rTotal of 10 of 100 iterations completed! (10%)             \rTotal of 11 of 100 iterations completed! (11%)             \rTotal of 12 of 100 iterations completed! (12%)             \rTotal of 13 of 100 iterations completed! (13%)             \rTotal of 14 of 100 iterations completed! (14%)             \rTotal of 15 of 100 iterations completed! (15%)             \rTotal of 16 of 100 iterations completed! (16%)             \rTotal of 17 of 100 iterations completed! (17%)             \rTotal of 18 of 100 iterations completed! (18%)             \rTotal of 19 of 100 iterations completed! (19%)             \rTotal of 20 of 100 iterations completed! (20%)             \rTotal of 21 of 100 iterations completed! (21%)             \rTotal of 22 of 100 iterations completed! (22%)             \rTotal of 23 of 100 iterations completed! (23%)             \rTotal of 24 of 100 iterations completed! (24%)             \rTotal of 25 of 100 iterations completed! (25%)             \rTotal of 26 of 100 iterations completed! (26%)             \rTotal of 27 of 100 iterations completed! (27%)             \rTotal of 28 of 100 iterations completed! (28%)             \rTotal of 29 of 100 iterations completed! (29%)             \rTotal of 30 of 100 iterations completed! (30%)             \rTotal of 31 of 100 iterations completed! (31%)             \rTotal of 32 of 100 iterations completed! (32%)             \rTotal of 33 of 100 iterations completed! (33%)             \rTotal of 34 of 100 iterations completed! (34%)             \rTotal of 35 of 100 iterations completed! (35%)             \rTotal of 36 of 100 iterations completed! (36%)             \rTotal of 37 of 100 iterations completed! (37%)             \rTotal of 38 of 100 iterations completed! (38%)             \rTotal of 39 of 100 iterations completed! (39%)             \rTotal of 40 of 100 iterations completed! (40%)             \rTotal of 41 of 100 iterations completed! (41%)             \rTotal of 42 of 100 iterations completed! (42%)             \rTotal of 43 of 100 iterations completed! (43%)             \rTotal of 44 of 100 iterations completed! (44%)             \rTotal of 45 of 100 iterations completed! (45%)             \rTotal of 46 of 100 iterations completed! (46%)             \rTotal of 47 of 100 iterations completed! (47%)             \rTotal of 48 of 100 iterations completed! (48%)             \rTotal of 49 of 100 iterations completed! (49%)             \rTotal of 50 of 100 iterations completed! (50%)             \rTotal of 51 of 100 iterations completed! (51%)             \rTotal of 52 of 100 iterations completed! (52%)             \rTotal of 53 of 100 iterations completed! (53%)             \rTotal of 54 of 100 iterations completed! (54%)             \rTotal of 55 of 100 iterations completed! (55%)             \rTotal of 56 of 100 iterations completed! (56%)             \rTotal of 57 of 100 iterations completed! (57%)             \rTotal of 58 of 100 iterations completed! (58%)             \rTotal of 59 of 100 iterations completed! (59%)             \rTotal of 60 of 100 iterations completed! (60%)             \rTotal of 61 of 100 iterations completed! (61%)             \rTotal of 62 of 100 iterations completed! (62%)             \rTotal of 63 of 100 iterations completed! (63%)             \rTotal of 64 of 100 iterations completed! (64%)             \rTotal of 65 of 100 iterations completed! (65%)             \rTotal of 66 of 100 iterations completed! (66%)             \rTotal of 67 of 100 iterations completed! (67%)             \rTotal of 68 of 100 iterations completed! (68%)             \rTotal of 69 of 100 iterations completed! (69%)             \rTotal of 70 of 100 iterations completed! (70%)             \rTotal of 71 of 100 iterations completed! (71%)             \rTotal of 72 of 100 iterations completed! (72%)             \rTotal of 73 of 100 iterations completed! (73%)             \rTotal of 74 of 100 iterations completed! (74%)             \rTotal of 75 of 100 iterations completed! (75%)             \rTotal of 76 of 100 iterations completed! (76%)             \rTotal of 77 of 100 iterations completed! (77%)             \rTotal of 78 of 100 iterations completed! (78%)             \rTotal of 79 of 100 iterations completed! (79%)             \rTotal of 80 of 100 iterations completed! (80%)             \rTotal of 81 of 100 iterations completed! (81%)             \rTotal of 82 of 100 iterations completed! (82%)             \rTotal of 83 of 100 iterations completed! (83%)             \rTotal of 84 of 100 iterations completed! (84%)             \rTotal of 85 of 100 iterations completed! (85%)             \rTotal of 86 of 100 iterations completed! (86%)             \rTotal of 87 of 100 iterations completed! (87%)             \rTotal of 88 of 100 iterations completed! (88%)             \rTotal of 89 of 100 iterations completed! (89%)             \rTotal of 90 of 100 iterations completed! (90%)             \rTotal of 91 of 100 iterations completed! (91%)             \rTotal of 92 of 100 iterations completed! (92%)             \rTotal of 93 of 100 iterations completed! (93%)             \rTotal of 94 of 100 iterations completed! (94%)             \rTotal of 95 of 100 iterations completed! (95%)             \rTotal of 96 of 100 iterations completed! (96%)             \rTotal of 97 of 100 iterations completed! (97%)             \rTotal of 98 of 100 iterations completed! (98%)             \rTotal of 99 of 100 iterations completed! (99%)             \rTotal of 100 of 100 iterations completed! (100%)             \rfitting treatment model via method 'bart'\n"
          ]
        },
        {
          "metadata": {
            "tags": null
          },
          "name": "stderr",
          "output_type": "stream",
          "text": [
            "Warning message in bartc(Y[, 1], Z, X, p.scoreAsCovariate = F, n.chains = 1, n.threads = 1, :\n",
            "“for response method 'bart', propensity score not used unless included as covariate”\n"
          ]
        },
        {
          "metadata": {
            "tags": null
          },
          "name": "stdout",
          "output_type": "stream",
          "text": [
            "fitting response model via method 'bart'\n",
            "fitting treatment model via method 'bart'\n"
          ]
        },
        {
          "metadata": {
            "tags": null
          },
          "name": "stderr",
          "output_type": "stream",
          "text": [
            "Warning message in bartc(Y[, 2], Z, X, p.scoreAsCovariate = F, n.chains = 1, n.threads = 1, :\n",
            "“for response method 'bart', propensity score not used unless included as covariate”\n"
          ]
        },
        {
          "metadata": {
            "tags": null
          },
          "name": "stdout",
          "output_type": "stream",
          "text": [
            "fitting response model via method 'bart'\n",
            "\rFinishing iteration 100 of 100"
          ]
        },
        {
          "metadata": {
            "tags": null
          },
          "name": "stderr",
          "output_type": "stream",
          "text": [
            "Warning message in validateXTest(test, attr(x, \"term.labels\"), ncol(x), colnames(x), :\n",
            "“column names of 'test' does not equal that of 'x': 'X1, X2, X3, X4, X5, X6, X7, X8, X9, X10'; match will be made by position”\n"
          ]
        },
        {
          "metadata": {
            "tags": null
          },
          "name": "stdout",
          "output_type": "stream",
          "text": [
            "Total of 1 of 100 iterations completed! (1%)             \rTotal of 2 of 100 iterations completed! (2%)             \rTotal of 3 of 100 iterations completed! (3%)             \rTotal of 4 of 100 iterations completed! (4%)             \rTotal of 5 of 100 iterations completed! (5%)             \rTotal of 6 of 100 iterations completed! (6%)             \rTotal of 7 of 100 iterations completed! (7%)             \rTotal of 8 of 100 iterations completed! (8%)             \rTotal of 9 of 100 iterations completed! (9%)             \rTotal of 10 of 100 iterations completed! (10%)             \rTotal of 11 of 100 iterations completed! (11%)             \rTotal of 12 of 100 iterations completed! (12%)             \rTotal of 13 of 100 iterations completed! (13%)             \rTotal of 14 of 100 iterations completed! (14%)             \rTotal of 15 of 100 iterations completed! (15%)             \rTotal of 16 of 100 iterations completed! (16%)             \rTotal of 17 of 100 iterations completed! (17%)             \rTotal of 18 of 100 iterations completed! (18%)             \rTotal of 19 of 100 iterations completed! (19%)             \rTotal of 20 of 100 iterations completed! (20%)             \rTotal of 21 of 100 iterations completed! (21%)             \rTotal of 22 of 100 iterations completed! (22%)             \rTotal of 23 of 100 iterations completed! (23%)             \rTotal of 24 of 100 iterations completed! (24%)             \rTotal of 25 of 100 iterations completed! (25%)             \rTotal of 26 of 100 iterations completed! (26%)             \rTotal of 27 of 100 iterations completed! (27%)             \rTotal of 28 of 100 iterations completed! (28%)             \rTotal of 29 of 100 iterations completed! (29%)             \rTotal of 30 of 100 iterations completed! (30%)             \rTotal of 31 of 100 iterations completed! (31%)             \rTotal of 32 of 100 iterations completed! (32%)             \rTotal of 33 of 100 iterations completed! (33%)             \rTotal of 34 of 100 iterations completed! (34%)             \rTotal of 35 of 100 iterations completed! (35%)             \rTotal of 36 of 100 iterations completed! (36%)             \rTotal of 37 of 100 iterations completed! (37%)             \rTotal of 38 of 100 iterations completed! (38%)             \rTotal of 39 of 100 iterations completed! (39%)             \rTotal of 40 of 100 iterations completed! (40%)             \rTotal of 41 of 100 iterations completed! (41%)             \rTotal of 42 of 100 iterations completed! (42%)             \rTotal of 43 of 100 iterations completed! (43%)             \rTotal of 44 of 100 iterations completed! (44%)             \rTotal of 45 of 100 iterations completed! (45%)             \rTotal of 46 of 100 iterations completed! (46%)             \rTotal of 47 of 100 iterations completed! (47%)             \rTotal of 48 of 100 iterations completed! (48%)             \rTotal of 49 of 100 iterations completed! (49%)             \rTotal of 50 of 100 iterations completed! (50%)             \rTotal of 51 of 100 iterations completed! (51%)             \rTotal of 52 of 100 iterations completed! (52%)             \rTotal of 53 of 100 iterations completed! (53%)             \rTotal of 54 of 100 iterations completed! (54%)             \rTotal of 55 of 100 iterations completed! (55%)             \rTotal of 56 of 100 iterations completed! (56%)             \rTotal of 57 of 100 iterations completed! (57%)             \rTotal of 58 of 100 iterations completed! (58%)             \rTotal of 59 of 100 iterations completed! (59%)             \rTotal of 60 of 100 iterations completed! (60%)             \rTotal of 61 of 100 iterations completed! (61%)             \rTotal of 62 of 100 iterations completed! (62%)             \rTotal of 63 of 100 iterations completed! (63%)             \rTotal of 64 of 100 iterations completed! (64%)             \rTotal of 65 of 100 iterations completed! (65%)             \rTotal of 66 of 100 iterations completed! (66%)             \rTotal of 67 of 100 iterations completed! (67%)             \rTotal of 68 of 100 iterations completed! (68%)             \rTotal of 69 of 100 iterations completed! (69%)             \rTotal of 70 of 100 iterations completed! (70%)             \rTotal of 71 of 100 iterations completed! (71%)             \rTotal of 72 of 100 iterations completed! (72%)             \rTotal of 73 of 100 iterations completed! (73%)             \rTotal of 74 of 100 iterations completed! (74%)             \rTotal of 75 of 100 iterations completed! (75%)             \rTotal of 76 of 100 iterations completed! (76%)             \rTotal of 77 of 100 iterations completed! (77%)             \rTotal of 78 of 100 iterations completed! (78%)             \rTotal of 79 of 100 iterations completed! (79%)             \rTotal of 80 of 100 iterations completed! (80%)             \rTotal of 81 of 100 iterations completed! (81%)             \rTotal of 82 of 100 iterations completed! (82%)             \rTotal of 83 of 100 iterations completed! (83%)             \rTotal of 84 of 100 iterations completed! (84%)             \rTotal of 85 of 100 iterations completed! (85%)             \rTotal of 86 of 100 iterations completed! (86%)             \rTotal of 87 of 100 iterations completed! (87%)             \rTotal of 88 of 100 iterations completed! (88%)             \rTotal of 89 of 100 iterations completed! (89%)             \rTotal of 90 of 100 iterations completed! (90%)             \rTotal of 91 of 100 iterations completed! (91%)             \rTotal of 92 of 100 iterations completed! (92%)             \rTotal of 93 of 100 iterations completed! (93%)             \rTotal of 94 of 100 iterations completed! (94%)             \rTotal of 95 of 100 iterations completed! (95%)             \rTotal of 96 of 100 iterations completed! (96%)             \rTotal of 97 of 100 iterations completed! (97%)             \rTotal of 98 of 100 iterations completed! (98%)             \rTotal of 99 of 100 iterations completed! (99%)             \rTotal of 100 of 100 iterations completed! (100%)             \rfitting treatment model via method 'bart'\n"
          ]
        },
        {
          "metadata": {
            "tags": null
          },
          "name": "stderr",
          "output_type": "stream",
          "text": [
            "Warning message in bartc(Y[, 1], Z, X, p.scoreAsCovariate = F, n.chains = 1, n.threads = 1, :\n",
            "“for response method 'bart', propensity score not used unless included as covariate”\n"
          ]
        },
        {
          "metadata": {
            "tags": null
          },
          "name": "stdout",
          "output_type": "stream",
          "text": [
            "fitting response model via method 'bart'\n",
            "fitting treatment model via method 'bart'\n"
          ]
        },
        {
          "metadata": {
            "tags": null
          },
          "name": "stderr",
          "output_type": "stream",
          "text": [
            "Warning message in bartc(Y[, 2], Z, X, p.scoreAsCovariate = F, n.chains = 1, n.threads = 1, :\n",
            "“for response method 'bart', propensity score not used unless included as covariate”\n"
          ]
        },
        {
          "metadata": {
            "tags": null
          },
          "name": "stdout",
          "output_type": "stream",
          "text": [
            "fitting response model via method 'bart'\n",
            "\rFinishing iteration 100 of 100"
          ]
        },
        {
          "metadata": {
            "tags": null
          },
          "name": "stderr",
          "output_type": "stream",
          "text": [
            "Warning message in validateXTest(test, attr(x, \"term.labels\"), ncol(x), colnames(x), :\n",
            "“column names of 'test' does not equal that of 'x': 'X1, X2, X3, X4, X5, X6, X7, X8, X9, X10'; match will be made by position”\n"
          ]
        },
        {
          "metadata": {
            "tags": null
          },
          "name": "stdout",
          "output_type": "stream",
          "text": [
            "Total of 1 of 100 iterations completed! (1%)             \rTotal of 2 of 100 iterations completed! (2%)             \rTotal of 3 of 100 iterations completed! (3%)             \rTotal of 4 of 100 iterations completed! (4%)             \rTotal of 5 of 100 iterations completed! (5%)             \rTotal of 6 of 100 iterations completed! (6%)             \rTotal of 7 of 100 iterations completed! (7%)             \rTotal of 8 of 100 iterations completed! (8%)             \rTotal of 9 of 100 iterations completed! (9%)             \rTotal of 10 of 100 iterations completed! (10%)             \rTotal of 11 of 100 iterations completed! (11%)             \rTotal of 12 of 100 iterations completed! (12%)             \rTotal of 13 of 100 iterations completed! (13%)             \rTotal of 14 of 100 iterations completed! (14%)             \rTotal of 15 of 100 iterations completed! (15%)             \rTotal of 16 of 100 iterations completed! (16%)             \rTotal of 17 of 100 iterations completed! (17%)             \rTotal of 18 of 100 iterations completed! (18%)             \rTotal of 19 of 100 iterations completed! (19%)             \rTotal of 20 of 100 iterations completed! (20%)             \rTotal of 21 of 100 iterations completed! (21%)             \rTotal of 22 of 100 iterations completed! (22%)             \rTotal of 23 of 100 iterations completed! (23%)             \rTotal of 24 of 100 iterations completed! (24%)             \rTotal of 25 of 100 iterations completed! (25%)             \rTotal of 26 of 100 iterations completed! (26%)             \rTotal of 27 of 100 iterations completed! (27%)             \rTotal of 28 of 100 iterations completed! (28%)             \rTotal of 29 of 100 iterations completed! (29%)             \rTotal of 30 of 100 iterations completed! (30%)             \rTotal of 31 of 100 iterations completed! (31%)             \rTotal of 32 of 100 iterations completed! (32%)             \rTotal of 33 of 100 iterations completed! (33%)             \rTotal of 34 of 100 iterations completed! (34%)             \rTotal of 35 of 100 iterations completed! (35%)             \rTotal of 36 of 100 iterations completed! (36%)             \rTotal of 37 of 100 iterations completed! (37%)             \rTotal of 38 of 100 iterations completed! (38%)             \rTotal of 39 of 100 iterations completed! (39%)             \rTotal of 40 of 100 iterations completed! (40%)             \rTotal of 41 of 100 iterations completed! (41%)             \rTotal of 42 of 100 iterations completed! (42%)             \rTotal of 43 of 100 iterations completed! (43%)             \rTotal of 44 of 100 iterations completed! (44%)             \rTotal of 45 of 100 iterations completed! (45%)             \rTotal of 46 of 100 iterations completed! (46%)             \rTotal of 47 of 100 iterations completed! (47%)             \rTotal of 48 of 100 iterations completed! (48%)             \rTotal of 49 of 100 iterations completed! (49%)             \rTotal of 50 of 100 iterations completed! (50%)             \rTotal of 51 of 100 iterations completed! (51%)             \rTotal of 52 of 100 iterations completed! (52%)             \rTotal of 53 of 100 iterations completed! (53%)             \rTotal of 54 of 100 iterations completed! (54%)             \rTotal of 55 of 100 iterations completed! (55%)             \rTotal of 56 of 100 iterations completed! (56%)             \rTotal of 57 of 100 iterations completed! (57%)             \rTotal of 58 of 100 iterations completed! (58%)             \rTotal of 59 of 100 iterations completed! (59%)             \rTotal of 60 of 100 iterations completed! (60%)             \rTotal of 61 of 100 iterations completed! (61%)             \rTotal of 62 of 100 iterations completed! (62%)             \rTotal of 63 of 100 iterations completed! (63%)             \rTotal of 64 of 100 iterations completed! (64%)             \rTotal of 65 of 100 iterations completed! (65%)             \rTotal of 66 of 100 iterations completed! (66%)             \rTotal of 67 of 100 iterations completed! (67%)             \rTotal of 68 of 100 iterations completed! (68%)             \rTotal of 69 of 100 iterations completed! (69%)             \rTotal of 70 of 100 iterations completed! (70%)             \rTotal of 71 of 100 iterations completed! (71%)             \rTotal of 72 of 100 iterations completed! (72%)             \rTotal of 73 of 100 iterations completed! (73%)             \rTotal of 74 of 100 iterations completed! (74%)             \rTotal of 75 of 100 iterations completed! (75%)             \rTotal of 76 of 100 iterations completed! (76%)             \rTotal of 77 of 100 iterations completed! (77%)             \rTotal of 78 of 100 iterations completed! (78%)             \rTotal of 79 of 100 iterations completed! (79%)             \rTotal of 80 of 100 iterations completed! (80%)             \rTotal of 81 of 100 iterations completed! (81%)             \rTotal of 82 of 100 iterations completed! (82%)             \rTotal of 83 of 100 iterations completed! (83%)             \rTotal of 84 of 100 iterations completed! (84%)             \rTotal of 85 of 100 iterations completed! (85%)             \rTotal of 86 of 100 iterations completed! (86%)             \rTotal of 87 of 100 iterations completed! (87%)             \rTotal of 88 of 100 iterations completed! (88%)             \rTotal of 89 of 100 iterations completed! (89%)             \rTotal of 90 of 100 iterations completed! (90%)             \rTotal of 91 of 100 iterations completed! (91%)             \rTotal of 92 of 100 iterations completed! (92%)             \rTotal of 93 of 100 iterations completed! (93%)             \rTotal of 94 of 100 iterations completed! (94%)             \rTotal of 95 of 100 iterations completed! (95%)             \rTotal of 96 of 100 iterations completed! (96%)             \rTotal of 97 of 100 iterations completed! (97%)             \rTotal of 98 of 100 iterations completed! (98%)             \rTotal of 99 of 100 iterations completed! (99%)             \rTotal of 100 of 100 iterations completed! (100%)             \rfitting treatment model via method 'bart'\n"
          ]
        },
        {
          "metadata": {
            "tags": null
          },
          "name": "stderr",
          "output_type": "stream",
          "text": [
            "Warning message in bartc(Y[, 1], Z, X, p.scoreAsCovariate = F, n.chains = 1, n.threads = 1, :\n",
            "“for response method 'bart', propensity score not used unless included as covariate”\n"
          ]
        },
        {
          "metadata": {
            "tags": null
          },
          "name": "stdout",
          "output_type": "stream",
          "text": [
            "fitting response model via method 'bart'\n",
            "fitting treatment model via method 'bart'\n"
          ]
        },
        {
          "metadata": {
            "tags": null
          },
          "name": "stderr",
          "output_type": "stream",
          "text": [
            "Warning message in bartc(Y[, 2], Z, X, p.scoreAsCovariate = F, n.chains = 1, n.threads = 1, :\n",
            "“for response method 'bart', propensity score not used unless included as covariate”\n"
          ]
        },
        {
          "metadata": {
            "tags": null
          },
          "name": "stdout",
          "output_type": "stream",
          "text": [
            "fitting response model via method 'bart'\n",
            "\rFinishing iteration 100 of 100"
          ]
        },
        {
          "metadata": {
            "tags": null
          },
          "name": "stderr",
          "output_type": "stream",
          "text": [
            "Warning message in validateXTest(test, attr(x, \"term.labels\"), ncol(x), colnames(x), :\n",
            "“column names of 'test' does not equal that of 'x': 'X1, X2, X3, X4, X5, X6, X7, X8, X9, X10'; match will be made by position”\n"
          ]
        },
        {
          "metadata": {
            "tags": null
          },
          "name": "stdout",
          "output_type": "stream",
          "text": [
            "Total of 1 of 100 iterations completed! (1%)             \rTotal of 2 of 100 iterations completed! (2%)             \rTotal of 3 of 100 iterations completed! (3%)             \rTotal of 4 of 100 iterations completed! (4%)             \rTotal of 5 of 100 iterations completed! (5%)             \rTotal of 6 of 100 iterations completed! (6%)             \rTotal of 7 of 100 iterations completed! (7%)             \rTotal of 8 of 100 iterations completed! (8%)             \rTotal of 9 of 100 iterations completed! (9%)             \rTotal of 10 of 100 iterations completed! (10%)             \rTotal of 11 of 100 iterations completed! (11%)             \rTotal of 12 of 100 iterations completed! (12%)             \rTotal of 13 of 100 iterations completed! (13%)             \rTotal of 14 of 100 iterations completed! (14%)             \rTotal of 15 of 100 iterations completed! (15%)             \rTotal of 16 of 100 iterations completed! (16%)             \rTotal of 17 of 100 iterations completed! (17%)             \rTotal of 18 of 100 iterations completed! (18%)             \rTotal of 19 of 100 iterations completed! (19%)             \rTotal of 20 of 100 iterations completed! (20%)             \rTotal of 21 of 100 iterations completed! (21%)             \rTotal of 22 of 100 iterations completed! (22%)             \rTotal of 23 of 100 iterations completed! (23%)             \rTotal of 24 of 100 iterations completed! (24%)             \rTotal of 25 of 100 iterations completed! (25%)             \rTotal of 26 of 100 iterations completed! (26%)             \rTotal of 27 of 100 iterations completed! (27%)             \rTotal of 28 of 100 iterations completed! (28%)             \rTotal of 29 of 100 iterations completed! (29%)             \rTotal of 30 of 100 iterations completed! (30%)             \rTotal of 31 of 100 iterations completed! (31%)             \rTotal of 32 of 100 iterations completed! (32%)             \rTotal of 33 of 100 iterations completed! (33%)             \rTotal of 34 of 100 iterations completed! (34%)             \rTotal of 35 of 100 iterations completed! (35%)             \rTotal of 36 of 100 iterations completed! (36%)             \rTotal of 37 of 100 iterations completed! (37%)             \rTotal of 38 of 100 iterations completed! (38%)             \rTotal of 39 of 100 iterations completed! (39%)             \rTotal of 40 of 100 iterations completed! (40%)             \rTotal of 41 of 100 iterations completed! (41%)             \rTotal of 42 of 100 iterations completed! (42%)             \rTotal of 43 of 100 iterations completed! (43%)             \rTotal of 44 of 100 iterations completed! (44%)             \rTotal of 45 of 100 iterations completed! (45%)             \rTotal of 46 of 100 iterations completed! (46%)             \rTotal of 47 of 100 iterations completed! (47%)             \rTotal of 48 of 100 iterations completed! (48%)             \rTotal of 49 of 100 iterations completed! (49%)             \rTotal of 50 of 100 iterations completed! (50%)             \rTotal of 51 of 100 iterations completed! (51%)             \rTotal of 52 of 100 iterations completed! (52%)             \rTotal of 53 of 100 iterations completed! (53%)             \rTotal of 54 of 100 iterations completed! (54%)             \rTotal of 55 of 100 iterations completed! (55%)             \rTotal of 56 of 100 iterations completed! (56%)             \rTotal of 57 of 100 iterations completed! (57%)             \rTotal of 58 of 100 iterations completed! (58%)             \rTotal of 59 of 100 iterations completed! (59%)             \rTotal of 60 of 100 iterations completed! (60%)             \rTotal of 61 of 100 iterations completed! (61%)             \rTotal of 62 of 100 iterations completed! (62%)             \rTotal of 63 of 100 iterations completed! (63%)             \rTotal of 64 of 100 iterations completed! (64%)             \rTotal of 65 of 100 iterations completed! (65%)             \rTotal of 66 of 100 iterations completed! (66%)             \rTotal of 67 of 100 iterations completed! (67%)             \rTotal of 68 of 100 iterations completed! (68%)             \rTotal of 69 of 100 iterations completed! (69%)             \rTotal of 70 of 100 iterations completed! (70%)             \rTotal of 71 of 100 iterations completed! (71%)             \rTotal of 72 of 100 iterations completed! (72%)             \rTotal of 73 of 100 iterations completed! (73%)             \rTotal of 74 of 100 iterations completed! (74%)             \rTotal of 75 of 100 iterations completed! (75%)             \rTotal of 76 of 100 iterations completed! (76%)             \rTotal of 77 of 100 iterations completed! (77%)             \rTotal of 78 of 100 iterations completed! (78%)             \rTotal of 79 of 100 iterations completed! (79%)             \rTotal of 80 of 100 iterations completed! (80%)             \rTotal of 81 of 100 iterations completed! (81%)             \rTotal of 82 of 100 iterations completed! (82%)             \rTotal of 83 of 100 iterations completed! (83%)             \rTotal of 84 of 100 iterations completed! (84%)             \rTotal of 85 of 100 iterations completed! (85%)             \rTotal of 86 of 100 iterations completed! (86%)             \rTotal of 87 of 100 iterations completed! (87%)             \rTotal of 88 of 100 iterations completed! (88%)             \rTotal of 89 of 100 iterations completed! (89%)             \rTotal of 90 of 100 iterations completed! (90%)             \rTotal of 91 of 100 iterations completed! (91%)             \rTotal of 92 of 100 iterations completed! (92%)             \rTotal of 93 of 100 iterations completed! (93%)             \rTotal of 94 of 100 iterations completed! (94%)             \rTotal of 95 of 100 iterations completed! (95%)             \rTotal of 96 of 100 iterations completed! (96%)             \rTotal of 97 of 100 iterations completed! (97%)             \rTotal of 98 of 100 iterations completed! (98%)             \rTotal of 99 of 100 iterations completed! (99%)             \rTotal of 100 of 100 iterations completed! (100%)             \rfitting treatment model via method 'bart'\n"
          ]
        },
        {
          "metadata": {
            "tags": null
          },
          "name": "stderr",
          "output_type": "stream",
          "text": [
            "Warning message in bartc(Y[, 1], Z, X, p.scoreAsCovariate = F, n.chains = 1, n.threads = 1, :\n",
            "“for response method 'bart', propensity score not used unless included as covariate”\n"
          ]
        },
        {
          "metadata": {
            "tags": null
          },
          "name": "stdout",
          "output_type": "stream",
          "text": [
            "fitting response model via method 'bart'\n",
            "fitting treatment model via method 'bart'\n"
          ]
        },
        {
          "metadata": {
            "tags": null
          },
          "name": "stderr",
          "output_type": "stream",
          "text": [
            "Warning message in bartc(Y[, 2], Z, X, p.scoreAsCovariate = F, n.chains = 1, n.threads = 1, :\n",
            "“for response method 'bart', propensity score not used unless included as covariate”\n"
          ]
        },
        {
          "metadata": {
            "tags": null
          },
          "name": "stdout",
          "output_type": "stream",
          "text": [
            "fitting response model via method 'bart'\n",
            "\rFinishing iteration 100 of 100"
          ]
        },
        {
          "metadata": {
            "tags": null
          },
          "name": "stderr",
          "output_type": "stream",
          "text": [
            "Warning message in validateXTest(test, attr(x, \"term.labels\"), ncol(x), colnames(x), :\n",
            "“column names of 'test' does not equal that of 'x': 'X1, X2, X3, X4, X5, X6, X7, X8, X9, X10'; match will be made by position”\n"
          ]
        },
        {
          "metadata": {
            "tags": null
          },
          "name": "stdout",
          "output_type": "stream",
          "text": [
            "Total of 1 of 100 iterations completed! (1%)             \rTotal of 2 of 100 iterations completed! (2%)             \rTotal of 3 of 100 iterations completed! (3%)             \rTotal of 4 of 100 iterations completed! (4%)             \rTotal of 5 of 100 iterations completed! (5%)             \rTotal of 6 of 100 iterations completed! (6%)             \rTotal of 7 of 100 iterations completed! (7%)             \rTotal of 8 of 100 iterations completed! (8%)             \rTotal of 9 of 100 iterations completed! (9%)             \rTotal of 10 of 100 iterations completed! (10%)             \rTotal of 11 of 100 iterations completed! (11%)             \rTotal of 12 of 100 iterations completed! (12%)             \rTotal of 13 of 100 iterations completed! (13%)             \rTotal of 14 of 100 iterations completed! (14%)             \rTotal of 15 of 100 iterations completed! (15%)             \rTotal of 16 of 100 iterations completed! (16%)             \rTotal of 17 of 100 iterations completed! (17%)             \rTotal of 18 of 100 iterations completed! (18%)             \rTotal of 19 of 100 iterations completed! (19%)             \rTotal of 20 of 100 iterations completed! (20%)             \rTotal of 21 of 100 iterations completed! (21%)             \rTotal of 22 of 100 iterations completed! (22%)             \rTotal of 23 of 100 iterations completed! (23%)             \rTotal of 24 of 100 iterations completed! (24%)             \rTotal of 25 of 100 iterations completed! (25%)             \rTotal of 26 of 100 iterations completed! (26%)             \rTotal of 27 of 100 iterations completed! (27%)             \rTotal of 28 of 100 iterations completed! (28%)             \rTotal of 29 of 100 iterations completed! (29%)             \rTotal of 30 of 100 iterations completed! (30%)             \rTotal of 31 of 100 iterations completed! (31%)             \rTotal of 32 of 100 iterations completed! (32%)             \rTotal of 33 of 100 iterations completed! (33%)             \rTotal of 34 of 100 iterations completed! (34%)             \rTotal of 35 of 100 iterations completed! (35%)             \rTotal of 36 of 100 iterations completed! (36%)             \rTotal of 37 of 100 iterations completed! (37%)             \rTotal of 38 of 100 iterations completed! (38%)             \rTotal of 39 of 100 iterations completed! (39%)             \rTotal of 40 of 100 iterations completed! (40%)             \rTotal of 41 of 100 iterations completed! (41%)             \rTotal of 42 of 100 iterations completed! (42%)             \rTotal of 43 of 100 iterations completed! (43%)             \rTotal of 44 of 100 iterations completed! (44%)             \rTotal of 45 of 100 iterations completed! (45%)             \rTotal of 46 of 100 iterations completed! (46%)             \rTotal of 47 of 100 iterations completed! (47%)             \rTotal of 48 of 100 iterations completed! (48%)             \rTotal of 49 of 100 iterations completed! (49%)             \rTotal of 50 of 100 iterations completed! (50%)             \rTotal of 51 of 100 iterations completed! (51%)             \rTotal of 52 of 100 iterations completed! (52%)             \rTotal of 53 of 100 iterations completed! (53%)             \rTotal of 54 of 100 iterations completed! (54%)             \rTotal of 55 of 100 iterations completed! (55%)             \rTotal of 56 of 100 iterations completed! (56%)             \rTotal of 57 of 100 iterations completed! (57%)             \rTotal of 58 of 100 iterations completed! (58%)             \rTotal of 59 of 100 iterations completed! (59%)             \rTotal of 60 of 100 iterations completed! (60%)             \rTotal of 61 of 100 iterations completed! (61%)             \rTotal of 62 of 100 iterations completed! (62%)             \rTotal of 63 of 100 iterations completed! (63%)             \rTotal of 64 of 100 iterations completed! (64%)             \rTotal of 65 of 100 iterations completed! (65%)             \rTotal of 66 of 100 iterations completed! (66%)             \rTotal of 67 of 100 iterations completed! (67%)             \rTotal of 68 of 100 iterations completed! (68%)             \rTotal of 69 of 100 iterations completed! (69%)             \rTotal of 70 of 100 iterations completed! (70%)             \rTotal of 71 of 100 iterations completed! (71%)             \rTotal of 72 of 100 iterations completed! (72%)             \rTotal of 73 of 100 iterations completed! (73%)             \rTotal of 74 of 100 iterations completed! (74%)             \rTotal of 75 of 100 iterations completed! (75%)             \rTotal of 76 of 100 iterations completed! (76%)             \rTotal of 77 of 100 iterations completed! (77%)             \rTotal of 78 of 100 iterations completed! (78%)             \rTotal of 79 of 100 iterations completed! (79%)             \rTotal of 80 of 100 iterations completed! (80%)             \rTotal of 81 of 100 iterations completed! (81%)             \rTotal of 82 of 100 iterations completed! (82%)             \rTotal of 83 of 100 iterations completed! (83%)             \rTotal of 84 of 100 iterations completed! (84%)             \rTotal of 85 of 100 iterations completed! (85%)             \rTotal of 86 of 100 iterations completed! (86%)             \rTotal of 87 of 100 iterations completed! (87%)             \rTotal of 88 of 100 iterations completed! (88%)             \rTotal of 89 of 100 iterations completed! (89%)             \rTotal of 90 of 100 iterations completed! (90%)             \rTotal of 91 of 100 iterations completed! (91%)             \rTotal of 92 of 100 iterations completed! (92%)             \rTotal of 93 of 100 iterations completed! (93%)             \rTotal of 94 of 100 iterations completed! (94%)             \rTotal of 95 of 100 iterations completed! (95%)             \rTotal of 96 of 100 iterations completed! (96%)             \rTotal of 97 of 100 iterations completed! (97%)             \rTotal of 98 of 100 iterations completed! (98%)             \rTotal of 99 of 100 iterations completed! (99%)             \rTotal of 100 of 100 iterations completed! (100%)             \rfitting treatment model via method 'bart'\n"
          ]
        },
        {
          "metadata": {
            "tags": null
          },
          "name": "stderr",
          "output_type": "stream",
          "text": [
            "Warning message in bartc(Y[, 1], Z, X, p.scoreAsCovariate = F, n.chains = 1, n.threads = 1, :\n",
            "“for response method 'bart', propensity score not used unless included as covariate”\n"
          ]
        },
        {
          "metadata": {
            "tags": null
          },
          "name": "stdout",
          "output_type": "stream",
          "text": [
            "fitting response model via method 'bart'\n",
            "fitting treatment model via method 'bart'\n"
          ]
        },
        {
          "metadata": {
            "tags": null
          },
          "name": "stderr",
          "output_type": "stream",
          "text": [
            "Warning message in bartc(Y[, 2], Z, X, p.scoreAsCovariate = F, n.chains = 1, n.threads = 1, :\n",
            "“for response method 'bart', propensity score not used unless included as covariate”\n"
          ]
        },
        {
          "metadata": {
            "tags": null
          },
          "name": "stdout",
          "output_type": "stream",
          "text": [
            "fitting response model via method 'bart'\n",
            "\rFinishing iteration 100 of 100"
          ]
        },
        {
          "metadata": {
            "tags": null
          },
          "name": "stderr",
          "output_type": "stream",
          "text": [
            "Warning message in validateXTest(test, attr(x, \"term.labels\"), ncol(x), colnames(x), :\n",
            "“column names of 'test' does not equal that of 'x': 'X1, X2, X3, X4, X5, X6, X7, X8, X9, X10'; match will be made by position”\n"
          ]
        },
        {
          "metadata": {
            "tags": null
          },
          "name": "stdout",
          "output_type": "stream",
          "text": [
            "Total of 1 of 100 iterations completed! (1%)             \rTotal of 2 of 100 iterations completed! (2%)             \rTotal of 3 of 100 iterations completed! (3%)             \rTotal of 4 of 100 iterations completed! (4%)             \rTotal of 5 of 100 iterations completed! (5%)             \rTotal of 6 of 100 iterations completed! (6%)             \rTotal of 7 of 100 iterations completed! (7%)             \rTotal of 8 of 100 iterations completed! (8%)             \rTotal of 9 of 100 iterations completed! (9%)             \rTotal of 10 of 100 iterations completed! (10%)             \rTotal of 11 of 100 iterations completed! (11%)             \rTotal of 12 of 100 iterations completed! (12%)             \rTotal of 13 of 100 iterations completed! (13%)             \rTotal of 14 of 100 iterations completed! (14%)             \rTotal of 15 of 100 iterations completed! (15%)             \rTotal of 16 of 100 iterations completed! (16%)             \rTotal of 17 of 100 iterations completed! (17%)             \rTotal of 18 of 100 iterations completed! (18%)             \rTotal of 19 of 100 iterations completed! (19%)             \rTotal of 20 of 100 iterations completed! (20%)             \rTotal of 21 of 100 iterations completed! (21%)             \rTotal of 22 of 100 iterations completed! (22%)             \rTotal of 23 of 100 iterations completed! (23%)             \rTotal of 24 of 100 iterations completed! (24%)             \rTotal of 25 of 100 iterations completed! (25%)             \rTotal of 26 of 100 iterations completed! (26%)             \rTotal of 27 of 100 iterations completed! (27%)             \rTotal of 28 of 100 iterations completed! (28%)             \rTotal of 29 of 100 iterations completed! (29%)             \rTotal of 30 of 100 iterations completed! (30%)             \rTotal of 31 of 100 iterations completed! (31%)             \rTotal of 32 of 100 iterations completed! (32%)             \rTotal of 33 of 100 iterations completed! (33%)             \rTotal of 34 of 100 iterations completed! (34%)             \rTotal of 35 of 100 iterations completed! (35%)             \rTotal of 36 of 100 iterations completed! (36%)             \rTotal of 37 of 100 iterations completed! (37%)             \rTotal of 38 of 100 iterations completed! (38%)             \rTotal of 39 of 100 iterations completed! (39%)             \rTotal of 40 of 100 iterations completed! (40%)             \rTotal of 41 of 100 iterations completed! (41%)             \rTotal of 42 of 100 iterations completed! (42%)             \rTotal of 43 of 100 iterations completed! (43%)             \rTotal of 44 of 100 iterations completed! (44%)             \rTotal of 45 of 100 iterations completed! (45%)             \rTotal of 46 of 100 iterations completed! (46%)             \rTotal of 47 of 100 iterations completed! (47%)             \rTotal of 48 of 100 iterations completed! (48%)             \rTotal of 49 of 100 iterations completed! (49%)             \rTotal of 50 of 100 iterations completed! (50%)             \rTotal of 51 of 100 iterations completed! (51%)             \rTotal of 52 of 100 iterations completed! (52%)             \rTotal of 53 of 100 iterations completed! (53%)             \rTotal of 54 of 100 iterations completed! (54%)             \rTotal of 55 of 100 iterations completed! (55%)             \rTotal of 56 of 100 iterations completed! (56%)             \rTotal of 57 of 100 iterations completed! (57%)             \rTotal of 58 of 100 iterations completed! (58%)             \rTotal of 59 of 100 iterations completed! (59%)             \rTotal of 60 of 100 iterations completed! (60%)             \rTotal of 61 of 100 iterations completed! (61%)             \rTotal of 62 of 100 iterations completed! (62%)             \rTotal of 63 of 100 iterations completed! (63%)             \rTotal of 64 of 100 iterations completed! (64%)             \rTotal of 65 of 100 iterations completed! (65%)             \rTotal of 66 of 100 iterations completed! (66%)             \rTotal of 67 of 100 iterations completed! (67%)             \rTotal of 68 of 100 iterations completed! (68%)             \rTotal of 69 of 100 iterations completed! (69%)             \rTotal of 70 of 100 iterations completed! (70%)             \rTotal of 71 of 100 iterations completed! (71%)             \rTotal of 72 of 100 iterations completed! (72%)             \rTotal of 73 of 100 iterations completed! (73%)             \rTotal of 74 of 100 iterations completed! (74%)             \rTotal of 75 of 100 iterations completed! (75%)             \rTotal of 76 of 100 iterations completed! (76%)             \rTotal of 77 of 100 iterations completed! (77%)             \rTotal of 78 of 100 iterations completed! (78%)             \rTotal of 79 of 100 iterations completed! (79%)             \rTotal of 80 of 100 iterations completed! (80%)             \rTotal of 81 of 100 iterations completed! (81%)             \rTotal of 82 of 100 iterations completed! (82%)             \rTotal of 83 of 100 iterations completed! (83%)             \rTotal of 84 of 100 iterations completed! (84%)             \rTotal of 85 of 100 iterations completed! (85%)             \rTotal of 86 of 100 iterations completed! (86%)             \rTotal of 87 of 100 iterations completed! (87%)             \rTotal of 88 of 100 iterations completed! (88%)             \rTotal of 89 of 100 iterations completed! (89%)             \rTotal of 90 of 100 iterations completed! (90%)             \rTotal of 91 of 100 iterations completed! (91%)             \rTotal of 92 of 100 iterations completed! (92%)             \rTotal of 93 of 100 iterations completed! (93%)             \rTotal of 94 of 100 iterations completed! (94%)             \rTotal of 95 of 100 iterations completed! (95%)             \rTotal of 96 of 100 iterations completed! (96%)             \rTotal of 97 of 100 iterations completed! (97%)             \rTotal of 98 of 100 iterations completed! (98%)             \rTotal of 99 of 100 iterations completed! (99%)             \rTotal of 100 of 100 iterations completed! (100%)             \rfitting treatment model via method 'bart'\n"
          ]
        },
        {
          "metadata": {
            "tags": null
          },
          "name": "stderr",
          "output_type": "stream",
          "text": [
            "Warning message in bartc(Y[, 1], Z, X, p.scoreAsCovariate = F, n.chains = 1, n.threads = 1, :\n",
            "“for response method 'bart', propensity score not used unless included as covariate”\n"
          ]
        },
        {
          "metadata": {
            "tags": null
          },
          "name": "stdout",
          "output_type": "stream",
          "text": [
            "fitting response model via method 'bart'\n",
            "fitting treatment model via method 'bart'\n"
          ]
        },
        {
          "metadata": {
            "tags": null
          },
          "name": "stderr",
          "output_type": "stream",
          "text": [
            "Warning message in bartc(Y[, 2], Z, X, p.scoreAsCovariate = F, n.chains = 1, n.threads = 1, :\n",
            "“for response method 'bart', propensity score not used unless included as covariate”\n"
          ]
        },
        {
          "metadata": {
            "tags": null
          },
          "name": "stdout",
          "output_type": "stream",
          "text": [
            "fitting response model via method 'bart'\n",
            "\rFinishing iteration 100 of 100"
          ]
        },
        {
          "metadata": {
            "tags": null
          },
          "name": "stderr",
          "output_type": "stream",
          "text": [
            "Warning message in validateXTest(test, attr(x, \"term.labels\"), ncol(x), colnames(x), :\n",
            "“column names of 'test' does not equal that of 'x': 'X1, X2, X3, X4, X5, X6, X7, X8, X9, X10'; match will be made by position”\n"
          ]
        },
        {
          "metadata": {
            "tags": null
          },
          "name": "stdout",
          "output_type": "stream",
          "text": [
            "Total of 1 of 100 iterations completed! (1%)             \rTotal of 2 of 100 iterations completed! (2%)             \rTotal of 3 of 100 iterations completed! (3%)             \rTotal of 4 of 100 iterations completed! (4%)             \rTotal of 5 of 100 iterations completed! (5%)             \rTotal of 6 of 100 iterations completed! (6%)             \rTotal of 7 of 100 iterations completed! (7%)             \rTotal of 8 of 100 iterations completed! (8%)             \rTotal of 9 of 100 iterations completed! (9%)             \rTotal of 10 of 100 iterations completed! (10%)             \rTotal of 11 of 100 iterations completed! (11%)             \rTotal of 12 of 100 iterations completed! (12%)             \rTotal of 13 of 100 iterations completed! (13%)             \rTotal of 14 of 100 iterations completed! (14%)             \rTotal of 15 of 100 iterations completed! (15%)             \rTotal of 16 of 100 iterations completed! (16%)             \rTotal of 17 of 100 iterations completed! (17%)             \rTotal of 18 of 100 iterations completed! (18%)             \rTotal of 19 of 100 iterations completed! (19%)             \rTotal of 20 of 100 iterations completed! (20%)             \rTotal of 21 of 100 iterations completed! (21%)             \rTotal of 22 of 100 iterations completed! (22%)             \rTotal of 23 of 100 iterations completed! (23%)             \rTotal of 24 of 100 iterations completed! (24%)             \rTotal of 25 of 100 iterations completed! (25%)             \rTotal of 26 of 100 iterations completed! (26%)             \rTotal of 27 of 100 iterations completed! (27%)             \rTotal of 28 of 100 iterations completed! (28%)             \rTotal of 29 of 100 iterations completed! (29%)             \rTotal of 30 of 100 iterations completed! (30%)             \rTotal of 31 of 100 iterations completed! (31%)             \rTotal of 32 of 100 iterations completed! (32%)             \rTotal of 33 of 100 iterations completed! (33%)             \rTotal of 34 of 100 iterations completed! (34%)             \rTotal of 35 of 100 iterations completed! (35%)             \rTotal of 36 of 100 iterations completed! (36%)             \rTotal of 37 of 100 iterations completed! (37%)             \rTotal of 38 of 100 iterations completed! (38%)             \rTotal of 39 of 100 iterations completed! (39%)             \rTotal of 40 of 100 iterations completed! (40%)             \rTotal of 41 of 100 iterations completed! (41%)             \rTotal of 42 of 100 iterations completed! (42%)             \rTotal of 43 of 100 iterations completed! (43%)             \rTotal of 44 of 100 iterations completed! (44%)             \rTotal of 45 of 100 iterations completed! (45%)             \rTotal of 46 of 100 iterations completed! (46%)             \rTotal of 47 of 100 iterations completed! (47%)             \rTotal of 48 of 100 iterations completed! (48%)             \rTotal of 49 of 100 iterations completed! (49%)             \rTotal of 50 of 100 iterations completed! (50%)             \rTotal of 51 of 100 iterations completed! (51%)             \rTotal of 52 of 100 iterations completed! (52%)             \rTotal of 53 of 100 iterations completed! (53%)             \rTotal of 54 of 100 iterations completed! (54%)             \rTotal of 55 of 100 iterations completed! (55%)             \rTotal of 56 of 100 iterations completed! (56%)             \rTotal of 57 of 100 iterations completed! (57%)             \rTotal of 58 of 100 iterations completed! (58%)             \rTotal of 59 of 100 iterations completed! (59%)             \rTotal of 60 of 100 iterations completed! (60%)             \rTotal of 61 of 100 iterations completed! (61%)             \rTotal of 62 of 100 iterations completed! (62%)             \rTotal of 63 of 100 iterations completed! (63%)             \rTotal of 64 of 100 iterations completed! (64%)             \rTotal of 65 of 100 iterations completed! (65%)             \rTotal of 66 of 100 iterations completed! (66%)             \rTotal of 67 of 100 iterations completed! (67%)             \rTotal of 68 of 100 iterations completed! (68%)             \rTotal of 69 of 100 iterations completed! (69%)             \rTotal of 70 of 100 iterations completed! (70%)             \rTotal of 71 of 100 iterations completed! (71%)             \rTotal of 72 of 100 iterations completed! (72%)             \rTotal of 73 of 100 iterations completed! (73%)             \rTotal of 74 of 100 iterations completed! (74%)             \rTotal of 75 of 100 iterations completed! (75%)             \rTotal of 76 of 100 iterations completed! (76%)             \rTotal of 77 of 100 iterations completed! (77%)             \rTotal of 78 of 100 iterations completed! (78%)             \rTotal of 79 of 100 iterations completed! (79%)             \rTotal of 80 of 100 iterations completed! (80%)             \rTotal of 81 of 100 iterations completed! (81%)             \rTotal of 82 of 100 iterations completed! (82%)             \rTotal of 83 of 100 iterations completed! (83%)             \rTotal of 84 of 100 iterations completed! (84%)             \rTotal of 85 of 100 iterations completed! (85%)             \rTotal of 86 of 100 iterations completed! (86%)             \rTotal of 87 of 100 iterations completed! (87%)             \rTotal of 88 of 100 iterations completed! (88%)             \rTotal of 89 of 100 iterations completed! (89%)             \rTotal of 90 of 100 iterations completed! (90%)             \rTotal of 91 of 100 iterations completed! (91%)             \rTotal of 92 of 100 iterations completed! (92%)             \rTotal of 93 of 100 iterations completed! (93%)             \rTotal of 94 of 100 iterations completed! (94%)             \rTotal of 95 of 100 iterations completed! (95%)             \rTotal of 96 of 100 iterations completed! (96%)             \rTotal of 97 of 100 iterations completed! (97%)             \rTotal of 98 of 100 iterations completed! (98%)             \rTotal of 99 of 100 iterations completed! (99%)             \rTotal of 100 of 100 iterations completed! (100%)             \rfitting treatment model via method 'bart'\n"
          ]
        },
        {
          "metadata": {
            "tags": null
          },
          "name": "stderr",
          "output_type": "stream",
          "text": [
            "Warning message in bartc(Y[, 1], Z, X, p.scoreAsCovariate = F, n.chains = 1, n.threads = 1, :\n",
            "“for response method 'bart', propensity score not used unless included as covariate”\n"
          ]
        },
        {
          "metadata": {
            "tags": null
          },
          "name": "stdout",
          "output_type": "stream",
          "text": [
            "fitting response model via method 'bart'\n",
            "fitting treatment model via method 'bart'\n"
          ]
        },
        {
          "metadata": {
            "tags": null
          },
          "name": "stderr",
          "output_type": "stream",
          "text": [
            "Warning message in bartc(Y[, 2], Z, X, p.scoreAsCovariate = F, n.chains = 1, n.threads = 1, :\n",
            "“for response method 'bart', propensity score not used unless included as covariate”\n"
          ]
        },
        {
          "metadata": {
            "tags": null
          },
          "name": "stdout",
          "output_type": "stream",
          "text": [
            "fitting response model via method 'bart'\n",
            "\rFinishing iteration 100 of 100"
          ]
        },
        {
          "metadata": {
            "tags": null
          },
          "name": "stderr",
          "output_type": "stream",
          "text": [
            "Warning message in validateXTest(test, attr(x, \"term.labels\"), ncol(x), colnames(x), :\n",
            "“column names of 'test' does not equal that of 'x': 'X1, X2, X3, X4, X5, X6, X7, X8, X9, X10'; match will be made by position”\n"
          ]
        },
        {
          "metadata": {
            "tags": null
          },
          "name": "stdout",
          "output_type": "stream",
          "text": [
            "Total of 1 of 100 iterations completed! (1%)             \rTotal of 2 of 100 iterations completed! (2%)             \rTotal of 3 of 100 iterations completed! (3%)             \rTotal of 4 of 100 iterations completed! (4%)             \rTotal of 5 of 100 iterations completed! (5%)             \rTotal of 6 of 100 iterations completed! (6%)             \rTotal of 7 of 100 iterations completed! (7%)             \rTotal of 8 of 100 iterations completed! (8%)             \rTotal of 9 of 100 iterations completed! (9%)             \rTotal of 10 of 100 iterations completed! (10%)             \rTotal of 11 of 100 iterations completed! (11%)             \rTotal of 12 of 100 iterations completed! (12%)             \rTotal of 13 of 100 iterations completed! (13%)             \rTotal of 14 of 100 iterations completed! (14%)             \rTotal of 15 of 100 iterations completed! (15%)             \rTotal of 16 of 100 iterations completed! (16%)             \rTotal of 17 of 100 iterations completed! (17%)             \rTotal of 18 of 100 iterations completed! (18%)             \rTotal of 19 of 100 iterations completed! (19%)             \rTotal of 20 of 100 iterations completed! (20%)             \rTotal of 21 of 100 iterations completed! (21%)             \rTotal of 22 of 100 iterations completed! (22%)             \rTotal of 23 of 100 iterations completed! (23%)             \rTotal of 24 of 100 iterations completed! (24%)             \rTotal of 25 of 100 iterations completed! (25%)             \rTotal of 26 of 100 iterations completed! (26%)             \rTotal of 27 of 100 iterations completed! (27%)             \rTotal of 28 of 100 iterations completed! (28%)             \rTotal of 29 of 100 iterations completed! (29%)             \rTotal of 30 of 100 iterations completed! (30%)             \rTotal of 31 of 100 iterations completed! (31%)             \rTotal of 32 of 100 iterations completed! (32%)             \rTotal of 33 of 100 iterations completed! (33%)             \rTotal of 34 of 100 iterations completed! (34%)             \rTotal of 35 of 100 iterations completed! (35%)             \rTotal of 36 of 100 iterations completed! (36%)             \rTotal of 37 of 100 iterations completed! (37%)             \rTotal of 38 of 100 iterations completed! (38%)             \rTotal of 39 of 100 iterations completed! (39%)             \rTotal of 40 of 100 iterations completed! (40%)             \rTotal of 41 of 100 iterations completed! (41%)             \rTotal of 42 of 100 iterations completed! (42%)             \rTotal of 43 of 100 iterations completed! (43%)             \rTotal of 44 of 100 iterations completed! (44%)             \rTotal of 45 of 100 iterations completed! (45%)             \rTotal of 46 of 100 iterations completed! (46%)             \rTotal of 47 of 100 iterations completed! (47%)             \rTotal of 48 of 100 iterations completed! (48%)             \rTotal of 49 of 100 iterations completed! (49%)             \rTotal of 50 of 100 iterations completed! (50%)             \rTotal of 51 of 100 iterations completed! (51%)             \rTotal of 52 of 100 iterations completed! (52%)             \rTotal of 53 of 100 iterations completed! (53%)             \rTotal of 54 of 100 iterations completed! (54%)             \rTotal of 55 of 100 iterations completed! (55%)             \rTotal of 56 of 100 iterations completed! (56%)             \rTotal of 57 of 100 iterations completed! (57%)             \rTotal of 58 of 100 iterations completed! (58%)             \rTotal of 59 of 100 iterations completed! (59%)             \rTotal of 60 of 100 iterations completed! (60%)             \rTotal of 61 of 100 iterations completed! (61%)             \rTotal of 62 of 100 iterations completed! (62%)             \rTotal of 63 of 100 iterations completed! (63%)             \rTotal of 64 of 100 iterations completed! (64%)             \rTotal of 65 of 100 iterations completed! (65%)             \rTotal of 66 of 100 iterations completed! (66%)             \rTotal of 67 of 100 iterations completed! (67%)             \rTotal of 68 of 100 iterations completed! (68%)             \rTotal of 69 of 100 iterations completed! (69%)             \rTotal of 70 of 100 iterations completed! (70%)             \rTotal of 71 of 100 iterations completed! (71%)             \rTotal of 72 of 100 iterations completed! (72%)             \rTotal of 73 of 100 iterations completed! (73%)             \rTotal of 74 of 100 iterations completed! (74%)             \rTotal of 75 of 100 iterations completed! (75%)             \rTotal of 76 of 100 iterations completed! (76%)             \rTotal of 77 of 100 iterations completed! (77%)             \rTotal of 78 of 100 iterations completed! (78%)             \rTotal of 79 of 100 iterations completed! (79%)             \rTotal of 80 of 100 iterations completed! (80%)             \rTotal of 81 of 100 iterations completed! (81%)             \rTotal of 82 of 100 iterations completed! (82%)             \rTotal of 83 of 100 iterations completed! (83%)             \rTotal of 84 of 100 iterations completed! (84%)             \rTotal of 85 of 100 iterations completed! (85%)             \rTotal of 86 of 100 iterations completed! (86%)             \rTotal of 87 of 100 iterations completed! (87%)             \rTotal of 88 of 100 iterations completed! (88%)             \rTotal of 89 of 100 iterations completed! (89%)             \rTotal of 90 of 100 iterations completed! (90%)             \rTotal of 91 of 100 iterations completed! (91%)             \rTotal of 92 of 100 iterations completed! (92%)             \rTotal of 93 of 100 iterations completed! (93%)             \rTotal of 94 of 100 iterations completed! (94%)             \rTotal of 95 of 100 iterations completed! (95%)             \rTotal of 96 of 100 iterations completed! (96%)             \rTotal of 97 of 100 iterations completed! (97%)             \rTotal of 98 of 100 iterations completed! (98%)             \rTotal of 99 of 100 iterations completed! (99%)             \rTotal of 100 of 100 iterations completed! (100%)             \rfitting treatment model via method 'bart'\n"
          ]
        },
        {
          "metadata": {
            "tags": null
          },
          "name": "stderr",
          "output_type": "stream",
          "text": [
            "Warning message in bartc(Y[, 1], Z, X, p.scoreAsCovariate = F, n.chains = 1, n.threads = 1, :\n",
            "“for response method 'bart', propensity score not used unless included as covariate”\n"
          ]
        },
        {
          "metadata": {
            "tags": null
          },
          "name": "stdout",
          "output_type": "stream",
          "text": [
            "fitting response model via method 'bart'\n",
            "fitting treatment model via method 'bart'\n"
          ]
        },
        {
          "metadata": {
            "tags": null
          },
          "name": "stderr",
          "output_type": "stream",
          "text": [
            "Warning message in bartc(Y[, 2], Z, X, p.scoreAsCovariate = F, n.chains = 1, n.threads = 1, :\n",
            "“for response method 'bart', propensity score not used unless included as covariate”\n"
          ]
        },
        {
          "metadata": {
            "tags": null
          },
          "name": "stdout",
          "output_type": "stream",
          "text": [
            "fitting response model via method 'bart'\n",
            "\rFinishing iteration 100 of 100"
          ]
        },
        {
          "metadata": {
            "tags": null
          },
          "name": "stderr",
          "output_type": "stream",
          "text": [
            "Warning message in validateXTest(test, attr(x, \"term.labels\"), ncol(x), colnames(x), :\n",
            "“column names of 'test' does not equal that of 'x': 'X1, X2, X3, X4, X5, X6, X7, X8, X9, X10'; match will be made by position”\n"
          ]
        },
        {
          "metadata": {
            "tags": null
          },
          "name": "stdout",
          "output_type": "stream",
          "text": [
            "Total of 1 of 100 iterations completed! (1%)             \rTotal of 2 of 100 iterations completed! (2%)             \rTotal of 3 of 100 iterations completed! (3%)             \rTotal of 4 of 100 iterations completed! (4%)             \rTotal of 5 of 100 iterations completed! (5%)             \rTotal of 6 of 100 iterations completed! (6%)             \rTotal of 7 of 100 iterations completed! (7%)             \rTotal of 8 of 100 iterations completed! (8%)             \rTotal of 9 of 100 iterations completed! (9%)             \rTotal of 10 of 100 iterations completed! (10%)             \rTotal of 11 of 100 iterations completed! (11%)             \rTotal of 12 of 100 iterations completed! (12%)             \rTotal of 13 of 100 iterations completed! (13%)             \rTotal of 14 of 100 iterations completed! (14%)             \rTotal of 15 of 100 iterations completed! (15%)             \rTotal of 16 of 100 iterations completed! (16%)             \rTotal of 17 of 100 iterations completed! (17%)             \rTotal of 18 of 100 iterations completed! (18%)             \rTotal of 19 of 100 iterations completed! (19%)             \rTotal of 20 of 100 iterations completed! (20%)             \rTotal of 21 of 100 iterations completed! (21%)             \rTotal of 22 of 100 iterations completed! (22%)             \rTotal of 23 of 100 iterations completed! (23%)             \rTotal of 24 of 100 iterations completed! (24%)             \rTotal of 25 of 100 iterations completed! (25%)             \rTotal of 26 of 100 iterations completed! (26%)             \rTotal of 27 of 100 iterations completed! (27%)             \rTotal of 28 of 100 iterations completed! (28%)             \rTotal of 29 of 100 iterations completed! (29%)             \rTotal of 30 of 100 iterations completed! (30%)             \rTotal of 31 of 100 iterations completed! (31%)             \rTotal of 32 of 100 iterations completed! (32%)             \rTotal of 33 of 100 iterations completed! (33%)             \rTotal of 34 of 100 iterations completed! (34%)             \rTotal of 35 of 100 iterations completed! (35%)             \rTotal of 36 of 100 iterations completed! (36%)             \rTotal of 37 of 100 iterations completed! (37%)             \rTotal of 38 of 100 iterations completed! (38%)             \rTotal of 39 of 100 iterations completed! (39%)             \rTotal of 40 of 100 iterations completed! (40%)             \rTotal of 41 of 100 iterations completed! (41%)             \rTotal of 42 of 100 iterations completed! (42%)             \rTotal of 43 of 100 iterations completed! (43%)             \rTotal of 44 of 100 iterations completed! (44%)             \rTotal of 45 of 100 iterations completed! (45%)             \rTotal of 46 of 100 iterations completed! (46%)             \rTotal of 47 of 100 iterations completed! (47%)             \rTotal of 48 of 100 iterations completed! (48%)             \rTotal of 49 of 100 iterations completed! (49%)             \rTotal of 50 of 100 iterations completed! (50%)             \rTotal of 51 of 100 iterations completed! (51%)             \rTotal of 52 of 100 iterations completed! (52%)             \rTotal of 53 of 100 iterations completed! (53%)             \rTotal of 54 of 100 iterations completed! (54%)             \rTotal of 55 of 100 iterations completed! (55%)             \rTotal of 56 of 100 iterations completed! (56%)             \rTotal of 57 of 100 iterations completed! (57%)             \rTotal of 58 of 100 iterations completed! (58%)             \rTotal of 59 of 100 iterations completed! (59%)             \rTotal of 60 of 100 iterations completed! (60%)             \rTotal of 61 of 100 iterations completed! (61%)             \rTotal of 62 of 100 iterations completed! (62%)             \rTotal of 63 of 100 iterations completed! (63%)             \rTotal of 64 of 100 iterations completed! (64%)             \rTotal of 65 of 100 iterations completed! (65%)             \rTotal of 66 of 100 iterations completed! (66%)             \rTotal of 67 of 100 iterations completed! (67%)             \rTotal of 68 of 100 iterations completed! (68%)             \rTotal of 69 of 100 iterations completed! (69%)             \rTotal of 70 of 100 iterations completed! (70%)             \rTotal of 71 of 100 iterations completed! (71%)             \rTotal of 72 of 100 iterations completed! (72%)             \rTotal of 73 of 100 iterations completed! (73%)             \rTotal of 74 of 100 iterations completed! (74%)             \rTotal of 75 of 100 iterations completed! (75%)             \rTotal of 76 of 100 iterations completed! (76%)             \rTotal of 77 of 100 iterations completed! (77%)             \rTotal of 78 of 100 iterations completed! (78%)             \rTotal of 79 of 100 iterations completed! (79%)             \rTotal of 80 of 100 iterations completed! (80%)             \rTotal of 81 of 100 iterations completed! (81%)             \rTotal of 82 of 100 iterations completed! (82%)             \rTotal of 83 of 100 iterations completed! (83%)             \rTotal of 84 of 100 iterations completed! (84%)             \rTotal of 85 of 100 iterations completed! (85%)             \rTotal of 86 of 100 iterations completed! (86%)             \rTotal of 87 of 100 iterations completed! (87%)             \rTotal of 88 of 100 iterations completed! (88%)             \rTotal of 89 of 100 iterations completed! (89%)             \rTotal of 90 of 100 iterations completed! (90%)             \rTotal of 91 of 100 iterations completed! (91%)             \rTotal of 92 of 100 iterations completed! (92%)             \rTotal of 93 of 100 iterations completed! (93%)             \rTotal of 94 of 100 iterations completed! (94%)             \rTotal of 95 of 100 iterations completed! (95%)             \rTotal of 96 of 100 iterations completed! (96%)             \rTotal of 97 of 100 iterations completed! (97%)             \rTotal of 98 of 100 iterations completed! (98%)             \rTotal of 99 of 100 iterations completed! (99%)             \rTotal of 100 of 100 iterations completed! (100%)             \rfitting treatment model via method 'bart'\n"
          ]
        },
        {
          "metadata": {
            "tags": null
          },
          "name": "stderr",
          "output_type": "stream",
          "text": [
            "Warning message in bartc(Y[, 1], Z, X, p.scoreAsCovariate = F, n.chains = 1, n.threads = 1, :\n",
            "“for response method 'bart', propensity score not used unless included as covariate”\n"
          ]
        },
        {
          "metadata": {
            "tags": null
          },
          "name": "stdout",
          "output_type": "stream",
          "text": [
            "fitting response model via method 'bart'\n",
            "fitting treatment model via method 'bart'\n"
          ]
        },
        {
          "metadata": {
            "tags": null
          },
          "name": "stderr",
          "output_type": "stream",
          "text": [
            "Warning message in bartc(Y[, 2], Z, X, p.scoreAsCovariate = F, n.chains = 1, n.threads = 1, :\n",
            "“for response method 'bart', propensity score not used unless included as covariate”\n"
          ]
        },
        {
          "metadata": {
            "tags": null
          },
          "name": "stdout",
          "output_type": "stream",
          "text": [
            "fitting response model via method 'bart'\n",
            "\rFinishing iteration 100 of 100"
          ]
        },
        {
          "metadata": {
            "tags": null
          },
          "name": "stderr",
          "output_type": "stream",
          "text": [
            "Warning message in validateXTest(test, attr(x, \"term.labels\"), ncol(x), colnames(x), :\n",
            "“column names of 'test' does not equal that of 'x': 'X1, X2, X3, X4, X5, X6, X7, X8, X9, X10'; match will be made by position”\n"
          ]
        },
        {
          "metadata": {
            "tags": null
          },
          "name": "stdout",
          "output_type": "stream",
          "text": [
            "Total of 1 of 100 iterations completed! (1%)             \rTotal of 2 of 100 iterations completed! (2%)             \rTotal of 3 of 100 iterations completed! (3%)             \rTotal of 4 of 100 iterations completed! (4%)             \rTotal of 5 of 100 iterations completed! (5%)             \rTotal of 6 of 100 iterations completed! (6%)             \rTotal of 7 of 100 iterations completed! (7%)             \rTotal of 8 of 100 iterations completed! (8%)             \rTotal of 9 of 100 iterations completed! (9%)             \rTotal of 10 of 100 iterations completed! (10%)             \rTotal of 11 of 100 iterations completed! (11%)             \rTotal of 12 of 100 iterations completed! (12%)             \rTotal of 13 of 100 iterations completed! (13%)             \rTotal of 14 of 100 iterations completed! (14%)             \rTotal of 15 of 100 iterations completed! (15%)             \rTotal of 16 of 100 iterations completed! (16%)             \rTotal of 17 of 100 iterations completed! (17%)             \rTotal of 18 of 100 iterations completed! (18%)             \rTotal of 19 of 100 iterations completed! (19%)             \rTotal of 20 of 100 iterations completed! (20%)             \rTotal of 21 of 100 iterations completed! (21%)             \rTotal of 22 of 100 iterations completed! (22%)             \rTotal of 23 of 100 iterations completed! (23%)             \rTotal of 24 of 100 iterations completed! (24%)             \rTotal of 25 of 100 iterations completed! (25%)             \rTotal of 26 of 100 iterations completed! (26%)             \rTotal of 27 of 100 iterations completed! (27%)             \rTotal of 28 of 100 iterations completed! (28%)             \rTotal of 29 of 100 iterations completed! (29%)             \rTotal of 30 of 100 iterations completed! (30%)             \rTotal of 31 of 100 iterations completed! (31%)             \rTotal of 32 of 100 iterations completed! (32%)             \rTotal of 33 of 100 iterations completed! (33%)             \rTotal of 34 of 100 iterations completed! (34%)             \rTotal of 35 of 100 iterations completed! (35%)             \rTotal of 36 of 100 iterations completed! (36%)             \rTotal of 37 of 100 iterations completed! (37%)             \rTotal of 38 of 100 iterations completed! (38%)             \rTotal of 39 of 100 iterations completed! (39%)             \rTotal of 40 of 100 iterations completed! (40%)             \rTotal of 41 of 100 iterations completed! (41%)             \rTotal of 42 of 100 iterations completed! (42%)             \rTotal of 43 of 100 iterations completed! (43%)             \rTotal of 44 of 100 iterations completed! (44%)             \rTotal of 45 of 100 iterations completed! (45%)             \rTotal of 46 of 100 iterations completed! (46%)             \rTotal of 47 of 100 iterations completed! (47%)             \rTotal of 48 of 100 iterations completed! (48%)             \rTotal of 49 of 100 iterations completed! (49%)             \rTotal of 50 of 100 iterations completed! (50%)             \rTotal of 51 of 100 iterations completed! (51%)             \rTotal of 52 of 100 iterations completed! (52%)             \rTotal of 53 of 100 iterations completed! (53%)             \rTotal of 54 of 100 iterations completed! (54%)             \rTotal of 55 of 100 iterations completed! (55%)             \rTotal of 56 of 100 iterations completed! (56%)             \rTotal of 57 of 100 iterations completed! (57%)             \rTotal of 58 of 100 iterations completed! (58%)             \rTotal of 59 of 100 iterations completed! (59%)             \rTotal of 60 of 100 iterations completed! (60%)             \rTotal of 61 of 100 iterations completed! (61%)             \rTotal of 62 of 100 iterations completed! (62%)             \rTotal of 63 of 100 iterations completed! (63%)             \rTotal of 64 of 100 iterations completed! (64%)             \rTotal of 65 of 100 iterations completed! (65%)             \rTotal of 66 of 100 iterations completed! (66%)             \rTotal of 67 of 100 iterations completed! (67%)             \rTotal of 68 of 100 iterations completed! (68%)             \rTotal of 69 of 100 iterations completed! (69%)             \rTotal of 70 of 100 iterations completed! (70%)             \rTotal of 71 of 100 iterations completed! (71%)             \rTotal of 72 of 100 iterations completed! (72%)             \rTotal of 73 of 100 iterations completed! (73%)             \rTotal of 74 of 100 iterations completed! (74%)             \rTotal of 75 of 100 iterations completed! (75%)             \rTotal of 76 of 100 iterations completed! (76%)             \rTotal of 77 of 100 iterations completed! (77%)             \rTotal of 78 of 100 iterations completed! (78%)             \rTotal of 79 of 100 iterations completed! (79%)             \rTotal of 80 of 100 iterations completed! (80%)             \rTotal of 81 of 100 iterations completed! (81%)             \rTotal of 82 of 100 iterations completed! (82%)             \rTotal of 83 of 100 iterations completed! (83%)             \rTotal of 84 of 100 iterations completed! (84%)             \rTotal of 85 of 100 iterations completed! (85%)             \rTotal of 86 of 100 iterations completed! (86%)             \rTotal of 87 of 100 iterations completed! (87%)             \rTotal of 88 of 100 iterations completed! (88%)             \rTotal of 89 of 100 iterations completed! (89%)             \rTotal of 90 of 100 iterations completed! (90%)             \rTotal of 91 of 100 iterations completed! (91%)             \rTotal of 92 of 100 iterations completed! (92%)             \rTotal of 93 of 100 iterations completed! (93%)             \rTotal of 94 of 100 iterations completed! (94%)             \rTotal of 95 of 100 iterations completed! (95%)             \rTotal of 96 of 100 iterations completed! (96%)             \rTotal of 97 of 100 iterations completed! (97%)             \rTotal of 98 of 100 iterations completed! (98%)             \rTotal of 99 of 100 iterations completed! (99%)             \rTotal of 100 of 100 iterations completed! (100%)             \rfitting treatment model via method 'bart'\n"
          ]
        },
        {
          "metadata": {
            "tags": null
          },
          "name": "stderr",
          "output_type": "stream",
          "text": [
            "Warning message in bartc(Y[, 1], Z, X, p.scoreAsCovariate = F, n.chains = 1, n.threads = 1, :\n",
            "“for response method 'bart', propensity score not used unless included as covariate”\n"
          ]
        },
        {
          "metadata": {
            "tags": null
          },
          "name": "stdout",
          "output_type": "stream",
          "text": [
            "fitting response model via method 'bart'\n",
            "fitting treatment model via method 'bart'\n"
          ]
        },
        {
          "metadata": {
            "tags": null
          },
          "name": "stderr",
          "output_type": "stream",
          "text": [
            "Warning message in bartc(Y[, 2], Z, X, p.scoreAsCovariate = F, n.chains = 1, n.threads = 1, :\n",
            "“for response method 'bart', propensity score not used unless included as covariate”\n"
          ]
        },
        {
          "metadata": {
            "tags": null
          },
          "name": "stdout",
          "output_type": "stream",
          "text": [
            "fitting response model via method 'bart'\n",
            "\rFinishing iteration 100 of 100\n",
            "After 50 simulations:\n",
            "Comparison 1: Power = 0.7863, p-value = 0.4653, adjusted p-value = 0.4653\n",
            "Comparison 2: Power = 0.5750, p-value = 0.0051, adjusted p-value = 0.0153\n",
            "Comparison 3: Power = 0.3972, p-value = 0.0312, adjusted p-value = 0.0624\n",
            "Comparison 4: Power = 0.3867, p-value = 0.0003, adjusted p-value = 0.0011\n",
            "Minimum power: 0.3867448 \n",
            "\n",
            "Iteration 5: Running batch of 10 simulations (total will be 60)...\n"
          ]
        },
        {
          "metadata": {
            "tags": null
          },
          "name": "stderr",
          "output_type": "stream",
          "text": [
            "Warning message in validateXTest(test, attr(x, \"term.labels\"), ncol(x), colnames(x), :\n",
            "“column names of 'test' does not equal that of 'x': 'X1, X2, X3, X4, X5, X6, X7, X8, X9, X10'; match will be made by position”\n"
          ]
        },
        {
          "metadata": {
            "tags": null
          },
          "name": "stdout",
          "output_type": "stream",
          "text": [
            "Total of 1 of 100 iterations completed! (1%)             \rTotal of 2 of 100 iterations completed! (2%)             \rTotal of 3 of 100 iterations completed! (3%)             \rTotal of 4 of 100 iterations completed! (4%)             \rTotal of 5 of 100 iterations completed! (5%)             \rTotal of 6 of 100 iterations completed! (6%)             \rTotal of 7 of 100 iterations completed! (7%)             \rTotal of 8 of 100 iterations completed! (8%)             \rTotal of 9 of 100 iterations completed! (9%)             \rTotal of 10 of 100 iterations completed! (10%)             \rTotal of 11 of 100 iterations completed! (11%)             \rTotal of 12 of 100 iterations completed! (12%)             \rTotal of 13 of 100 iterations completed! (13%)             \rTotal of 14 of 100 iterations completed! (14%)             \rTotal of 15 of 100 iterations completed! (15%)             \rTotal of 16 of 100 iterations completed! (16%)             \rTotal of 17 of 100 iterations completed! (17%)             \rTotal of 18 of 100 iterations completed! (18%)             \rTotal of 19 of 100 iterations completed! (19%)             \rTotal of 20 of 100 iterations completed! (20%)             \rTotal of 21 of 100 iterations completed! (21%)             \rTotal of 22 of 100 iterations completed! (22%)             \rTotal of 23 of 100 iterations completed! (23%)             \rTotal of 24 of 100 iterations completed! (24%)             \rTotal of 25 of 100 iterations completed! (25%)             \rTotal of 26 of 100 iterations completed! (26%)             \rTotal of 27 of 100 iterations completed! (27%)             \rTotal of 28 of 100 iterations completed! (28%)             \rTotal of 29 of 100 iterations completed! (29%)             \rTotal of 30 of 100 iterations completed! (30%)             \rTotal of 31 of 100 iterations completed! (31%)             \rTotal of 32 of 100 iterations completed! (32%)             \rTotal of 33 of 100 iterations completed! (33%)             \rTotal of 34 of 100 iterations completed! (34%)             \rTotal of 35 of 100 iterations completed! (35%)             \rTotal of 36 of 100 iterations completed! (36%)             \rTotal of 37 of 100 iterations completed! (37%)             \rTotal of 38 of 100 iterations completed! (38%)             \rTotal of 39 of 100 iterations completed! (39%)             \rTotal of 40 of 100 iterations completed! (40%)             \rTotal of 41 of 100 iterations completed! (41%)             \rTotal of 42 of 100 iterations completed! (42%)             \rTotal of 43 of 100 iterations completed! (43%)             \rTotal of 44 of 100 iterations completed! (44%)             \rTotal of 45 of 100 iterations completed! (45%)             \rTotal of 46 of 100 iterations completed! (46%)             \rTotal of 47 of 100 iterations completed! (47%)             \rTotal of 48 of 100 iterations completed! (48%)             \rTotal of 49 of 100 iterations completed! (49%)             \rTotal of 50 of 100 iterations completed! (50%)             \rTotal of 51 of 100 iterations completed! (51%)             \rTotal of 52 of 100 iterations completed! (52%)             \rTotal of 53 of 100 iterations completed! (53%)             \rTotal of 54 of 100 iterations completed! (54%)             \rTotal of 55 of 100 iterations completed! (55%)             \rTotal of 56 of 100 iterations completed! (56%)             \rTotal of 57 of 100 iterations completed! (57%)             \rTotal of 58 of 100 iterations completed! (58%)             \rTotal of 59 of 100 iterations completed! (59%)             \rTotal of 60 of 100 iterations completed! (60%)             \rTotal of 61 of 100 iterations completed! (61%)             \rTotal of 62 of 100 iterations completed! (62%)             \rTotal of 63 of 100 iterations completed! (63%)             \rTotal of 64 of 100 iterations completed! (64%)             \rTotal of 65 of 100 iterations completed! (65%)             \rTotal of 66 of 100 iterations completed! (66%)             \rTotal of 67 of 100 iterations completed! (67%)             \rTotal of 68 of 100 iterations completed! (68%)             \rTotal of 69 of 100 iterations completed! (69%)             \rTotal of 70 of 100 iterations completed! (70%)             \rTotal of 71 of 100 iterations completed! (71%)             \rTotal of 72 of 100 iterations completed! (72%)             \rTotal of 73 of 100 iterations completed! (73%)             \rTotal of 74 of 100 iterations completed! (74%)             \rTotal of 75 of 100 iterations completed! (75%)             \rTotal of 76 of 100 iterations completed! (76%)             \rTotal of 77 of 100 iterations completed! (77%)             \rTotal of 78 of 100 iterations completed! (78%)             \rTotal of 79 of 100 iterations completed! (79%)             \rTotal of 80 of 100 iterations completed! (80%)             \rTotal of 81 of 100 iterations completed! (81%)             \rTotal of 82 of 100 iterations completed! (82%)             \rTotal of 83 of 100 iterations completed! (83%)             \rTotal of 84 of 100 iterations completed! (84%)             \rTotal of 85 of 100 iterations completed! (85%)             \rTotal of 86 of 100 iterations completed! (86%)             \rTotal of 87 of 100 iterations completed! (87%)             \rTotal of 88 of 100 iterations completed! (88%)             \rTotal of 89 of 100 iterations completed! (89%)             \rTotal of 90 of 100 iterations completed! (90%)             \rTotal of 91 of 100 iterations completed! (91%)             \rTotal of 92 of 100 iterations completed! (92%)             \rTotal of 93 of 100 iterations completed! (93%)             \rTotal of 94 of 100 iterations completed! (94%)             \rTotal of 95 of 100 iterations completed! (95%)             \rTotal of 96 of 100 iterations completed! (96%)             \rTotal of 97 of 100 iterations completed! (97%)             \rTotal of 98 of 100 iterations completed! (98%)             \rTotal of 99 of 100 iterations completed! (99%)             \rTotal of 100 of 100 iterations completed! (100%)             \rfitting treatment model via method 'bart'\n"
          ]
        },
        {
          "metadata": {
            "tags": null
          },
          "name": "stderr",
          "output_type": "stream",
          "text": [
            "Warning message in bartc(Y[, 1], Z, X, p.scoreAsCovariate = F, n.chains = 1, n.threads = 1, :\n",
            "“for response method 'bart', propensity score not used unless included as covariate”\n"
          ]
        },
        {
          "metadata": {
            "tags": null
          },
          "name": "stdout",
          "output_type": "stream",
          "text": [
            "fitting response model via method 'bart'\n",
            "fitting treatment model via method 'bart'\n"
          ]
        },
        {
          "metadata": {
            "tags": null
          },
          "name": "stderr",
          "output_type": "stream",
          "text": [
            "Warning message in bartc(Y[, 2], Z, X, p.scoreAsCovariate = F, n.chains = 1, n.threads = 1, :\n",
            "“for response method 'bart', propensity score not used unless included as covariate”\n"
          ]
        },
        {
          "metadata": {
            "tags": null
          },
          "name": "stdout",
          "output_type": "stream",
          "text": [
            "fitting response model via method 'bart'\n",
            "\rFinishing iteration 100 of 100"
          ]
        },
        {
          "metadata": {
            "tags": null
          },
          "name": "stderr",
          "output_type": "stream",
          "text": [
            "Warning message in validateXTest(test, attr(x, \"term.labels\"), ncol(x), colnames(x), :\n",
            "“column names of 'test' does not equal that of 'x': 'X1, X2, X3, X4, X5, X6, X7, X8, X9, X10'; match will be made by position”\n"
          ]
        },
        {
          "metadata": {
            "tags": null
          },
          "name": "stdout",
          "output_type": "stream",
          "text": [
            "Total of 1 of 100 iterations completed! (1%)             \rTotal of 2 of 100 iterations completed! (2%)             \rTotal of 3 of 100 iterations completed! (3%)             \rTotal of 4 of 100 iterations completed! (4%)             \rTotal of 5 of 100 iterations completed! (5%)             \rTotal of 6 of 100 iterations completed! (6%)             \rTotal of 7 of 100 iterations completed! (7%)             \rTotal of 8 of 100 iterations completed! (8%)             \rTotal of 9 of 100 iterations completed! (9%)             \rTotal of 10 of 100 iterations completed! (10%)             \rTotal of 11 of 100 iterations completed! (11%)             \rTotal of 12 of 100 iterations completed! (12%)             \rTotal of 13 of 100 iterations completed! (13%)             \rTotal of 14 of 100 iterations completed! (14%)             \rTotal of 15 of 100 iterations completed! (15%)             \rTotal of 16 of 100 iterations completed! (16%)             \rTotal of 17 of 100 iterations completed! (17%)             \rTotal of 18 of 100 iterations completed! (18%)             \rTotal of 19 of 100 iterations completed! (19%)             \rTotal of 20 of 100 iterations completed! (20%)             \rTotal of 21 of 100 iterations completed! (21%)             \rTotal of 22 of 100 iterations completed! (22%)             \rTotal of 23 of 100 iterations completed! (23%)             \rTotal of 24 of 100 iterations completed! (24%)             \rTotal of 25 of 100 iterations completed! (25%)             \rTotal of 26 of 100 iterations completed! (26%)             \rTotal of 27 of 100 iterations completed! (27%)             \rTotal of 28 of 100 iterations completed! (28%)             \rTotal of 29 of 100 iterations completed! (29%)             \rTotal of 30 of 100 iterations completed! (30%)             \rTotal of 31 of 100 iterations completed! (31%)             \rTotal of 32 of 100 iterations completed! (32%)             \rTotal of 33 of 100 iterations completed! (33%)             \rTotal of 34 of 100 iterations completed! (34%)             \rTotal of 35 of 100 iterations completed! (35%)             \rTotal of 36 of 100 iterations completed! (36%)             \rTotal of 37 of 100 iterations completed! (37%)             \rTotal of 38 of 100 iterations completed! (38%)             \rTotal of 39 of 100 iterations completed! (39%)             \rTotal of 40 of 100 iterations completed! (40%)             \rTotal of 41 of 100 iterations completed! (41%)             \rTotal of 42 of 100 iterations completed! (42%)             \rTotal of 43 of 100 iterations completed! (43%)             \rTotal of 44 of 100 iterations completed! (44%)             \rTotal of 45 of 100 iterations completed! (45%)             \rTotal of 46 of 100 iterations completed! (46%)             \rTotal of 47 of 100 iterations completed! (47%)             \rTotal of 48 of 100 iterations completed! (48%)             \rTotal of 49 of 100 iterations completed! (49%)             \rTotal of 50 of 100 iterations completed! (50%)             \rTotal of 51 of 100 iterations completed! (51%)             \rTotal of 52 of 100 iterations completed! (52%)             \rTotal of 53 of 100 iterations completed! (53%)             \rTotal of 54 of 100 iterations completed! (54%)             \rTotal of 55 of 100 iterations completed! (55%)             \rTotal of 56 of 100 iterations completed! (56%)             \rTotal of 57 of 100 iterations completed! (57%)             \rTotal of 58 of 100 iterations completed! (58%)             \rTotal of 59 of 100 iterations completed! (59%)             \rTotal of 60 of 100 iterations completed! (60%)             \rTotal of 61 of 100 iterations completed! (61%)             \rTotal of 62 of 100 iterations completed! (62%)             \rTotal of 63 of 100 iterations completed! (63%)             \rTotal of 64 of 100 iterations completed! (64%)             \rTotal of 65 of 100 iterations completed! (65%)             \rTotal of 66 of 100 iterations completed! (66%)             \rTotal of 67 of 100 iterations completed! (67%)             \rTotal of 68 of 100 iterations completed! (68%)             \rTotal of 69 of 100 iterations completed! (69%)             \rTotal of 70 of 100 iterations completed! (70%)             \rTotal of 71 of 100 iterations completed! (71%)             \rTotal of 72 of 100 iterations completed! (72%)             \rTotal of 73 of 100 iterations completed! (73%)             \rTotal of 74 of 100 iterations completed! (74%)             \rTotal of 75 of 100 iterations completed! (75%)             \rTotal of 76 of 100 iterations completed! (76%)             \rTotal of 77 of 100 iterations completed! (77%)             \rTotal of 78 of 100 iterations completed! (78%)             \rTotal of 79 of 100 iterations completed! (79%)             \rTotal of 80 of 100 iterations completed! (80%)             \rTotal of 81 of 100 iterations completed! (81%)             \rTotal of 82 of 100 iterations completed! (82%)             \rTotal of 83 of 100 iterations completed! (83%)             \rTotal of 84 of 100 iterations completed! (84%)             \rTotal of 85 of 100 iterations completed! (85%)             \rTotal of 86 of 100 iterations completed! (86%)             \rTotal of 87 of 100 iterations completed! (87%)             \rTotal of 88 of 100 iterations completed! (88%)             \rTotal of 89 of 100 iterations completed! (89%)             \rTotal of 90 of 100 iterations completed! (90%)             \rTotal of 91 of 100 iterations completed! (91%)             \rTotal of 92 of 100 iterations completed! (92%)             \rTotal of 93 of 100 iterations completed! (93%)             \rTotal of 94 of 100 iterations completed! (94%)             \rTotal of 95 of 100 iterations completed! (95%)             \rTotal of 96 of 100 iterations completed! (96%)             \rTotal of 97 of 100 iterations completed! (97%)             \rTotal of 98 of 100 iterations completed! (98%)             \rTotal of 99 of 100 iterations completed! (99%)             \rTotal of 100 of 100 iterations completed! (100%)             \rfitting treatment model via method 'bart'\n"
          ]
        },
        {
          "metadata": {
            "tags": null
          },
          "name": "stderr",
          "output_type": "stream",
          "text": [
            "Warning message in bartc(Y[, 1], Z, X, p.scoreAsCovariate = F, n.chains = 1, n.threads = 1, :\n",
            "“for response method 'bart', propensity score not used unless included as covariate”\n"
          ]
        },
        {
          "metadata": {
            "tags": null
          },
          "name": "stdout",
          "output_type": "stream",
          "text": [
            "fitting response model via method 'bart'\n",
            "fitting treatment model via method 'bart'\n"
          ]
        },
        {
          "metadata": {
            "tags": null
          },
          "name": "stderr",
          "output_type": "stream",
          "text": [
            "Warning message in bartc(Y[, 2], Z, X, p.scoreAsCovariate = F, n.chains = 1, n.threads = 1, :\n",
            "“for response method 'bart', propensity score not used unless included as covariate”\n"
          ]
        },
        {
          "metadata": {
            "tags": null
          },
          "name": "stdout",
          "output_type": "stream",
          "text": [
            "fitting response model via method 'bart'\n",
            "\rFinishing iteration 100 of 100"
          ]
        },
        {
          "metadata": {
            "tags": null
          },
          "name": "stderr",
          "output_type": "stream",
          "text": [
            "Warning message in validateXTest(test, attr(x, \"term.labels\"), ncol(x), colnames(x), :\n",
            "“column names of 'test' does not equal that of 'x': 'X1, X2, X3, X4, X5, X6, X7, X8, X9, X10'; match will be made by position”\n"
          ]
        },
        {
          "metadata": {
            "tags": null
          },
          "name": "stdout",
          "output_type": "stream",
          "text": [
            "Total of 1 of 100 iterations completed! (1%)             \rTotal of 2 of 100 iterations completed! (2%)             \rTotal of 3 of 100 iterations completed! (3%)             \rTotal of 4 of 100 iterations completed! (4%)             \rTotal of 5 of 100 iterations completed! (5%)             \rTotal of 6 of 100 iterations completed! (6%)             \rTotal of 7 of 100 iterations completed! (7%)             \rTotal of 8 of 100 iterations completed! (8%)             \rTotal of 9 of 100 iterations completed! (9%)             \rTotal of 10 of 100 iterations completed! (10%)             \rTotal of 11 of 100 iterations completed! (11%)             \rTotal of 12 of 100 iterations completed! (12%)             \rTotal of 13 of 100 iterations completed! (13%)             \rTotal of 14 of 100 iterations completed! (14%)             \rTotal of 15 of 100 iterations completed! (15%)             \rTotal of 16 of 100 iterations completed! (16%)             \rTotal of 17 of 100 iterations completed! (17%)             \rTotal of 18 of 100 iterations completed! (18%)             \rTotal of 19 of 100 iterations completed! (19%)             \rTotal of 20 of 100 iterations completed! (20%)             \rTotal of 21 of 100 iterations completed! (21%)             \rTotal of 22 of 100 iterations completed! (22%)             \rTotal of 23 of 100 iterations completed! (23%)             \rTotal of 24 of 100 iterations completed! (24%)             \rTotal of 25 of 100 iterations completed! (25%)             \rTotal of 26 of 100 iterations completed! (26%)             \rTotal of 27 of 100 iterations completed! (27%)             \rTotal of 28 of 100 iterations completed! (28%)             \rTotal of 29 of 100 iterations completed! (29%)             \rTotal of 30 of 100 iterations completed! (30%)             \rTotal of 31 of 100 iterations completed! (31%)             \rTotal of 32 of 100 iterations completed! (32%)             \rTotal of 33 of 100 iterations completed! (33%)             \rTotal of 34 of 100 iterations completed! (34%)             \rTotal of 35 of 100 iterations completed! (35%)             \rTotal of 36 of 100 iterations completed! (36%)             \rTotal of 37 of 100 iterations completed! (37%)             \rTotal of 38 of 100 iterations completed! (38%)             \rTotal of 39 of 100 iterations completed! (39%)             \rTotal of 40 of 100 iterations completed! (40%)             \rTotal of 41 of 100 iterations completed! (41%)             \rTotal of 42 of 100 iterations completed! (42%)             \rTotal of 43 of 100 iterations completed! (43%)             \rTotal of 44 of 100 iterations completed! (44%)             \rTotal of 45 of 100 iterations completed! (45%)             \rTotal of 46 of 100 iterations completed! (46%)             \rTotal of 47 of 100 iterations completed! (47%)             \rTotal of 48 of 100 iterations completed! (48%)             \rTotal of 49 of 100 iterations completed! (49%)             \rTotal of 50 of 100 iterations completed! (50%)             \rTotal of 51 of 100 iterations completed! (51%)             \rTotal of 52 of 100 iterations completed! (52%)             \rTotal of 53 of 100 iterations completed! (53%)             \rTotal of 54 of 100 iterations completed! (54%)             \rTotal of 55 of 100 iterations completed! (55%)             \rTotal of 56 of 100 iterations completed! (56%)             \rTotal of 57 of 100 iterations completed! (57%)             \rTotal of 58 of 100 iterations completed! (58%)             \rTotal of 59 of 100 iterations completed! (59%)             \rTotal of 60 of 100 iterations completed! (60%)             \rTotal of 61 of 100 iterations completed! (61%)             \rTotal of 62 of 100 iterations completed! (62%)             \rTotal of 63 of 100 iterations completed! (63%)             \rTotal of 64 of 100 iterations completed! (64%)             \rTotal of 65 of 100 iterations completed! (65%)             \rTotal of 66 of 100 iterations completed! (66%)             \rTotal of 67 of 100 iterations completed! (67%)             \rTotal of 68 of 100 iterations completed! (68%)             \rTotal of 69 of 100 iterations completed! (69%)             \rTotal of 70 of 100 iterations completed! (70%)             \rTotal of 71 of 100 iterations completed! (71%)             \rTotal of 72 of 100 iterations completed! (72%)             \rTotal of 73 of 100 iterations completed! (73%)             \rTotal of 74 of 100 iterations completed! (74%)             \rTotal of 75 of 100 iterations completed! (75%)             \rTotal of 76 of 100 iterations completed! (76%)             \rTotal of 77 of 100 iterations completed! (77%)             \rTotal of 78 of 100 iterations completed! (78%)             \rTotal of 79 of 100 iterations completed! (79%)             \rTotal of 80 of 100 iterations completed! (80%)             \rTotal of 81 of 100 iterations completed! (81%)             \rTotal of 82 of 100 iterations completed! (82%)             \rTotal of 83 of 100 iterations completed! (83%)             \rTotal of 84 of 100 iterations completed! (84%)             \rTotal of 85 of 100 iterations completed! (85%)             \rTotal of 86 of 100 iterations completed! (86%)             \rTotal of 87 of 100 iterations completed! (87%)             \rTotal of 88 of 100 iterations completed! (88%)             \rTotal of 89 of 100 iterations completed! (89%)             \rTotal of 90 of 100 iterations completed! (90%)             \rTotal of 91 of 100 iterations completed! (91%)             \rTotal of 92 of 100 iterations completed! (92%)             \rTotal of 93 of 100 iterations completed! (93%)             \rTotal of 94 of 100 iterations completed! (94%)             \rTotal of 95 of 100 iterations completed! (95%)             \rTotal of 96 of 100 iterations completed! (96%)             \rTotal of 97 of 100 iterations completed! (97%)             \rTotal of 98 of 100 iterations completed! (98%)             \rTotal of 99 of 100 iterations completed! (99%)             \rTotal of 100 of 100 iterations completed! (100%)             \rfitting treatment model via method 'bart'\n"
          ]
        },
        {
          "metadata": {
            "tags": null
          },
          "name": "stderr",
          "output_type": "stream",
          "text": [
            "Warning message in bartc(Y[, 1], Z, X, p.scoreAsCovariate = F, n.chains = 1, n.threads = 1, :\n",
            "“for response method 'bart', propensity score not used unless included as covariate”\n"
          ]
        },
        {
          "metadata": {
            "tags": null
          },
          "name": "stdout",
          "output_type": "stream",
          "text": [
            "fitting response model via method 'bart'\n",
            "fitting treatment model via method 'bart'\n"
          ]
        },
        {
          "metadata": {
            "tags": null
          },
          "name": "stderr",
          "output_type": "stream",
          "text": [
            "Warning message in bartc(Y[, 2], Z, X, p.scoreAsCovariate = F, n.chains = 1, n.threads = 1, :\n",
            "“for response method 'bart', propensity score not used unless included as covariate”\n"
          ]
        },
        {
          "metadata": {
            "tags": null
          },
          "name": "stdout",
          "output_type": "stream",
          "text": [
            "fitting response model via method 'bart'\n",
            "\rFinishing iteration 100 of 100"
          ]
        },
        {
          "metadata": {
            "tags": null
          },
          "name": "stderr",
          "output_type": "stream",
          "text": [
            "Warning message in validateXTest(test, attr(x, \"term.labels\"), ncol(x), colnames(x), :\n",
            "“column names of 'test' does not equal that of 'x': 'X1, X2, X3, X4, X5, X6, X7, X8, X9, X10'; match will be made by position”\n"
          ]
        },
        {
          "metadata": {
            "tags": null
          },
          "name": "stdout",
          "output_type": "stream",
          "text": [
            "Total of 1 of 100 iterations completed! (1%)             \rTotal of 2 of 100 iterations completed! (2%)             \rTotal of 3 of 100 iterations completed! (3%)             \rTotal of 4 of 100 iterations completed! (4%)             \rTotal of 5 of 100 iterations completed! (5%)             \rTotal of 6 of 100 iterations completed! (6%)             \rTotal of 7 of 100 iterations completed! (7%)             \rTotal of 8 of 100 iterations completed! (8%)             \rTotal of 9 of 100 iterations completed! (9%)             \rTotal of 10 of 100 iterations completed! (10%)             \rTotal of 11 of 100 iterations completed! (11%)             \rTotal of 12 of 100 iterations completed! (12%)             \rTotal of 13 of 100 iterations completed! (13%)             \rTotal of 14 of 100 iterations completed! (14%)             \rTotal of 15 of 100 iterations completed! (15%)             \rTotal of 16 of 100 iterations completed! (16%)             \rTotal of 17 of 100 iterations completed! (17%)             \rTotal of 18 of 100 iterations completed! (18%)             \rTotal of 19 of 100 iterations completed! (19%)             \rTotal of 20 of 100 iterations completed! (20%)             \rTotal of 21 of 100 iterations completed! (21%)             \rTotal of 22 of 100 iterations completed! (22%)             \rTotal of 23 of 100 iterations completed! (23%)             \rTotal of 24 of 100 iterations completed! (24%)             \rTotal of 25 of 100 iterations completed! (25%)             \rTotal of 26 of 100 iterations completed! (26%)             \rTotal of 27 of 100 iterations completed! (27%)             \rTotal of 28 of 100 iterations completed! (28%)             \rTotal of 29 of 100 iterations completed! (29%)             \rTotal of 30 of 100 iterations completed! (30%)             \rTotal of 31 of 100 iterations completed! (31%)             \rTotal of 32 of 100 iterations completed! (32%)             \rTotal of 33 of 100 iterations completed! (33%)             \rTotal of 34 of 100 iterations completed! (34%)             \rTotal of 35 of 100 iterations completed! (35%)             \rTotal of 36 of 100 iterations completed! (36%)             \rTotal of 37 of 100 iterations completed! (37%)             \rTotal of 38 of 100 iterations completed! (38%)             \rTotal of 39 of 100 iterations completed! (39%)             \rTotal of 40 of 100 iterations completed! (40%)             \rTotal of 41 of 100 iterations completed! (41%)             \rTotal of 42 of 100 iterations completed! (42%)             \rTotal of 43 of 100 iterations completed! (43%)             \rTotal of 44 of 100 iterations completed! (44%)             \rTotal of 45 of 100 iterations completed! (45%)             \rTotal of 46 of 100 iterations completed! (46%)             \rTotal of 47 of 100 iterations completed! (47%)             \rTotal of 48 of 100 iterations completed! (48%)             \rTotal of 49 of 100 iterations completed! (49%)             \rTotal of 50 of 100 iterations completed! (50%)             \rTotal of 51 of 100 iterations completed! (51%)             \rTotal of 52 of 100 iterations completed! (52%)             \rTotal of 53 of 100 iterations completed! (53%)             \rTotal of 54 of 100 iterations completed! (54%)             \rTotal of 55 of 100 iterations completed! (55%)             \rTotal of 56 of 100 iterations completed! (56%)             \rTotal of 57 of 100 iterations completed! (57%)             \rTotal of 58 of 100 iterations completed! (58%)             \rTotal of 59 of 100 iterations completed! (59%)             \rTotal of 60 of 100 iterations completed! (60%)             \rTotal of 61 of 100 iterations completed! (61%)             \rTotal of 62 of 100 iterations completed! (62%)             \rTotal of 63 of 100 iterations completed! (63%)             \rTotal of 64 of 100 iterations completed! (64%)             \rTotal of 65 of 100 iterations completed! (65%)             \rTotal of 66 of 100 iterations completed! (66%)             \rTotal of 67 of 100 iterations completed! (67%)             \rTotal of 68 of 100 iterations completed! (68%)             \rTotal of 69 of 100 iterations completed! (69%)             \rTotal of 70 of 100 iterations completed! (70%)             \rTotal of 71 of 100 iterations completed! (71%)             \rTotal of 72 of 100 iterations completed! (72%)             \rTotal of 73 of 100 iterations completed! (73%)             \rTotal of 74 of 100 iterations completed! (74%)             \rTotal of 75 of 100 iterations completed! (75%)             \rTotal of 76 of 100 iterations completed! (76%)             \rTotal of 77 of 100 iterations completed! (77%)             \rTotal of 78 of 100 iterations completed! (78%)             \rTotal of 79 of 100 iterations completed! (79%)             \rTotal of 80 of 100 iterations completed! (80%)             \rTotal of 81 of 100 iterations completed! (81%)             \rTotal of 82 of 100 iterations completed! (82%)             \rTotal of 83 of 100 iterations completed! (83%)             \rTotal of 84 of 100 iterations completed! (84%)             \rTotal of 85 of 100 iterations completed! (85%)             \rTotal of 86 of 100 iterations completed! (86%)             \rTotal of 87 of 100 iterations completed! (87%)             \rTotal of 88 of 100 iterations completed! (88%)             \rTotal of 89 of 100 iterations completed! (89%)             \rTotal of 90 of 100 iterations completed! (90%)             \rTotal of 91 of 100 iterations completed! (91%)             \rTotal of 92 of 100 iterations completed! (92%)             \rTotal of 93 of 100 iterations completed! (93%)             \rTotal of 94 of 100 iterations completed! (94%)             \rTotal of 95 of 100 iterations completed! (95%)             \rTotal of 96 of 100 iterations completed! (96%)             \rTotal of 97 of 100 iterations completed! (97%)             \rTotal of 98 of 100 iterations completed! (98%)             \rTotal of 99 of 100 iterations completed! (99%)             \rTotal of 100 of 100 iterations completed! (100%)             \rfitting treatment model via method 'bart'\n"
          ]
        },
        {
          "metadata": {
            "tags": null
          },
          "name": "stderr",
          "output_type": "stream",
          "text": [
            "Warning message in bartc(Y[, 1], Z, X, p.scoreAsCovariate = F, n.chains = 1, n.threads = 1, :\n",
            "“for response method 'bart', propensity score not used unless included as covariate”\n"
          ]
        },
        {
          "metadata": {
            "tags": null
          },
          "name": "stdout",
          "output_type": "stream",
          "text": [
            "fitting response model via method 'bart'\n",
            "fitting treatment model via method 'bart'\n"
          ]
        },
        {
          "metadata": {
            "tags": null
          },
          "name": "stderr",
          "output_type": "stream",
          "text": [
            "Warning message in bartc(Y[, 2], Z, X, p.scoreAsCovariate = F, n.chains = 1, n.threads = 1, :\n",
            "“for response method 'bart', propensity score not used unless included as covariate”\n"
          ]
        },
        {
          "metadata": {
            "tags": null
          },
          "name": "stdout",
          "output_type": "stream",
          "text": [
            "fitting response model via method 'bart'\n",
            "\rFinishing iteration 100 of 100"
          ]
        },
        {
          "metadata": {
            "tags": null
          },
          "name": "stderr",
          "output_type": "stream",
          "text": [
            "Warning message in validateXTest(test, attr(x, \"term.labels\"), ncol(x), colnames(x), :\n",
            "“column names of 'test' does not equal that of 'x': 'X1, X2, X3, X4, X5, X6, X7, X8, X9, X10'; match will be made by position”\n"
          ]
        },
        {
          "metadata": {
            "tags": null
          },
          "name": "stdout",
          "output_type": "stream",
          "text": [
            "Total of 1 of 100 iterations completed! (1%)             \rTotal of 2 of 100 iterations completed! (2%)             \rTotal of 3 of 100 iterations completed! (3%)             \rTotal of 4 of 100 iterations completed! (4%)             \rTotal of 5 of 100 iterations completed! (5%)             \rTotal of 6 of 100 iterations completed! (6%)             \rTotal of 7 of 100 iterations completed! (7%)             \rTotal of 8 of 100 iterations completed! (8%)             \rTotal of 9 of 100 iterations completed! (9%)             \rTotal of 10 of 100 iterations completed! (10%)             \rTotal of 11 of 100 iterations completed! (11%)             \rTotal of 12 of 100 iterations completed! (12%)             \rTotal of 13 of 100 iterations completed! (13%)             \rTotal of 14 of 100 iterations completed! (14%)             \rTotal of 15 of 100 iterations completed! (15%)             \rTotal of 16 of 100 iterations completed! (16%)             \rTotal of 17 of 100 iterations completed! (17%)             \rTotal of 18 of 100 iterations completed! (18%)             \rTotal of 19 of 100 iterations completed! (19%)             \rTotal of 20 of 100 iterations completed! (20%)             \rTotal of 21 of 100 iterations completed! (21%)             \rTotal of 22 of 100 iterations completed! (22%)             \rTotal of 23 of 100 iterations completed! (23%)             \rTotal of 24 of 100 iterations completed! (24%)             \rTotal of 25 of 100 iterations completed! (25%)             \rTotal of 26 of 100 iterations completed! (26%)             \rTotal of 27 of 100 iterations completed! (27%)             \rTotal of 28 of 100 iterations completed! (28%)             \rTotal of 29 of 100 iterations completed! (29%)             \rTotal of 30 of 100 iterations completed! (30%)             \rTotal of 31 of 100 iterations completed! (31%)             \rTotal of 32 of 100 iterations completed! (32%)             \rTotal of 33 of 100 iterations completed! (33%)             \rTotal of 34 of 100 iterations completed! (34%)             \rTotal of 35 of 100 iterations completed! (35%)             \rTotal of 36 of 100 iterations completed! (36%)             \rTotal of 37 of 100 iterations completed! (37%)             \rTotal of 38 of 100 iterations completed! (38%)             \rTotal of 39 of 100 iterations completed! (39%)             \rTotal of 40 of 100 iterations completed! (40%)             \rTotal of 41 of 100 iterations completed! (41%)             \rTotal of 42 of 100 iterations completed! (42%)             \rTotal of 43 of 100 iterations completed! (43%)             \rTotal of 44 of 100 iterations completed! (44%)             \rTotal of 45 of 100 iterations completed! (45%)             \rTotal of 46 of 100 iterations completed! (46%)             \rTotal of 47 of 100 iterations completed! (47%)             \rTotal of 48 of 100 iterations completed! (48%)             \rTotal of 49 of 100 iterations completed! (49%)             \rTotal of 50 of 100 iterations completed! (50%)             \rTotal of 51 of 100 iterations completed! (51%)             \rTotal of 52 of 100 iterations completed! (52%)             \rTotal of 53 of 100 iterations completed! (53%)             \rTotal of 54 of 100 iterations completed! (54%)             \rTotal of 55 of 100 iterations completed! (55%)             \rTotal of 56 of 100 iterations completed! (56%)             \rTotal of 57 of 100 iterations completed! (57%)             \rTotal of 58 of 100 iterations completed! (58%)             \rTotal of 59 of 100 iterations completed! (59%)             \rTotal of 60 of 100 iterations completed! (60%)             \rTotal of 61 of 100 iterations completed! (61%)             \rTotal of 62 of 100 iterations completed! (62%)             \rTotal of 63 of 100 iterations completed! (63%)             \rTotal of 64 of 100 iterations completed! (64%)             \rTotal of 65 of 100 iterations completed! (65%)             \rTotal of 66 of 100 iterations completed! (66%)             \rTotal of 67 of 100 iterations completed! (67%)             \rTotal of 68 of 100 iterations completed! (68%)             \rTotal of 69 of 100 iterations completed! (69%)             \rTotal of 70 of 100 iterations completed! (70%)             \rTotal of 71 of 100 iterations completed! (71%)             \rTotal of 72 of 100 iterations completed! (72%)             \rTotal of 73 of 100 iterations completed! (73%)             \rTotal of 74 of 100 iterations completed! (74%)             \rTotal of 75 of 100 iterations completed! (75%)             \rTotal of 76 of 100 iterations completed! (76%)             \rTotal of 77 of 100 iterations completed! (77%)             \rTotal of 78 of 100 iterations completed! (78%)             \rTotal of 79 of 100 iterations completed! (79%)             \rTotal of 80 of 100 iterations completed! (80%)             \rTotal of 81 of 100 iterations completed! (81%)             \rTotal of 82 of 100 iterations completed! (82%)             \rTotal of 83 of 100 iterations completed! (83%)             \rTotal of 84 of 100 iterations completed! (84%)             \rTotal of 85 of 100 iterations completed! (85%)             \rTotal of 86 of 100 iterations completed! (86%)             \rTotal of 87 of 100 iterations completed! (87%)             \rTotal of 88 of 100 iterations completed! (88%)             \rTotal of 89 of 100 iterations completed! (89%)             \rTotal of 90 of 100 iterations completed! (90%)             \rTotal of 91 of 100 iterations completed! (91%)             \rTotal of 92 of 100 iterations completed! (92%)             \rTotal of 93 of 100 iterations completed! (93%)             \rTotal of 94 of 100 iterations completed! (94%)             \rTotal of 95 of 100 iterations completed! (95%)             \rTotal of 96 of 100 iterations completed! (96%)             \rTotal of 97 of 100 iterations completed! (97%)             \rTotal of 98 of 100 iterations completed! (98%)             \rTotal of 99 of 100 iterations completed! (99%)             \rTotal of 100 of 100 iterations completed! (100%)             \rfitting treatment model via method 'bart'\n"
          ]
        },
        {
          "metadata": {
            "tags": null
          },
          "name": "stderr",
          "output_type": "stream",
          "text": [
            "Warning message in bartc(Y[, 1], Z, X, p.scoreAsCovariate = F, n.chains = 1, n.threads = 1, :\n",
            "“for response method 'bart', propensity score not used unless included as covariate”\n"
          ]
        },
        {
          "metadata": {
            "tags": null
          },
          "name": "stdout",
          "output_type": "stream",
          "text": [
            "fitting response model via method 'bart'\n",
            "fitting treatment model via method 'bart'\n"
          ]
        },
        {
          "metadata": {
            "tags": null
          },
          "name": "stderr",
          "output_type": "stream",
          "text": [
            "Warning message in bartc(Y[, 2], Z, X, p.scoreAsCovariate = F, n.chains = 1, n.threads = 1, :\n",
            "“for response method 'bart', propensity score not used unless included as covariate”\n"
          ]
        },
        {
          "metadata": {
            "tags": null
          },
          "name": "stdout",
          "output_type": "stream",
          "text": [
            "fitting response model via method 'bart'\n",
            "\rFinishing iteration 100 of 100"
          ]
        },
        {
          "metadata": {
            "tags": null
          },
          "name": "stderr",
          "output_type": "stream",
          "text": [
            "Warning message in validateXTest(test, attr(x, \"term.labels\"), ncol(x), colnames(x), :\n",
            "“column names of 'test' does not equal that of 'x': 'X1, X2, X3, X4, X5, X6, X7, X8, X9, X10'; match will be made by position”\n"
          ]
        },
        {
          "metadata": {
            "tags": null
          },
          "name": "stdout",
          "output_type": "stream",
          "text": [
            "Total of 1 of 100 iterations completed! (1%)             \rTotal of 2 of 100 iterations completed! (2%)             \rTotal of 3 of 100 iterations completed! (3%)             \rTotal of 4 of 100 iterations completed! (4%)             \rTotal of 5 of 100 iterations completed! (5%)             \rTotal of 6 of 100 iterations completed! (6%)             \rTotal of 7 of 100 iterations completed! (7%)             \rTotal of 8 of 100 iterations completed! (8%)             \rTotal of 9 of 100 iterations completed! (9%)             \rTotal of 10 of 100 iterations completed! (10%)             \rTotal of 11 of 100 iterations completed! (11%)             \rTotal of 12 of 100 iterations completed! (12%)             \rTotal of 13 of 100 iterations completed! (13%)             \rTotal of 14 of 100 iterations completed! (14%)             \rTotal of 15 of 100 iterations completed! (15%)             \rTotal of 16 of 100 iterations completed! (16%)             \rTotal of 17 of 100 iterations completed! (17%)             \rTotal of 18 of 100 iterations completed! (18%)             \rTotal of 19 of 100 iterations completed! (19%)             \rTotal of 20 of 100 iterations completed! (20%)             \rTotal of 21 of 100 iterations completed! (21%)             \rTotal of 22 of 100 iterations completed! (22%)             \rTotal of 23 of 100 iterations completed! (23%)             \rTotal of 24 of 100 iterations completed! (24%)             \rTotal of 25 of 100 iterations completed! (25%)             \rTotal of 26 of 100 iterations completed! (26%)             \rTotal of 27 of 100 iterations completed! (27%)             \rTotal of 28 of 100 iterations completed! (28%)             \rTotal of 29 of 100 iterations completed! (29%)             \rTotal of 30 of 100 iterations completed! (30%)             \rTotal of 31 of 100 iterations completed! (31%)             \rTotal of 32 of 100 iterations completed! (32%)             \rTotal of 33 of 100 iterations completed! (33%)             \rTotal of 34 of 100 iterations completed! (34%)             \rTotal of 35 of 100 iterations completed! (35%)             \rTotal of 36 of 100 iterations completed! (36%)             \rTotal of 37 of 100 iterations completed! (37%)             \rTotal of 38 of 100 iterations completed! (38%)             \rTotal of 39 of 100 iterations completed! (39%)             \rTotal of 40 of 100 iterations completed! (40%)             \rTotal of 41 of 100 iterations completed! (41%)             \rTotal of 42 of 100 iterations completed! (42%)             \rTotal of 43 of 100 iterations completed! (43%)             \rTotal of 44 of 100 iterations completed! (44%)             \rTotal of 45 of 100 iterations completed! (45%)             \rTotal of 46 of 100 iterations completed! (46%)             \rTotal of 47 of 100 iterations completed! (47%)             \rTotal of 48 of 100 iterations completed! (48%)             \rTotal of 49 of 100 iterations completed! (49%)             \rTotal of 50 of 100 iterations completed! (50%)             \rTotal of 51 of 100 iterations completed! (51%)             \rTotal of 52 of 100 iterations completed! (52%)             \rTotal of 53 of 100 iterations completed! (53%)             \rTotal of 54 of 100 iterations completed! (54%)             \rTotal of 55 of 100 iterations completed! (55%)             \rTotal of 56 of 100 iterations completed! (56%)             \rTotal of 57 of 100 iterations completed! (57%)             \rTotal of 58 of 100 iterations completed! (58%)             \rTotal of 59 of 100 iterations completed! (59%)             \rTotal of 60 of 100 iterations completed! (60%)             \rTotal of 61 of 100 iterations completed! (61%)             \rTotal of 62 of 100 iterations completed! (62%)             \rTotal of 63 of 100 iterations completed! (63%)             \rTotal of 64 of 100 iterations completed! (64%)             \rTotal of 65 of 100 iterations completed! (65%)             \rTotal of 66 of 100 iterations completed! (66%)             \rTotal of 67 of 100 iterations completed! (67%)             \rTotal of 68 of 100 iterations completed! (68%)             \rTotal of 69 of 100 iterations completed! (69%)             \rTotal of 70 of 100 iterations completed! (70%)             \rTotal of 71 of 100 iterations completed! (71%)             \rTotal of 72 of 100 iterations completed! (72%)             \rTotal of 73 of 100 iterations completed! (73%)             \rTotal of 74 of 100 iterations completed! (74%)             \rTotal of 75 of 100 iterations completed! (75%)             \rTotal of 76 of 100 iterations completed! (76%)             \rTotal of 77 of 100 iterations completed! (77%)             \rTotal of 78 of 100 iterations completed! (78%)             \rTotal of 79 of 100 iterations completed! (79%)             \rTotal of 80 of 100 iterations completed! (80%)             \rTotal of 81 of 100 iterations completed! (81%)             \rTotal of 82 of 100 iterations completed! (82%)             \rTotal of 83 of 100 iterations completed! (83%)             \rTotal of 84 of 100 iterations completed! (84%)             \rTotal of 85 of 100 iterations completed! (85%)             \rTotal of 86 of 100 iterations completed! (86%)             \rTotal of 87 of 100 iterations completed! (87%)             \rTotal of 88 of 100 iterations completed! (88%)             \rTotal of 89 of 100 iterations completed! (89%)             \rTotal of 90 of 100 iterations completed! (90%)             \rTotal of 91 of 100 iterations completed! (91%)             \rTotal of 92 of 100 iterations completed! (92%)             \rTotal of 93 of 100 iterations completed! (93%)             \rTotal of 94 of 100 iterations completed! (94%)             \rTotal of 95 of 100 iterations completed! (95%)             \rTotal of 96 of 100 iterations completed! (96%)             \rTotal of 97 of 100 iterations completed! (97%)             \rTotal of 98 of 100 iterations completed! (98%)             \rTotal of 99 of 100 iterations completed! (99%)             \rTotal of 100 of 100 iterations completed! (100%)             \rfitting treatment model via method 'bart'\n"
          ]
        },
        {
          "metadata": {
            "tags": null
          },
          "name": "stderr",
          "output_type": "stream",
          "text": [
            "Warning message in bartc(Y[, 1], Z, X, p.scoreAsCovariate = F, n.chains = 1, n.threads = 1, :\n",
            "“for response method 'bart', propensity score not used unless included as covariate”\n"
          ]
        },
        {
          "metadata": {
            "tags": null
          },
          "name": "stdout",
          "output_type": "stream",
          "text": [
            "fitting response model via method 'bart'\n",
            "fitting treatment model via method 'bart'\n"
          ]
        },
        {
          "metadata": {
            "tags": null
          },
          "name": "stderr",
          "output_type": "stream",
          "text": [
            "Warning message in bartc(Y[, 2], Z, X, p.scoreAsCovariate = F, n.chains = 1, n.threads = 1, :\n",
            "“for response method 'bart', propensity score not used unless included as covariate”\n"
          ]
        },
        {
          "metadata": {
            "tags": null
          },
          "name": "stdout",
          "output_type": "stream",
          "text": [
            "fitting response model via method 'bart'\n",
            "\rFinishing iteration 100 of 100"
          ]
        },
        {
          "metadata": {
            "tags": null
          },
          "name": "stderr",
          "output_type": "stream",
          "text": [
            "Warning message in validateXTest(test, attr(x, \"term.labels\"), ncol(x), colnames(x), :\n",
            "“column names of 'test' does not equal that of 'x': 'X1, X2, X3, X4, X5, X6, X7, X8, X9, X10'; match will be made by position”\n"
          ]
        },
        {
          "metadata": {
            "tags": null
          },
          "name": "stdout",
          "output_type": "stream",
          "text": [
            "Total of 1 of 100 iterations completed! (1%)             \rTotal of 2 of 100 iterations completed! (2%)             \rTotal of 3 of 100 iterations completed! (3%)             \rTotal of 4 of 100 iterations completed! (4%)             \rTotal of 5 of 100 iterations completed! (5%)             \rTotal of 6 of 100 iterations completed! (6%)             \rTotal of 7 of 100 iterations completed! (7%)             \rTotal of 8 of 100 iterations completed! (8%)             \rTotal of 9 of 100 iterations completed! (9%)             \rTotal of 10 of 100 iterations completed! (10%)             \rTotal of 11 of 100 iterations completed! (11%)             \rTotal of 12 of 100 iterations completed! (12%)             \rTotal of 13 of 100 iterations completed! (13%)             \rTotal of 14 of 100 iterations completed! (14%)             \rTotal of 15 of 100 iterations completed! (15%)             \rTotal of 16 of 100 iterations completed! (16%)             \rTotal of 17 of 100 iterations completed! (17%)             \rTotal of 18 of 100 iterations completed! (18%)             \rTotal of 19 of 100 iterations completed! (19%)             \rTotal of 20 of 100 iterations completed! (20%)             \rTotal of 21 of 100 iterations completed! (21%)             \rTotal of 22 of 100 iterations completed! (22%)             \rTotal of 23 of 100 iterations completed! (23%)             \rTotal of 24 of 100 iterations completed! (24%)             \rTotal of 25 of 100 iterations completed! (25%)             \rTotal of 26 of 100 iterations completed! (26%)             \rTotal of 27 of 100 iterations completed! (27%)             \rTotal of 28 of 100 iterations completed! (28%)             \rTotal of 29 of 100 iterations completed! (29%)             \rTotal of 30 of 100 iterations completed! (30%)             \rTotal of 31 of 100 iterations completed! (31%)             \rTotal of 32 of 100 iterations completed! (32%)             \rTotal of 33 of 100 iterations completed! (33%)             \rTotal of 34 of 100 iterations completed! (34%)             \rTotal of 35 of 100 iterations completed! (35%)             \rTotal of 36 of 100 iterations completed! (36%)             \rTotal of 37 of 100 iterations completed! (37%)             \rTotal of 38 of 100 iterations completed! (38%)             \rTotal of 39 of 100 iterations completed! (39%)             \rTotal of 40 of 100 iterations completed! (40%)             \rTotal of 41 of 100 iterations completed! (41%)             \rTotal of 42 of 100 iterations completed! (42%)             \rTotal of 43 of 100 iterations completed! (43%)             \rTotal of 44 of 100 iterations completed! (44%)             \rTotal of 45 of 100 iterations completed! (45%)             \rTotal of 46 of 100 iterations completed! (46%)             \rTotal of 47 of 100 iterations completed! (47%)             \rTotal of 48 of 100 iterations completed! (48%)             \rTotal of 49 of 100 iterations completed! (49%)             \rTotal of 50 of 100 iterations completed! (50%)             \rTotal of 51 of 100 iterations completed! (51%)             \rTotal of 52 of 100 iterations completed! (52%)             \rTotal of 53 of 100 iterations completed! (53%)             \rTotal of 54 of 100 iterations completed! (54%)             \rTotal of 55 of 100 iterations completed! (55%)             \rTotal of 56 of 100 iterations completed! (56%)             \rTotal of 57 of 100 iterations completed! (57%)             \rTotal of 58 of 100 iterations completed! (58%)             \rTotal of 59 of 100 iterations completed! (59%)             \rTotal of 60 of 100 iterations completed! (60%)             \rTotal of 61 of 100 iterations completed! (61%)             \rTotal of 62 of 100 iterations completed! (62%)             \rTotal of 63 of 100 iterations completed! (63%)             \rTotal of 64 of 100 iterations completed! (64%)             \rTotal of 65 of 100 iterations completed! (65%)             \rTotal of 66 of 100 iterations completed! (66%)             \rTotal of 67 of 100 iterations completed! (67%)             \rTotal of 68 of 100 iterations completed! (68%)             \rTotal of 69 of 100 iterations completed! (69%)             \rTotal of 70 of 100 iterations completed! (70%)             \rTotal of 71 of 100 iterations completed! (71%)             \rTotal of 72 of 100 iterations completed! (72%)             \rTotal of 73 of 100 iterations completed! (73%)             \rTotal of 74 of 100 iterations completed! (74%)             \rTotal of 75 of 100 iterations completed! (75%)             \rTotal of 76 of 100 iterations completed! (76%)             \rTotal of 77 of 100 iterations completed! (77%)             \rTotal of 78 of 100 iterations completed! (78%)             \rTotal of 79 of 100 iterations completed! (79%)             \rTotal of 80 of 100 iterations completed! (80%)             \rTotal of 81 of 100 iterations completed! (81%)             \rTotal of 82 of 100 iterations completed! (82%)             \rTotal of 83 of 100 iterations completed! (83%)             \rTotal of 84 of 100 iterations completed! (84%)             \rTotal of 85 of 100 iterations completed! (85%)             \rTotal of 86 of 100 iterations completed! (86%)             \rTotal of 87 of 100 iterations completed! (87%)             \rTotal of 88 of 100 iterations completed! (88%)             \rTotal of 89 of 100 iterations completed! (89%)             \rTotal of 90 of 100 iterations completed! (90%)             \rTotal of 91 of 100 iterations completed! (91%)             \rTotal of 92 of 100 iterations completed! (92%)             \rTotal of 93 of 100 iterations completed! (93%)             \rTotal of 94 of 100 iterations completed! (94%)             \rTotal of 95 of 100 iterations completed! (95%)             \rTotal of 96 of 100 iterations completed! (96%)             \rTotal of 97 of 100 iterations completed! (97%)             \rTotal of 98 of 100 iterations completed! (98%)             \rTotal of 99 of 100 iterations completed! (99%)             \rTotal of 100 of 100 iterations completed! (100%)             \rfitting treatment model via method 'bart'\n"
          ]
        },
        {
          "metadata": {
            "tags": null
          },
          "name": "stderr",
          "output_type": "stream",
          "text": [
            "Warning message in bartc(Y[, 1], Z, X, p.scoreAsCovariate = F, n.chains = 1, n.threads = 1, :\n",
            "“for response method 'bart', propensity score not used unless included as covariate”\n"
          ]
        },
        {
          "metadata": {
            "tags": null
          },
          "name": "stdout",
          "output_type": "stream",
          "text": [
            "fitting response model via method 'bart'\n",
            "fitting treatment model via method 'bart'\n"
          ]
        },
        {
          "metadata": {
            "tags": null
          },
          "name": "stderr",
          "output_type": "stream",
          "text": [
            "Warning message in bartc(Y[, 2], Z, X, p.scoreAsCovariate = F, n.chains = 1, n.threads = 1, :\n",
            "“for response method 'bart', propensity score not used unless included as covariate”\n"
          ]
        },
        {
          "metadata": {
            "tags": null
          },
          "name": "stdout",
          "output_type": "stream",
          "text": [
            "fitting response model via method 'bart'\n",
            "\rFinishing iteration 100 of 100"
          ]
        },
        {
          "metadata": {
            "tags": null
          },
          "name": "stderr",
          "output_type": "stream",
          "text": [
            "Warning message in validateXTest(test, attr(x, \"term.labels\"), ncol(x), colnames(x), :\n",
            "“column names of 'test' does not equal that of 'x': 'X1, X2, X3, X4, X5, X6, X7, X8, X9, X10'; match will be made by position”\n"
          ]
        },
        {
          "metadata": {
            "tags": null
          },
          "name": "stdout",
          "output_type": "stream",
          "text": [
            "Total of 1 of 100 iterations completed! (1%)             \rTotal of 2 of 100 iterations completed! (2%)             \rTotal of 3 of 100 iterations completed! (3%)             \rTotal of 4 of 100 iterations completed! (4%)             \rTotal of 5 of 100 iterations completed! (5%)             \rTotal of 6 of 100 iterations completed! (6%)             \rTotal of 7 of 100 iterations completed! (7%)             \rTotal of 8 of 100 iterations completed! (8%)             \rTotal of 9 of 100 iterations completed! (9%)             \rTotal of 10 of 100 iterations completed! (10%)             \rTotal of 11 of 100 iterations completed! (11%)             \rTotal of 12 of 100 iterations completed! (12%)             \rTotal of 13 of 100 iterations completed! (13%)             \rTotal of 14 of 100 iterations completed! (14%)             \rTotal of 15 of 100 iterations completed! (15%)             \rTotal of 16 of 100 iterations completed! (16%)             \rTotal of 17 of 100 iterations completed! (17%)             \rTotal of 18 of 100 iterations completed! (18%)             \rTotal of 19 of 100 iterations completed! (19%)             \rTotal of 20 of 100 iterations completed! (20%)             \rTotal of 21 of 100 iterations completed! (21%)             \rTotal of 22 of 100 iterations completed! (22%)             \rTotal of 23 of 100 iterations completed! (23%)             \rTotal of 24 of 100 iterations completed! (24%)             \rTotal of 25 of 100 iterations completed! (25%)             \rTotal of 26 of 100 iterations completed! (26%)             \rTotal of 27 of 100 iterations completed! (27%)             \rTotal of 28 of 100 iterations completed! (28%)             \rTotal of 29 of 100 iterations completed! (29%)             \rTotal of 30 of 100 iterations completed! (30%)             \rTotal of 31 of 100 iterations completed! (31%)             \rTotal of 32 of 100 iterations completed! (32%)             \rTotal of 33 of 100 iterations completed! (33%)             \rTotal of 34 of 100 iterations completed! (34%)             \rTotal of 35 of 100 iterations completed! (35%)             \rTotal of 36 of 100 iterations completed! (36%)             \rTotal of 37 of 100 iterations completed! (37%)             \rTotal of 38 of 100 iterations completed! (38%)             \rTotal of 39 of 100 iterations completed! (39%)             \rTotal of 40 of 100 iterations completed! (40%)             \rTotal of 41 of 100 iterations completed! (41%)             \rTotal of 42 of 100 iterations completed! (42%)             \rTotal of 43 of 100 iterations completed! (43%)             \rTotal of 44 of 100 iterations completed! (44%)             \rTotal of 45 of 100 iterations completed! (45%)             \rTotal of 46 of 100 iterations completed! (46%)             \rTotal of 47 of 100 iterations completed! (47%)             \rTotal of 48 of 100 iterations completed! (48%)             \rTotal of 49 of 100 iterations completed! (49%)             \rTotal of 50 of 100 iterations completed! (50%)             \rTotal of 51 of 100 iterations completed! (51%)             \rTotal of 52 of 100 iterations completed! (52%)             \rTotal of 53 of 100 iterations completed! (53%)             \rTotal of 54 of 100 iterations completed! (54%)             \rTotal of 55 of 100 iterations completed! (55%)             \rTotal of 56 of 100 iterations completed! (56%)             \rTotal of 57 of 100 iterations completed! (57%)             \rTotal of 58 of 100 iterations completed! (58%)             \rTotal of 59 of 100 iterations completed! (59%)             \rTotal of 60 of 100 iterations completed! (60%)             \rTotal of 61 of 100 iterations completed! (61%)             \rTotal of 62 of 100 iterations completed! (62%)             \rTotal of 63 of 100 iterations completed! (63%)             \rTotal of 64 of 100 iterations completed! (64%)             \rTotal of 65 of 100 iterations completed! (65%)             \rTotal of 66 of 100 iterations completed! (66%)             \rTotal of 67 of 100 iterations completed! (67%)             \rTotal of 68 of 100 iterations completed! (68%)             \rTotal of 69 of 100 iterations completed! (69%)             \rTotal of 70 of 100 iterations completed! (70%)             \rTotal of 71 of 100 iterations completed! (71%)             \rTotal of 72 of 100 iterations completed! (72%)             \rTotal of 73 of 100 iterations completed! (73%)             \rTotal of 74 of 100 iterations completed! (74%)             \rTotal of 75 of 100 iterations completed! (75%)             \rTotal of 76 of 100 iterations completed! (76%)             \rTotal of 77 of 100 iterations completed! (77%)             \rTotal of 78 of 100 iterations completed! (78%)             \rTotal of 79 of 100 iterations completed! (79%)             \rTotal of 80 of 100 iterations completed! (80%)             \rTotal of 81 of 100 iterations completed! (81%)             \rTotal of 82 of 100 iterations completed! (82%)             \rTotal of 83 of 100 iterations completed! (83%)             \rTotal of 84 of 100 iterations completed! (84%)             \rTotal of 85 of 100 iterations completed! (85%)             \rTotal of 86 of 100 iterations completed! (86%)             \rTotal of 87 of 100 iterations completed! (87%)             \rTotal of 88 of 100 iterations completed! (88%)             \rTotal of 89 of 100 iterations completed! (89%)             \rTotal of 90 of 100 iterations completed! (90%)             \rTotal of 91 of 100 iterations completed! (91%)             \rTotal of 92 of 100 iterations completed! (92%)             \rTotal of 93 of 100 iterations completed! (93%)             \rTotal of 94 of 100 iterations completed! (94%)             \rTotal of 95 of 100 iterations completed! (95%)             \rTotal of 96 of 100 iterations completed! (96%)             \rTotal of 97 of 100 iterations completed! (97%)             \rTotal of 98 of 100 iterations completed! (98%)             \rTotal of 99 of 100 iterations completed! (99%)             \rTotal of 100 of 100 iterations completed! (100%)             \rfitting treatment model via method 'bart'\n"
          ]
        },
        {
          "metadata": {
            "tags": null
          },
          "name": "stderr",
          "output_type": "stream",
          "text": [
            "Warning message in bartc(Y[, 1], Z, X, p.scoreAsCovariate = F, n.chains = 1, n.threads = 1, :\n",
            "“for response method 'bart', propensity score not used unless included as covariate”\n"
          ]
        },
        {
          "metadata": {
            "tags": null
          },
          "name": "stdout",
          "output_type": "stream",
          "text": [
            "fitting response model via method 'bart'\n",
            "fitting treatment model via method 'bart'\n"
          ]
        },
        {
          "metadata": {
            "tags": null
          },
          "name": "stderr",
          "output_type": "stream",
          "text": [
            "Warning message in bartc(Y[, 2], Z, X, p.scoreAsCovariate = F, n.chains = 1, n.threads = 1, :\n",
            "“for response method 'bart', propensity score not used unless included as covariate”\n"
          ]
        },
        {
          "metadata": {
            "tags": null
          },
          "name": "stdout",
          "output_type": "stream",
          "text": [
            "fitting response model via method 'bart'\n",
            "\rFinishing iteration 100 of 100"
          ]
        },
        {
          "metadata": {
            "tags": null
          },
          "name": "stderr",
          "output_type": "stream",
          "text": [
            "Warning message in validateXTest(test, attr(x, \"term.labels\"), ncol(x), colnames(x), :\n",
            "“column names of 'test' does not equal that of 'x': 'X1, X2, X3, X4, X5, X6, X7, X8, X9, X10'; match will be made by position”\n"
          ]
        },
        {
          "metadata": {
            "tags": null
          },
          "name": "stdout",
          "output_type": "stream",
          "text": [
            "Total of 1 of 100 iterations completed! (1%)             \rTotal of 2 of 100 iterations completed! (2%)             \rTotal of 3 of 100 iterations completed! (3%)             \rTotal of 4 of 100 iterations completed! (4%)             \rTotal of 5 of 100 iterations completed! (5%)             \rTotal of 6 of 100 iterations completed! (6%)             \rTotal of 7 of 100 iterations completed! (7%)             \rTotal of 8 of 100 iterations completed! (8%)             \rTotal of 9 of 100 iterations completed! (9%)             \rTotal of 10 of 100 iterations completed! (10%)             \rTotal of 11 of 100 iterations completed! (11%)             \rTotal of 12 of 100 iterations completed! (12%)             \rTotal of 13 of 100 iterations completed! (13%)             \rTotal of 14 of 100 iterations completed! (14%)             \rTotal of 15 of 100 iterations completed! (15%)             \rTotal of 16 of 100 iterations completed! (16%)             \rTotal of 17 of 100 iterations completed! (17%)             \rTotal of 18 of 100 iterations completed! (18%)             \rTotal of 19 of 100 iterations completed! (19%)             \rTotal of 20 of 100 iterations completed! (20%)             \rTotal of 21 of 100 iterations completed! (21%)             \rTotal of 22 of 100 iterations completed! (22%)             \rTotal of 23 of 100 iterations completed! (23%)             \rTotal of 24 of 100 iterations completed! (24%)             \rTotal of 25 of 100 iterations completed! (25%)             \rTotal of 26 of 100 iterations completed! (26%)             \rTotal of 27 of 100 iterations completed! (27%)             \rTotal of 28 of 100 iterations completed! (28%)             \rTotal of 29 of 100 iterations completed! (29%)             \rTotal of 30 of 100 iterations completed! (30%)             \rTotal of 31 of 100 iterations completed! (31%)             \rTotal of 32 of 100 iterations completed! (32%)             \rTotal of 33 of 100 iterations completed! (33%)             \rTotal of 34 of 100 iterations completed! (34%)             \rTotal of 35 of 100 iterations completed! (35%)             \rTotal of 36 of 100 iterations completed! (36%)             \rTotal of 37 of 100 iterations completed! (37%)             \rTotal of 38 of 100 iterations completed! (38%)             \rTotal of 39 of 100 iterations completed! (39%)             \rTotal of 40 of 100 iterations completed! (40%)             \rTotal of 41 of 100 iterations completed! (41%)             \rTotal of 42 of 100 iterations completed! (42%)             \rTotal of 43 of 100 iterations completed! (43%)             \rTotal of 44 of 100 iterations completed! (44%)             \rTotal of 45 of 100 iterations completed! (45%)             \rTotal of 46 of 100 iterations completed! (46%)             \rTotal of 47 of 100 iterations completed! (47%)             \rTotal of 48 of 100 iterations completed! (48%)             \rTotal of 49 of 100 iterations completed! (49%)             \rTotal of 50 of 100 iterations completed! (50%)             \rTotal of 51 of 100 iterations completed! (51%)             \rTotal of 52 of 100 iterations completed! (52%)             \rTotal of 53 of 100 iterations completed! (53%)             \rTotal of 54 of 100 iterations completed! (54%)             \rTotal of 55 of 100 iterations completed! (55%)             \rTotal of 56 of 100 iterations completed! (56%)             \rTotal of 57 of 100 iterations completed! (57%)             \rTotal of 58 of 100 iterations completed! (58%)             \rTotal of 59 of 100 iterations completed! (59%)             \rTotal of 60 of 100 iterations completed! (60%)             \rTotal of 61 of 100 iterations completed! (61%)             \rTotal of 62 of 100 iterations completed! (62%)             \rTotal of 63 of 100 iterations completed! (63%)             \rTotal of 64 of 100 iterations completed! (64%)             \rTotal of 65 of 100 iterations completed! (65%)             \rTotal of 66 of 100 iterations completed! (66%)             \rTotal of 67 of 100 iterations completed! (67%)             \rTotal of 68 of 100 iterations completed! (68%)             \rTotal of 69 of 100 iterations completed! (69%)             \rTotal of 70 of 100 iterations completed! (70%)             \rTotal of 71 of 100 iterations completed! (71%)             \rTotal of 72 of 100 iterations completed! (72%)             \rTotal of 73 of 100 iterations completed! (73%)             \rTotal of 74 of 100 iterations completed! (74%)             \rTotal of 75 of 100 iterations completed! (75%)             \rTotal of 76 of 100 iterations completed! (76%)             \rTotal of 77 of 100 iterations completed! (77%)             \rTotal of 78 of 100 iterations completed! (78%)             \rTotal of 79 of 100 iterations completed! (79%)             \rTotal of 80 of 100 iterations completed! (80%)             \rTotal of 81 of 100 iterations completed! (81%)             \rTotal of 82 of 100 iterations completed! (82%)             \rTotal of 83 of 100 iterations completed! (83%)             \rTotal of 84 of 100 iterations completed! (84%)             \rTotal of 85 of 100 iterations completed! (85%)             \rTotal of 86 of 100 iterations completed! (86%)             \rTotal of 87 of 100 iterations completed! (87%)             \rTotal of 88 of 100 iterations completed! (88%)             \rTotal of 89 of 100 iterations completed! (89%)             \rTotal of 90 of 100 iterations completed! (90%)             \rTotal of 91 of 100 iterations completed! (91%)             \rTotal of 92 of 100 iterations completed! (92%)             \rTotal of 93 of 100 iterations completed! (93%)             \rTotal of 94 of 100 iterations completed! (94%)             \rTotal of 95 of 100 iterations completed! (95%)             \rTotal of 96 of 100 iterations completed! (96%)             \rTotal of 97 of 100 iterations completed! (97%)             \rTotal of 98 of 100 iterations completed! (98%)             \rTotal of 99 of 100 iterations completed! (99%)             \rTotal of 100 of 100 iterations completed! (100%)             \rfitting treatment model via method 'bart'\n"
          ]
        },
        {
          "metadata": {
            "tags": null
          },
          "name": "stderr",
          "output_type": "stream",
          "text": [
            "Warning message in bartc(Y[, 1], Z, X, p.scoreAsCovariate = F, n.chains = 1, n.threads = 1, :\n",
            "“for response method 'bart', propensity score not used unless included as covariate”\n"
          ]
        },
        {
          "metadata": {
            "tags": null
          },
          "name": "stdout",
          "output_type": "stream",
          "text": [
            "fitting response model via method 'bart'\n",
            "fitting treatment model via method 'bart'\n"
          ]
        },
        {
          "metadata": {
            "tags": null
          },
          "name": "stderr",
          "output_type": "stream",
          "text": [
            "Warning message in bartc(Y[, 2], Z, X, p.scoreAsCovariate = F, n.chains = 1, n.threads = 1, :\n",
            "“for response method 'bart', propensity score not used unless included as covariate”\n"
          ]
        },
        {
          "metadata": {
            "tags": null
          },
          "name": "stdout",
          "output_type": "stream",
          "text": [
            "fitting response model via method 'bart'\n",
            "\rFinishing iteration 100 of 100"
          ]
        },
        {
          "metadata": {
            "tags": null
          },
          "name": "stderr",
          "output_type": "stream",
          "text": [
            "Warning message in validateXTest(test, attr(x, \"term.labels\"), ncol(x), colnames(x), :\n",
            "“column names of 'test' does not equal that of 'x': 'X1, X2, X3, X4, X5, X6, X7, X8, X9, X10'; match will be made by position”\n"
          ]
        },
        {
          "metadata": {
            "tags": null
          },
          "name": "stdout",
          "output_type": "stream",
          "text": [
            "Total of 1 of 100 iterations completed! (1%)             \rTotal of 2 of 100 iterations completed! (2%)             \rTotal of 3 of 100 iterations completed! (3%)             \rTotal of 4 of 100 iterations completed! (4%)             \rTotal of 5 of 100 iterations completed! (5%)             \rTotal of 6 of 100 iterations completed! (6%)             \rTotal of 7 of 100 iterations completed! (7%)             \rTotal of 8 of 100 iterations completed! (8%)             \rTotal of 9 of 100 iterations completed! (9%)             \rTotal of 10 of 100 iterations completed! (10%)             \rTotal of 11 of 100 iterations completed! (11%)             \rTotal of 12 of 100 iterations completed! (12%)             \rTotal of 13 of 100 iterations completed! (13%)             \rTotal of 14 of 100 iterations completed! (14%)             \rTotal of 15 of 100 iterations completed! (15%)             \rTotal of 16 of 100 iterations completed! (16%)             \rTotal of 17 of 100 iterations completed! (17%)             \rTotal of 18 of 100 iterations completed! (18%)             \rTotal of 19 of 100 iterations completed! (19%)             \rTotal of 20 of 100 iterations completed! (20%)             \rTotal of 21 of 100 iterations completed! (21%)             \rTotal of 22 of 100 iterations completed! (22%)             \rTotal of 23 of 100 iterations completed! (23%)             \rTotal of 24 of 100 iterations completed! (24%)             \rTotal of 25 of 100 iterations completed! (25%)             \rTotal of 26 of 100 iterations completed! (26%)             \rTotal of 27 of 100 iterations completed! (27%)             \rTotal of 28 of 100 iterations completed! (28%)             \rTotal of 29 of 100 iterations completed! (29%)             \rTotal of 30 of 100 iterations completed! (30%)             \rTotal of 31 of 100 iterations completed! (31%)             \rTotal of 32 of 100 iterations completed! (32%)             \rTotal of 33 of 100 iterations completed! (33%)             \rTotal of 34 of 100 iterations completed! (34%)             \rTotal of 35 of 100 iterations completed! (35%)             \rTotal of 36 of 100 iterations completed! (36%)             \rTotal of 37 of 100 iterations completed! (37%)             \rTotal of 38 of 100 iterations completed! (38%)             \rTotal of 39 of 100 iterations completed! (39%)             \rTotal of 40 of 100 iterations completed! (40%)             \rTotal of 41 of 100 iterations completed! (41%)             \rTotal of 42 of 100 iterations completed! (42%)             \rTotal of 43 of 100 iterations completed! (43%)             \rTotal of 44 of 100 iterations completed! (44%)             \rTotal of 45 of 100 iterations completed! (45%)             \rTotal of 46 of 100 iterations completed! (46%)             \rTotal of 47 of 100 iterations completed! (47%)             \rTotal of 48 of 100 iterations completed! (48%)             \rTotal of 49 of 100 iterations completed! (49%)             \rTotal of 50 of 100 iterations completed! (50%)             \rTotal of 51 of 100 iterations completed! (51%)             \rTotal of 52 of 100 iterations completed! (52%)             \rTotal of 53 of 100 iterations completed! (53%)             \rTotal of 54 of 100 iterations completed! (54%)             \rTotal of 55 of 100 iterations completed! (55%)             \rTotal of 56 of 100 iterations completed! (56%)             \rTotal of 57 of 100 iterations completed! (57%)             \rTotal of 58 of 100 iterations completed! (58%)             \rTotal of 59 of 100 iterations completed! (59%)             \rTotal of 60 of 100 iterations completed! (60%)             \rTotal of 61 of 100 iterations completed! (61%)             \rTotal of 62 of 100 iterations completed! (62%)             \rTotal of 63 of 100 iterations completed! (63%)             \rTotal of 64 of 100 iterations completed! (64%)             \rTotal of 65 of 100 iterations completed! (65%)             \rTotal of 66 of 100 iterations completed! (66%)             \rTotal of 67 of 100 iterations completed! (67%)             \rTotal of 68 of 100 iterations completed! (68%)             \rTotal of 69 of 100 iterations completed! (69%)             \rTotal of 70 of 100 iterations completed! (70%)             \rTotal of 71 of 100 iterations completed! (71%)             \rTotal of 72 of 100 iterations completed! (72%)             \rTotal of 73 of 100 iterations completed! (73%)             \rTotal of 74 of 100 iterations completed! (74%)             \rTotal of 75 of 100 iterations completed! (75%)             \rTotal of 76 of 100 iterations completed! (76%)             \rTotal of 77 of 100 iterations completed! (77%)             \rTotal of 78 of 100 iterations completed! (78%)             \rTotal of 79 of 100 iterations completed! (79%)             \rTotal of 80 of 100 iterations completed! (80%)             \rTotal of 81 of 100 iterations completed! (81%)             \rTotal of 82 of 100 iterations completed! (82%)             \rTotal of 83 of 100 iterations completed! (83%)             \rTotal of 84 of 100 iterations completed! (84%)             \rTotal of 85 of 100 iterations completed! (85%)             \rTotal of 86 of 100 iterations completed! (86%)             \rTotal of 87 of 100 iterations completed! (87%)             \rTotal of 88 of 100 iterations completed! (88%)             \rTotal of 89 of 100 iterations completed! (89%)             \rTotal of 90 of 100 iterations completed! (90%)             \rTotal of 91 of 100 iterations completed! (91%)             \rTotal of 92 of 100 iterations completed! (92%)             \rTotal of 93 of 100 iterations completed! (93%)             \rTotal of 94 of 100 iterations completed! (94%)             \rTotal of 95 of 100 iterations completed! (95%)             \rTotal of 96 of 100 iterations completed! (96%)             \rTotal of 97 of 100 iterations completed! (97%)             \rTotal of 98 of 100 iterations completed! (98%)             \rTotal of 99 of 100 iterations completed! (99%)             \rTotal of 100 of 100 iterations completed! (100%)             \rfitting treatment model via method 'bart'\n"
          ]
        },
        {
          "metadata": {
            "tags": null
          },
          "name": "stderr",
          "output_type": "stream",
          "text": [
            "Warning message in bartc(Y[, 1], Z, X, p.scoreAsCovariate = F, n.chains = 1, n.threads = 1, :\n",
            "“for response method 'bart', propensity score not used unless included as covariate”\n"
          ]
        },
        {
          "metadata": {
            "tags": null
          },
          "name": "stdout",
          "output_type": "stream",
          "text": [
            "fitting response model via method 'bart'\n",
            "fitting treatment model via method 'bart'\n"
          ]
        },
        {
          "metadata": {
            "tags": null
          },
          "name": "stderr",
          "output_type": "stream",
          "text": [
            "Warning message in bartc(Y[, 2], Z, X, p.scoreAsCovariate = F, n.chains = 1, n.threads = 1, :\n",
            "“for response method 'bart', propensity score not used unless included as covariate”\n"
          ]
        },
        {
          "metadata": {
            "tags": null
          },
          "name": "stdout",
          "output_type": "stream",
          "text": [
            "fitting response model via method 'bart'\n",
            "\rFinishing iteration 100 of 100\n",
            "After 60 simulations:\n",
            "Comparison 1: Power = 0.8564, p-value = 0.6700, adjusted p-value = 0.6700\n",
            "Comparison 2: Power = 0.6887, p-value = 0.0031, adjusted p-value = 0.0094\n",
            "Comparison 3: Power = 0.4577, p-value = 0.0236, adjusted p-value = 0.0473\n",
            "Comparison 4: Power = 0.4485, p-value = 0.0001, adjusted p-value = 0.0004\n",
            "Minimum power: 0.4484846 \n",
            "\n",
            "Iteration 6: Running batch of 10 simulations (total will be 70)...\n"
          ]
        },
        {
          "metadata": {
            "tags": null
          },
          "name": "stderr",
          "output_type": "stream",
          "text": [
            "Warning message in validateXTest(test, attr(x, \"term.labels\"), ncol(x), colnames(x), :\n",
            "“column names of 'test' does not equal that of 'x': 'X1, X2, X3, X4, X5, X6, X7, X8, X9, X10'; match will be made by position”\n"
          ]
        },
        {
          "metadata": {
            "tags": null
          },
          "name": "stdout",
          "output_type": "stream",
          "text": [
            "Total of 1 of 100 iterations completed! (1%)             \rTotal of 2 of 100 iterations completed! (2%)             \rTotal of 3 of 100 iterations completed! (3%)             \rTotal of 4 of 100 iterations completed! (4%)             \rTotal of 5 of 100 iterations completed! (5%)             \rTotal of 6 of 100 iterations completed! (6%)             \rTotal of 7 of 100 iterations completed! (7%)             \rTotal of 8 of 100 iterations completed! (8%)             \rTotal of 9 of 100 iterations completed! (9%)             \rTotal of 10 of 100 iterations completed! (10%)             \rTotal of 11 of 100 iterations completed! (11%)             \rTotal of 12 of 100 iterations completed! (12%)             \rTotal of 13 of 100 iterations completed! (13%)             \rTotal of 14 of 100 iterations completed! (14%)             \rTotal of 15 of 100 iterations completed! (15%)             \rTotal of 16 of 100 iterations completed! (16%)             \rTotal of 17 of 100 iterations completed! (17%)             \rTotal of 18 of 100 iterations completed! (18%)             \rTotal of 19 of 100 iterations completed! (19%)             \rTotal of 20 of 100 iterations completed! (20%)             \rTotal of 21 of 100 iterations completed! (21%)             \rTotal of 22 of 100 iterations completed! (22%)             \rTotal of 23 of 100 iterations completed! (23%)             \rTotal of 24 of 100 iterations completed! (24%)             \rTotal of 25 of 100 iterations completed! (25%)             \rTotal of 26 of 100 iterations completed! (26%)             \rTotal of 27 of 100 iterations completed! (27%)             \rTotal of 28 of 100 iterations completed! (28%)             \rTotal of 29 of 100 iterations completed! (29%)             \rTotal of 30 of 100 iterations completed! (30%)             \rTotal of 31 of 100 iterations completed! (31%)             \rTotal of 32 of 100 iterations completed! (32%)             \rTotal of 33 of 100 iterations completed! (33%)             \rTotal of 34 of 100 iterations completed! (34%)             \rTotal of 35 of 100 iterations completed! (35%)             \rTotal of 36 of 100 iterations completed! (36%)             \rTotal of 37 of 100 iterations completed! (37%)             \rTotal of 38 of 100 iterations completed! (38%)             \rTotal of 39 of 100 iterations completed! (39%)             \rTotal of 40 of 100 iterations completed! (40%)             \rTotal of 41 of 100 iterations completed! (41%)             \rTotal of 42 of 100 iterations completed! (42%)             \rTotal of 43 of 100 iterations completed! (43%)             \rTotal of 44 of 100 iterations completed! (44%)             \rTotal of 45 of 100 iterations completed! (45%)             \rTotal of 46 of 100 iterations completed! (46%)             \rTotal of 47 of 100 iterations completed! (47%)             \rTotal of 48 of 100 iterations completed! (48%)             \rTotal of 49 of 100 iterations completed! (49%)             \rTotal of 50 of 100 iterations completed! (50%)             \rTotal of 51 of 100 iterations completed! (51%)             \rTotal of 52 of 100 iterations completed! (52%)             \rTotal of 53 of 100 iterations completed! (53%)             \rTotal of 54 of 100 iterations completed! (54%)             \rTotal of 55 of 100 iterations completed! (55%)             \rTotal of 56 of 100 iterations completed! (56%)             \rTotal of 57 of 100 iterations completed! (57%)             \rTotal of 58 of 100 iterations completed! (58%)             \rTotal of 59 of 100 iterations completed! (59%)             \rTotal of 60 of 100 iterations completed! (60%)             \rTotal of 61 of 100 iterations completed! (61%)             \rTotal of 62 of 100 iterations completed! (62%)             \rTotal of 63 of 100 iterations completed! (63%)             \rTotal of 64 of 100 iterations completed! (64%)             \rTotal of 65 of 100 iterations completed! (65%)             \rTotal of 66 of 100 iterations completed! (66%)             \rTotal of 67 of 100 iterations completed! (67%)             \rTotal of 68 of 100 iterations completed! (68%)             \rTotal of 69 of 100 iterations completed! (69%)             \rTotal of 70 of 100 iterations completed! (70%)             \rTotal of 71 of 100 iterations completed! (71%)             \rTotal of 72 of 100 iterations completed! (72%)             \rTotal of 73 of 100 iterations completed! (73%)             \rTotal of 74 of 100 iterations completed! (74%)             \rTotal of 75 of 100 iterations completed! (75%)             \rTotal of 76 of 100 iterations completed! (76%)             \rTotal of 77 of 100 iterations completed! (77%)             \rTotal of 78 of 100 iterations completed! (78%)             \rTotal of 79 of 100 iterations completed! (79%)             \rTotal of 80 of 100 iterations completed! (80%)             \rTotal of 81 of 100 iterations completed! (81%)             \rTotal of 82 of 100 iterations completed! (82%)             \rTotal of 83 of 100 iterations completed! (83%)             \rTotal of 84 of 100 iterations completed! (84%)             \rTotal of 85 of 100 iterations completed! (85%)             \rTotal of 86 of 100 iterations completed! (86%)             \rTotal of 87 of 100 iterations completed! (87%)             \rTotal of 88 of 100 iterations completed! (88%)             \rTotal of 89 of 100 iterations completed! (89%)             \rTotal of 90 of 100 iterations completed! (90%)             \rTotal of 91 of 100 iterations completed! (91%)             \rTotal of 92 of 100 iterations completed! (92%)             \rTotal of 93 of 100 iterations completed! (93%)             \rTotal of 94 of 100 iterations completed! (94%)             \rTotal of 95 of 100 iterations completed! (95%)             \rTotal of 96 of 100 iterations completed! (96%)             \rTotal of 97 of 100 iterations completed! (97%)             \rTotal of 98 of 100 iterations completed! (98%)             \rTotal of 99 of 100 iterations completed! (99%)             \rTotal of 100 of 100 iterations completed! (100%)             \rfitting treatment model via method 'bart'\n"
          ]
        },
        {
          "metadata": {
            "tags": null
          },
          "name": "stderr",
          "output_type": "stream",
          "text": [
            "Warning message in bartc(Y[, 1], Z, X, p.scoreAsCovariate = F, n.chains = 1, n.threads = 1, :\n",
            "“for response method 'bart', propensity score not used unless included as covariate”\n"
          ]
        },
        {
          "metadata": {
            "tags": null
          },
          "name": "stdout",
          "output_type": "stream",
          "text": [
            "fitting response model via method 'bart'\n",
            "fitting treatment model via method 'bart'\n"
          ]
        },
        {
          "metadata": {
            "tags": null
          },
          "name": "stderr",
          "output_type": "stream",
          "text": [
            "Warning message in bartc(Y[, 2], Z, X, p.scoreAsCovariate = F, n.chains = 1, n.threads = 1, :\n",
            "“for response method 'bart', propensity score not used unless included as covariate”\n"
          ]
        },
        {
          "metadata": {
            "tags": null
          },
          "name": "stdout",
          "output_type": "stream",
          "text": [
            "fitting response model via method 'bart'\n",
            "\rFinishing iteration 100 of 100"
          ]
        },
        {
          "metadata": {
            "tags": null
          },
          "name": "stderr",
          "output_type": "stream",
          "text": [
            "Warning message in validateXTest(test, attr(x, \"term.labels\"), ncol(x), colnames(x), :\n",
            "“column names of 'test' does not equal that of 'x': 'X1, X2, X3, X4, X5, X6, X7, X8, X9, X10'; match will be made by position”\n"
          ]
        },
        {
          "metadata": {
            "tags": null
          },
          "name": "stdout",
          "output_type": "stream",
          "text": [
            "Total of 1 of 100 iterations completed! (1%)             \rTotal of 2 of 100 iterations completed! (2%)             \rTotal of 3 of 100 iterations completed! (3%)             \rTotal of 4 of 100 iterations completed! (4%)             \rTotal of 5 of 100 iterations completed! (5%)             \rTotal of 6 of 100 iterations completed! (6%)             \rTotal of 7 of 100 iterations completed! (7%)             \rTotal of 8 of 100 iterations completed! (8%)             \rTotal of 9 of 100 iterations completed! (9%)             \rTotal of 10 of 100 iterations completed! (10%)             \rTotal of 11 of 100 iterations completed! (11%)             \rTotal of 12 of 100 iterations completed! (12%)             \rTotal of 13 of 100 iterations completed! (13%)             \rTotal of 14 of 100 iterations completed! (14%)             \rTotal of 15 of 100 iterations completed! (15%)             \rTotal of 16 of 100 iterations completed! (16%)             \rTotal of 17 of 100 iterations completed! (17%)             \rTotal of 18 of 100 iterations completed! (18%)             \rTotal of 19 of 100 iterations completed! (19%)             \rTotal of 20 of 100 iterations completed! (20%)             \rTotal of 21 of 100 iterations completed! (21%)             \rTotal of 22 of 100 iterations completed! (22%)             \rTotal of 23 of 100 iterations completed! (23%)             \rTotal of 24 of 100 iterations completed! (24%)             \rTotal of 25 of 100 iterations completed! (25%)             \rTotal of 26 of 100 iterations completed! (26%)             \rTotal of 27 of 100 iterations completed! (27%)             \rTotal of 28 of 100 iterations completed! (28%)             \rTotal of 29 of 100 iterations completed! (29%)             \rTotal of 30 of 100 iterations completed! (30%)             \rTotal of 31 of 100 iterations completed! (31%)             \rTotal of 32 of 100 iterations completed! (32%)             \rTotal of 33 of 100 iterations completed! (33%)             \rTotal of 34 of 100 iterations completed! (34%)             \rTotal of 35 of 100 iterations completed! (35%)             \rTotal of 36 of 100 iterations completed! (36%)             \rTotal of 37 of 100 iterations completed! (37%)             \rTotal of 38 of 100 iterations completed! (38%)             \rTotal of 39 of 100 iterations completed! (39%)             \rTotal of 40 of 100 iterations completed! (40%)             \rTotal of 41 of 100 iterations completed! (41%)             \rTotal of 42 of 100 iterations completed! (42%)             \rTotal of 43 of 100 iterations completed! (43%)             \rTotal of 44 of 100 iterations completed! (44%)             \rTotal of 45 of 100 iterations completed! (45%)             \rTotal of 46 of 100 iterations completed! (46%)             \rTotal of 47 of 100 iterations completed! (47%)             \rTotal of 48 of 100 iterations completed! (48%)             \rTotal of 49 of 100 iterations completed! (49%)             \rTotal of 50 of 100 iterations completed! (50%)             \rTotal of 51 of 100 iterations completed! (51%)             \rTotal of 52 of 100 iterations completed! (52%)             \rTotal of 53 of 100 iterations completed! (53%)             \rTotal of 54 of 100 iterations completed! (54%)             \rTotal of 55 of 100 iterations completed! (55%)             \rTotal of 56 of 100 iterations completed! (56%)             \rTotal of 57 of 100 iterations completed! (57%)             \rTotal of 58 of 100 iterations completed! (58%)             \rTotal of 59 of 100 iterations completed! (59%)             \rTotal of 60 of 100 iterations completed! (60%)             \rTotal of 61 of 100 iterations completed! (61%)             \rTotal of 62 of 100 iterations completed! (62%)             \rTotal of 63 of 100 iterations completed! (63%)             \rTotal of 64 of 100 iterations completed! (64%)             \rTotal of 65 of 100 iterations completed! (65%)             \rTotal of 66 of 100 iterations completed! (66%)             \rTotal of 67 of 100 iterations completed! (67%)             \rTotal of 68 of 100 iterations completed! (68%)             \rTotal of 69 of 100 iterations completed! (69%)             \rTotal of 70 of 100 iterations completed! (70%)             \rTotal of 71 of 100 iterations completed! (71%)             \rTotal of 72 of 100 iterations completed! (72%)             \rTotal of 73 of 100 iterations completed! (73%)             \rTotal of 74 of 100 iterations completed! (74%)             \rTotal of 75 of 100 iterations completed! (75%)             \rTotal of 76 of 100 iterations completed! (76%)             \rTotal of 77 of 100 iterations completed! (77%)             \rTotal of 78 of 100 iterations completed! (78%)             \rTotal of 79 of 100 iterations completed! (79%)             \rTotal of 80 of 100 iterations completed! (80%)             \rTotal of 81 of 100 iterations completed! (81%)             \rTotal of 82 of 100 iterations completed! (82%)             \rTotal of 83 of 100 iterations completed! (83%)             \rTotal of 84 of 100 iterations completed! (84%)             \rTotal of 85 of 100 iterations completed! (85%)             \rTotal of 86 of 100 iterations completed! (86%)             \rTotal of 87 of 100 iterations completed! (87%)             \rTotal of 88 of 100 iterations completed! (88%)             \rTotal of 89 of 100 iterations completed! (89%)             \rTotal of 90 of 100 iterations completed! (90%)             \rTotal of 91 of 100 iterations completed! (91%)             \rTotal of 92 of 100 iterations completed! (92%)             \rTotal of 93 of 100 iterations completed! (93%)             \rTotal of 94 of 100 iterations completed! (94%)             \rTotal of 95 of 100 iterations completed! (95%)             \rTotal of 96 of 100 iterations completed! (96%)             \rTotal of 97 of 100 iterations completed! (97%)             \rTotal of 98 of 100 iterations completed! (98%)             \rTotal of 99 of 100 iterations completed! (99%)             \rTotal of 100 of 100 iterations completed! (100%)             \rfitting treatment model via method 'bart'\n"
          ]
        },
        {
          "metadata": {
            "tags": null
          },
          "name": "stderr",
          "output_type": "stream",
          "text": [
            "Warning message in bartc(Y[, 1], Z, X, p.scoreAsCovariate = F, n.chains = 1, n.threads = 1, :\n",
            "“for response method 'bart', propensity score not used unless included as covariate”\n"
          ]
        },
        {
          "metadata": {
            "tags": null
          },
          "name": "stdout",
          "output_type": "stream",
          "text": [
            "fitting response model via method 'bart'\n",
            "fitting treatment model via method 'bart'\n"
          ]
        },
        {
          "metadata": {
            "tags": null
          },
          "name": "stderr",
          "output_type": "stream",
          "text": [
            "Warning message in bartc(Y[, 2], Z, X, p.scoreAsCovariate = F, n.chains = 1, n.threads = 1, :\n",
            "“for response method 'bart', propensity score not used unless included as covariate”\n"
          ]
        },
        {
          "metadata": {
            "tags": null
          },
          "name": "stdout",
          "output_type": "stream",
          "text": [
            "fitting response model via method 'bart'\n",
            "\rFinishing iteration 100 of 100"
          ]
        },
        {
          "metadata": {
            "tags": null
          },
          "name": "stderr",
          "output_type": "stream",
          "text": [
            "Warning message in validateXTest(test, attr(x, \"term.labels\"), ncol(x), colnames(x), :\n",
            "“column names of 'test' does not equal that of 'x': 'X1, X2, X3, X4, X5, X6, X7, X8, X9, X10'; match will be made by position”\n"
          ]
        },
        {
          "metadata": {
            "tags": null
          },
          "name": "stdout",
          "output_type": "stream",
          "text": [
            "Total of 1 of 100 iterations completed! (1%)             \rTotal of 2 of 100 iterations completed! (2%)             \rTotal of 3 of 100 iterations completed! (3%)             \rTotal of 4 of 100 iterations completed! (4%)             \rTotal of 5 of 100 iterations completed! (5%)             \rTotal of 6 of 100 iterations completed! (6%)             \rTotal of 7 of 100 iterations completed! (7%)             \rTotal of 8 of 100 iterations completed! (8%)             \rTotal of 9 of 100 iterations completed! (9%)             \rTotal of 10 of 100 iterations completed! (10%)             \rTotal of 11 of 100 iterations completed! (11%)             \rTotal of 12 of 100 iterations completed! (12%)             \rTotal of 13 of 100 iterations completed! (13%)             \rTotal of 14 of 100 iterations completed! (14%)             \rTotal of 15 of 100 iterations completed! (15%)             \rTotal of 16 of 100 iterations completed! (16%)             \rTotal of 17 of 100 iterations completed! (17%)             \rTotal of 18 of 100 iterations completed! (18%)             \rTotal of 19 of 100 iterations completed! (19%)             \rTotal of 20 of 100 iterations completed! (20%)             \rTotal of 21 of 100 iterations completed! (21%)             \rTotal of 22 of 100 iterations completed! (22%)             \rTotal of 23 of 100 iterations completed! (23%)             \rTotal of 24 of 100 iterations completed! (24%)             \rTotal of 25 of 100 iterations completed! (25%)             \rTotal of 26 of 100 iterations completed! (26%)             \rTotal of 27 of 100 iterations completed! (27%)             \rTotal of 28 of 100 iterations completed! (28%)             \rTotal of 29 of 100 iterations completed! (29%)             \rTotal of 30 of 100 iterations completed! (30%)             \rTotal of 31 of 100 iterations completed! (31%)             \rTotal of 32 of 100 iterations completed! (32%)             \rTotal of 33 of 100 iterations completed! (33%)             \rTotal of 34 of 100 iterations completed! (34%)             \rTotal of 35 of 100 iterations completed! (35%)             \rTotal of 36 of 100 iterations completed! (36%)             \rTotal of 37 of 100 iterations completed! (37%)             \rTotal of 38 of 100 iterations completed! (38%)             \rTotal of 39 of 100 iterations completed! (39%)             \rTotal of 40 of 100 iterations completed! (40%)             \rTotal of 41 of 100 iterations completed! (41%)             \rTotal of 42 of 100 iterations completed! (42%)             \rTotal of 43 of 100 iterations completed! (43%)             \rTotal of 44 of 100 iterations completed! (44%)             \rTotal of 45 of 100 iterations completed! (45%)             \rTotal of 46 of 100 iterations completed! (46%)             \rTotal of 47 of 100 iterations completed! (47%)             \rTotal of 48 of 100 iterations completed! (48%)             \rTotal of 49 of 100 iterations completed! (49%)             \rTotal of 50 of 100 iterations completed! (50%)             \rTotal of 51 of 100 iterations completed! (51%)             \rTotal of 52 of 100 iterations completed! (52%)             \rTotal of 53 of 100 iterations completed! (53%)             \rTotal of 54 of 100 iterations completed! (54%)             \rTotal of 55 of 100 iterations completed! (55%)             \rTotal of 56 of 100 iterations completed! (56%)             \rTotal of 57 of 100 iterations completed! (57%)             \rTotal of 58 of 100 iterations completed! (58%)             \rTotal of 59 of 100 iterations completed! (59%)             \rTotal of 60 of 100 iterations completed! (60%)             \rTotal of 61 of 100 iterations completed! (61%)             \rTotal of 62 of 100 iterations completed! (62%)             \rTotal of 63 of 100 iterations completed! (63%)             \rTotal of 64 of 100 iterations completed! (64%)             \rTotal of 65 of 100 iterations completed! (65%)             \rTotal of 66 of 100 iterations completed! (66%)             \rTotal of 67 of 100 iterations completed! (67%)             \rTotal of 68 of 100 iterations completed! (68%)             \rTotal of 69 of 100 iterations completed! (69%)             \rTotal of 70 of 100 iterations completed! (70%)             \rTotal of 71 of 100 iterations completed! (71%)             \rTotal of 72 of 100 iterations completed! (72%)             \rTotal of 73 of 100 iterations completed! (73%)             \rTotal of 74 of 100 iterations completed! (74%)             \rTotal of 75 of 100 iterations completed! (75%)             \rTotal of 76 of 100 iterations completed! (76%)             \rTotal of 77 of 100 iterations completed! (77%)             \rTotal of 78 of 100 iterations completed! (78%)             \rTotal of 79 of 100 iterations completed! (79%)             \rTotal of 80 of 100 iterations completed! (80%)             \rTotal of 81 of 100 iterations completed! (81%)             \rTotal of 82 of 100 iterations completed! (82%)             \rTotal of 83 of 100 iterations completed! (83%)             \rTotal of 84 of 100 iterations completed! (84%)             \rTotal of 85 of 100 iterations completed! (85%)             \rTotal of 86 of 100 iterations completed! (86%)             \rTotal of 87 of 100 iterations completed! (87%)             \rTotal of 88 of 100 iterations completed! (88%)             \rTotal of 89 of 100 iterations completed! (89%)             \rTotal of 90 of 100 iterations completed! (90%)             \rTotal of 91 of 100 iterations completed! (91%)             \rTotal of 92 of 100 iterations completed! (92%)             \rTotal of 93 of 100 iterations completed! (93%)             \rTotal of 94 of 100 iterations completed! (94%)             \rTotal of 95 of 100 iterations completed! (95%)             \rTotal of 96 of 100 iterations completed! (96%)             \rTotal of 97 of 100 iterations completed! (97%)             \rTotal of 98 of 100 iterations completed! (98%)             \rTotal of 99 of 100 iterations completed! (99%)             \rTotal of 100 of 100 iterations completed! (100%)             \rfitting treatment model via method 'bart'\n"
          ]
        },
        {
          "metadata": {
            "tags": null
          },
          "name": "stderr",
          "output_type": "stream",
          "text": [
            "Warning message in bartc(Y[, 1], Z, X, p.scoreAsCovariate = F, n.chains = 1, n.threads = 1, :\n",
            "“for response method 'bart', propensity score not used unless included as covariate”\n"
          ]
        },
        {
          "metadata": {
            "tags": null
          },
          "name": "stdout",
          "output_type": "stream",
          "text": [
            "fitting response model via method 'bart'\n",
            "fitting treatment model via method 'bart'\n"
          ]
        },
        {
          "metadata": {
            "tags": null
          },
          "name": "stderr",
          "output_type": "stream",
          "text": [
            "Warning message in bartc(Y[, 2], Z, X, p.scoreAsCovariate = F, n.chains = 1, n.threads = 1, :\n",
            "“for response method 'bart', propensity score not used unless included as covariate”\n"
          ]
        },
        {
          "metadata": {
            "tags": null
          },
          "name": "stdout",
          "output_type": "stream",
          "text": [
            "fitting response model via method 'bart'\n",
            "\rFinishing iteration 100 of 100"
          ]
        },
        {
          "metadata": {
            "tags": null
          },
          "name": "stderr",
          "output_type": "stream",
          "text": [
            "Warning message in validateXTest(test, attr(x, \"term.labels\"), ncol(x), colnames(x), :\n",
            "“column names of 'test' does not equal that of 'x': 'X1, X2, X3, X4, X5, X6, X7, X8, X9, X10'; match will be made by position”\n"
          ]
        },
        {
          "metadata": {
            "tags": null
          },
          "name": "stdout",
          "output_type": "stream",
          "text": [
            "Total of 1 of 100 iterations completed! (1%)             \rTotal of 2 of 100 iterations completed! (2%)             \rTotal of 3 of 100 iterations completed! (3%)             \rTotal of 4 of 100 iterations completed! (4%)             \rTotal of 5 of 100 iterations completed! (5%)             \rTotal of 6 of 100 iterations completed! (6%)             \rTotal of 7 of 100 iterations completed! (7%)             \rTotal of 8 of 100 iterations completed! (8%)             \rTotal of 9 of 100 iterations completed! (9%)             \rTotal of 10 of 100 iterations completed! (10%)             \rTotal of 11 of 100 iterations completed! (11%)             \rTotal of 12 of 100 iterations completed! (12%)             \rTotal of 13 of 100 iterations completed! (13%)             \rTotal of 14 of 100 iterations completed! (14%)             \rTotal of 15 of 100 iterations completed! (15%)             \rTotal of 16 of 100 iterations completed! (16%)             \rTotal of 17 of 100 iterations completed! (17%)             \rTotal of 18 of 100 iterations completed! (18%)             \rTotal of 19 of 100 iterations completed! (19%)             \rTotal of 20 of 100 iterations completed! (20%)             \rTotal of 21 of 100 iterations completed! (21%)             \rTotal of 22 of 100 iterations completed! (22%)             \rTotal of 23 of 100 iterations completed! (23%)             \rTotal of 24 of 100 iterations completed! (24%)             \rTotal of 25 of 100 iterations completed! (25%)             \rTotal of 26 of 100 iterations completed! (26%)             \rTotal of 27 of 100 iterations completed! (27%)             \rTotal of 28 of 100 iterations completed! (28%)             \rTotal of 29 of 100 iterations completed! (29%)             \rTotal of 30 of 100 iterations completed! (30%)             \rTotal of 31 of 100 iterations completed! (31%)             \rTotal of 32 of 100 iterations completed! (32%)             \rTotal of 33 of 100 iterations completed! (33%)             \rTotal of 34 of 100 iterations completed! (34%)             \rTotal of 35 of 100 iterations completed! (35%)             \rTotal of 36 of 100 iterations completed! (36%)             \rTotal of 37 of 100 iterations completed! (37%)             \rTotal of 38 of 100 iterations completed! (38%)             \rTotal of 39 of 100 iterations completed! (39%)             \rTotal of 40 of 100 iterations completed! (40%)             \rTotal of 41 of 100 iterations completed! (41%)             \rTotal of 42 of 100 iterations completed! (42%)             \rTotal of 43 of 100 iterations completed! (43%)             \rTotal of 44 of 100 iterations completed! (44%)             \rTotal of 45 of 100 iterations completed! (45%)             \rTotal of 46 of 100 iterations completed! (46%)             \rTotal of 47 of 100 iterations completed! (47%)             \rTotal of 48 of 100 iterations completed! (48%)             \rTotal of 49 of 100 iterations completed! (49%)             \rTotal of 50 of 100 iterations completed! (50%)             \rTotal of 51 of 100 iterations completed! (51%)             \rTotal of 52 of 100 iterations completed! (52%)             \rTotal of 53 of 100 iterations completed! (53%)             \rTotal of 54 of 100 iterations completed! (54%)             \rTotal of 55 of 100 iterations completed! (55%)             \rTotal of 56 of 100 iterations completed! (56%)             \rTotal of 57 of 100 iterations completed! (57%)             \rTotal of 58 of 100 iterations completed! (58%)             \rTotal of 59 of 100 iterations completed! (59%)             \rTotal of 60 of 100 iterations completed! (60%)             \rTotal of 61 of 100 iterations completed! (61%)             \rTotal of 62 of 100 iterations completed! (62%)             \rTotal of 63 of 100 iterations completed! (63%)             \rTotal of 64 of 100 iterations completed! (64%)             \rTotal of 65 of 100 iterations completed! (65%)             \rTotal of 66 of 100 iterations completed! (66%)             \rTotal of 67 of 100 iterations completed! (67%)             \rTotal of 68 of 100 iterations completed! (68%)             \rTotal of 69 of 100 iterations completed! (69%)             \rTotal of 70 of 100 iterations completed! (70%)             \rTotal of 71 of 100 iterations completed! (71%)             \rTotal of 72 of 100 iterations completed! (72%)             \rTotal of 73 of 100 iterations completed! (73%)             \rTotal of 74 of 100 iterations completed! (74%)             \rTotal of 75 of 100 iterations completed! (75%)             \rTotal of 76 of 100 iterations completed! (76%)             \rTotal of 77 of 100 iterations completed! (77%)             \rTotal of 78 of 100 iterations completed! (78%)             \rTotal of 79 of 100 iterations completed! (79%)             \rTotal of 80 of 100 iterations completed! (80%)             \rTotal of 81 of 100 iterations completed! (81%)             \rTotal of 82 of 100 iterations completed! (82%)             \rTotal of 83 of 100 iterations completed! (83%)             \rTotal of 84 of 100 iterations completed! (84%)             \rTotal of 85 of 100 iterations completed! (85%)             \rTotal of 86 of 100 iterations completed! (86%)             \rTotal of 87 of 100 iterations completed! (87%)             \rTotal of 88 of 100 iterations completed! (88%)             \rTotal of 89 of 100 iterations completed! (89%)             \rTotal of 90 of 100 iterations completed! (90%)             \rTotal of 91 of 100 iterations completed! (91%)             \rTotal of 92 of 100 iterations completed! (92%)             \rTotal of 93 of 100 iterations completed! (93%)             \rTotal of 94 of 100 iterations completed! (94%)             \rTotal of 95 of 100 iterations completed! (95%)             \rTotal of 96 of 100 iterations completed! (96%)             \rTotal of 97 of 100 iterations completed! (97%)             \rTotal of 98 of 100 iterations completed! (98%)             \rTotal of 99 of 100 iterations completed! (99%)             \rTotal of 100 of 100 iterations completed! (100%)             \rfitting treatment model via method 'bart'\n"
          ]
        },
        {
          "metadata": {
            "tags": null
          },
          "name": "stderr",
          "output_type": "stream",
          "text": [
            "Warning message in bartc(Y[, 1], Z, X, p.scoreAsCovariate = F, n.chains = 1, n.threads = 1, :\n",
            "“for response method 'bart', propensity score not used unless included as covariate”\n"
          ]
        },
        {
          "metadata": {
            "tags": null
          },
          "name": "stdout",
          "output_type": "stream",
          "text": [
            "fitting response model via method 'bart'\n",
            "fitting treatment model via method 'bart'\n"
          ]
        },
        {
          "metadata": {
            "tags": null
          },
          "name": "stderr",
          "output_type": "stream",
          "text": [
            "Warning message in bartc(Y[, 2], Z, X, p.scoreAsCovariate = F, n.chains = 1, n.threads = 1, :\n",
            "“for response method 'bart', propensity score not used unless included as covariate”\n"
          ]
        },
        {
          "metadata": {
            "tags": null
          },
          "name": "stdout",
          "output_type": "stream",
          "text": [
            "fitting response model via method 'bart'\n",
            "\rFinishing iteration 100 of 100"
          ]
        },
        {
          "metadata": {
            "tags": null
          },
          "name": "stderr",
          "output_type": "stream",
          "text": [
            "Warning message in validateXTest(test, attr(x, \"term.labels\"), ncol(x), colnames(x), :\n",
            "“column names of 'test' does not equal that of 'x': 'X1, X2, X3, X4, X5, X6, X7, X8, X9, X10'; match will be made by position”\n"
          ]
        },
        {
          "metadata": {
            "tags": null
          },
          "name": "stdout",
          "output_type": "stream",
          "text": [
            "Total of 1 of 100 iterations completed! (1%)             \rTotal of 2 of 100 iterations completed! (2%)             \rTotal of 3 of 100 iterations completed! (3%)             \rTotal of 4 of 100 iterations completed! (4%)             \rTotal of 5 of 100 iterations completed! (5%)             \rTotal of 6 of 100 iterations completed! (6%)             \rTotal of 7 of 100 iterations completed! (7%)             \rTotal of 8 of 100 iterations completed! (8%)             \rTotal of 9 of 100 iterations completed! (9%)             \rTotal of 10 of 100 iterations completed! (10%)             \rTotal of 11 of 100 iterations completed! (11%)             \rTotal of 12 of 100 iterations completed! (12%)             \rTotal of 13 of 100 iterations completed! (13%)             \rTotal of 14 of 100 iterations completed! (14%)             \rTotal of 15 of 100 iterations completed! (15%)             \rTotal of 16 of 100 iterations completed! (16%)             \rTotal of 17 of 100 iterations completed! (17%)             \rTotal of 18 of 100 iterations completed! (18%)             \rTotal of 19 of 100 iterations completed! (19%)             \rTotal of 20 of 100 iterations completed! (20%)             \rTotal of 21 of 100 iterations completed! (21%)             \rTotal of 22 of 100 iterations completed! (22%)             \rTotal of 23 of 100 iterations completed! (23%)             \rTotal of 24 of 100 iterations completed! (24%)             \rTotal of 25 of 100 iterations completed! (25%)             \rTotal of 26 of 100 iterations completed! (26%)             \rTotal of 27 of 100 iterations completed! (27%)             \rTotal of 28 of 100 iterations completed! (28%)             \rTotal of 29 of 100 iterations completed! (29%)             \rTotal of 30 of 100 iterations completed! (30%)             \rTotal of 31 of 100 iterations completed! (31%)             \rTotal of 32 of 100 iterations completed! (32%)             \rTotal of 33 of 100 iterations completed! (33%)             \rTotal of 34 of 100 iterations completed! (34%)             \rTotal of 35 of 100 iterations completed! (35%)             \rTotal of 36 of 100 iterations completed! (36%)             \rTotal of 37 of 100 iterations completed! (37%)             \rTotal of 38 of 100 iterations completed! (38%)             \rTotal of 39 of 100 iterations completed! (39%)             \rTotal of 40 of 100 iterations completed! (40%)             \rTotal of 41 of 100 iterations completed! (41%)             \rTotal of 42 of 100 iterations completed! (42%)             \rTotal of 43 of 100 iterations completed! (43%)             \rTotal of 44 of 100 iterations completed! (44%)             \rTotal of 45 of 100 iterations completed! (45%)             \rTotal of 46 of 100 iterations completed! (46%)             \rTotal of 47 of 100 iterations completed! (47%)             \rTotal of 48 of 100 iterations completed! (48%)             \rTotal of 49 of 100 iterations completed! (49%)             \rTotal of 50 of 100 iterations completed! (50%)             \rTotal of 51 of 100 iterations completed! (51%)             \rTotal of 52 of 100 iterations completed! (52%)             \rTotal of 53 of 100 iterations completed! (53%)             \rTotal of 54 of 100 iterations completed! (54%)             \rTotal of 55 of 100 iterations completed! (55%)             \rTotal of 56 of 100 iterations completed! (56%)             \rTotal of 57 of 100 iterations completed! (57%)             \rTotal of 58 of 100 iterations completed! (58%)             \rTotal of 59 of 100 iterations completed! (59%)             \rTotal of 60 of 100 iterations completed! (60%)             \rTotal of 61 of 100 iterations completed! (61%)             \rTotal of 62 of 100 iterations completed! (62%)             \rTotal of 63 of 100 iterations completed! (63%)             \rTotal of 64 of 100 iterations completed! (64%)             \rTotal of 65 of 100 iterations completed! (65%)             \rTotal of 66 of 100 iterations completed! (66%)             \rTotal of 67 of 100 iterations completed! (67%)             \rTotal of 68 of 100 iterations completed! (68%)             \rTotal of 69 of 100 iterations completed! (69%)             \rTotal of 70 of 100 iterations completed! (70%)             \rTotal of 71 of 100 iterations completed! (71%)             \rTotal of 72 of 100 iterations completed! (72%)             \rTotal of 73 of 100 iterations completed! (73%)             \rTotal of 74 of 100 iterations completed! (74%)             \rTotal of 75 of 100 iterations completed! (75%)             \rTotal of 76 of 100 iterations completed! (76%)             \rTotal of 77 of 100 iterations completed! (77%)             \rTotal of 78 of 100 iterations completed! (78%)             \rTotal of 79 of 100 iterations completed! (79%)             \rTotal of 80 of 100 iterations completed! (80%)             \rTotal of 81 of 100 iterations completed! (81%)             \rTotal of 82 of 100 iterations completed! (82%)             \rTotal of 83 of 100 iterations completed! (83%)             \rTotal of 84 of 100 iterations completed! (84%)             \rTotal of 85 of 100 iterations completed! (85%)             \rTotal of 86 of 100 iterations completed! (86%)             \rTotal of 87 of 100 iterations completed! (87%)             \rTotal of 88 of 100 iterations completed! (88%)             \rTotal of 89 of 100 iterations completed! (89%)             \rTotal of 90 of 100 iterations completed! (90%)             \rTotal of 91 of 100 iterations completed! (91%)             \rTotal of 92 of 100 iterations completed! (92%)             \rTotal of 93 of 100 iterations completed! (93%)             \rTotal of 94 of 100 iterations completed! (94%)             \rTotal of 95 of 100 iterations completed! (95%)             \rTotal of 96 of 100 iterations completed! (96%)             \rTotal of 97 of 100 iterations completed! (97%)             \rTotal of 98 of 100 iterations completed! (98%)             \rTotal of 99 of 100 iterations completed! (99%)             \rTotal of 100 of 100 iterations completed! (100%)             \rfitting treatment model via method 'bart'\n"
          ]
        },
        {
          "metadata": {
            "tags": null
          },
          "name": "stderr",
          "output_type": "stream",
          "text": [
            "Warning message in bartc(Y[, 1], Z, X, p.scoreAsCovariate = F, n.chains = 1, n.threads = 1, :\n",
            "“for response method 'bart', propensity score not used unless included as covariate”\n"
          ]
        },
        {
          "metadata": {
            "tags": null
          },
          "name": "stdout",
          "output_type": "stream",
          "text": [
            "fitting response model via method 'bart'\n",
            "fitting treatment model via method 'bart'\n"
          ]
        },
        {
          "metadata": {
            "tags": null
          },
          "name": "stderr",
          "output_type": "stream",
          "text": [
            "Warning message in bartc(Y[, 2], Z, X, p.scoreAsCovariate = F, n.chains = 1, n.threads = 1, :\n",
            "“for response method 'bart', propensity score not used unless included as covariate”\n"
          ]
        },
        {
          "metadata": {
            "tags": null
          },
          "name": "stdout",
          "output_type": "stream",
          "text": [
            "fitting response model via method 'bart'\n",
            "\rFinishing iteration 100 of 100"
          ]
        },
        {
          "metadata": {
            "tags": null
          },
          "name": "stderr",
          "output_type": "stream",
          "text": [
            "Warning message in validateXTest(test, attr(x, \"term.labels\"), ncol(x), colnames(x), :\n",
            "“column names of 'test' does not equal that of 'x': 'X1, X2, X3, X4, X5, X6, X7, X8, X9, X10'; match will be made by position”\n"
          ]
        },
        {
          "metadata": {
            "tags": null
          },
          "name": "stdout",
          "output_type": "stream",
          "text": [
            "Total of 1 of 100 iterations completed! (1%)             \rTotal of 2 of 100 iterations completed! (2%)             \rTotal of 3 of 100 iterations completed! (3%)             \rTotal of 4 of 100 iterations completed! (4%)             \rTotal of 5 of 100 iterations completed! (5%)             \rTotal of 6 of 100 iterations completed! (6%)             \rTotal of 7 of 100 iterations completed! (7%)             \rTotal of 8 of 100 iterations completed! (8%)             \rTotal of 9 of 100 iterations completed! (9%)             \rTotal of 10 of 100 iterations completed! (10%)             \rTotal of 11 of 100 iterations completed! (11%)             \rTotal of 12 of 100 iterations completed! (12%)             \rTotal of 13 of 100 iterations completed! (13%)             \rTotal of 14 of 100 iterations completed! (14%)             \rTotal of 15 of 100 iterations completed! (15%)             \rTotal of 16 of 100 iterations completed! (16%)             \rTotal of 17 of 100 iterations completed! (17%)             \rTotal of 18 of 100 iterations completed! (18%)             \rTotal of 19 of 100 iterations completed! (19%)             \rTotal of 20 of 100 iterations completed! (20%)             \rTotal of 21 of 100 iterations completed! (21%)             \rTotal of 22 of 100 iterations completed! (22%)             \rTotal of 23 of 100 iterations completed! (23%)             \rTotal of 24 of 100 iterations completed! (24%)             \rTotal of 25 of 100 iterations completed! (25%)             \rTotal of 26 of 100 iterations completed! (26%)             \rTotal of 27 of 100 iterations completed! (27%)             \rTotal of 28 of 100 iterations completed! (28%)             \rTotal of 29 of 100 iterations completed! (29%)             \rTotal of 30 of 100 iterations completed! (30%)             \rTotal of 31 of 100 iterations completed! (31%)             \rTotal of 32 of 100 iterations completed! (32%)             \rTotal of 33 of 100 iterations completed! (33%)             \rTotal of 34 of 100 iterations completed! (34%)             \rTotal of 35 of 100 iterations completed! (35%)             \rTotal of 36 of 100 iterations completed! (36%)             \rTotal of 37 of 100 iterations completed! (37%)             \rTotal of 38 of 100 iterations completed! (38%)             \rTotal of 39 of 100 iterations completed! (39%)             \rTotal of 40 of 100 iterations completed! (40%)             \rTotal of 41 of 100 iterations completed! (41%)             \rTotal of 42 of 100 iterations completed! (42%)             \rTotal of 43 of 100 iterations completed! (43%)             \rTotal of 44 of 100 iterations completed! (44%)             \rTotal of 45 of 100 iterations completed! (45%)             \rTotal of 46 of 100 iterations completed! (46%)             \rTotal of 47 of 100 iterations completed! (47%)             \rTotal of 48 of 100 iterations completed! (48%)             \rTotal of 49 of 100 iterations completed! (49%)             \rTotal of 50 of 100 iterations completed! (50%)             \rTotal of 51 of 100 iterations completed! (51%)             \rTotal of 52 of 100 iterations completed! (52%)             \rTotal of 53 of 100 iterations completed! (53%)             \rTotal of 54 of 100 iterations completed! (54%)             \rTotal of 55 of 100 iterations completed! (55%)             \rTotal of 56 of 100 iterations completed! (56%)             \rTotal of 57 of 100 iterations completed! (57%)             \rTotal of 58 of 100 iterations completed! (58%)             \rTotal of 59 of 100 iterations completed! (59%)             \rTotal of 60 of 100 iterations completed! (60%)             \rTotal of 61 of 100 iterations completed! (61%)             \rTotal of 62 of 100 iterations completed! (62%)             \rTotal of 63 of 100 iterations completed! (63%)             \rTotal of 64 of 100 iterations completed! (64%)             \rTotal of 65 of 100 iterations completed! (65%)             \rTotal of 66 of 100 iterations completed! (66%)             \rTotal of 67 of 100 iterations completed! (67%)             \rTotal of 68 of 100 iterations completed! (68%)             \rTotal of 69 of 100 iterations completed! (69%)             \rTotal of 70 of 100 iterations completed! (70%)             \rTotal of 71 of 100 iterations completed! (71%)             \rTotal of 72 of 100 iterations completed! (72%)             \rTotal of 73 of 100 iterations completed! (73%)             \rTotal of 74 of 100 iterations completed! (74%)             \rTotal of 75 of 100 iterations completed! (75%)             \rTotal of 76 of 100 iterations completed! (76%)             \rTotal of 77 of 100 iterations completed! (77%)             \rTotal of 78 of 100 iterations completed! (78%)             \rTotal of 79 of 100 iterations completed! (79%)             \rTotal of 80 of 100 iterations completed! (80%)             \rTotal of 81 of 100 iterations completed! (81%)             \rTotal of 82 of 100 iterations completed! (82%)             \rTotal of 83 of 100 iterations completed! (83%)             \rTotal of 84 of 100 iterations completed! (84%)             \rTotal of 85 of 100 iterations completed! (85%)             \rTotal of 86 of 100 iterations completed! (86%)             \rTotal of 87 of 100 iterations completed! (87%)             \rTotal of 88 of 100 iterations completed! (88%)             \rTotal of 89 of 100 iterations completed! (89%)             \rTotal of 90 of 100 iterations completed! (90%)             \rTotal of 91 of 100 iterations completed! (91%)             \rTotal of 92 of 100 iterations completed! (92%)             \rTotal of 93 of 100 iterations completed! (93%)             \rTotal of 94 of 100 iterations completed! (94%)             \rTotal of 95 of 100 iterations completed! (95%)             \rTotal of 96 of 100 iterations completed! (96%)             \rTotal of 97 of 100 iterations completed! (97%)             \rTotal of 98 of 100 iterations completed! (98%)             \rTotal of 99 of 100 iterations completed! (99%)             \rTotal of 100 of 100 iterations completed! (100%)             \rfitting treatment model via method 'bart'\n"
          ]
        },
        {
          "metadata": {
            "tags": null
          },
          "name": "stderr",
          "output_type": "stream",
          "text": [
            "Warning message in bartc(Y[, 1], Z, X, p.scoreAsCovariate = F, n.chains = 1, n.threads = 1, :\n",
            "“for response method 'bart', propensity score not used unless included as covariate”\n"
          ]
        },
        {
          "metadata": {
            "tags": null
          },
          "name": "stdout",
          "output_type": "stream",
          "text": [
            "fitting response model via method 'bart'\n",
            "fitting treatment model via method 'bart'\n"
          ]
        },
        {
          "metadata": {
            "tags": null
          },
          "name": "stderr",
          "output_type": "stream",
          "text": [
            "Warning message in bartc(Y[, 2], Z, X, p.scoreAsCovariate = F, n.chains = 1, n.threads = 1, :\n",
            "“for response method 'bart', propensity score not used unless included as covariate”\n"
          ]
        },
        {
          "metadata": {
            "tags": null
          },
          "name": "stdout",
          "output_type": "stream",
          "text": [
            "fitting response model via method 'bart'\n",
            "\rFinishing iteration 100 of 100"
          ]
        },
        {
          "metadata": {
            "tags": null
          },
          "name": "stderr",
          "output_type": "stream",
          "text": [
            "Warning message in validateXTest(test, attr(x, \"term.labels\"), ncol(x), colnames(x), :\n",
            "“column names of 'test' does not equal that of 'x': 'X1, X2, X3, X4, X5, X6, X7, X8, X9, X10'; match will be made by position”\n"
          ]
        },
        {
          "metadata": {
            "tags": null
          },
          "name": "stdout",
          "output_type": "stream",
          "text": [
            "Total of 1 of 100 iterations completed! (1%)             \rTotal of 2 of 100 iterations completed! (2%)             \rTotal of 3 of 100 iterations completed! (3%)             \rTotal of 4 of 100 iterations completed! (4%)             \rTotal of 5 of 100 iterations completed! (5%)             \rTotal of 6 of 100 iterations completed! (6%)             \rTotal of 7 of 100 iterations completed! (7%)             \rTotal of 8 of 100 iterations completed! (8%)             \rTotal of 9 of 100 iterations completed! (9%)             \rTotal of 10 of 100 iterations completed! (10%)             \rTotal of 11 of 100 iterations completed! (11%)             \rTotal of 12 of 100 iterations completed! (12%)             \rTotal of 13 of 100 iterations completed! (13%)             \rTotal of 14 of 100 iterations completed! (14%)             \rTotal of 15 of 100 iterations completed! (15%)             \rTotal of 16 of 100 iterations completed! (16%)             \rTotal of 17 of 100 iterations completed! (17%)             \rTotal of 18 of 100 iterations completed! (18%)             \rTotal of 19 of 100 iterations completed! (19%)             \rTotal of 20 of 100 iterations completed! (20%)             \rTotal of 21 of 100 iterations completed! (21%)             \rTotal of 22 of 100 iterations completed! (22%)             \rTotal of 23 of 100 iterations completed! (23%)             \rTotal of 24 of 100 iterations completed! (24%)             \rTotal of 25 of 100 iterations completed! (25%)             \rTotal of 26 of 100 iterations completed! (26%)             \rTotal of 27 of 100 iterations completed! (27%)             \rTotal of 28 of 100 iterations completed! (28%)             \rTotal of 29 of 100 iterations completed! (29%)             \rTotal of 30 of 100 iterations completed! (30%)             \rTotal of 31 of 100 iterations completed! (31%)             \rTotal of 32 of 100 iterations completed! (32%)             \rTotal of 33 of 100 iterations completed! (33%)             \rTotal of 34 of 100 iterations completed! (34%)             \rTotal of 35 of 100 iterations completed! (35%)             \rTotal of 36 of 100 iterations completed! (36%)             \rTotal of 37 of 100 iterations completed! (37%)             \rTotal of 38 of 100 iterations completed! (38%)             \rTotal of 39 of 100 iterations completed! (39%)             \rTotal of 40 of 100 iterations completed! (40%)             \rTotal of 41 of 100 iterations completed! (41%)             \rTotal of 42 of 100 iterations completed! (42%)             \rTotal of 43 of 100 iterations completed! (43%)             \rTotal of 44 of 100 iterations completed! (44%)             \rTotal of 45 of 100 iterations completed! (45%)             \rTotal of 46 of 100 iterations completed! (46%)             \rTotal of 47 of 100 iterations completed! (47%)             \rTotal of 48 of 100 iterations completed! (48%)             \rTotal of 49 of 100 iterations completed! (49%)             \rTotal of 50 of 100 iterations completed! (50%)             \rTotal of 51 of 100 iterations completed! (51%)             \rTotal of 52 of 100 iterations completed! (52%)             \rTotal of 53 of 100 iterations completed! (53%)             \rTotal of 54 of 100 iterations completed! (54%)             \rTotal of 55 of 100 iterations completed! (55%)             \rTotal of 56 of 100 iterations completed! (56%)             \rTotal of 57 of 100 iterations completed! (57%)             \rTotal of 58 of 100 iterations completed! (58%)             \rTotal of 59 of 100 iterations completed! (59%)             \rTotal of 60 of 100 iterations completed! (60%)             \rTotal of 61 of 100 iterations completed! (61%)             \rTotal of 62 of 100 iterations completed! (62%)             \rTotal of 63 of 100 iterations completed! (63%)             \rTotal of 64 of 100 iterations completed! (64%)             \rTotal of 65 of 100 iterations completed! (65%)             \rTotal of 66 of 100 iterations completed! (66%)             \rTotal of 67 of 100 iterations completed! (67%)             \rTotal of 68 of 100 iterations completed! (68%)             \rTotal of 69 of 100 iterations completed! (69%)             \rTotal of 70 of 100 iterations completed! (70%)             \rTotal of 71 of 100 iterations completed! (71%)             \rTotal of 72 of 100 iterations completed! (72%)             \rTotal of 73 of 100 iterations completed! (73%)             \rTotal of 74 of 100 iterations completed! (74%)             \rTotal of 75 of 100 iterations completed! (75%)             \rTotal of 76 of 100 iterations completed! (76%)             \rTotal of 77 of 100 iterations completed! (77%)             \rTotal of 78 of 100 iterations completed! (78%)             \rTotal of 79 of 100 iterations completed! (79%)             \rTotal of 80 of 100 iterations completed! (80%)             \rTotal of 81 of 100 iterations completed! (81%)             \rTotal of 82 of 100 iterations completed! (82%)             \rTotal of 83 of 100 iterations completed! (83%)             \rTotal of 84 of 100 iterations completed! (84%)             \rTotal of 85 of 100 iterations completed! (85%)             \rTotal of 86 of 100 iterations completed! (86%)             \rTotal of 87 of 100 iterations completed! (87%)             \rTotal of 88 of 100 iterations completed! (88%)             \rTotal of 89 of 100 iterations completed! (89%)             \rTotal of 90 of 100 iterations completed! (90%)             \rTotal of 91 of 100 iterations completed! (91%)             \rTotal of 92 of 100 iterations completed! (92%)             \rTotal of 93 of 100 iterations completed! (93%)             \rTotal of 94 of 100 iterations completed! (94%)             \rTotal of 95 of 100 iterations completed! (95%)             \rTotal of 96 of 100 iterations completed! (96%)             \rTotal of 97 of 100 iterations completed! (97%)             \rTotal of 98 of 100 iterations completed! (98%)             \rTotal of 99 of 100 iterations completed! (99%)             \rTotal of 100 of 100 iterations completed! (100%)             \rfitting treatment model via method 'bart'\n"
          ]
        },
        {
          "metadata": {
            "tags": null
          },
          "name": "stderr",
          "output_type": "stream",
          "text": [
            "Warning message in bartc(Y[, 1], Z, X, p.scoreAsCovariate = F, n.chains = 1, n.threads = 1, :\n",
            "“for response method 'bart', propensity score not used unless included as covariate”\n"
          ]
        },
        {
          "metadata": {
            "tags": null
          },
          "name": "stdout",
          "output_type": "stream",
          "text": [
            "fitting response model via method 'bart'\n",
            "fitting treatment model via method 'bart'\n"
          ]
        },
        {
          "metadata": {
            "tags": null
          },
          "name": "stderr",
          "output_type": "stream",
          "text": [
            "Warning message in bartc(Y[, 2], Z, X, p.scoreAsCovariate = F, n.chains = 1, n.threads = 1, :\n",
            "“for response method 'bart', propensity score not used unless included as covariate”\n"
          ]
        },
        {
          "metadata": {
            "tags": null
          },
          "name": "stdout",
          "output_type": "stream",
          "text": [
            "fitting response model via method 'bart'\n",
            "\rFinishing iteration 100 of 100"
          ]
        },
        {
          "metadata": {
            "tags": null
          },
          "name": "stderr",
          "output_type": "stream",
          "text": [
            "Warning message in validateXTest(test, attr(x, \"term.labels\"), ncol(x), colnames(x), :\n",
            "“column names of 'test' does not equal that of 'x': 'X1, X2, X3, X4, X5, X6, X7, X8, X9, X10'; match will be made by position”\n"
          ]
        },
        {
          "metadata": {
            "tags": null
          },
          "name": "stdout",
          "output_type": "stream",
          "text": [
            "Total of 1 of 100 iterations completed! (1%)             \rTotal of 2 of 100 iterations completed! (2%)             \rTotal of 3 of 100 iterations completed! (3%)             \rTotal of 4 of 100 iterations completed! (4%)             \rTotal of 5 of 100 iterations completed! (5%)             \rTotal of 6 of 100 iterations completed! (6%)             \rTotal of 7 of 100 iterations completed! (7%)             \rTotal of 8 of 100 iterations completed! (8%)             \rTotal of 9 of 100 iterations completed! (9%)             \rTotal of 10 of 100 iterations completed! (10%)             \rTotal of 11 of 100 iterations completed! (11%)             \rTotal of 12 of 100 iterations completed! (12%)             \rTotal of 13 of 100 iterations completed! (13%)             \rTotal of 14 of 100 iterations completed! (14%)             \rTotal of 15 of 100 iterations completed! (15%)             \rTotal of 16 of 100 iterations completed! (16%)             \rTotal of 17 of 100 iterations completed! (17%)             \rTotal of 18 of 100 iterations completed! (18%)             \rTotal of 19 of 100 iterations completed! (19%)             \rTotal of 20 of 100 iterations completed! (20%)             \rTotal of 21 of 100 iterations completed! (21%)             \rTotal of 22 of 100 iterations completed! (22%)             \rTotal of 23 of 100 iterations completed! (23%)             \rTotal of 24 of 100 iterations completed! (24%)             \rTotal of 25 of 100 iterations completed! (25%)             \rTotal of 26 of 100 iterations completed! (26%)             \rTotal of 27 of 100 iterations completed! (27%)             \rTotal of 28 of 100 iterations completed! (28%)             \rTotal of 29 of 100 iterations completed! (29%)             \rTotal of 30 of 100 iterations completed! (30%)             \rTotal of 31 of 100 iterations completed! (31%)             \rTotal of 32 of 100 iterations completed! (32%)             \rTotal of 33 of 100 iterations completed! (33%)             \rTotal of 34 of 100 iterations completed! (34%)             \rTotal of 35 of 100 iterations completed! (35%)             \rTotal of 36 of 100 iterations completed! (36%)             \rTotal of 37 of 100 iterations completed! (37%)             \rTotal of 38 of 100 iterations completed! (38%)             \rTotal of 39 of 100 iterations completed! (39%)             \rTotal of 40 of 100 iterations completed! (40%)             \rTotal of 41 of 100 iterations completed! (41%)             \rTotal of 42 of 100 iterations completed! (42%)             \rTotal of 43 of 100 iterations completed! (43%)             \rTotal of 44 of 100 iterations completed! (44%)             \rTotal of 45 of 100 iterations completed! (45%)             \rTotal of 46 of 100 iterations completed! (46%)             \rTotal of 47 of 100 iterations completed! (47%)             \rTotal of 48 of 100 iterations completed! (48%)             \rTotal of 49 of 100 iterations completed! (49%)             \rTotal of 50 of 100 iterations completed! (50%)             \rTotal of 51 of 100 iterations completed! (51%)             \rTotal of 52 of 100 iterations completed! (52%)             \rTotal of 53 of 100 iterations completed! (53%)             \rTotal of 54 of 100 iterations completed! (54%)             \rTotal of 55 of 100 iterations completed! (55%)             \rTotal of 56 of 100 iterations completed! (56%)             \rTotal of 57 of 100 iterations completed! (57%)             \rTotal of 58 of 100 iterations completed! (58%)             \rTotal of 59 of 100 iterations completed! (59%)             \rTotal of 60 of 100 iterations completed! (60%)             \rTotal of 61 of 100 iterations completed! (61%)             \rTotal of 62 of 100 iterations completed! (62%)             \rTotal of 63 of 100 iterations completed! (63%)             \rTotal of 64 of 100 iterations completed! (64%)             \rTotal of 65 of 100 iterations completed! (65%)             \rTotal of 66 of 100 iterations completed! (66%)             \rTotal of 67 of 100 iterations completed! (67%)             \rTotal of 68 of 100 iterations completed! (68%)             \rTotal of 69 of 100 iterations completed! (69%)             \rTotal of 70 of 100 iterations completed! (70%)             \rTotal of 71 of 100 iterations completed! (71%)             \rTotal of 72 of 100 iterations completed! (72%)             \rTotal of 73 of 100 iterations completed! (73%)             \rTotal of 74 of 100 iterations completed! (74%)             \rTotal of 75 of 100 iterations completed! (75%)             \rTotal of 76 of 100 iterations completed! (76%)             \rTotal of 77 of 100 iterations completed! (77%)             \rTotal of 78 of 100 iterations completed! (78%)             \rTotal of 79 of 100 iterations completed! (79%)             \rTotal of 80 of 100 iterations completed! (80%)             \rTotal of 81 of 100 iterations completed! (81%)             \rTotal of 82 of 100 iterations completed! (82%)             \rTotal of 83 of 100 iterations completed! (83%)             \rTotal of 84 of 100 iterations completed! (84%)             \rTotal of 85 of 100 iterations completed! (85%)             \rTotal of 86 of 100 iterations completed! (86%)             \rTotal of 87 of 100 iterations completed! (87%)             \rTotal of 88 of 100 iterations completed! (88%)             \rTotal of 89 of 100 iterations completed! (89%)             \rTotal of 90 of 100 iterations completed! (90%)             \rTotal of 91 of 100 iterations completed! (91%)             \rTotal of 92 of 100 iterations completed! (92%)             \rTotal of 93 of 100 iterations completed! (93%)             \rTotal of 94 of 100 iterations completed! (94%)             \rTotal of 95 of 100 iterations completed! (95%)             \rTotal of 96 of 100 iterations completed! (96%)             \rTotal of 97 of 100 iterations completed! (97%)             \rTotal of 98 of 100 iterations completed! (98%)             \rTotal of 99 of 100 iterations completed! (99%)             \rTotal of 100 of 100 iterations completed! (100%)             \rfitting treatment model via method 'bart'\n"
          ]
        },
        {
          "metadata": {
            "tags": null
          },
          "name": "stderr",
          "output_type": "stream",
          "text": [
            "Warning message in bartc(Y[, 1], Z, X, p.scoreAsCovariate = F, n.chains = 1, n.threads = 1, :\n",
            "“for response method 'bart', propensity score not used unless included as covariate”\n"
          ]
        },
        {
          "metadata": {
            "tags": null
          },
          "name": "stdout",
          "output_type": "stream",
          "text": [
            "fitting response model via method 'bart'\n",
            "fitting treatment model via method 'bart'\n"
          ]
        },
        {
          "metadata": {
            "tags": null
          },
          "name": "stderr",
          "output_type": "stream",
          "text": [
            "Warning message in bartc(Y[, 2], Z, X, p.scoreAsCovariate = F, n.chains = 1, n.threads = 1, :\n",
            "“for response method 'bart', propensity score not used unless included as covariate”\n"
          ]
        },
        {
          "metadata": {
            "tags": null
          },
          "name": "stdout",
          "output_type": "stream",
          "text": [
            "fitting response model via method 'bart'\n",
            "\rFinishing iteration 100 of 100"
          ]
        },
        {
          "metadata": {
            "tags": null
          },
          "name": "stderr",
          "output_type": "stream",
          "text": [
            "Warning message in validateXTest(test, attr(x, \"term.labels\"), ncol(x), colnames(x), :\n",
            "“column names of 'test' does not equal that of 'x': 'X1, X2, X3, X4, X5, X6, X7, X8, X9, X10'; match will be made by position”\n"
          ]
        },
        {
          "metadata": {
            "tags": null
          },
          "name": "stdout",
          "output_type": "stream",
          "text": [
            "Total of 1 of 100 iterations completed! (1%)             \rTotal of 2 of 100 iterations completed! (2%)             \rTotal of 3 of 100 iterations completed! (3%)             \rTotal of 4 of 100 iterations completed! (4%)             \rTotal of 5 of 100 iterations completed! (5%)             \rTotal of 6 of 100 iterations completed! (6%)             \rTotal of 7 of 100 iterations completed! (7%)             \rTotal of 8 of 100 iterations completed! (8%)             \rTotal of 9 of 100 iterations completed! (9%)             \rTotal of 10 of 100 iterations completed! (10%)             \rTotal of 11 of 100 iterations completed! (11%)             \rTotal of 12 of 100 iterations completed! (12%)             \rTotal of 13 of 100 iterations completed! (13%)             \rTotal of 14 of 100 iterations completed! (14%)             \rTotal of 15 of 100 iterations completed! (15%)             \rTotal of 16 of 100 iterations completed! (16%)             \rTotal of 17 of 100 iterations completed! (17%)             \rTotal of 18 of 100 iterations completed! (18%)             \rTotal of 19 of 100 iterations completed! (19%)             \rTotal of 20 of 100 iterations completed! (20%)             \rTotal of 21 of 100 iterations completed! (21%)             \rTotal of 22 of 100 iterations completed! (22%)             \rTotal of 23 of 100 iterations completed! (23%)             \rTotal of 24 of 100 iterations completed! (24%)             \rTotal of 25 of 100 iterations completed! (25%)             \rTotal of 26 of 100 iterations completed! (26%)             \rTotal of 27 of 100 iterations completed! (27%)             \rTotal of 28 of 100 iterations completed! (28%)             \rTotal of 29 of 100 iterations completed! (29%)             \rTotal of 30 of 100 iterations completed! (30%)             \rTotal of 31 of 100 iterations completed! (31%)             \rTotal of 32 of 100 iterations completed! (32%)             \rTotal of 33 of 100 iterations completed! (33%)             \rTotal of 34 of 100 iterations completed! (34%)             \rTotal of 35 of 100 iterations completed! (35%)             \rTotal of 36 of 100 iterations completed! (36%)             \rTotal of 37 of 100 iterations completed! (37%)             \rTotal of 38 of 100 iterations completed! (38%)             \rTotal of 39 of 100 iterations completed! (39%)             \rTotal of 40 of 100 iterations completed! (40%)             \rTotal of 41 of 100 iterations completed! (41%)             \rTotal of 42 of 100 iterations completed! (42%)             \rTotal of 43 of 100 iterations completed! (43%)             \rTotal of 44 of 100 iterations completed! (44%)             \rTotal of 45 of 100 iterations completed! (45%)             \rTotal of 46 of 100 iterations completed! (46%)             \rTotal of 47 of 100 iterations completed! (47%)             \rTotal of 48 of 100 iterations completed! (48%)             \rTotal of 49 of 100 iterations completed! (49%)             \rTotal of 50 of 100 iterations completed! (50%)             \rTotal of 51 of 100 iterations completed! (51%)             \rTotal of 52 of 100 iterations completed! (52%)             \rTotal of 53 of 100 iterations completed! (53%)             \rTotal of 54 of 100 iterations completed! (54%)             \rTotal of 55 of 100 iterations completed! (55%)             \rTotal of 56 of 100 iterations completed! (56%)             \rTotal of 57 of 100 iterations completed! (57%)             \rTotal of 58 of 100 iterations completed! (58%)             \rTotal of 59 of 100 iterations completed! (59%)             \rTotal of 60 of 100 iterations completed! (60%)             \rTotal of 61 of 100 iterations completed! (61%)             \rTotal of 62 of 100 iterations completed! (62%)             \rTotal of 63 of 100 iterations completed! (63%)             \rTotal of 64 of 100 iterations completed! (64%)             \rTotal of 65 of 100 iterations completed! (65%)             \rTotal of 66 of 100 iterations completed! (66%)             \rTotal of 67 of 100 iterations completed! (67%)             \rTotal of 68 of 100 iterations completed! (68%)             \rTotal of 69 of 100 iterations completed! (69%)             \rTotal of 70 of 100 iterations completed! (70%)             \rTotal of 71 of 100 iterations completed! (71%)             \rTotal of 72 of 100 iterations completed! (72%)             \rTotal of 73 of 100 iterations completed! (73%)             \rTotal of 74 of 100 iterations completed! (74%)             \rTotal of 75 of 100 iterations completed! (75%)             \rTotal of 76 of 100 iterations completed! (76%)             \rTotal of 77 of 100 iterations completed! (77%)             \rTotal of 78 of 100 iterations completed! (78%)             \rTotal of 79 of 100 iterations completed! (79%)             \rTotal of 80 of 100 iterations completed! (80%)             \rTotal of 81 of 100 iterations completed! (81%)             \rTotal of 82 of 100 iterations completed! (82%)             \rTotal of 83 of 100 iterations completed! (83%)             \rTotal of 84 of 100 iterations completed! (84%)             \rTotal of 85 of 100 iterations completed! (85%)             \rTotal of 86 of 100 iterations completed! (86%)             \rTotal of 87 of 100 iterations completed! (87%)             \rTotal of 88 of 100 iterations completed! (88%)             \rTotal of 89 of 100 iterations completed! (89%)             \rTotal of 90 of 100 iterations completed! (90%)             \rTotal of 91 of 100 iterations completed! (91%)             \rTotal of 92 of 100 iterations completed! (92%)             \rTotal of 93 of 100 iterations completed! (93%)             \rTotal of 94 of 100 iterations completed! (94%)             \rTotal of 95 of 100 iterations completed! (95%)             \rTotal of 96 of 100 iterations completed! (96%)             \rTotal of 97 of 100 iterations completed! (97%)             \rTotal of 98 of 100 iterations completed! (98%)             \rTotal of 99 of 100 iterations completed! (99%)             \rTotal of 100 of 100 iterations completed! (100%)             \rfitting treatment model via method 'bart'\n"
          ]
        },
        {
          "metadata": {
            "tags": null
          },
          "name": "stderr",
          "output_type": "stream",
          "text": [
            "Warning message in bartc(Y[, 1], Z, X, p.scoreAsCovariate = F, n.chains = 1, n.threads = 1, :\n",
            "“for response method 'bart', propensity score not used unless included as covariate”\n"
          ]
        },
        {
          "metadata": {
            "tags": null
          },
          "name": "stdout",
          "output_type": "stream",
          "text": [
            "fitting response model via method 'bart'\n",
            "fitting treatment model via method 'bart'\n"
          ]
        },
        {
          "metadata": {
            "tags": null
          },
          "name": "stderr",
          "output_type": "stream",
          "text": [
            "Warning message in bartc(Y[, 2], Z, X, p.scoreAsCovariate = F, n.chains = 1, n.threads = 1, :\n",
            "“for response method 'bart', propensity score not used unless included as covariate”\n"
          ]
        },
        {
          "metadata": {
            "tags": null
          },
          "name": "stdout",
          "output_type": "stream",
          "text": [
            "fitting response model via method 'bart'\n",
            "\rFinishing iteration 100 of 100"
          ]
        },
        {
          "metadata": {
            "tags": null
          },
          "name": "stderr",
          "output_type": "stream",
          "text": [
            "Warning message in validateXTest(test, attr(x, \"term.labels\"), ncol(x), colnames(x), :\n",
            "“column names of 'test' does not equal that of 'x': 'X1, X2, X3, X4, X5, X6, X7, X8, X9, X10'; match will be made by position”\n"
          ]
        },
        {
          "metadata": {
            "tags": null
          },
          "name": "stdout",
          "output_type": "stream",
          "text": [
            "Total of 1 of 100 iterations completed! (1%)             \rTotal of 2 of 100 iterations completed! (2%)             \rTotal of 3 of 100 iterations completed! (3%)             \rTotal of 4 of 100 iterations completed! (4%)             \rTotal of 5 of 100 iterations completed! (5%)             \rTotal of 6 of 100 iterations completed! (6%)             \rTotal of 7 of 100 iterations completed! (7%)             \rTotal of 8 of 100 iterations completed! (8%)             \rTotal of 9 of 100 iterations completed! (9%)             \rTotal of 10 of 100 iterations completed! (10%)             \rTotal of 11 of 100 iterations completed! (11%)             \rTotal of 12 of 100 iterations completed! (12%)             \rTotal of 13 of 100 iterations completed! (13%)             \rTotal of 14 of 100 iterations completed! (14%)             \rTotal of 15 of 100 iterations completed! (15%)             \rTotal of 16 of 100 iterations completed! (16%)             \rTotal of 17 of 100 iterations completed! (17%)             \rTotal of 18 of 100 iterations completed! (18%)             \rTotal of 19 of 100 iterations completed! (19%)             \rTotal of 20 of 100 iterations completed! (20%)             \rTotal of 21 of 100 iterations completed! (21%)             \rTotal of 22 of 100 iterations completed! (22%)             \rTotal of 23 of 100 iterations completed! (23%)             \rTotal of 24 of 100 iterations completed! (24%)             \rTotal of 25 of 100 iterations completed! (25%)             \rTotal of 26 of 100 iterations completed! (26%)             \rTotal of 27 of 100 iterations completed! (27%)             \rTotal of 28 of 100 iterations completed! (28%)             \rTotal of 29 of 100 iterations completed! (29%)             \rTotal of 30 of 100 iterations completed! (30%)             \rTotal of 31 of 100 iterations completed! (31%)             \rTotal of 32 of 100 iterations completed! (32%)             \rTotal of 33 of 100 iterations completed! (33%)             \rTotal of 34 of 100 iterations completed! (34%)             \rTotal of 35 of 100 iterations completed! (35%)             \rTotal of 36 of 100 iterations completed! (36%)             \rTotal of 37 of 100 iterations completed! (37%)             \rTotal of 38 of 100 iterations completed! (38%)             \rTotal of 39 of 100 iterations completed! (39%)             \rTotal of 40 of 100 iterations completed! (40%)             \rTotal of 41 of 100 iterations completed! (41%)             \rTotal of 42 of 100 iterations completed! (42%)             \rTotal of 43 of 100 iterations completed! (43%)             \rTotal of 44 of 100 iterations completed! (44%)             \rTotal of 45 of 100 iterations completed! (45%)             \rTotal of 46 of 100 iterations completed! (46%)             \rTotal of 47 of 100 iterations completed! (47%)             \rTotal of 48 of 100 iterations completed! (48%)             \rTotal of 49 of 100 iterations completed! (49%)             \rTotal of 50 of 100 iterations completed! (50%)             \rTotal of 51 of 100 iterations completed! (51%)             \rTotal of 52 of 100 iterations completed! (52%)             \rTotal of 53 of 100 iterations completed! (53%)             \rTotal of 54 of 100 iterations completed! (54%)             \rTotal of 55 of 100 iterations completed! (55%)             \rTotal of 56 of 100 iterations completed! (56%)             \rTotal of 57 of 100 iterations completed! (57%)             \rTotal of 58 of 100 iterations completed! (58%)             \rTotal of 59 of 100 iterations completed! (59%)             \rTotal of 60 of 100 iterations completed! (60%)             \rTotal of 61 of 100 iterations completed! (61%)             \rTotal of 62 of 100 iterations completed! (62%)             \rTotal of 63 of 100 iterations completed! (63%)             \rTotal of 64 of 100 iterations completed! (64%)             \rTotal of 65 of 100 iterations completed! (65%)             \rTotal of 66 of 100 iterations completed! (66%)             \rTotal of 67 of 100 iterations completed! (67%)             \rTotal of 68 of 100 iterations completed! (68%)             \rTotal of 69 of 100 iterations completed! (69%)             \rTotal of 70 of 100 iterations completed! (70%)             \rTotal of 71 of 100 iterations completed! (71%)             \rTotal of 72 of 100 iterations completed! (72%)             \rTotal of 73 of 100 iterations completed! (73%)             \rTotal of 74 of 100 iterations completed! (74%)             \rTotal of 75 of 100 iterations completed! (75%)             \rTotal of 76 of 100 iterations completed! (76%)             \rTotal of 77 of 100 iterations completed! (77%)             \rTotal of 78 of 100 iterations completed! (78%)             \rTotal of 79 of 100 iterations completed! (79%)             \rTotal of 80 of 100 iterations completed! (80%)             \rTotal of 81 of 100 iterations completed! (81%)             \rTotal of 82 of 100 iterations completed! (82%)             \rTotal of 83 of 100 iterations completed! (83%)             \rTotal of 84 of 100 iterations completed! (84%)             \rTotal of 85 of 100 iterations completed! (85%)             \rTotal of 86 of 100 iterations completed! (86%)             \rTotal of 87 of 100 iterations completed! (87%)             \rTotal of 88 of 100 iterations completed! (88%)             \rTotal of 89 of 100 iterations completed! (89%)             \rTotal of 90 of 100 iterations completed! (90%)             \rTotal of 91 of 100 iterations completed! (91%)             \rTotal of 92 of 100 iterations completed! (92%)             \rTotal of 93 of 100 iterations completed! (93%)             \rTotal of 94 of 100 iterations completed! (94%)             \rTotal of 95 of 100 iterations completed! (95%)             \rTotal of 96 of 100 iterations completed! (96%)             \rTotal of 97 of 100 iterations completed! (97%)             \rTotal of 98 of 100 iterations completed! (98%)             \rTotal of 99 of 100 iterations completed! (99%)             \rTotal of 100 of 100 iterations completed! (100%)             \rfitting treatment model via method 'bart'\n"
          ]
        },
        {
          "metadata": {
            "tags": null
          },
          "name": "stderr",
          "output_type": "stream",
          "text": [
            "Warning message in bartc(Y[, 1], Z, X, p.scoreAsCovariate = F, n.chains = 1, n.threads = 1, :\n",
            "“for response method 'bart', propensity score not used unless included as covariate”\n"
          ]
        },
        {
          "metadata": {
            "tags": null
          },
          "name": "stdout",
          "output_type": "stream",
          "text": [
            "fitting response model via method 'bart'\n",
            "fitting treatment model via method 'bart'\n"
          ]
        },
        {
          "metadata": {
            "tags": null
          },
          "name": "stderr",
          "output_type": "stream",
          "text": [
            "Warning message in bartc(Y[, 2], Z, X, p.scoreAsCovariate = F, n.chains = 1, n.threads = 1, :\n",
            "“for response method 'bart', propensity score not used unless included as covariate”\n"
          ]
        },
        {
          "metadata": {
            "tags": null
          },
          "name": "stdout",
          "output_type": "stream",
          "text": [
            "fitting response model via method 'bart'\n",
            "\rFinishing iteration 100 of 100\n",
            "After 70 simulations:\n",
            "Comparison 1: Power = 0.9109, p-value = 0.3193, adjusted p-value = 0.3193\n",
            "Comparison 2: Power = 0.7677, p-value = 0.0036, adjusted p-value = 0.0093\n",
            "Comparison 3: Power = 0.5196, p-value = 0.0031, adjusted p-value = 0.0093\n",
            "Comparison 4: Power = 0.5033, p-value = 0.0001, adjusted p-value = 0.0002\n",
            "Minimum power: 0.503297 \n",
            "\n",
            "Iteration 7: Running batch of 10 simulations (total will be 80)...\n"
          ]
        },
        {
          "metadata": {
            "tags": null
          },
          "name": "stderr",
          "output_type": "stream",
          "text": [
            "Warning message in validateXTest(test, attr(x, \"term.labels\"), ncol(x), colnames(x), :\n",
            "“column names of 'test' does not equal that of 'x': 'X1, X2, X3, X4, X5, X6, X7, X8, X9, X10'; match will be made by position”\n"
          ]
        },
        {
          "metadata": {
            "tags": null
          },
          "name": "stdout",
          "output_type": "stream",
          "text": [
            "Total of 1 of 100 iterations completed! (1%)             \rTotal of 2 of 100 iterations completed! (2%)             \rTotal of 3 of 100 iterations completed! (3%)             \rTotal of 4 of 100 iterations completed! (4%)             \rTotal of 5 of 100 iterations completed! (5%)             \rTotal of 6 of 100 iterations completed! (6%)             \rTotal of 7 of 100 iterations completed! (7%)             \rTotal of 8 of 100 iterations completed! (8%)             \rTotal of 9 of 100 iterations completed! (9%)             \rTotal of 10 of 100 iterations completed! (10%)             \rTotal of 11 of 100 iterations completed! (11%)             \rTotal of 12 of 100 iterations completed! (12%)             \rTotal of 13 of 100 iterations completed! (13%)             \rTotal of 14 of 100 iterations completed! (14%)             \rTotal of 15 of 100 iterations completed! (15%)             \rTotal of 16 of 100 iterations completed! (16%)             \rTotal of 17 of 100 iterations completed! (17%)             \rTotal of 18 of 100 iterations completed! (18%)             \rTotal of 19 of 100 iterations completed! (19%)             \rTotal of 20 of 100 iterations completed! (20%)             \rTotal of 21 of 100 iterations completed! (21%)             \rTotal of 22 of 100 iterations completed! (22%)             \rTotal of 23 of 100 iterations completed! (23%)             \rTotal of 24 of 100 iterations completed! (24%)             \rTotal of 25 of 100 iterations completed! (25%)             \rTotal of 26 of 100 iterations completed! (26%)             \rTotal of 27 of 100 iterations completed! (27%)             \rTotal of 28 of 100 iterations completed! (28%)             \rTotal of 29 of 100 iterations completed! (29%)             \rTotal of 30 of 100 iterations completed! (30%)             \rTotal of 31 of 100 iterations completed! (31%)             \rTotal of 32 of 100 iterations completed! (32%)             \rTotal of 33 of 100 iterations completed! (33%)             \rTotal of 34 of 100 iterations completed! (34%)             \rTotal of 35 of 100 iterations completed! (35%)             \rTotal of 36 of 100 iterations completed! (36%)             \rTotal of 37 of 100 iterations completed! (37%)             \rTotal of 38 of 100 iterations completed! (38%)             \rTotal of 39 of 100 iterations completed! (39%)             \rTotal of 40 of 100 iterations completed! (40%)             \rTotal of 41 of 100 iterations completed! (41%)             \rTotal of 42 of 100 iterations completed! (42%)             \rTotal of 43 of 100 iterations completed! (43%)             \rTotal of 44 of 100 iterations completed! (44%)             \rTotal of 45 of 100 iterations completed! (45%)             \rTotal of 46 of 100 iterations completed! (46%)             \rTotal of 47 of 100 iterations completed! (47%)             \rTotal of 48 of 100 iterations completed! (48%)             \rTotal of 49 of 100 iterations completed! (49%)             \rTotal of 50 of 100 iterations completed! (50%)             \rTotal of 51 of 100 iterations completed! (51%)             \rTotal of 52 of 100 iterations completed! (52%)             \rTotal of 53 of 100 iterations completed! (53%)             \rTotal of 54 of 100 iterations completed! (54%)             \rTotal of 55 of 100 iterations completed! (55%)             \rTotal of 56 of 100 iterations completed! (56%)             \rTotal of 57 of 100 iterations completed! (57%)             \rTotal of 58 of 100 iterations completed! (58%)             \rTotal of 59 of 100 iterations completed! (59%)             \rTotal of 60 of 100 iterations completed! (60%)             \rTotal of 61 of 100 iterations completed! (61%)             \rTotal of 62 of 100 iterations completed! (62%)             \rTotal of 63 of 100 iterations completed! (63%)             \rTotal of 64 of 100 iterations completed! (64%)             \rTotal of 65 of 100 iterations completed! (65%)             \rTotal of 66 of 100 iterations completed! (66%)             \rTotal of 67 of 100 iterations completed! (67%)             \rTotal of 68 of 100 iterations completed! (68%)             \rTotal of 69 of 100 iterations completed! (69%)             \rTotal of 70 of 100 iterations completed! (70%)             \rTotal of 71 of 100 iterations completed! (71%)             \rTotal of 72 of 100 iterations completed! (72%)             \rTotal of 73 of 100 iterations completed! (73%)             \rTotal of 74 of 100 iterations completed! (74%)             \rTotal of 75 of 100 iterations completed! (75%)             \rTotal of 76 of 100 iterations completed! (76%)             \rTotal of 77 of 100 iterations completed! (77%)             \rTotal of 78 of 100 iterations completed! (78%)             \rTotal of 79 of 100 iterations completed! (79%)             \rTotal of 80 of 100 iterations completed! (80%)             \rTotal of 81 of 100 iterations completed! (81%)             \rTotal of 82 of 100 iterations completed! (82%)             \rTotal of 83 of 100 iterations completed! (83%)             \rTotal of 84 of 100 iterations completed! (84%)             \rTotal of 85 of 100 iterations completed! (85%)             \rTotal of 86 of 100 iterations completed! (86%)             \rTotal of 87 of 100 iterations completed! (87%)             \rTotal of 88 of 100 iterations completed! (88%)             \rTotal of 89 of 100 iterations completed! (89%)             \rTotal of 90 of 100 iterations completed! (90%)             \rTotal of 91 of 100 iterations completed! (91%)             \rTotal of 92 of 100 iterations completed! (92%)             \rTotal of 93 of 100 iterations completed! (93%)             \rTotal of 94 of 100 iterations completed! (94%)             \rTotal of 95 of 100 iterations completed! (95%)             \rTotal of 96 of 100 iterations completed! (96%)             \rTotal of 97 of 100 iterations completed! (97%)             \rTotal of 98 of 100 iterations completed! (98%)             \rTotal of 99 of 100 iterations completed! (99%)             \rTotal of 100 of 100 iterations completed! (100%)             \rfitting treatment model via method 'bart'\n"
          ]
        },
        {
          "metadata": {
            "tags": null
          },
          "name": "stderr",
          "output_type": "stream",
          "text": [
            "Warning message in bartc(Y[, 1], Z, X, p.scoreAsCovariate = F, n.chains = 1, n.threads = 1, :\n",
            "“for response method 'bart', propensity score not used unless included as covariate”\n"
          ]
        },
        {
          "metadata": {
            "tags": null
          },
          "name": "stdout",
          "output_type": "stream",
          "text": [
            "fitting response model via method 'bart'\n",
            "fitting treatment model via method 'bart'\n"
          ]
        },
        {
          "metadata": {
            "tags": null
          },
          "name": "stderr",
          "output_type": "stream",
          "text": [
            "Warning message in bartc(Y[, 2], Z, X, p.scoreAsCovariate = F, n.chains = 1, n.threads = 1, :\n",
            "“for response method 'bart', propensity score not used unless included as covariate”\n"
          ]
        },
        {
          "metadata": {
            "tags": null
          },
          "name": "stdout",
          "output_type": "stream",
          "text": [
            "fitting response model via method 'bart'\n",
            "\rFinishing iteration 100 of 100"
          ]
        },
        {
          "metadata": {
            "tags": null
          },
          "name": "stderr",
          "output_type": "stream",
          "text": [
            "Warning message in validateXTest(test, attr(x, \"term.labels\"), ncol(x), colnames(x), :\n",
            "“column names of 'test' does not equal that of 'x': 'X1, X2, X3, X4, X5, X6, X7, X8, X9, X10'; match will be made by position”\n"
          ]
        },
        {
          "metadata": {
            "tags": null
          },
          "name": "stdout",
          "output_type": "stream",
          "text": [
            "Total of 1 of 100 iterations completed! (1%)             \rTotal of 2 of 100 iterations completed! (2%)             \rTotal of 3 of 100 iterations completed! (3%)             \rTotal of 4 of 100 iterations completed! (4%)             \rTotal of 5 of 100 iterations completed! (5%)             \rTotal of 6 of 100 iterations completed! (6%)             \rTotal of 7 of 100 iterations completed! (7%)             \rTotal of 8 of 100 iterations completed! (8%)             \rTotal of 9 of 100 iterations completed! (9%)             \rTotal of 10 of 100 iterations completed! (10%)             \rTotal of 11 of 100 iterations completed! (11%)             \rTotal of 12 of 100 iterations completed! (12%)             \rTotal of 13 of 100 iterations completed! (13%)             \rTotal of 14 of 100 iterations completed! (14%)             \rTotal of 15 of 100 iterations completed! (15%)             \rTotal of 16 of 100 iterations completed! (16%)             \rTotal of 17 of 100 iterations completed! (17%)             \rTotal of 18 of 100 iterations completed! (18%)             \rTotal of 19 of 100 iterations completed! (19%)             \rTotal of 20 of 100 iterations completed! (20%)             \rTotal of 21 of 100 iterations completed! (21%)             \rTotal of 22 of 100 iterations completed! (22%)             \rTotal of 23 of 100 iterations completed! (23%)             \rTotal of 24 of 100 iterations completed! (24%)             \rTotal of 25 of 100 iterations completed! (25%)             \rTotal of 26 of 100 iterations completed! (26%)             \rTotal of 27 of 100 iterations completed! (27%)             \rTotal of 28 of 100 iterations completed! (28%)             \rTotal of 29 of 100 iterations completed! (29%)             \rTotal of 30 of 100 iterations completed! (30%)             \rTotal of 31 of 100 iterations completed! (31%)             \rTotal of 32 of 100 iterations completed! (32%)             \rTotal of 33 of 100 iterations completed! (33%)             \rTotal of 34 of 100 iterations completed! (34%)             \rTotal of 35 of 100 iterations completed! (35%)             \rTotal of 36 of 100 iterations completed! (36%)             \rTotal of 37 of 100 iterations completed! (37%)             \rTotal of 38 of 100 iterations completed! (38%)             \rTotal of 39 of 100 iterations completed! (39%)             \rTotal of 40 of 100 iterations completed! (40%)             \rTotal of 41 of 100 iterations completed! (41%)             \rTotal of 42 of 100 iterations completed! (42%)             \rTotal of 43 of 100 iterations completed! (43%)             \rTotal of 44 of 100 iterations completed! (44%)             \rTotal of 45 of 100 iterations completed! (45%)             \rTotal of 46 of 100 iterations completed! (46%)             \rTotal of 47 of 100 iterations completed! (47%)             \rTotal of 48 of 100 iterations completed! (48%)             \rTotal of 49 of 100 iterations completed! (49%)             \rTotal of 50 of 100 iterations completed! (50%)             \rTotal of 51 of 100 iterations completed! (51%)             \rTotal of 52 of 100 iterations completed! (52%)             \rTotal of 53 of 100 iterations completed! (53%)             \rTotal of 54 of 100 iterations completed! (54%)             \rTotal of 55 of 100 iterations completed! (55%)             \rTotal of 56 of 100 iterations completed! (56%)             \rTotal of 57 of 100 iterations completed! (57%)             \rTotal of 58 of 100 iterations completed! (58%)             \rTotal of 59 of 100 iterations completed! (59%)             \rTotal of 60 of 100 iterations completed! (60%)             \rTotal of 61 of 100 iterations completed! (61%)             \rTotal of 62 of 100 iterations completed! (62%)             \rTotal of 63 of 100 iterations completed! (63%)             \rTotal of 64 of 100 iterations completed! (64%)             \rTotal of 65 of 100 iterations completed! (65%)             \rTotal of 66 of 100 iterations completed! (66%)             \rTotal of 67 of 100 iterations completed! (67%)             \rTotal of 68 of 100 iterations completed! (68%)             \rTotal of 69 of 100 iterations completed! (69%)             \rTotal of 70 of 100 iterations completed! (70%)             \rTotal of 71 of 100 iterations completed! (71%)             \rTotal of 72 of 100 iterations completed! (72%)             \rTotal of 73 of 100 iterations completed! (73%)             \rTotal of 74 of 100 iterations completed! (74%)             \rTotal of 75 of 100 iterations completed! (75%)             \rTotal of 76 of 100 iterations completed! (76%)             \rTotal of 77 of 100 iterations completed! (77%)             \rTotal of 78 of 100 iterations completed! (78%)             \rTotal of 79 of 100 iterations completed! (79%)             \rTotal of 80 of 100 iterations completed! (80%)             \rTotal of 81 of 100 iterations completed! (81%)             \rTotal of 82 of 100 iterations completed! (82%)             \rTotal of 83 of 100 iterations completed! (83%)             \rTotal of 84 of 100 iterations completed! (84%)             \rTotal of 85 of 100 iterations completed! (85%)             \rTotal of 86 of 100 iterations completed! (86%)             \rTotal of 87 of 100 iterations completed! (87%)             \rTotal of 88 of 100 iterations completed! (88%)             \rTotal of 89 of 100 iterations completed! (89%)             \rTotal of 90 of 100 iterations completed! (90%)             \rTotal of 91 of 100 iterations completed! (91%)             \rTotal of 92 of 100 iterations completed! (92%)             \rTotal of 93 of 100 iterations completed! (93%)             \rTotal of 94 of 100 iterations completed! (94%)             \rTotal of 95 of 100 iterations completed! (95%)             \rTotal of 96 of 100 iterations completed! (96%)             \rTotal of 97 of 100 iterations completed! (97%)             \rTotal of 98 of 100 iterations completed! (98%)             \rTotal of 99 of 100 iterations completed! (99%)             \rTotal of 100 of 100 iterations completed! (100%)             \rfitting treatment model via method 'bart'\n"
          ]
        },
        {
          "metadata": {
            "tags": null
          },
          "name": "stderr",
          "output_type": "stream",
          "text": [
            "Warning message in bartc(Y[, 1], Z, X, p.scoreAsCovariate = F, n.chains = 1, n.threads = 1, :\n",
            "“for response method 'bart', propensity score not used unless included as covariate”\n"
          ]
        },
        {
          "metadata": {
            "tags": null
          },
          "name": "stdout",
          "output_type": "stream",
          "text": [
            "fitting response model via method 'bart'\n",
            "fitting treatment model via method 'bart'\n"
          ]
        },
        {
          "metadata": {
            "tags": null
          },
          "name": "stderr",
          "output_type": "stream",
          "text": [
            "Warning message in bartc(Y[, 2], Z, X, p.scoreAsCovariate = F, n.chains = 1, n.threads = 1, :\n",
            "“for response method 'bart', propensity score not used unless included as covariate”\n"
          ]
        },
        {
          "metadata": {
            "tags": null
          },
          "name": "stdout",
          "output_type": "stream",
          "text": [
            "fitting response model via method 'bart'\n",
            "\rFinishing iteration 100 of 100"
          ]
        },
        {
          "metadata": {
            "tags": null
          },
          "name": "stderr",
          "output_type": "stream",
          "text": [
            "Warning message in validateXTest(test, attr(x, \"term.labels\"), ncol(x), colnames(x), :\n",
            "“column names of 'test' does not equal that of 'x': 'X1, X2, X3, X4, X5, X6, X7, X8, X9, X10'; match will be made by position”\n"
          ]
        },
        {
          "metadata": {
            "tags": null
          },
          "name": "stdout",
          "output_type": "stream",
          "text": [
            "Total of 1 of 100 iterations completed! (1%)             \rTotal of 2 of 100 iterations completed! (2%)             \rTotal of 3 of 100 iterations completed! (3%)             \rTotal of 4 of 100 iterations completed! (4%)             \rTotal of 5 of 100 iterations completed! (5%)             \rTotal of 6 of 100 iterations completed! (6%)             \rTotal of 7 of 100 iterations completed! (7%)             \rTotal of 8 of 100 iterations completed! (8%)             \rTotal of 9 of 100 iterations completed! (9%)             \rTotal of 10 of 100 iterations completed! (10%)             \rTotal of 11 of 100 iterations completed! (11%)             \rTotal of 12 of 100 iterations completed! (12%)             \rTotal of 13 of 100 iterations completed! (13%)             \rTotal of 14 of 100 iterations completed! (14%)             \rTotal of 15 of 100 iterations completed! (15%)             \rTotal of 16 of 100 iterations completed! (16%)             \rTotal of 17 of 100 iterations completed! (17%)             \rTotal of 18 of 100 iterations completed! (18%)             \rTotal of 19 of 100 iterations completed! (19%)             \rTotal of 20 of 100 iterations completed! (20%)             \rTotal of 21 of 100 iterations completed! (21%)             \rTotal of 22 of 100 iterations completed! (22%)             \rTotal of 23 of 100 iterations completed! (23%)             \rTotal of 24 of 100 iterations completed! (24%)             \rTotal of 25 of 100 iterations completed! (25%)             \rTotal of 26 of 100 iterations completed! (26%)             \rTotal of 27 of 100 iterations completed! (27%)             \rTotal of 28 of 100 iterations completed! (28%)             \rTotal of 29 of 100 iterations completed! (29%)             \rTotal of 30 of 100 iterations completed! (30%)             \rTotal of 31 of 100 iterations completed! (31%)             \rTotal of 32 of 100 iterations completed! (32%)             \rTotal of 33 of 100 iterations completed! (33%)             \rTotal of 34 of 100 iterations completed! (34%)             \rTotal of 35 of 100 iterations completed! (35%)             \rTotal of 36 of 100 iterations completed! (36%)             \rTotal of 37 of 100 iterations completed! (37%)             \rTotal of 38 of 100 iterations completed! (38%)             \rTotal of 39 of 100 iterations completed! (39%)             \rTotal of 40 of 100 iterations completed! (40%)             \rTotal of 41 of 100 iterations completed! (41%)             \rTotal of 42 of 100 iterations completed! (42%)             \rTotal of 43 of 100 iterations completed! (43%)             \rTotal of 44 of 100 iterations completed! (44%)             \rTotal of 45 of 100 iterations completed! (45%)             \rTotal of 46 of 100 iterations completed! (46%)             \rTotal of 47 of 100 iterations completed! (47%)             \rTotal of 48 of 100 iterations completed! (48%)             \rTotal of 49 of 100 iterations completed! (49%)             \rTotal of 50 of 100 iterations completed! (50%)             \rTotal of 51 of 100 iterations completed! (51%)             \rTotal of 52 of 100 iterations completed! (52%)             \rTotal of 53 of 100 iterations completed! (53%)             \rTotal of 54 of 100 iterations completed! (54%)             \rTotal of 55 of 100 iterations completed! (55%)             \rTotal of 56 of 100 iterations completed! (56%)             \rTotal of 57 of 100 iterations completed! (57%)             \rTotal of 58 of 100 iterations completed! (58%)             \rTotal of 59 of 100 iterations completed! (59%)             \rTotal of 60 of 100 iterations completed! (60%)             \rTotal of 61 of 100 iterations completed! (61%)             \rTotal of 62 of 100 iterations completed! (62%)             \rTotal of 63 of 100 iterations completed! (63%)             \rTotal of 64 of 100 iterations completed! (64%)             \rTotal of 65 of 100 iterations completed! (65%)             \rTotal of 66 of 100 iterations completed! (66%)             \rTotal of 67 of 100 iterations completed! (67%)             \rTotal of 68 of 100 iterations completed! (68%)             \rTotal of 69 of 100 iterations completed! (69%)             \rTotal of 70 of 100 iterations completed! (70%)             \rTotal of 71 of 100 iterations completed! (71%)             \rTotal of 72 of 100 iterations completed! (72%)             \rTotal of 73 of 100 iterations completed! (73%)             \rTotal of 74 of 100 iterations completed! (74%)             \rTotal of 75 of 100 iterations completed! (75%)             \rTotal of 76 of 100 iterations completed! (76%)             \rTotal of 77 of 100 iterations completed! (77%)             \rTotal of 78 of 100 iterations completed! (78%)             \rTotal of 79 of 100 iterations completed! (79%)             \rTotal of 80 of 100 iterations completed! (80%)             \rTotal of 81 of 100 iterations completed! (81%)             \rTotal of 82 of 100 iterations completed! (82%)             \rTotal of 83 of 100 iterations completed! (83%)             \rTotal of 84 of 100 iterations completed! (84%)             \rTotal of 85 of 100 iterations completed! (85%)             \rTotal of 86 of 100 iterations completed! (86%)             \rTotal of 87 of 100 iterations completed! (87%)             \rTotal of 88 of 100 iterations completed! (88%)             \rTotal of 89 of 100 iterations completed! (89%)             \rTotal of 90 of 100 iterations completed! (90%)             \rTotal of 91 of 100 iterations completed! (91%)             \rTotal of 92 of 100 iterations completed! (92%)             \rTotal of 93 of 100 iterations completed! (93%)             \rTotal of 94 of 100 iterations completed! (94%)             \rTotal of 95 of 100 iterations completed! (95%)             \rTotal of 96 of 100 iterations completed! (96%)             \rTotal of 97 of 100 iterations completed! (97%)             \rTotal of 98 of 100 iterations completed! (98%)             \rTotal of 99 of 100 iterations completed! (99%)             \rTotal of 100 of 100 iterations completed! (100%)             \rfitting treatment model via method 'bart'\n"
          ]
        },
        {
          "metadata": {
            "tags": null
          },
          "name": "stderr",
          "output_type": "stream",
          "text": [
            "Warning message in bartc(Y[, 1], Z, X, p.scoreAsCovariate = F, n.chains = 1, n.threads = 1, :\n",
            "“for response method 'bart', propensity score not used unless included as covariate”\n"
          ]
        },
        {
          "metadata": {
            "tags": null
          },
          "name": "stdout",
          "output_type": "stream",
          "text": [
            "fitting response model via method 'bart'\n",
            "fitting treatment model via method 'bart'\n"
          ]
        },
        {
          "metadata": {
            "tags": null
          },
          "name": "stderr",
          "output_type": "stream",
          "text": [
            "Warning message in bartc(Y[, 2], Z, X, p.scoreAsCovariate = F, n.chains = 1, n.threads = 1, :\n",
            "“for response method 'bart', propensity score not used unless included as covariate”\n"
          ]
        },
        {
          "metadata": {
            "tags": null
          },
          "name": "stdout",
          "output_type": "stream",
          "text": [
            "fitting response model via method 'bart'\n",
            "\rFinishing iteration 100 of 100"
          ]
        },
        {
          "metadata": {
            "tags": null
          },
          "name": "stderr",
          "output_type": "stream",
          "text": [
            "Warning message in validateXTest(test, attr(x, \"term.labels\"), ncol(x), colnames(x), :\n",
            "“column names of 'test' does not equal that of 'x': 'X1, X2, X3, X4, X5, X6, X7, X8, X9, X10'; match will be made by position”\n"
          ]
        },
        {
          "metadata": {
            "tags": null
          },
          "name": "stdout",
          "output_type": "stream",
          "text": [
            "Total of 1 of 100 iterations completed! (1%)             \rTotal of 2 of 100 iterations completed! (2%)             \rTotal of 3 of 100 iterations completed! (3%)             \rTotal of 4 of 100 iterations completed! (4%)             \rTotal of 5 of 100 iterations completed! (5%)             \rTotal of 6 of 100 iterations completed! (6%)             \rTotal of 7 of 100 iterations completed! (7%)             \rTotal of 8 of 100 iterations completed! (8%)             \rTotal of 9 of 100 iterations completed! (9%)             \rTotal of 10 of 100 iterations completed! (10%)             \rTotal of 11 of 100 iterations completed! (11%)             \rTotal of 12 of 100 iterations completed! (12%)             \rTotal of 13 of 100 iterations completed! (13%)             \rTotal of 14 of 100 iterations completed! (14%)             \rTotal of 15 of 100 iterations completed! (15%)             \rTotal of 16 of 100 iterations completed! (16%)             \rTotal of 17 of 100 iterations completed! (17%)             \rTotal of 18 of 100 iterations completed! (18%)             \rTotal of 19 of 100 iterations completed! (19%)             \rTotal of 20 of 100 iterations completed! (20%)             \rTotal of 21 of 100 iterations completed! (21%)             \rTotal of 22 of 100 iterations completed! (22%)             \rTotal of 23 of 100 iterations completed! (23%)             \rTotal of 24 of 100 iterations completed! (24%)             \rTotal of 25 of 100 iterations completed! (25%)             \rTotal of 26 of 100 iterations completed! (26%)             \rTotal of 27 of 100 iterations completed! (27%)             \rTotal of 28 of 100 iterations completed! (28%)             \rTotal of 29 of 100 iterations completed! (29%)             \rTotal of 30 of 100 iterations completed! (30%)             \rTotal of 31 of 100 iterations completed! (31%)             \rTotal of 32 of 100 iterations completed! (32%)             \rTotal of 33 of 100 iterations completed! (33%)             \rTotal of 34 of 100 iterations completed! (34%)             \rTotal of 35 of 100 iterations completed! (35%)             \rTotal of 36 of 100 iterations completed! (36%)             \rTotal of 37 of 100 iterations completed! (37%)             \rTotal of 38 of 100 iterations completed! (38%)             \rTotal of 39 of 100 iterations completed! (39%)             \rTotal of 40 of 100 iterations completed! (40%)             \rTotal of 41 of 100 iterations completed! (41%)             \rTotal of 42 of 100 iterations completed! (42%)             \rTotal of 43 of 100 iterations completed! (43%)             \rTotal of 44 of 100 iterations completed! (44%)             \rTotal of 45 of 100 iterations completed! (45%)             \rTotal of 46 of 100 iterations completed! (46%)             \rTotal of 47 of 100 iterations completed! (47%)             \rTotal of 48 of 100 iterations completed! (48%)             \rTotal of 49 of 100 iterations completed! (49%)             \rTotal of 50 of 100 iterations completed! (50%)             \rTotal of 51 of 100 iterations completed! (51%)             \rTotal of 52 of 100 iterations completed! (52%)             \rTotal of 53 of 100 iterations completed! (53%)             \rTotal of 54 of 100 iterations completed! (54%)             \rTotal of 55 of 100 iterations completed! (55%)             \rTotal of 56 of 100 iterations completed! (56%)             \rTotal of 57 of 100 iterations completed! (57%)             \rTotal of 58 of 100 iterations completed! (58%)             \rTotal of 59 of 100 iterations completed! (59%)             \rTotal of 60 of 100 iterations completed! (60%)             \rTotal of 61 of 100 iterations completed! (61%)             \rTotal of 62 of 100 iterations completed! (62%)             \rTotal of 63 of 100 iterations completed! (63%)             \rTotal of 64 of 100 iterations completed! (64%)             \rTotal of 65 of 100 iterations completed! (65%)             \rTotal of 66 of 100 iterations completed! (66%)             \rTotal of 67 of 100 iterations completed! (67%)             \rTotal of 68 of 100 iterations completed! (68%)             \rTotal of 69 of 100 iterations completed! (69%)             \rTotal of 70 of 100 iterations completed! (70%)             \rTotal of 71 of 100 iterations completed! (71%)             \rTotal of 72 of 100 iterations completed! (72%)             \rTotal of 73 of 100 iterations completed! (73%)             \rTotal of 74 of 100 iterations completed! (74%)             \rTotal of 75 of 100 iterations completed! (75%)             \rTotal of 76 of 100 iterations completed! (76%)             \rTotal of 77 of 100 iterations completed! (77%)             \rTotal of 78 of 100 iterations completed! (78%)             \rTotal of 79 of 100 iterations completed! (79%)             \rTotal of 80 of 100 iterations completed! (80%)             \rTotal of 81 of 100 iterations completed! (81%)             \rTotal of 82 of 100 iterations completed! (82%)             \rTotal of 83 of 100 iterations completed! (83%)             \rTotal of 84 of 100 iterations completed! (84%)             \rTotal of 85 of 100 iterations completed! (85%)             \rTotal of 86 of 100 iterations completed! (86%)             \rTotal of 87 of 100 iterations completed! (87%)             \rTotal of 88 of 100 iterations completed! (88%)             \rTotal of 89 of 100 iterations completed! (89%)             \rTotal of 90 of 100 iterations completed! (90%)             \rTotal of 91 of 100 iterations completed! (91%)             \rTotal of 92 of 100 iterations completed! (92%)             \rTotal of 93 of 100 iterations completed! (93%)             \rTotal of 94 of 100 iterations completed! (94%)             \rTotal of 95 of 100 iterations completed! (95%)             \rTotal of 96 of 100 iterations completed! (96%)             \rTotal of 97 of 100 iterations completed! (97%)             \rTotal of 98 of 100 iterations completed! (98%)             \rTotal of 99 of 100 iterations completed! (99%)             \rTotal of 100 of 100 iterations completed! (100%)             \rfitting treatment model via method 'bart'\n"
          ]
        },
        {
          "metadata": {
            "tags": null
          },
          "name": "stderr",
          "output_type": "stream",
          "text": [
            "Warning message in bartc(Y[, 1], Z, X, p.scoreAsCovariate = F, n.chains = 1, n.threads = 1, :\n",
            "“for response method 'bart', propensity score not used unless included as covariate”\n"
          ]
        },
        {
          "metadata": {
            "tags": null
          },
          "name": "stdout",
          "output_type": "stream",
          "text": [
            "fitting response model via method 'bart'\n",
            "fitting treatment model via method 'bart'\n"
          ]
        },
        {
          "metadata": {
            "tags": null
          },
          "name": "stderr",
          "output_type": "stream",
          "text": [
            "Warning message in bartc(Y[, 2], Z, X, p.scoreAsCovariate = F, n.chains = 1, n.threads = 1, :\n",
            "“for response method 'bart', propensity score not used unless included as covariate”\n"
          ]
        },
        {
          "metadata": {
            "tags": null
          },
          "name": "stdout",
          "output_type": "stream",
          "text": [
            "fitting response model via method 'bart'\n",
            "\rFinishing iteration 100 of 100"
          ]
        },
        {
          "metadata": {
            "tags": null
          },
          "name": "stderr",
          "output_type": "stream",
          "text": [
            "Warning message in validateXTest(test, attr(x, \"term.labels\"), ncol(x), colnames(x), :\n",
            "“column names of 'test' does not equal that of 'x': 'X1, X2, X3, X4, X5, X6, X7, X8, X9, X10'; match will be made by position”\n"
          ]
        },
        {
          "metadata": {
            "tags": null
          },
          "name": "stdout",
          "output_type": "stream",
          "text": [
            "Total of 1 of 100 iterations completed! (1%)             \rTotal of 2 of 100 iterations completed! (2%)             \rTotal of 3 of 100 iterations completed! (3%)             \rTotal of 4 of 100 iterations completed! (4%)             \rTotal of 5 of 100 iterations completed! (5%)             \rTotal of 6 of 100 iterations completed! (6%)             \rTotal of 7 of 100 iterations completed! (7%)             \rTotal of 8 of 100 iterations completed! (8%)             \rTotal of 9 of 100 iterations completed! (9%)             \rTotal of 10 of 100 iterations completed! (10%)             \rTotal of 11 of 100 iterations completed! (11%)             \rTotal of 12 of 100 iterations completed! (12%)             \rTotal of 13 of 100 iterations completed! (13%)             \rTotal of 14 of 100 iterations completed! (14%)             \rTotal of 15 of 100 iterations completed! (15%)             \rTotal of 16 of 100 iterations completed! (16%)             \rTotal of 17 of 100 iterations completed! (17%)             \rTotal of 18 of 100 iterations completed! (18%)             \rTotal of 19 of 100 iterations completed! (19%)             \rTotal of 20 of 100 iterations completed! (20%)             \rTotal of 21 of 100 iterations completed! (21%)             \rTotal of 22 of 100 iterations completed! (22%)             \rTotal of 23 of 100 iterations completed! (23%)             \rTotal of 24 of 100 iterations completed! (24%)             \rTotal of 25 of 100 iterations completed! (25%)             \rTotal of 26 of 100 iterations completed! (26%)             \rTotal of 27 of 100 iterations completed! (27%)             \rTotal of 28 of 100 iterations completed! (28%)             \rTotal of 29 of 100 iterations completed! (29%)             \rTotal of 30 of 100 iterations completed! (30%)             \rTotal of 31 of 100 iterations completed! (31%)             \rTotal of 32 of 100 iterations completed! (32%)             \rTotal of 33 of 100 iterations completed! (33%)             \rTotal of 34 of 100 iterations completed! (34%)             \rTotal of 35 of 100 iterations completed! (35%)             \rTotal of 36 of 100 iterations completed! (36%)             \rTotal of 37 of 100 iterations completed! (37%)             \rTotal of 38 of 100 iterations completed! (38%)             \rTotal of 39 of 100 iterations completed! (39%)             \rTotal of 40 of 100 iterations completed! (40%)             \rTotal of 41 of 100 iterations completed! (41%)             \rTotal of 42 of 100 iterations completed! (42%)             \rTotal of 43 of 100 iterations completed! (43%)             \rTotal of 44 of 100 iterations completed! (44%)             \rTotal of 45 of 100 iterations completed! (45%)             \rTotal of 46 of 100 iterations completed! (46%)             \rTotal of 47 of 100 iterations completed! (47%)             \rTotal of 48 of 100 iterations completed! (48%)             \rTotal of 49 of 100 iterations completed! (49%)             \rTotal of 50 of 100 iterations completed! (50%)             \rTotal of 51 of 100 iterations completed! (51%)             \rTotal of 52 of 100 iterations completed! (52%)             \rTotal of 53 of 100 iterations completed! (53%)             \rTotal of 54 of 100 iterations completed! (54%)             \rTotal of 55 of 100 iterations completed! (55%)             \rTotal of 56 of 100 iterations completed! (56%)             \rTotal of 57 of 100 iterations completed! (57%)             \rTotal of 58 of 100 iterations completed! (58%)             \rTotal of 59 of 100 iterations completed! (59%)             \rTotal of 60 of 100 iterations completed! (60%)             \rTotal of 61 of 100 iterations completed! (61%)             \rTotal of 62 of 100 iterations completed! (62%)             \rTotal of 63 of 100 iterations completed! (63%)             \rTotal of 64 of 100 iterations completed! (64%)             \rTotal of 65 of 100 iterations completed! (65%)             \rTotal of 66 of 100 iterations completed! (66%)             \rTotal of 67 of 100 iterations completed! (67%)             \rTotal of 68 of 100 iterations completed! (68%)             \rTotal of 69 of 100 iterations completed! (69%)             \rTotal of 70 of 100 iterations completed! (70%)             \rTotal of 71 of 100 iterations completed! (71%)             \rTotal of 72 of 100 iterations completed! (72%)             \rTotal of 73 of 100 iterations completed! (73%)             \rTotal of 74 of 100 iterations completed! (74%)             \rTotal of 75 of 100 iterations completed! (75%)             \rTotal of 76 of 100 iterations completed! (76%)             \rTotal of 77 of 100 iterations completed! (77%)             \rTotal of 78 of 100 iterations completed! (78%)             \rTotal of 79 of 100 iterations completed! (79%)             \rTotal of 80 of 100 iterations completed! (80%)             \rTotal of 81 of 100 iterations completed! (81%)             \rTotal of 82 of 100 iterations completed! (82%)             \rTotal of 83 of 100 iterations completed! (83%)             \rTotal of 84 of 100 iterations completed! (84%)             \rTotal of 85 of 100 iterations completed! (85%)             \rTotal of 86 of 100 iterations completed! (86%)             \rTotal of 87 of 100 iterations completed! (87%)             \rTotal of 88 of 100 iterations completed! (88%)             \rTotal of 89 of 100 iterations completed! (89%)             \rTotal of 90 of 100 iterations completed! (90%)             \rTotal of 91 of 100 iterations completed! (91%)             \rTotal of 92 of 100 iterations completed! (92%)             \rTotal of 93 of 100 iterations completed! (93%)             \rTotal of 94 of 100 iterations completed! (94%)             \rTotal of 95 of 100 iterations completed! (95%)             \rTotal of 96 of 100 iterations completed! (96%)             \rTotal of 97 of 100 iterations completed! (97%)             \rTotal of 98 of 100 iterations completed! (98%)             \rTotal of 99 of 100 iterations completed! (99%)             \rTotal of 100 of 100 iterations completed! (100%)             \rfitting treatment model via method 'bart'\n"
          ]
        },
        {
          "metadata": {
            "tags": null
          },
          "name": "stderr",
          "output_type": "stream",
          "text": [
            "Warning message in bartc(Y[, 1], Z, X, p.scoreAsCovariate = F, n.chains = 1, n.threads = 1, :\n",
            "“for response method 'bart', propensity score not used unless included as covariate”\n"
          ]
        },
        {
          "metadata": {
            "tags": null
          },
          "name": "stdout",
          "output_type": "stream",
          "text": [
            "fitting response model via method 'bart'\n",
            "fitting treatment model via method 'bart'\n"
          ]
        },
        {
          "metadata": {
            "tags": null
          },
          "name": "stderr",
          "output_type": "stream",
          "text": [
            "Warning message in bartc(Y[, 2], Z, X, p.scoreAsCovariate = F, n.chains = 1, n.threads = 1, :\n",
            "“for response method 'bart', propensity score not used unless included as covariate”\n"
          ]
        },
        {
          "metadata": {
            "tags": null
          },
          "name": "stdout",
          "output_type": "stream",
          "text": [
            "fitting response model via method 'bart'\n",
            "\rFinishing iteration 100 of 100"
          ]
        },
        {
          "metadata": {
            "tags": null
          },
          "name": "stderr",
          "output_type": "stream",
          "text": [
            "Warning message in validateXTest(test, attr(x, \"term.labels\"), ncol(x), colnames(x), :\n",
            "“column names of 'test' does not equal that of 'x': 'X1, X2, X3, X4, X5, X6, X7, X8, X9, X10'; match will be made by position”\n"
          ]
        },
        {
          "metadata": {
            "tags": null
          },
          "name": "stdout",
          "output_type": "stream",
          "text": [
            "Total of 1 of 100 iterations completed! (1%)             \rTotal of 2 of 100 iterations completed! (2%)             \rTotal of 3 of 100 iterations completed! (3%)             \rTotal of 4 of 100 iterations completed! (4%)             \rTotal of 5 of 100 iterations completed! (5%)             \rTotal of 6 of 100 iterations completed! (6%)             \rTotal of 7 of 100 iterations completed! (7%)             \rTotal of 8 of 100 iterations completed! (8%)             \rTotal of 9 of 100 iterations completed! (9%)             \rTotal of 10 of 100 iterations completed! (10%)             \rTotal of 11 of 100 iterations completed! (11%)             \rTotal of 12 of 100 iterations completed! (12%)             \rTotal of 13 of 100 iterations completed! (13%)             \rTotal of 14 of 100 iterations completed! (14%)             \rTotal of 15 of 100 iterations completed! (15%)             \rTotal of 16 of 100 iterations completed! (16%)             \rTotal of 17 of 100 iterations completed! (17%)             \rTotal of 18 of 100 iterations completed! (18%)             \rTotal of 19 of 100 iterations completed! (19%)             \rTotal of 20 of 100 iterations completed! (20%)             \rTotal of 21 of 100 iterations completed! (21%)             \rTotal of 22 of 100 iterations completed! (22%)             \rTotal of 23 of 100 iterations completed! (23%)             \rTotal of 24 of 100 iterations completed! (24%)             \rTotal of 25 of 100 iterations completed! (25%)             \rTotal of 26 of 100 iterations completed! (26%)             \rTotal of 27 of 100 iterations completed! (27%)             \rTotal of 28 of 100 iterations completed! (28%)             \rTotal of 29 of 100 iterations completed! (29%)             \rTotal of 30 of 100 iterations completed! (30%)             \rTotal of 31 of 100 iterations completed! (31%)             \rTotal of 32 of 100 iterations completed! (32%)             \rTotal of 33 of 100 iterations completed! (33%)             \rTotal of 34 of 100 iterations completed! (34%)             \rTotal of 35 of 100 iterations completed! (35%)             \rTotal of 36 of 100 iterations completed! (36%)             \rTotal of 37 of 100 iterations completed! (37%)             \rTotal of 38 of 100 iterations completed! (38%)             \rTotal of 39 of 100 iterations completed! (39%)             \rTotal of 40 of 100 iterations completed! (40%)             \rTotal of 41 of 100 iterations completed! (41%)             \rTotal of 42 of 100 iterations completed! (42%)             \rTotal of 43 of 100 iterations completed! (43%)             \rTotal of 44 of 100 iterations completed! (44%)             \rTotal of 45 of 100 iterations completed! (45%)             \rTotal of 46 of 100 iterations completed! (46%)             \rTotal of 47 of 100 iterations completed! (47%)             \rTotal of 48 of 100 iterations completed! (48%)             \rTotal of 49 of 100 iterations completed! (49%)             \rTotal of 50 of 100 iterations completed! (50%)             \rTotal of 51 of 100 iterations completed! (51%)             \rTotal of 52 of 100 iterations completed! (52%)             \rTotal of 53 of 100 iterations completed! (53%)             \rTotal of 54 of 100 iterations completed! (54%)             \rTotal of 55 of 100 iterations completed! (55%)             \rTotal of 56 of 100 iterations completed! (56%)             \rTotal of 57 of 100 iterations completed! (57%)             \rTotal of 58 of 100 iterations completed! (58%)             \rTotal of 59 of 100 iterations completed! (59%)             \rTotal of 60 of 100 iterations completed! (60%)             \rTotal of 61 of 100 iterations completed! (61%)             \rTotal of 62 of 100 iterations completed! (62%)             \rTotal of 63 of 100 iterations completed! (63%)             \rTotal of 64 of 100 iterations completed! (64%)             \rTotal of 65 of 100 iterations completed! (65%)             \rTotal of 66 of 100 iterations completed! (66%)             \rTotal of 67 of 100 iterations completed! (67%)             \rTotal of 68 of 100 iterations completed! (68%)             \rTotal of 69 of 100 iterations completed! (69%)             \rTotal of 70 of 100 iterations completed! (70%)             \rTotal of 71 of 100 iterations completed! (71%)             \rTotal of 72 of 100 iterations completed! (72%)             \rTotal of 73 of 100 iterations completed! (73%)             \rTotal of 74 of 100 iterations completed! (74%)             \rTotal of 75 of 100 iterations completed! (75%)             \rTotal of 76 of 100 iterations completed! (76%)             \rTotal of 77 of 100 iterations completed! (77%)             \rTotal of 78 of 100 iterations completed! (78%)             \rTotal of 79 of 100 iterations completed! (79%)             \rTotal of 80 of 100 iterations completed! (80%)             \rTotal of 81 of 100 iterations completed! (81%)             \rTotal of 82 of 100 iterations completed! (82%)             \rTotal of 83 of 100 iterations completed! (83%)             \rTotal of 84 of 100 iterations completed! (84%)             \rTotal of 85 of 100 iterations completed! (85%)             \rTotal of 86 of 100 iterations completed! (86%)             \rTotal of 87 of 100 iterations completed! (87%)             \rTotal of 88 of 100 iterations completed! (88%)             \rTotal of 89 of 100 iterations completed! (89%)             \rTotal of 90 of 100 iterations completed! (90%)             \rTotal of 91 of 100 iterations completed! (91%)             \rTotal of 92 of 100 iterations completed! (92%)             \rTotal of 93 of 100 iterations completed! (93%)             \rTotal of 94 of 100 iterations completed! (94%)             \rTotal of 95 of 100 iterations completed! (95%)             \rTotal of 96 of 100 iterations completed! (96%)             \rTotal of 97 of 100 iterations completed! (97%)             \rTotal of 98 of 100 iterations completed! (98%)             \rTotal of 99 of 100 iterations completed! (99%)             \rTotal of 100 of 100 iterations completed! (100%)             \rfitting treatment model via method 'bart'\n"
          ]
        },
        {
          "metadata": {
            "tags": null
          },
          "name": "stderr",
          "output_type": "stream",
          "text": [
            "Warning message in bartc(Y[, 1], Z, X, p.scoreAsCovariate = F, n.chains = 1, n.threads = 1, :\n",
            "“for response method 'bart', propensity score not used unless included as covariate”\n"
          ]
        },
        {
          "metadata": {
            "tags": null
          },
          "name": "stdout",
          "output_type": "stream",
          "text": [
            "fitting response model via method 'bart'\n",
            "fitting treatment model via method 'bart'\n"
          ]
        },
        {
          "metadata": {
            "tags": null
          },
          "name": "stderr",
          "output_type": "stream",
          "text": [
            "Warning message in bartc(Y[, 2], Z, X, p.scoreAsCovariate = F, n.chains = 1, n.threads = 1, :\n",
            "“for response method 'bart', propensity score not used unless included as covariate”\n"
          ]
        },
        {
          "metadata": {
            "tags": null
          },
          "name": "stdout",
          "output_type": "stream",
          "text": [
            "fitting response model via method 'bart'\n",
            "\rFinishing iteration 100 of 100"
          ]
        },
        {
          "metadata": {
            "tags": null
          },
          "name": "stderr",
          "output_type": "stream",
          "text": [
            "Warning message in validateXTest(test, attr(x, \"term.labels\"), ncol(x), colnames(x), :\n",
            "“column names of 'test' does not equal that of 'x': 'X1, X2, X3, X4, X5, X6, X7, X8, X9, X10'; match will be made by position”\n"
          ]
        },
        {
          "metadata": {
            "tags": null
          },
          "name": "stdout",
          "output_type": "stream",
          "text": [
            "Total of 1 of 100 iterations completed! (1%)             \rTotal of 2 of 100 iterations completed! (2%)             \rTotal of 3 of 100 iterations completed! (3%)             \rTotal of 4 of 100 iterations completed! (4%)             \rTotal of 5 of 100 iterations completed! (5%)             \rTotal of 6 of 100 iterations completed! (6%)             \rTotal of 7 of 100 iterations completed! (7%)             \rTotal of 8 of 100 iterations completed! (8%)             \rTotal of 9 of 100 iterations completed! (9%)             \rTotal of 10 of 100 iterations completed! (10%)             \rTotal of 11 of 100 iterations completed! (11%)             \rTotal of 12 of 100 iterations completed! (12%)             \rTotal of 13 of 100 iterations completed! (13%)             \rTotal of 14 of 100 iterations completed! (14%)             \rTotal of 15 of 100 iterations completed! (15%)             \rTotal of 16 of 100 iterations completed! (16%)             \rTotal of 17 of 100 iterations completed! (17%)             \rTotal of 18 of 100 iterations completed! (18%)             \rTotal of 19 of 100 iterations completed! (19%)             \rTotal of 20 of 100 iterations completed! (20%)             \rTotal of 21 of 100 iterations completed! (21%)             \rTotal of 22 of 100 iterations completed! (22%)             \rTotal of 23 of 100 iterations completed! (23%)             \rTotal of 24 of 100 iterations completed! (24%)             \rTotal of 25 of 100 iterations completed! (25%)             \rTotal of 26 of 100 iterations completed! (26%)             \rTotal of 27 of 100 iterations completed! (27%)             \rTotal of 28 of 100 iterations completed! (28%)             \rTotal of 29 of 100 iterations completed! (29%)             \rTotal of 30 of 100 iterations completed! (30%)             \rTotal of 31 of 100 iterations completed! (31%)             \rTotal of 32 of 100 iterations completed! (32%)             \rTotal of 33 of 100 iterations completed! (33%)             \rTotal of 34 of 100 iterations completed! (34%)             \rTotal of 35 of 100 iterations completed! (35%)             \rTotal of 36 of 100 iterations completed! (36%)             \rTotal of 37 of 100 iterations completed! (37%)             \rTotal of 38 of 100 iterations completed! (38%)             \rTotal of 39 of 100 iterations completed! (39%)             \rTotal of 40 of 100 iterations completed! (40%)             \rTotal of 41 of 100 iterations completed! (41%)             \rTotal of 42 of 100 iterations completed! (42%)             \rTotal of 43 of 100 iterations completed! (43%)             \rTotal of 44 of 100 iterations completed! (44%)             \rTotal of 45 of 100 iterations completed! (45%)             \rTotal of 46 of 100 iterations completed! (46%)             \rTotal of 47 of 100 iterations completed! (47%)             \rTotal of 48 of 100 iterations completed! (48%)             \rTotal of 49 of 100 iterations completed! (49%)             \rTotal of 50 of 100 iterations completed! (50%)             \rTotal of 51 of 100 iterations completed! (51%)             \rTotal of 52 of 100 iterations completed! (52%)             \rTotal of 53 of 100 iterations completed! (53%)             \rTotal of 54 of 100 iterations completed! (54%)             \rTotal of 55 of 100 iterations completed! (55%)             \rTotal of 56 of 100 iterations completed! (56%)             \rTotal of 57 of 100 iterations completed! (57%)             \rTotal of 58 of 100 iterations completed! (58%)             \rTotal of 59 of 100 iterations completed! (59%)             \rTotal of 60 of 100 iterations completed! (60%)             \rTotal of 61 of 100 iterations completed! (61%)             \rTotal of 62 of 100 iterations completed! (62%)             \rTotal of 63 of 100 iterations completed! (63%)             \rTotal of 64 of 100 iterations completed! (64%)             \rTotal of 65 of 100 iterations completed! (65%)             \rTotal of 66 of 100 iterations completed! (66%)             \rTotal of 67 of 100 iterations completed! (67%)             \rTotal of 68 of 100 iterations completed! (68%)             \rTotal of 69 of 100 iterations completed! (69%)             \rTotal of 70 of 100 iterations completed! (70%)             \rTotal of 71 of 100 iterations completed! (71%)             \rTotal of 72 of 100 iterations completed! (72%)             \rTotal of 73 of 100 iterations completed! (73%)             \rTotal of 74 of 100 iterations completed! (74%)             \rTotal of 75 of 100 iterations completed! (75%)             \rTotal of 76 of 100 iterations completed! (76%)             \rTotal of 77 of 100 iterations completed! (77%)             \rTotal of 78 of 100 iterations completed! (78%)             \rTotal of 79 of 100 iterations completed! (79%)             \rTotal of 80 of 100 iterations completed! (80%)             \rTotal of 81 of 100 iterations completed! (81%)             \rTotal of 82 of 100 iterations completed! (82%)             \rTotal of 83 of 100 iterations completed! (83%)             \rTotal of 84 of 100 iterations completed! (84%)             \rTotal of 85 of 100 iterations completed! (85%)             \rTotal of 86 of 100 iterations completed! (86%)             \rTotal of 87 of 100 iterations completed! (87%)             \rTotal of 88 of 100 iterations completed! (88%)             \rTotal of 89 of 100 iterations completed! (89%)             \rTotal of 90 of 100 iterations completed! (90%)             \rTotal of 91 of 100 iterations completed! (91%)             \rTotal of 92 of 100 iterations completed! (92%)             \rTotal of 93 of 100 iterations completed! (93%)             \rTotal of 94 of 100 iterations completed! (94%)             \rTotal of 95 of 100 iterations completed! (95%)             \rTotal of 96 of 100 iterations completed! (96%)             \rTotal of 97 of 100 iterations completed! (97%)             \rTotal of 98 of 100 iterations completed! (98%)             \rTotal of 99 of 100 iterations completed! (99%)             \rTotal of 100 of 100 iterations completed! (100%)             \rfitting treatment model via method 'bart'\n"
          ]
        },
        {
          "metadata": {
            "tags": null
          },
          "name": "stderr",
          "output_type": "stream",
          "text": [
            "Warning message in bartc(Y[, 1], Z, X, p.scoreAsCovariate = F, n.chains = 1, n.threads = 1, :\n",
            "“for response method 'bart', propensity score not used unless included as covariate”\n"
          ]
        },
        {
          "metadata": {
            "tags": null
          },
          "name": "stdout",
          "output_type": "stream",
          "text": [
            "fitting response model via method 'bart'\n",
            "fitting treatment model via method 'bart'\n"
          ]
        },
        {
          "metadata": {
            "tags": null
          },
          "name": "stderr",
          "output_type": "stream",
          "text": [
            "Warning message in bartc(Y[, 2], Z, X, p.scoreAsCovariate = F, n.chains = 1, n.threads = 1, :\n",
            "“for response method 'bart', propensity score not used unless included as covariate”\n"
          ]
        },
        {
          "metadata": {
            "tags": null
          },
          "name": "stdout",
          "output_type": "stream",
          "text": [
            "fitting response model via method 'bart'\n",
            "\rFinishing iteration 100 of 100"
          ]
        },
        {
          "metadata": {
            "tags": null
          },
          "name": "stderr",
          "output_type": "stream",
          "text": [
            "Warning message in validateXTest(test, attr(x, \"term.labels\"), ncol(x), colnames(x), :\n",
            "“column names of 'test' does not equal that of 'x': 'X1, X2, X3, X4, X5, X6, X7, X8, X9, X10'; match will be made by position”\n"
          ]
        },
        {
          "metadata": {
            "tags": null
          },
          "name": "stdout",
          "output_type": "stream",
          "text": [
            "Total of 1 of 100 iterations completed! (1%)             \rTotal of 2 of 100 iterations completed! (2%)             \rTotal of 3 of 100 iterations completed! (3%)             \rTotal of 4 of 100 iterations completed! (4%)             \rTotal of 5 of 100 iterations completed! (5%)             \rTotal of 6 of 100 iterations completed! (6%)             \rTotal of 7 of 100 iterations completed! (7%)             \rTotal of 8 of 100 iterations completed! (8%)             \rTotal of 9 of 100 iterations completed! (9%)             \rTotal of 10 of 100 iterations completed! (10%)             \rTotal of 11 of 100 iterations completed! (11%)             \rTotal of 12 of 100 iterations completed! (12%)             \rTotal of 13 of 100 iterations completed! (13%)             \rTotal of 14 of 100 iterations completed! (14%)             \rTotal of 15 of 100 iterations completed! (15%)             \rTotal of 16 of 100 iterations completed! (16%)             \rTotal of 17 of 100 iterations completed! (17%)             \rTotal of 18 of 100 iterations completed! (18%)             \rTotal of 19 of 100 iterations completed! (19%)             \rTotal of 20 of 100 iterations completed! (20%)             \rTotal of 21 of 100 iterations completed! (21%)             \rTotal of 22 of 100 iterations completed! (22%)             \rTotal of 23 of 100 iterations completed! (23%)             \rTotal of 24 of 100 iterations completed! (24%)             \rTotal of 25 of 100 iterations completed! (25%)             \rTotal of 26 of 100 iterations completed! (26%)             \rTotal of 27 of 100 iterations completed! (27%)             \rTotal of 28 of 100 iterations completed! (28%)             \rTotal of 29 of 100 iterations completed! (29%)             \rTotal of 30 of 100 iterations completed! (30%)             \rTotal of 31 of 100 iterations completed! (31%)             \rTotal of 32 of 100 iterations completed! (32%)             \rTotal of 33 of 100 iterations completed! (33%)             \rTotal of 34 of 100 iterations completed! (34%)             \rTotal of 35 of 100 iterations completed! (35%)             \rTotal of 36 of 100 iterations completed! (36%)             \rTotal of 37 of 100 iterations completed! (37%)             \rTotal of 38 of 100 iterations completed! (38%)             \rTotal of 39 of 100 iterations completed! (39%)             \rTotal of 40 of 100 iterations completed! (40%)             \rTotal of 41 of 100 iterations completed! (41%)             \rTotal of 42 of 100 iterations completed! (42%)             \rTotal of 43 of 100 iterations completed! (43%)             \rTotal of 44 of 100 iterations completed! (44%)             \rTotal of 45 of 100 iterations completed! (45%)             \rTotal of 46 of 100 iterations completed! (46%)             \rTotal of 47 of 100 iterations completed! (47%)             \rTotal of 48 of 100 iterations completed! (48%)             \rTotal of 49 of 100 iterations completed! (49%)             \rTotal of 50 of 100 iterations completed! (50%)             \rTotal of 51 of 100 iterations completed! (51%)             \rTotal of 52 of 100 iterations completed! (52%)             \rTotal of 53 of 100 iterations completed! (53%)             \rTotal of 54 of 100 iterations completed! (54%)             \rTotal of 55 of 100 iterations completed! (55%)             \rTotal of 56 of 100 iterations completed! (56%)             \rTotal of 57 of 100 iterations completed! (57%)             \rTotal of 58 of 100 iterations completed! (58%)             \rTotal of 59 of 100 iterations completed! (59%)             \rTotal of 60 of 100 iterations completed! (60%)             \rTotal of 61 of 100 iterations completed! (61%)             \rTotal of 62 of 100 iterations completed! (62%)             \rTotal of 63 of 100 iterations completed! (63%)             \rTotal of 64 of 100 iterations completed! (64%)             \rTotal of 65 of 100 iterations completed! (65%)             \rTotal of 66 of 100 iterations completed! (66%)             \rTotal of 67 of 100 iterations completed! (67%)             \rTotal of 68 of 100 iterations completed! (68%)             \rTotal of 69 of 100 iterations completed! (69%)             \rTotal of 70 of 100 iterations completed! (70%)             \rTotal of 71 of 100 iterations completed! (71%)             \rTotal of 72 of 100 iterations completed! (72%)             \rTotal of 73 of 100 iterations completed! (73%)             \rTotal of 74 of 100 iterations completed! (74%)             \rTotal of 75 of 100 iterations completed! (75%)             \rTotal of 76 of 100 iterations completed! (76%)             \rTotal of 77 of 100 iterations completed! (77%)             \rTotal of 78 of 100 iterations completed! (78%)             \rTotal of 79 of 100 iterations completed! (79%)             \rTotal of 80 of 100 iterations completed! (80%)             \rTotal of 81 of 100 iterations completed! (81%)             \rTotal of 82 of 100 iterations completed! (82%)             \rTotal of 83 of 100 iterations completed! (83%)             \rTotal of 84 of 100 iterations completed! (84%)             \rTotal of 85 of 100 iterations completed! (85%)             \rTotal of 86 of 100 iterations completed! (86%)             \rTotal of 87 of 100 iterations completed! (87%)             \rTotal of 88 of 100 iterations completed! (88%)             \rTotal of 89 of 100 iterations completed! (89%)             \rTotal of 90 of 100 iterations completed! (90%)             \rTotal of 91 of 100 iterations completed! (91%)             \rTotal of 92 of 100 iterations completed! (92%)             \rTotal of 93 of 100 iterations completed! (93%)             \rTotal of 94 of 100 iterations completed! (94%)             \rTotal of 95 of 100 iterations completed! (95%)             \rTotal of 96 of 100 iterations completed! (96%)             \rTotal of 97 of 100 iterations completed! (97%)             \rTotal of 98 of 100 iterations completed! (98%)             \rTotal of 99 of 100 iterations completed! (99%)             \rTotal of 100 of 100 iterations completed! (100%)             \rfitting treatment model via method 'bart'\n"
          ]
        },
        {
          "metadata": {
            "tags": null
          },
          "name": "stderr",
          "output_type": "stream",
          "text": [
            "Warning message in bartc(Y[, 1], Z, X, p.scoreAsCovariate = F, n.chains = 1, n.threads = 1, :\n",
            "“for response method 'bart', propensity score not used unless included as covariate”\n"
          ]
        },
        {
          "metadata": {
            "tags": null
          },
          "name": "stdout",
          "output_type": "stream",
          "text": [
            "fitting response model via method 'bart'\n",
            "fitting treatment model via method 'bart'\n"
          ]
        },
        {
          "metadata": {
            "tags": null
          },
          "name": "stderr",
          "output_type": "stream",
          "text": [
            "Warning message in bartc(Y[, 2], Z, X, p.scoreAsCovariate = F, n.chains = 1, n.threads = 1, :\n",
            "“for response method 'bart', propensity score not used unless included as covariate”\n"
          ]
        },
        {
          "metadata": {
            "tags": null
          },
          "name": "stdout",
          "output_type": "stream",
          "text": [
            "fitting response model via method 'bart'\n",
            "\rFinishing iteration 100 of 100"
          ]
        },
        {
          "metadata": {
            "tags": null
          },
          "name": "stderr",
          "output_type": "stream",
          "text": [
            "Warning message in validateXTest(test, attr(x, \"term.labels\"), ncol(x), colnames(x), :\n",
            "“column names of 'test' does not equal that of 'x': 'X1, X2, X3, X4, X5, X6, X7, X8, X9, X10'; match will be made by position”\n"
          ]
        },
        {
          "metadata": {
            "tags": null
          },
          "name": "stdout",
          "output_type": "stream",
          "text": [
            "Total of 1 of 100 iterations completed! (1%)             \rTotal of 2 of 100 iterations completed! (2%)             \rTotal of 3 of 100 iterations completed! (3%)             \rTotal of 4 of 100 iterations completed! (4%)             \rTotal of 5 of 100 iterations completed! (5%)             \rTotal of 6 of 100 iterations completed! (6%)             \rTotal of 7 of 100 iterations completed! (7%)             \rTotal of 8 of 100 iterations completed! (8%)             \rTotal of 9 of 100 iterations completed! (9%)             \rTotal of 10 of 100 iterations completed! (10%)             \rTotal of 11 of 100 iterations completed! (11%)             \rTotal of 12 of 100 iterations completed! (12%)             \rTotal of 13 of 100 iterations completed! (13%)             \rTotal of 14 of 100 iterations completed! (14%)             \rTotal of 15 of 100 iterations completed! (15%)             \rTotal of 16 of 100 iterations completed! (16%)             \rTotal of 17 of 100 iterations completed! (17%)             \rTotal of 18 of 100 iterations completed! (18%)             \rTotal of 19 of 100 iterations completed! (19%)             \rTotal of 20 of 100 iterations completed! (20%)             \rTotal of 21 of 100 iterations completed! (21%)             \rTotal of 22 of 100 iterations completed! (22%)             \rTotal of 23 of 100 iterations completed! (23%)             \rTotal of 24 of 100 iterations completed! (24%)             \rTotal of 25 of 100 iterations completed! (25%)             \rTotal of 26 of 100 iterations completed! (26%)             \rTotal of 27 of 100 iterations completed! (27%)             \rTotal of 28 of 100 iterations completed! (28%)             \rTotal of 29 of 100 iterations completed! (29%)             \rTotal of 30 of 100 iterations completed! (30%)             \rTotal of 31 of 100 iterations completed! (31%)             \rTotal of 32 of 100 iterations completed! (32%)             \rTotal of 33 of 100 iterations completed! (33%)             \rTotal of 34 of 100 iterations completed! (34%)             \rTotal of 35 of 100 iterations completed! (35%)             \rTotal of 36 of 100 iterations completed! (36%)             \rTotal of 37 of 100 iterations completed! (37%)             \rTotal of 38 of 100 iterations completed! (38%)             \rTotal of 39 of 100 iterations completed! (39%)             \rTotal of 40 of 100 iterations completed! (40%)             \rTotal of 41 of 100 iterations completed! (41%)             \rTotal of 42 of 100 iterations completed! (42%)             \rTotal of 43 of 100 iterations completed! (43%)             \rTotal of 44 of 100 iterations completed! (44%)             \rTotal of 45 of 100 iterations completed! (45%)             \rTotal of 46 of 100 iterations completed! (46%)             \rTotal of 47 of 100 iterations completed! (47%)             \rTotal of 48 of 100 iterations completed! (48%)             \rTotal of 49 of 100 iterations completed! (49%)             \rTotal of 50 of 100 iterations completed! (50%)             \rTotal of 51 of 100 iterations completed! (51%)             \rTotal of 52 of 100 iterations completed! (52%)             \rTotal of 53 of 100 iterations completed! (53%)             \rTotal of 54 of 100 iterations completed! (54%)             \rTotal of 55 of 100 iterations completed! (55%)             \rTotal of 56 of 100 iterations completed! (56%)             \rTotal of 57 of 100 iterations completed! (57%)             \rTotal of 58 of 100 iterations completed! (58%)             \rTotal of 59 of 100 iterations completed! (59%)             \rTotal of 60 of 100 iterations completed! (60%)             \rTotal of 61 of 100 iterations completed! (61%)             \rTotal of 62 of 100 iterations completed! (62%)             \rTotal of 63 of 100 iterations completed! (63%)             \rTotal of 64 of 100 iterations completed! (64%)             \rTotal of 65 of 100 iterations completed! (65%)             \rTotal of 66 of 100 iterations completed! (66%)             \rTotal of 67 of 100 iterations completed! (67%)             \rTotal of 68 of 100 iterations completed! (68%)             \rTotal of 69 of 100 iterations completed! (69%)             \rTotal of 70 of 100 iterations completed! (70%)             \rTotal of 71 of 100 iterations completed! (71%)             \rTotal of 72 of 100 iterations completed! (72%)             \rTotal of 73 of 100 iterations completed! (73%)             \rTotal of 74 of 100 iterations completed! (74%)             \rTotal of 75 of 100 iterations completed! (75%)             \rTotal of 76 of 100 iterations completed! (76%)             \rTotal of 77 of 100 iterations completed! (77%)             \rTotal of 78 of 100 iterations completed! (78%)             \rTotal of 79 of 100 iterations completed! (79%)             \rTotal of 80 of 100 iterations completed! (80%)             \rTotal of 81 of 100 iterations completed! (81%)             \rTotal of 82 of 100 iterations completed! (82%)             \rTotal of 83 of 100 iterations completed! (83%)             \rTotal of 84 of 100 iterations completed! (84%)             \rTotal of 85 of 100 iterations completed! (85%)             \rTotal of 86 of 100 iterations completed! (86%)             \rTotal of 87 of 100 iterations completed! (87%)             \rTotal of 88 of 100 iterations completed! (88%)             \rTotal of 89 of 100 iterations completed! (89%)             \rTotal of 90 of 100 iterations completed! (90%)             \rTotal of 91 of 100 iterations completed! (91%)             \rTotal of 92 of 100 iterations completed! (92%)             \rTotal of 93 of 100 iterations completed! (93%)             \rTotal of 94 of 100 iterations completed! (94%)             \rTotal of 95 of 100 iterations completed! (95%)             \rTotal of 96 of 100 iterations completed! (96%)             \rTotal of 97 of 100 iterations completed! (97%)             \rTotal of 98 of 100 iterations completed! (98%)             \rTotal of 99 of 100 iterations completed! (99%)             \rTotal of 100 of 100 iterations completed! (100%)             \rfitting treatment model via method 'bart'\n"
          ]
        },
        {
          "metadata": {
            "tags": null
          },
          "name": "stderr",
          "output_type": "stream",
          "text": [
            "Warning message in bartc(Y[, 1], Z, X, p.scoreAsCovariate = F, n.chains = 1, n.threads = 1, :\n",
            "“for response method 'bart', propensity score not used unless included as covariate”\n"
          ]
        },
        {
          "metadata": {
            "tags": null
          },
          "name": "stdout",
          "output_type": "stream",
          "text": [
            "fitting response model via method 'bart'\n",
            "fitting treatment model via method 'bart'\n"
          ]
        },
        {
          "metadata": {
            "tags": null
          },
          "name": "stderr",
          "output_type": "stream",
          "text": [
            "Warning message in bartc(Y[, 2], Z, X, p.scoreAsCovariate = F, n.chains = 1, n.threads = 1, :\n",
            "“for response method 'bart', propensity score not used unless included as covariate”\n"
          ]
        },
        {
          "metadata": {
            "tags": null
          },
          "name": "stdout",
          "output_type": "stream",
          "text": [
            "fitting response model via method 'bart'\n",
            "\rFinishing iteration 100 of 100"
          ]
        },
        {
          "metadata": {
            "tags": null
          },
          "name": "stderr",
          "output_type": "stream",
          "text": [
            "Warning message in validateXTest(test, attr(x, \"term.labels\"), ncol(x), colnames(x), :\n",
            "“column names of 'test' does not equal that of 'x': 'X1, X2, X3, X4, X5, X6, X7, X8, X9, X10'; match will be made by position”\n"
          ]
        },
        {
          "metadata": {
            "tags": null
          },
          "name": "stdout",
          "output_type": "stream",
          "text": [
            "Total of 1 of 100 iterations completed! (1%)             \rTotal of 2 of 100 iterations completed! (2%)             \rTotal of 3 of 100 iterations completed! (3%)             \rTotal of 4 of 100 iterations completed! (4%)             \rTotal of 5 of 100 iterations completed! (5%)             \rTotal of 6 of 100 iterations completed! (6%)             \rTotal of 7 of 100 iterations completed! (7%)             \rTotal of 8 of 100 iterations completed! (8%)             \rTotal of 9 of 100 iterations completed! (9%)             \rTotal of 10 of 100 iterations completed! (10%)             \rTotal of 11 of 100 iterations completed! (11%)             \rTotal of 12 of 100 iterations completed! (12%)             \rTotal of 13 of 100 iterations completed! (13%)             \rTotal of 14 of 100 iterations completed! (14%)             \rTotal of 15 of 100 iterations completed! (15%)             \rTotal of 16 of 100 iterations completed! (16%)             \rTotal of 17 of 100 iterations completed! (17%)             \rTotal of 18 of 100 iterations completed! (18%)             \rTotal of 19 of 100 iterations completed! (19%)             \rTotal of 20 of 100 iterations completed! (20%)             \rTotal of 21 of 100 iterations completed! (21%)             \rTotal of 22 of 100 iterations completed! (22%)             \rTotal of 23 of 100 iterations completed! (23%)             \rTotal of 24 of 100 iterations completed! (24%)             \rTotal of 25 of 100 iterations completed! (25%)             \rTotal of 26 of 100 iterations completed! (26%)             \rTotal of 27 of 100 iterations completed! (27%)             \rTotal of 28 of 100 iterations completed! (28%)             \rTotal of 29 of 100 iterations completed! (29%)             \rTotal of 30 of 100 iterations completed! (30%)             \rTotal of 31 of 100 iterations completed! (31%)             \rTotal of 32 of 100 iterations completed! (32%)             \rTotal of 33 of 100 iterations completed! (33%)             \rTotal of 34 of 100 iterations completed! (34%)             \rTotal of 35 of 100 iterations completed! (35%)             \rTotal of 36 of 100 iterations completed! (36%)             \rTotal of 37 of 100 iterations completed! (37%)             \rTotal of 38 of 100 iterations completed! (38%)             \rTotal of 39 of 100 iterations completed! (39%)             \rTotal of 40 of 100 iterations completed! (40%)             \rTotal of 41 of 100 iterations completed! (41%)             \rTotal of 42 of 100 iterations completed! (42%)             \rTotal of 43 of 100 iterations completed! (43%)             \rTotal of 44 of 100 iterations completed! (44%)             \rTotal of 45 of 100 iterations completed! (45%)             \rTotal of 46 of 100 iterations completed! (46%)             \rTotal of 47 of 100 iterations completed! (47%)             \rTotal of 48 of 100 iterations completed! (48%)             \rTotal of 49 of 100 iterations completed! (49%)             \rTotal of 50 of 100 iterations completed! (50%)             \rTotal of 51 of 100 iterations completed! (51%)             \rTotal of 52 of 100 iterations completed! (52%)             \rTotal of 53 of 100 iterations completed! (53%)             \rTotal of 54 of 100 iterations completed! (54%)             \rTotal of 55 of 100 iterations completed! (55%)             \rTotal of 56 of 100 iterations completed! (56%)             \rTotal of 57 of 100 iterations completed! (57%)             \rTotal of 58 of 100 iterations completed! (58%)             \rTotal of 59 of 100 iterations completed! (59%)             \rTotal of 60 of 100 iterations completed! (60%)             \rTotal of 61 of 100 iterations completed! (61%)             \rTotal of 62 of 100 iterations completed! (62%)             \rTotal of 63 of 100 iterations completed! (63%)             \rTotal of 64 of 100 iterations completed! (64%)             \rTotal of 65 of 100 iterations completed! (65%)             \rTotal of 66 of 100 iterations completed! (66%)             \rTotal of 67 of 100 iterations completed! (67%)             \rTotal of 68 of 100 iterations completed! (68%)             \rTotal of 69 of 100 iterations completed! (69%)             \rTotal of 70 of 100 iterations completed! (70%)             \rTotal of 71 of 100 iterations completed! (71%)             \rTotal of 72 of 100 iterations completed! (72%)             \rTotal of 73 of 100 iterations completed! (73%)             \rTotal of 74 of 100 iterations completed! (74%)             \rTotal of 75 of 100 iterations completed! (75%)             \rTotal of 76 of 100 iterations completed! (76%)             \rTotal of 77 of 100 iterations completed! (77%)             \rTotal of 78 of 100 iterations completed! (78%)             \rTotal of 79 of 100 iterations completed! (79%)             \rTotal of 80 of 100 iterations completed! (80%)             \rTotal of 81 of 100 iterations completed! (81%)             \rTotal of 82 of 100 iterations completed! (82%)             \rTotal of 83 of 100 iterations completed! (83%)             \rTotal of 84 of 100 iterations completed! (84%)             \rTotal of 85 of 100 iterations completed! (85%)             \rTotal of 86 of 100 iterations completed! (86%)             \rTotal of 87 of 100 iterations completed! (87%)             \rTotal of 88 of 100 iterations completed! (88%)             \rTotal of 89 of 100 iterations completed! (89%)             \rTotal of 90 of 100 iterations completed! (90%)             \rTotal of 91 of 100 iterations completed! (91%)             \rTotal of 92 of 100 iterations completed! (92%)             \rTotal of 93 of 100 iterations completed! (93%)             \rTotal of 94 of 100 iterations completed! (94%)             \rTotal of 95 of 100 iterations completed! (95%)             \rTotal of 96 of 100 iterations completed! (96%)             \rTotal of 97 of 100 iterations completed! (97%)             \rTotal of 98 of 100 iterations completed! (98%)             \rTotal of 99 of 100 iterations completed! (99%)             \rTotal of 100 of 100 iterations completed! (100%)             \rfitting treatment model via method 'bart'\n"
          ]
        },
        {
          "metadata": {
            "tags": null
          },
          "name": "stderr",
          "output_type": "stream",
          "text": [
            "Warning message in bartc(Y[, 1], Z, X, p.scoreAsCovariate = F, n.chains = 1, n.threads = 1, :\n",
            "“for response method 'bart', propensity score not used unless included as covariate”\n"
          ]
        },
        {
          "metadata": {
            "tags": null
          },
          "name": "stdout",
          "output_type": "stream",
          "text": [
            "fitting response model via method 'bart'\n",
            "fitting treatment model via method 'bart'\n"
          ]
        },
        {
          "metadata": {
            "tags": null
          },
          "name": "stderr",
          "output_type": "stream",
          "text": [
            "Warning message in bartc(Y[, 2], Z, X, p.scoreAsCovariate = F, n.chains = 1, n.threads = 1, :\n",
            "“for response method 'bart', propensity score not used unless included as covariate”\n"
          ]
        },
        {
          "metadata": {
            "tags": null
          },
          "name": "stdout",
          "output_type": "stream",
          "text": [
            "fitting response model via method 'bart'\n",
            "\rFinishing iteration 100 of 100\n",
            "After 80 simulations:\n",
            "Comparison 1: Power = 0.9407, p-value = 0.2220, adjusted p-value = 0.2220\n",
            "Comparison 2: Power = 0.8130, p-value = 0.0013, adjusted p-value = 0.0038\n",
            "Comparison 3: Power = 0.5717, p-value = 0.0019, adjusted p-value = 0.0038\n",
            "Comparison 4: Power = 0.5636, p-value = 0.0000, adjusted p-value = 0.0000\n",
            "Minimum power: 0.5636201 \n",
            "\n",
            "Iteration 8: Running batch of 10 simulations (total will be 90)...\n"
          ]
        },
        {
          "metadata": {
            "tags": null
          },
          "name": "stderr",
          "output_type": "stream",
          "text": [
            "Warning message in validateXTest(test, attr(x, \"term.labels\"), ncol(x), colnames(x), :\n",
            "“column names of 'test' does not equal that of 'x': 'X1, X2, X3, X4, X5, X6, X7, X8, X9, X10'; match will be made by position”\n"
          ]
        },
        {
          "metadata": {
            "tags": null
          },
          "name": "stdout",
          "output_type": "stream",
          "text": [
            "Total of 1 of 100 iterations completed! (1%)             \rTotal of 2 of 100 iterations completed! (2%)             \rTotal of 3 of 100 iterations completed! (3%)             \rTotal of 4 of 100 iterations completed! (4%)             \rTotal of 5 of 100 iterations completed! (5%)             \rTotal of 6 of 100 iterations completed! (6%)             \rTotal of 7 of 100 iterations completed! (7%)             \rTotal of 8 of 100 iterations completed! (8%)             \rTotal of 9 of 100 iterations completed! (9%)             \rTotal of 10 of 100 iterations completed! (10%)             \rTotal of 11 of 100 iterations completed! (11%)             \rTotal of 12 of 100 iterations completed! (12%)             \rTotal of 13 of 100 iterations completed! (13%)             \rTotal of 14 of 100 iterations completed! (14%)             \rTotal of 15 of 100 iterations completed! (15%)             \rTotal of 16 of 100 iterations completed! (16%)             \rTotal of 17 of 100 iterations completed! (17%)             \rTotal of 18 of 100 iterations completed! (18%)             \rTotal of 19 of 100 iterations completed! (19%)             \rTotal of 20 of 100 iterations completed! (20%)             \rTotal of 21 of 100 iterations completed! (21%)             \rTotal of 22 of 100 iterations completed! (22%)             \rTotal of 23 of 100 iterations completed! (23%)             \rTotal of 24 of 100 iterations completed! (24%)             \rTotal of 25 of 100 iterations completed! (25%)             \rTotal of 26 of 100 iterations completed! (26%)             \rTotal of 27 of 100 iterations completed! (27%)             \rTotal of 28 of 100 iterations completed! (28%)             \rTotal of 29 of 100 iterations completed! (29%)             \rTotal of 30 of 100 iterations completed! (30%)             \rTotal of 31 of 100 iterations completed! (31%)             \rTotal of 32 of 100 iterations completed! (32%)             \rTotal of 33 of 100 iterations completed! (33%)             \rTotal of 34 of 100 iterations completed! (34%)             \rTotal of 35 of 100 iterations completed! (35%)             \rTotal of 36 of 100 iterations completed! (36%)             \rTotal of 37 of 100 iterations completed! (37%)             \rTotal of 38 of 100 iterations completed! (38%)             \rTotal of 39 of 100 iterations completed! (39%)             \rTotal of 40 of 100 iterations completed! (40%)             \rTotal of 41 of 100 iterations completed! (41%)             \rTotal of 42 of 100 iterations completed! (42%)             \rTotal of 43 of 100 iterations completed! (43%)             \rTotal of 44 of 100 iterations completed! (44%)             \rTotal of 45 of 100 iterations completed! (45%)             \rTotal of 46 of 100 iterations completed! (46%)             \rTotal of 47 of 100 iterations completed! (47%)             \rTotal of 48 of 100 iterations completed! (48%)             \rTotal of 49 of 100 iterations completed! (49%)             \rTotal of 50 of 100 iterations completed! (50%)             \rTotal of 51 of 100 iterations completed! (51%)             \rTotal of 52 of 100 iterations completed! (52%)             \rTotal of 53 of 100 iterations completed! (53%)             \rTotal of 54 of 100 iterations completed! (54%)             \rTotal of 55 of 100 iterations completed! (55%)             \rTotal of 56 of 100 iterations completed! (56%)             \rTotal of 57 of 100 iterations completed! (57%)             \rTotal of 58 of 100 iterations completed! (58%)             \rTotal of 59 of 100 iterations completed! (59%)             \rTotal of 60 of 100 iterations completed! (60%)             \rTotal of 61 of 100 iterations completed! (61%)             \rTotal of 62 of 100 iterations completed! (62%)             \rTotal of 63 of 100 iterations completed! (63%)             \rTotal of 64 of 100 iterations completed! (64%)             \rTotal of 65 of 100 iterations completed! (65%)             \rTotal of 66 of 100 iterations completed! (66%)             \rTotal of 67 of 100 iterations completed! (67%)             \rTotal of 68 of 100 iterations completed! (68%)             \rTotal of 69 of 100 iterations completed! (69%)             \rTotal of 70 of 100 iterations completed! (70%)             \rTotal of 71 of 100 iterations completed! (71%)             \rTotal of 72 of 100 iterations completed! (72%)             \rTotal of 73 of 100 iterations completed! (73%)             \rTotal of 74 of 100 iterations completed! (74%)             \rTotal of 75 of 100 iterations completed! (75%)             \rTotal of 76 of 100 iterations completed! (76%)             \rTotal of 77 of 100 iterations completed! (77%)             \rTotal of 78 of 100 iterations completed! (78%)             \rTotal of 79 of 100 iterations completed! (79%)             \rTotal of 80 of 100 iterations completed! (80%)             \rTotal of 81 of 100 iterations completed! (81%)             \rTotal of 82 of 100 iterations completed! (82%)             \rTotal of 83 of 100 iterations completed! (83%)             \rTotal of 84 of 100 iterations completed! (84%)             \rTotal of 85 of 100 iterations completed! (85%)             \rTotal of 86 of 100 iterations completed! (86%)             \rTotal of 87 of 100 iterations completed! (87%)             \rTotal of 88 of 100 iterations completed! (88%)             \rTotal of 89 of 100 iterations completed! (89%)             \rTotal of 90 of 100 iterations completed! (90%)             \rTotal of 91 of 100 iterations completed! (91%)             \rTotal of 92 of 100 iterations completed! (92%)             \rTotal of 93 of 100 iterations completed! (93%)             \rTotal of 94 of 100 iterations completed! (94%)             \rTotal of 95 of 100 iterations completed! (95%)             \rTotal of 96 of 100 iterations completed! (96%)             \rTotal of 97 of 100 iterations completed! (97%)             \rTotal of 98 of 100 iterations completed! (98%)             \rTotal of 99 of 100 iterations completed! (99%)             \rTotal of 100 of 100 iterations completed! (100%)             \rfitting treatment model via method 'bart'\n"
          ]
        },
        {
          "metadata": {
            "tags": null
          },
          "name": "stderr",
          "output_type": "stream",
          "text": [
            "Warning message in bartc(Y[, 1], Z, X, p.scoreAsCovariate = F, n.chains = 1, n.threads = 1, :\n",
            "“for response method 'bart', propensity score not used unless included as covariate”\n"
          ]
        },
        {
          "metadata": {
            "tags": null
          },
          "name": "stdout",
          "output_type": "stream",
          "text": [
            "fitting response model via method 'bart'\n",
            "fitting treatment model via method 'bart'\n"
          ]
        },
        {
          "metadata": {
            "tags": null
          },
          "name": "stderr",
          "output_type": "stream",
          "text": [
            "Warning message in bartc(Y[, 2], Z, X, p.scoreAsCovariate = F, n.chains = 1, n.threads = 1, :\n",
            "“for response method 'bart', propensity score not used unless included as covariate”\n"
          ]
        },
        {
          "metadata": {
            "tags": null
          },
          "name": "stdout",
          "output_type": "stream",
          "text": [
            "fitting response model via method 'bart'\n",
            "\rFinishing iteration 100 of 100"
          ]
        },
        {
          "metadata": {
            "tags": null
          },
          "name": "stderr",
          "output_type": "stream",
          "text": [
            "Warning message in validateXTest(test, attr(x, \"term.labels\"), ncol(x), colnames(x), :\n",
            "“column names of 'test' does not equal that of 'x': 'X1, X2, X3, X4, X5, X6, X7, X8, X9, X10'; match will be made by position”\n"
          ]
        },
        {
          "metadata": {
            "tags": null
          },
          "name": "stdout",
          "output_type": "stream",
          "text": [
            "Total of 1 of 100 iterations completed! (1%)             \rTotal of 2 of 100 iterations completed! (2%)             \rTotal of 3 of 100 iterations completed! (3%)             \rTotal of 4 of 100 iterations completed! (4%)             \rTotal of 5 of 100 iterations completed! (5%)             \rTotal of 6 of 100 iterations completed! (6%)             \rTotal of 7 of 100 iterations completed! (7%)             \rTotal of 8 of 100 iterations completed! (8%)             \rTotal of 9 of 100 iterations completed! (9%)             \rTotal of 10 of 100 iterations completed! (10%)             \rTotal of 11 of 100 iterations completed! (11%)             \rTotal of 12 of 100 iterations completed! (12%)             \rTotal of 13 of 100 iterations completed! (13%)             \rTotal of 14 of 100 iterations completed! (14%)             \rTotal of 15 of 100 iterations completed! (15%)             \rTotal of 16 of 100 iterations completed! (16%)             \rTotal of 17 of 100 iterations completed! (17%)             \rTotal of 18 of 100 iterations completed! (18%)             \rTotal of 19 of 100 iterations completed! (19%)             \rTotal of 20 of 100 iterations completed! (20%)             \rTotal of 21 of 100 iterations completed! (21%)             \rTotal of 22 of 100 iterations completed! (22%)             \rTotal of 23 of 100 iterations completed! (23%)             \rTotal of 24 of 100 iterations completed! (24%)             \rTotal of 25 of 100 iterations completed! (25%)             \rTotal of 26 of 100 iterations completed! (26%)             \rTotal of 27 of 100 iterations completed! (27%)             \rTotal of 28 of 100 iterations completed! (28%)             \rTotal of 29 of 100 iterations completed! (29%)             \rTotal of 30 of 100 iterations completed! (30%)             \rTotal of 31 of 100 iterations completed! (31%)             \rTotal of 32 of 100 iterations completed! (32%)             \rTotal of 33 of 100 iterations completed! (33%)             \rTotal of 34 of 100 iterations completed! (34%)             \rTotal of 35 of 100 iterations completed! (35%)             \rTotal of 36 of 100 iterations completed! (36%)             \rTotal of 37 of 100 iterations completed! (37%)             \rTotal of 38 of 100 iterations completed! (38%)             \rTotal of 39 of 100 iterations completed! (39%)             \rTotal of 40 of 100 iterations completed! (40%)             \rTotal of 41 of 100 iterations completed! (41%)             \rTotal of 42 of 100 iterations completed! (42%)             \rTotal of 43 of 100 iterations completed! (43%)             \rTotal of 44 of 100 iterations completed! (44%)             \rTotal of 45 of 100 iterations completed! (45%)             \rTotal of 46 of 100 iterations completed! (46%)             \rTotal of 47 of 100 iterations completed! (47%)             \rTotal of 48 of 100 iterations completed! (48%)             \rTotal of 49 of 100 iterations completed! (49%)             \rTotal of 50 of 100 iterations completed! (50%)             \rTotal of 51 of 100 iterations completed! (51%)             \rTotal of 52 of 100 iterations completed! (52%)             \rTotal of 53 of 100 iterations completed! (53%)             \rTotal of 54 of 100 iterations completed! (54%)             \rTotal of 55 of 100 iterations completed! (55%)             \rTotal of 56 of 100 iterations completed! (56%)             \rTotal of 57 of 100 iterations completed! (57%)             \rTotal of 58 of 100 iterations completed! (58%)             \rTotal of 59 of 100 iterations completed! (59%)             \rTotal of 60 of 100 iterations completed! (60%)             \rTotal of 61 of 100 iterations completed! (61%)             \rTotal of 62 of 100 iterations completed! (62%)             \rTotal of 63 of 100 iterations completed! (63%)             \rTotal of 64 of 100 iterations completed! (64%)             \rTotal of 65 of 100 iterations completed! (65%)             \rTotal of 66 of 100 iterations completed! (66%)             \rTotal of 67 of 100 iterations completed! (67%)             \rTotal of 68 of 100 iterations completed! (68%)             \rTotal of 69 of 100 iterations completed! (69%)             \rTotal of 70 of 100 iterations completed! (70%)             \rTotal of 71 of 100 iterations completed! (71%)             \rTotal of 72 of 100 iterations completed! (72%)             \rTotal of 73 of 100 iterations completed! (73%)             \rTotal of 74 of 100 iterations completed! (74%)             \rTotal of 75 of 100 iterations completed! (75%)             \rTotal of 76 of 100 iterations completed! (76%)             \rTotal of 77 of 100 iterations completed! (77%)             \rTotal of 78 of 100 iterations completed! (78%)             \rTotal of 79 of 100 iterations completed! (79%)             \rTotal of 80 of 100 iterations completed! (80%)             \rTotal of 81 of 100 iterations completed! (81%)             \rTotal of 82 of 100 iterations completed! (82%)             \rTotal of 83 of 100 iterations completed! (83%)             \rTotal of 84 of 100 iterations completed! (84%)             \rTotal of 85 of 100 iterations completed! (85%)             \rTotal of 86 of 100 iterations completed! (86%)             \rTotal of 87 of 100 iterations completed! (87%)             \rTotal of 88 of 100 iterations completed! (88%)             \rTotal of 89 of 100 iterations completed! (89%)             \rTotal of 90 of 100 iterations completed! (90%)             \rTotal of 91 of 100 iterations completed! (91%)             \rTotal of 92 of 100 iterations completed! (92%)             \rTotal of 93 of 100 iterations completed! (93%)             \rTotal of 94 of 100 iterations completed! (94%)             \rTotal of 95 of 100 iterations completed! (95%)             \rTotal of 96 of 100 iterations completed! (96%)             \rTotal of 97 of 100 iterations completed! (97%)             \rTotal of 98 of 100 iterations completed! (98%)             \rTotal of 99 of 100 iterations completed! (99%)             \rTotal of 100 of 100 iterations completed! (100%)             \rfitting treatment model via method 'bart'\n"
          ]
        },
        {
          "metadata": {
            "tags": null
          },
          "name": "stderr",
          "output_type": "stream",
          "text": [
            "Warning message in bartc(Y[, 1], Z, X, p.scoreAsCovariate = F, n.chains = 1, n.threads = 1, :\n",
            "“for response method 'bart', propensity score not used unless included as covariate”\n"
          ]
        },
        {
          "metadata": {
            "tags": null
          },
          "name": "stdout",
          "output_type": "stream",
          "text": [
            "fitting response model via method 'bart'\n",
            "fitting treatment model via method 'bart'\n"
          ]
        },
        {
          "metadata": {
            "tags": null
          },
          "name": "stderr",
          "output_type": "stream",
          "text": [
            "Warning message in bartc(Y[, 2], Z, X, p.scoreAsCovariate = F, n.chains = 1, n.threads = 1, :\n",
            "“for response method 'bart', propensity score not used unless included as covariate”\n"
          ]
        },
        {
          "metadata": {
            "tags": null
          },
          "name": "stdout",
          "output_type": "stream",
          "text": [
            "fitting response model via method 'bart'\n",
            "\rFinishing iteration 100 of 100"
          ]
        },
        {
          "metadata": {
            "tags": null
          },
          "name": "stderr",
          "output_type": "stream",
          "text": [
            "Warning message in validateXTest(test, attr(x, \"term.labels\"), ncol(x), colnames(x), :\n",
            "“column names of 'test' does not equal that of 'x': 'X1, X2, X3, X4, X5, X6, X7, X8, X9, X10'; match will be made by position”\n"
          ]
        },
        {
          "metadata": {
            "tags": null
          },
          "name": "stdout",
          "output_type": "stream",
          "text": [
            "Total of 1 of 100 iterations completed! (1%)             \rTotal of 2 of 100 iterations completed! (2%)             \rTotal of 3 of 100 iterations completed! (3%)             \rTotal of 4 of 100 iterations completed! (4%)             \rTotal of 5 of 100 iterations completed! (5%)             \rTotal of 6 of 100 iterations completed! (6%)             \rTotal of 7 of 100 iterations completed! (7%)             \rTotal of 8 of 100 iterations completed! (8%)             \rTotal of 9 of 100 iterations completed! (9%)             \rTotal of 10 of 100 iterations completed! (10%)             \rTotal of 11 of 100 iterations completed! (11%)             \rTotal of 12 of 100 iterations completed! (12%)             \rTotal of 13 of 100 iterations completed! (13%)             \rTotal of 14 of 100 iterations completed! (14%)             \rTotal of 15 of 100 iterations completed! (15%)             \rTotal of 16 of 100 iterations completed! (16%)             \rTotal of 17 of 100 iterations completed! (17%)             \rTotal of 18 of 100 iterations completed! (18%)             \rTotal of 19 of 100 iterations completed! (19%)             \rTotal of 20 of 100 iterations completed! (20%)             \rTotal of 21 of 100 iterations completed! (21%)             \rTotal of 22 of 100 iterations completed! (22%)             \rTotal of 23 of 100 iterations completed! (23%)             \rTotal of 24 of 100 iterations completed! (24%)             \rTotal of 25 of 100 iterations completed! (25%)             \rTotal of 26 of 100 iterations completed! (26%)             \rTotal of 27 of 100 iterations completed! (27%)             \rTotal of 28 of 100 iterations completed! (28%)             \rTotal of 29 of 100 iterations completed! (29%)             \rTotal of 30 of 100 iterations completed! (30%)             \rTotal of 31 of 100 iterations completed! (31%)             \rTotal of 32 of 100 iterations completed! (32%)             \rTotal of 33 of 100 iterations completed! (33%)             \rTotal of 34 of 100 iterations completed! (34%)             \rTotal of 35 of 100 iterations completed! (35%)             \rTotal of 36 of 100 iterations completed! (36%)             \rTotal of 37 of 100 iterations completed! (37%)             \rTotal of 38 of 100 iterations completed! (38%)             \rTotal of 39 of 100 iterations completed! (39%)             \rTotal of 40 of 100 iterations completed! (40%)             \rTotal of 41 of 100 iterations completed! (41%)             \rTotal of 42 of 100 iterations completed! (42%)             \rTotal of 43 of 100 iterations completed! (43%)             \rTotal of 44 of 100 iterations completed! (44%)             \rTotal of 45 of 100 iterations completed! (45%)             \rTotal of 46 of 100 iterations completed! (46%)             \rTotal of 47 of 100 iterations completed! (47%)             \rTotal of 48 of 100 iterations completed! (48%)             \rTotal of 49 of 100 iterations completed! (49%)             \rTotal of 50 of 100 iterations completed! (50%)             \rTotal of 51 of 100 iterations completed! (51%)             \rTotal of 52 of 100 iterations completed! (52%)             \rTotal of 53 of 100 iterations completed! (53%)             \rTotal of 54 of 100 iterations completed! (54%)             \rTotal of 55 of 100 iterations completed! (55%)             \rTotal of 56 of 100 iterations completed! (56%)             \rTotal of 57 of 100 iterations completed! (57%)             \rTotal of 58 of 100 iterations completed! (58%)             \rTotal of 59 of 100 iterations completed! (59%)             \rTotal of 60 of 100 iterations completed! (60%)             \rTotal of 61 of 100 iterations completed! (61%)             \rTotal of 62 of 100 iterations completed! (62%)             \rTotal of 63 of 100 iterations completed! (63%)             \rTotal of 64 of 100 iterations completed! (64%)             \rTotal of 65 of 100 iterations completed! (65%)             \rTotal of 66 of 100 iterations completed! (66%)             \rTotal of 67 of 100 iterations completed! (67%)             \rTotal of 68 of 100 iterations completed! (68%)             \rTotal of 69 of 100 iterations completed! (69%)             \rTotal of 70 of 100 iterations completed! (70%)             \rTotal of 71 of 100 iterations completed! (71%)             \rTotal of 72 of 100 iterations completed! (72%)             \rTotal of 73 of 100 iterations completed! (73%)             \rTotal of 74 of 100 iterations completed! (74%)             \rTotal of 75 of 100 iterations completed! (75%)             \rTotal of 76 of 100 iterations completed! (76%)             \rTotal of 77 of 100 iterations completed! (77%)             \rTotal of 78 of 100 iterations completed! (78%)             \rTotal of 79 of 100 iterations completed! (79%)             \rTotal of 80 of 100 iterations completed! (80%)             \rTotal of 81 of 100 iterations completed! (81%)             \rTotal of 82 of 100 iterations completed! (82%)             \rTotal of 83 of 100 iterations completed! (83%)             \rTotal of 84 of 100 iterations completed! (84%)             \rTotal of 85 of 100 iterations completed! (85%)             \rTotal of 86 of 100 iterations completed! (86%)             \rTotal of 87 of 100 iterations completed! (87%)             \rTotal of 88 of 100 iterations completed! (88%)             \rTotal of 89 of 100 iterations completed! (89%)             \rTotal of 90 of 100 iterations completed! (90%)             \rTotal of 91 of 100 iterations completed! (91%)             \rTotal of 92 of 100 iterations completed! (92%)             \rTotal of 93 of 100 iterations completed! (93%)             \rTotal of 94 of 100 iterations completed! (94%)             \rTotal of 95 of 100 iterations completed! (95%)             \rTotal of 96 of 100 iterations completed! (96%)             \rTotal of 97 of 100 iterations completed! (97%)             \rTotal of 98 of 100 iterations completed! (98%)             \rTotal of 99 of 100 iterations completed! (99%)             \rTotal of 100 of 100 iterations completed! (100%)             \rfitting treatment model via method 'bart'\n"
          ]
        },
        {
          "metadata": {
            "tags": null
          },
          "name": "stderr",
          "output_type": "stream",
          "text": [
            "Warning message in bartc(Y[, 1], Z, X, p.scoreAsCovariate = F, n.chains = 1, n.threads = 1, :\n",
            "“for response method 'bart', propensity score not used unless included as covariate”\n"
          ]
        },
        {
          "metadata": {
            "tags": null
          },
          "name": "stdout",
          "output_type": "stream",
          "text": [
            "fitting response model via method 'bart'\n",
            "fitting treatment model via method 'bart'\n"
          ]
        },
        {
          "metadata": {
            "tags": null
          },
          "name": "stderr",
          "output_type": "stream",
          "text": [
            "Warning message in bartc(Y[, 2], Z, X, p.scoreAsCovariate = F, n.chains = 1, n.threads = 1, :\n",
            "“for response method 'bart', propensity score not used unless included as covariate”\n"
          ]
        },
        {
          "metadata": {
            "tags": null
          },
          "name": "stdout",
          "output_type": "stream",
          "text": [
            "fitting response model via method 'bart'\n",
            "\rFinishing iteration 100 of 100"
          ]
        },
        {
          "metadata": {
            "tags": null
          },
          "name": "stderr",
          "output_type": "stream",
          "text": [
            "Warning message in validateXTest(test, attr(x, \"term.labels\"), ncol(x), colnames(x), :\n",
            "“column names of 'test' does not equal that of 'x': 'X1, X2, X3, X4, X5, X6, X7, X8, X9, X10'; match will be made by position”\n"
          ]
        },
        {
          "metadata": {
            "tags": null
          },
          "name": "stdout",
          "output_type": "stream",
          "text": [
            "Total of 1 of 100 iterations completed! (1%)             \rTotal of 2 of 100 iterations completed! (2%)             \rTotal of 3 of 100 iterations completed! (3%)             \rTotal of 4 of 100 iterations completed! (4%)             \rTotal of 5 of 100 iterations completed! (5%)             \rTotal of 6 of 100 iterations completed! (6%)             \rTotal of 7 of 100 iterations completed! (7%)             \rTotal of 8 of 100 iterations completed! (8%)             \rTotal of 9 of 100 iterations completed! (9%)             \rTotal of 10 of 100 iterations completed! (10%)             \rTotal of 11 of 100 iterations completed! (11%)             \rTotal of 12 of 100 iterations completed! (12%)             \rTotal of 13 of 100 iterations completed! (13%)             \rTotal of 14 of 100 iterations completed! (14%)             \rTotal of 15 of 100 iterations completed! (15%)             \rTotal of 16 of 100 iterations completed! (16%)             \rTotal of 17 of 100 iterations completed! (17%)             \rTotal of 18 of 100 iterations completed! (18%)             \rTotal of 19 of 100 iterations completed! (19%)             \rTotal of 20 of 100 iterations completed! (20%)             \rTotal of 21 of 100 iterations completed! (21%)             \rTotal of 22 of 100 iterations completed! (22%)             \rTotal of 23 of 100 iterations completed! (23%)             \rTotal of 24 of 100 iterations completed! (24%)             \rTotal of 25 of 100 iterations completed! (25%)             \rTotal of 26 of 100 iterations completed! (26%)             \rTotal of 27 of 100 iterations completed! (27%)             \rTotal of 28 of 100 iterations completed! (28%)             \rTotal of 29 of 100 iterations completed! (29%)             \rTotal of 30 of 100 iterations completed! (30%)             \rTotal of 31 of 100 iterations completed! (31%)             \rTotal of 32 of 100 iterations completed! (32%)             \rTotal of 33 of 100 iterations completed! (33%)             \rTotal of 34 of 100 iterations completed! (34%)             \rTotal of 35 of 100 iterations completed! (35%)             \rTotal of 36 of 100 iterations completed! (36%)             \rTotal of 37 of 100 iterations completed! (37%)             \rTotal of 38 of 100 iterations completed! (38%)             \rTotal of 39 of 100 iterations completed! (39%)             \rTotal of 40 of 100 iterations completed! (40%)             \rTotal of 41 of 100 iterations completed! (41%)             \rTotal of 42 of 100 iterations completed! (42%)             \rTotal of 43 of 100 iterations completed! (43%)             \rTotal of 44 of 100 iterations completed! (44%)             \rTotal of 45 of 100 iterations completed! (45%)             \rTotal of 46 of 100 iterations completed! (46%)             \rTotal of 47 of 100 iterations completed! (47%)             \rTotal of 48 of 100 iterations completed! (48%)             \rTotal of 49 of 100 iterations completed! (49%)             \rTotal of 50 of 100 iterations completed! (50%)             \rTotal of 51 of 100 iterations completed! (51%)             \rTotal of 52 of 100 iterations completed! (52%)             \rTotal of 53 of 100 iterations completed! (53%)             \rTotal of 54 of 100 iterations completed! (54%)             \rTotal of 55 of 100 iterations completed! (55%)             \rTotal of 56 of 100 iterations completed! (56%)             \rTotal of 57 of 100 iterations completed! (57%)             \rTotal of 58 of 100 iterations completed! (58%)             \rTotal of 59 of 100 iterations completed! (59%)             \rTotal of 60 of 100 iterations completed! (60%)             \rTotal of 61 of 100 iterations completed! (61%)             \rTotal of 62 of 100 iterations completed! (62%)             \rTotal of 63 of 100 iterations completed! (63%)             \rTotal of 64 of 100 iterations completed! (64%)             \rTotal of 65 of 100 iterations completed! (65%)             \rTotal of 66 of 100 iterations completed! (66%)             \rTotal of 67 of 100 iterations completed! (67%)             \rTotal of 68 of 100 iterations completed! (68%)             \rTotal of 69 of 100 iterations completed! (69%)             \rTotal of 70 of 100 iterations completed! (70%)             \rTotal of 71 of 100 iterations completed! (71%)             \rTotal of 72 of 100 iterations completed! (72%)             \rTotal of 73 of 100 iterations completed! (73%)             \rTotal of 74 of 100 iterations completed! (74%)             \rTotal of 75 of 100 iterations completed! (75%)             \rTotal of 76 of 100 iterations completed! (76%)             \rTotal of 77 of 100 iterations completed! (77%)             \rTotal of 78 of 100 iterations completed! (78%)             \rTotal of 79 of 100 iterations completed! (79%)             \rTotal of 80 of 100 iterations completed! (80%)             \rTotal of 81 of 100 iterations completed! (81%)             \rTotal of 82 of 100 iterations completed! (82%)             \rTotal of 83 of 100 iterations completed! (83%)             \rTotal of 84 of 100 iterations completed! (84%)             \rTotal of 85 of 100 iterations completed! (85%)             \rTotal of 86 of 100 iterations completed! (86%)             \rTotal of 87 of 100 iterations completed! (87%)             \rTotal of 88 of 100 iterations completed! (88%)             \rTotal of 89 of 100 iterations completed! (89%)             \rTotal of 90 of 100 iterations completed! (90%)             \rTotal of 91 of 100 iterations completed! (91%)             \rTotal of 92 of 100 iterations completed! (92%)             \rTotal of 93 of 100 iterations completed! (93%)             \rTotal of 94 of 100 iterations completed! (94%)             \rTotal of 95 of 100 iterations completed! (95%)             \rTotal of 96 of 100 iterations completed! (96%)             \rTotal of 97 of 100 iterations completed! (97%)             \rTotal of 98 of 100 iterations completed! (98%)             \rTotal of 99 of 100 iterations completed! (99%)             \rTotal of 100 of 100 iterations completed! (100%)             \rfitting treatment model via method 'bart'\n"
          ]
        },
        {
          "metadata": {
            "tags": null
          },
          "name": "stderr",
          "output_type": "stream",
          "text": [
            "Warning message in bartc(Y[, 1], Z, X, p.scoreAsCovariate = F, n.chains = 1, n.threads = 1, :\n",
            "“for response method 'bart', propensity score not used unless included as covariate”\n"
          ]
        },
        {
          "metadata": {
            "tags": null
          },
          "name": "stdout",
          "output_type": "stream",
          "text": [
            "fitting response model via method 'bart'\n",
            "fitting treatment model via method 'bart'\n"
          ]
        },
        {
          "metadata": {
            "tags": null
          },
          "name": "stderr",
          "output_type": "stream",
          "text": [
            "Warning message in bartc(Y[, 2], Z, X, p.scoreAsCovariate = F, n.chains = 1, n.threads = 1, :\n",
            "“for response method 'bart', propensity score not used unless included as covariate”\n"
          ]
        },
        {
          "metadata": {
            "tags": null
          },
          "name": "stdout",
          "output_type": "stream",
          "text": [
            "fitting response model via method 'bart'\n",
            "\rFinishing iteration 100 of 100"
          ]
        },
        {
          "metadata": {
            "tags": null
          },
          "name": "stderr",
          "output_type": "stream",
          "text": [
            "Warning message in validateXTest(test, attr(x, \"term.labels\"), ncol(x), colnames(x), :\n",
            "“column names of 'test' does not equal that of 'x': 'X1, X2, X3, X4, X5, X6, X7, X8, X9, X10'; match will be made by position”\n"
          ]
        },
        {
          "metadata": {
            "tags": null
          },
          "name": "stdout",
          "output_type": "stream",
          "text": [
            "Total of 1 of 100 iterations completed! (1%)             \rTotal of 2 of 100 iterations completed! (2%)             \rTotal of 3 of 100 iterations completed! (3%)             \rTotal of 4 of 100 iterations completed! (4%)             \rTotal of 5 of 100 iterations completed! (5%)             \rTotal of 6 of 100 iterations completed! (6%)             \rTotal of 7 of 100 iterations completed! (7%)             \rTotal of 8 of 100 iterations completed! (8%)             \rTotal of 9 of 100 iterations completed! (9%)             \rTotal of 10 of 100 iterations completed! (10%)             \rTotal of 11 of 100 iterations completed! (11%)             \rTotal of 12 of 100 iterations completed! (12%)             \rTotal of 13 of 100 iterations completed! (13%)             \rTotal of 14 of 100 iterations completed! (14%)             \rTotal of 15 of 100 iterations completed! (15%)             \rTotal of 16 of 100 iterations completed! (16%)             \rTotal of 17 of 100 iterations completed! (17%)             \rTotal of 18 of 100 iterations completed! (18%)             \rTotal of 19 of 100 iterations completed! (19%)             \rTotal of 20 of 100 iterations completed! (20%)             \rTotal of 21 of 100 iterations completed! (21%)             \rTotal of 22 of 100 iterations completed! (22%)             \rTotal of 23 of 100 iterations completed! (23%)             \rTotal of 24 of 100 iterations completed! (24%)             \rTotal of 25 of 100 iterations completed! (25%)             \rTotal of 26 of 100 iterations completed! (26%)             \rTotal of 27 of 100 iterations completed! (27%)             \rTotal of 28 of 100 iterations completed! (28%)             \rTotal of 29 of 100 iterations completed! (29%)             \rTotal of 30 of 100 iterations completed! (30%)             \rTotal of 31 of 100 iterations completed! (31%)             \rTotal of 32 of 100 iterations completed! (32%)             \rTotal of 33 of 100 iterations completed! (33%)             \rTotal of 34 of 100 iterations completed! (34%)             \rTotal of 35 of 100 iterations completed! (35%)             \rTotal of 36 of 100 iterations completed! (36%)             \rTotal of 37 of 100 iterations completed! (37%)             \rTotal of 38 of 100 iterations completed! (38%)             \rTotal of 39 of 100 iterations completed! (39%)             \rTotal of 40 of 100 iterations completed! (40%)             \rTotal of 41 of 100 iterations completed! (41%)             \rTotal of 42 of 100 iterations completed! (42%)             \rTotal of 43 of 100 iterations completed! (43%)             \rTotal of 44 of 100 iterations completed! (44%)             \rTotal of 45 of 100 iterations completed! (45%)             \rTotal of 46 of 100 iterations completed! (46%)             \rTotal of 47 of 100 iterations completed! (47%)             \rTotal of 48 of 100 iterations completed! (48%)             \rTotal of 49 of 100 iterations completed! (49%)             \rTotal of 50 of 100 iterations completed! (50%)             \rTotal of 51 of 100 iterations completed! (51%)             \rTotal of 52 of 100 iterations completed! (52%)             \rTotal of 53 of 100 iterations completed! (53%)             \rTotal of 54 of 100 iterations completed! (54%)             \rTotal of 55 of 100 iterations completed! (55%)             \rTotal of 56 of 100 iterations completed! (56%)             \rTotal of 57 of 100 iterations completed! (57%)             \rTotal of 58 of 100 iterations completed! (58%)             \rTotal of 59 of 100 iterations completed! (59%)             \rTotal of 60 of 100 iterations completed! (60%)             \rTotal of 61 of 100 iterations completed! (61%)             \rTotal of 62 of 100 iterations completed! (62%)             \rTotal of 63 of 100 iterations completed! (63%)             \rTotal of 64 of 100 iterations completed! (64%)             \rTotal of 65 of 100 iterations completed! (65%)             \rTotal of 66 of 100 iterations completed! (66%)             \rTotal of 67 of 100 iterations completed! (67%)             \rTotal of 68 of 100 iterations completed! (68%)             \rTotal of 69 of 100 iterations completed! (69%)             \rTotal of 70 of 100 iterations completed! (70%)             \rTotal of 71 of 100 iterations completed! (71%)             \rTotal of 72 of 100 iterations completed! (72%)             \rTotal of 73 of 100 iterations completed! (73%)             \rTotal of 74 of 100 iterations completed! (74%)             \rTotal of 75 of 100 iterations completed! (75%)             \rTotal of 76 of 100 iterations completed! (76%)             \rTotal of 77 of 100 iterations completed! (77%)             \rTotal of 78 of 100 iterations completed! (78%)             \rTotal of 79 of 100 iterations completed! (79%)             \rTotal of 80 of 100 iterations completed! (80%)             \rTotal of 81 of 100 iterations completed! (81%)             \rTotal of 82 of 100 iterations completed! (82%)             \rTotal of 83 of 100 iterations completed! (83%)             \rTotal of 84 of 100 iterations completed! (84%)             \rTotal of 85 of 100 iterations completed! (85%)             \rTotal of 86 of 100 iterations completed! (86%)             \rTotal of 87 of 100 iterations completed! (87%)             \rTotal of 88 of 100 iterations completed! (88%)             \rTotal of 89 of 100 iterations completed! (89%)             \rTotal of 90 of 100 iterations completed! (90%)             \rTotal of 91 of 100 iterations completed! (91%)             \rTotal of 92 of 100 iterations completed! (92%)             \rTotal of 93 of 100 iterations completed! (93%)             \rTotal of 94 of 100 iterations completed! (94%)             \rTotal of 95 of 100 iterations completed! (95%)             \rTotal of 96 of 100 iterations completed! (96%)             \rTotal of 97 of 100 iterations completed! (97%)             \rTotal of 98 of 100 iterations completed! (98%)             \rTotal of 99 of 100 iterations completed! (99%)             \rTotal of 100 of 100 iterations completed! (100%)             \rfitting treatment model via method 'bart'\n"
          ]
        },
        {
          "metadata": {
            "tags": null
          },
          "name": "stderr",
          "output_type": "stream",
          "text": [
            "Warning message in bartc(Y[, 1], Z, X, p.scoreAsCovariate = F, n.chains = 1, n.threads = 1, :\n",
            "“for response method 'bart', propensity score not used unless included as covariate”\n"
          ]
        },
        {
          "metadata": {
            "tags": null
          },
          "name": "stdout",
          "output_type": "stream",
          "text": [
            "fitting response model via method 'bart'\n",
            "fitting treatment model via method 'bart'\n"
          ]
        },
        {
          "metadata": {
            "tags": null
          },
          "name": "stderr",
          "output_type": "stream",
          "text": [
            "Warning message in bartc(Y[, 2], Z, X, p.scoreAsCovariate = F, n.chains = 1, n.threads = 1, :\n",
            "“for response method 'bart', propensity score not used unless included as covariate”\n"
          ]
        },
        {
          "metadata": {
            "tags": null
          },
          "name": "stdout",
          "output_type": "stream",
          "text": [
            "fitting response model via method 'bart'\n",
            "\rFinishing iteration 100 of 100"
          ]
        },
        {
          "metadata": {
            "tags": null
          },
          "name": "stderr",
          "output_type": "stream",
          "text": [
            "Warning message in validateXTest(test, attr(x, \"term.labels\"), ncol(x), colnames(x), :\n",
            "“column names of 'test' does not equal that of 'x': 'X1, X2, X3, X4, X5, X6, X7, X8, X9, X10'; match will be made by position”\n"
          ]
        },
        {
          "metadata": {
            "tags": null
          },
          "name": "stdout",
          "output_type": "stream",
          "text": [
            "Total of 1 of 100 iterations completed! (1%)             \rTotal of 2 of 100 iterations completed! (2%)             \rTotal of 3 of 100 iterations completed! (3%)             \rTotal of 4 of 100 iterations completed! (4%)             \rTotal of 5 of 100 iterations completed! (5%)             \rTotal of 6 of 100 iterations completed! (6%)             \rTotal of 7 of 100 iterations completed! (7%)             \rTotal of 8 of 100 iterations completed! (8%)             \rTotal of 9 of 100 iterations completed! (9%)             \rTotal of 10 of 100 iterations completed! (10%)             \rTotal of 11 of 100 iterations completed! (11%)             \rTotal of 12 of 100 iterations completed! (12%)             \rTotal of 13 of 100 iterations completed! (13%)             \rTotal of 14 of 100 iterations completed! (14%)             \rTotal of 15 of 100 iterations completed! (15%)             \rTotal of 16 of 100 iterations completed! (16%)             \rTotal of 17 of 100 iterations completed! (17%)             \rTotal of 18 of 100 iterations completed! (18%)             \rTotal of 19 of 100 iterations completed! (19%)             \rTotal of 20 of 100 iterations completed! (20%)             \rTotal of 21 of 100 iterations completed! (21%)             \rTotal of 22 of 100 iterations completed! (22%)             \rTotal of 23 of 100 iterations completed! (23%)             \rTotal of 24 of 100 iterations completed! (24%)             \rTotal of 25 of 100 iterations completed! (25%)             \rTotal of 26 of 100 iterations completed! (26%)             \rTotal of 27 of 100 iterations completed! (27%)             \rTotal of 28 of 100 iterations completed! (28%)             \rTotal of 29 of 100 iterations completed! (29%)             \rTotal of 30 of 100 iterations completed! (30%)             \rTotal of 31 of 100 iterations completed! (31%)             \rTotal of 32 of 100 iterations completed! (32%)             \rTotal of 33 of 100 iterations completed! (33%)             \rTotal of 34 of 100 iterations completed! (34%)             \rTotal of 35 of 100 iterations completed! (35%)             \rTotal of 36 of 100 iterations completed! (36%)             \rTotal of 37 of 100 iterations completed! (37%)             \rTotal of 38 of 100 iterations completed! (38%)             \rTotal of 39 of 100 iterations completed! (39%)             \rTotal of 40 of 100 iterations completed! (40%)             \rTotal of 41 of 100 iterations completed! (41%)             \rTotal of 42 of 100 iterations completed! (42%)             \rTotal of 43 of 100 iterations completed! (43%)             \rTotal of 44 of 100 iterations completed! (44%)             \rTotal of 45 of 100 iterations completed! (45%)             \rTotal of 46 of 100 iterations completed! (46%)             \rTotal of 47 of 100 iterations completed! (47%)             \rTotal of 48 of 100 iterations completed! (48%)             \rTotal of 49 of 100 iterations completed! (49%)             \rTotal of 50 of 100 iterations completed! (50%)             \rTotal of 51 of 100 iterations completed! (51%)             \rTotal of 52 of 100 iterations completed! (52%)             \rTotal of 53 of 100 iterations completed! (53%)             \rTotal of 54 of 100 iterations completed! (54%)             \rTotal of 55 of 100 iterations completed! (55%)             \rTotal of 56 of 100 iterations completed! (56%)             \rTotal of 57 of 100 iterations completed! (57%)             \rTotal of 58 of 100 iterations completed! (58%)             \rTotal of 59 of 100 iterations completed! (59%)             \rTotal of 60 of 100 iterations completed! (60%)             \rTotal of 61 of 100 iterations completed! (61%)             \rTotal of 62 of 100 iterations completed! (62%)             \rTotal of 63 of 100 iterations completed! (63%)             \rTotal of 64 of 100 iterations completed! (64%)             \rTotal of 65 of 100 iterations completed! (65%)             \rTotal of 66 of 100 iterations completed! (66%)             \rTotal of 67 of 100 iterations completed! (67%)             \rTotal of 68 of 100 iterations completed! (68%)             \rTotal of 69 of 100 iterations completed! (69%)             \rTotal of 70 of 100 iterations completed! (70%)             \rTotal of 71 of 100 iterations completed! (71%)             \rTotal of 72 of 100 iterations completed! (72%)             \rTotal of 73 of 100 iterations completed! (73%)             \rTotal of 74 of 100 iterations completed! (74%)             \rTotal of 75 of 100 iterations completed! (75%)             \rTotal of 76 of 100 iterations completed! (76%)             \rTotal of 77 of 100 iterations completed! (77%)             \rTotal of 78 of 100 iterations completed! (78%)             \rTotal of 79 of 100 iterations completed! (79%)             \rTotal of 80 of 100 iterations completed! (80%)             \rTotal of 81 of 100 iterations completed! (81%)             \rTotal of 82 of 100 iterations completed! (82%)             \rTotal of 83 of 100 iterations completed! (83%)             \rTotal of 84 of 100 iterations completed! (84%)             \rTotal of 85 of 100 iterations completed! (85%)             \rTotal of 86 of 100 iterations completed! (86%)             \rTotal of 87 of 100 iterations completed! (87%)             \rTotal of 88 of 100 iterations completed! (88%)             \rTotal of 89 of 100 iterations completed! (89%)             \rTotal of 90 of 100 iterations completed! (90%)             \rTotal of 91 of 100 iterations completed! (91%)             \rTotal of 92 of 100 iterations completed! (92%)             \rTotal of 93 of 100 iterations completed! (93%)             \rTotal of 94 of 100 iterations completed! (94%)             \rTotal of 95 of 100 iterations completed! (95%)             \rTotal of 96 of 100 iterations completed! (96%)             \rTotal of 97 of 100 iterations completed! (97%)             \rTotal of 98 of 100 iterations completed! (98%)             \rTotal of 99 of 100 iterations completed! (99%)             \rTotal of 100 of 100 iterations completed! (100%)             \rfitting treatment model via method 'bart'\n"
          ]
        },
        {
          "metadata": {
            "tags": null
          },
          "name": "stderr",
          "output_type": "stream",
          "text": [
            "Warning message in bartc(Y[, 1], Z, X, p.scoreAsCovariate = F, n.chains = 1, n.threads = 1, :\n",
            "“for response method 'bart', propensity score not used unless included as covariate”\n"
          ]
        },
        {
          "metadata": {
            "tags": null
          },
          "name": "stdout",
          "output_type": "stream",
          "text": [
            "fitting response model via method 'bart'\n",
            "fitting treatment model via method 'bart'\n"
          ]
        },
        {
          "metadata": {
            "tags": null
          },
          "name": "stderr",
          "output_type": "stream",
          "text": [
            "Warning message in bartc(Y[, 2], Z, X, p.scoreAsCovariate = F, n.chains = 1, n.threads = 1, :\n",
            "“for response method 'bart', propensity score not used unless included as covariate”\n"
          ]
        },
        {
          "metadata": {
            "tags": null
          },
          "name": "stdout",
          "output_type": "stream",
          "text": [
            "fitting response model via method 'bart'\n",
            "\rFinishing iteration 100 of 100"
          ]
        },
        {
          "metadata": {
            "tags": null
          },
          "name": "stderr",
          "output_type": "stream",
          "text": [
            "Warning message in validateXTest(test, attr(x, \"term.labels\"), ncol(x), colnames(x), :\n",
            "“column names of 'test' does not equal that of 'x': 'X1, X2, X3, X4, X5, X6, X7, X8, X9, X10'; match will be made by position”\n"
          ]
        },
        {
          "metadata": {
            "tags": null
          },
          "name": "stdout",
          "output_type": "stream",
          "text": [
            "Total of 1 of 100 iterations completed! (1%)             \rTotal of 2 of 100 iterations completed! (2%)             \rTotal of 3 of 100 iterations completed! (3%)             \rTotal of 4 of 100 iterations completed! (4%)             \rTotal of 5 of 100 iterations completed! (5%)             \rTotal of 6 of 100 iterations completed! (6%)             \rTotal of 7 of 100 iterations completed! (7%)             \rTotal of 8 of 100 iterations completed! (8%)             \rTotal of 9 of 100 iterations completed! (9%)             \rTotal of 10 of 100 iterations completed! (10%)             \rTotal of 11 of 100 iterations completed! (11%)             \rTotal of 12 of 100 iterations completed! (12%)             \rTotal of 13 of 100 iterations completed! (13%)             \rTotal of 14 of 100 iterations completed! (14%)             \rTotal of 15 of 100 iterations completed! (15%)             \rTotal of 16 of 100 iterations completed! (16%)             \rTotal of 17 of 100 iterations completed! (17%)             \rTotal of 18 of 100 iterations completed! (18%)             \rTotal of 19 of 100 iterations completed! (19%)             \rTotal of 20 of 100 iterations completed! (20%)             \rTotal of 21 of 100 iterations completed! (21%)             \rTotal of 22 of 100 iterations completed! (22%)             \rTotal of 23 of 100 iterations completed! (23%)             \rTotal of 24 of 100 iterations completed! (24%)             \rTotal of 25 of 100 iterations completed! (25%)             \rTotal of 26 of 100 iterations completed! (26%)             \rTotal of 27 of 100 iterations completed! (27%)             \rTotal of 28 of 100 iterations completed! (28%)             \rTotal of 29 of 100 iterations completed! (29%)             \rTotal of 30 of 100 iterations completed! (30%)             \rTotal of 31 of 100 iterations completed! (31%)             \rTotal of 32 of 100 iterations completed! (32%)             \rTotal of 33 of 100 iterations completed! (33%)             \rTotal of 34 of 100 iterations completed! (34%)             \rTotal of 35 of 100 iterations completed! (35%)             \rTotal of 36 of 100 iterations completed! (36%)             \rTotal of 37 of 100 iterations completed! (37%)             \rTotal of 38 of 100 iterations completed! (38%)             \rTotal of 39 of 100 iterations completed! (39%)             \rTotal of 40 of 100 iterations completed! (40%)             \rTotal of 41 of 100 iterations completed! (41%)             \rTotal of 42 of 100 iterations completed! (42%)             \rTotal of 43 of 100 iterations completed! (43%)             \rTotal of 44 of 100 iterations completed! (44%)             \rTotal of 45 of 100 iterations completed! (45%)             \rTotal of 46 of 100 iterations completed! (46%)             \rTotal of 47 of 100 iterations completed! (47%)             \rTotal of 48 of 100 iterations completed! (48%)             \rTotal of 49 of 100 iterations completed! (49%)             \rTotal of 50 of 100 iterations completed! (50%)             \rTotal of 51 of 100 iterations completed! (51%)             \rTotal of 52 of 100 iterations completed! (52%)             \rTotal of 53 of 100 iterations completed! (53%)             \rTotal of 54 of 100 iterations completed! (54%)             \rTotal of 55 of 100 iterations completed! (55%)             \rTotal of 56 of 100 iterations completed! (56%)             \rTotal of 57 of 100 iterations completed! (57%)             \rTotal of 58 of 100 iterations completed! (58%)             \rTotal of 59 of 100 iterations completed! (59%)             \rTotal of 60 of 100 iterations completed! (60%)             \rTotal of 61 of 100 iterations completed! (61%)             \rTotal of 62 of 100 iterations completed! (62%)             \rTotal of 63 of 100 iterations completed! (63%)             \rTotal of 64 of 100 iterations completed! (64%)             \rTotal of 65 of 100 iterations completed! (65%)             \rTotal of 66 of 100 iterations completed! (66%)             \rTotal of 67 of 100 iterations completed! (67%)             \rTotal of 68 of 100 iterations completed! (68%)             \rTotal of 69 of 100 iterations completed! (69%)             \rTotal of 70 of 100 iterations completed! (70%)             \rTotal of 71 of 100 iterations completed! (71%)             \rTotal of 72 of 100 iterations completed! (72%)             \rTotal of 73 of 100 iterations completed! (73%)             \rTotal of 74 of 100 iterations completed! (74%)             \rTotal of 75 of 100 iterations completed! (75%)             \rTotal of 76 of 100 iterations completed! (76%)             \rTotal of 77 of 100 iterations completed! (77%)             \rTotal of 78 of 100 iterations completed! (78%)             \rTotal of 79 of 100 iterations completed! (79%)             \rTotal of 80 of 100 iterations completed! (80%)             \rTotal of 81 of 100 iterations completed! (81%)             \rTotal of 82 of 100 iterations completed! (82%)             \rTotal of 83 of 100 iterations completed! (83%)             \rTotal of 84 of 100 iterations completed! (84%)             \rTotal of 85 of 100 iterations completed! (85%)             \rTotal of 86 of 100 iterations completed! (86%)             \rTotal of 87 of 100 iterations completed! (87%)             \rTotal of 88 of 100 iterations completed! (88%)             \rTotal of 89 of 100 iterations completed! (89%)             \rTotal of 90 of 100 iterations completed! (90%)             \rTotal of 91 of 100 iterations completed! (91%)             \rTotal of 92 of 100 iterations completed! (92%)             \rTotal of 93 of 100 iterations completed! (93%)             \rTotal of 94 of 100 iterations completed! (94%)             \rTotal of 95 of 100 iterations completed! (95%)             \rTotal of 96 of 100 iterations completed! (96%)             \rTotal of 97 of 100 iterations completed! (97%)             \rTotal of 98 of 100 iterations completed! (98%)             \rTotal of 99 of 100 iterations completed! (99%)             \rTotal of 100 of 100 iterations completed! (100%)             \rfitting treatment model via method 'bart'\n"
          ]
        },
        {
          "metadata": {
            "tags": null
          },
          "name": "stderr",
          "output_type": "stream",
          "text": [
            "Warning message in bartc(Y[, 1], Z, X, p.scoreAsCovariate = F, n.chains = 1, n.threads = 1, :\n",
            "“for response method 'bart', propensity score not used unless included as covariate”\n"
          ]
        },
        {
          "metadata": {
            "tags": null
          },
          "name": "stdout",
          "output_type": "stream",
          "text": [
            "fitting response model via method 'bart'\n",
            "fitting treatment model via method 'bart'\n"
          ]
        },
        {
          "metadata": {
            "tags": null
          },
          "name": "stderr",
          "output_type": "stream",
          "text": [
            "Warning message in bartc(Y[, 2], Z, X, p.scoreAsCovariate = F, n.chains = 1, n.threads = 1, :\n",
            "“for response method 'bart', propensity score not used unless included as covariate”\n"
          ]
        },
        {
          "metadata": {
            "tags": null
          },
          "name": "stdout",
          "output_type": "stream",
          "text": [
            "fitting response model via method 'bart'\n",
            "\rFinishing iteration 100 of 100"
          ]
        },
        {
          "metadata": {
            "tags": null
          },
          "name": "stderr",
          "output_type": "stream",
          "text": [
            "Warning message in validateXTest(test, attr(x, \"term.labels\"), ncol(x), colnames(x), :\n",
            "“column names of 'test' does not equal that of 'x': 'X1, X2, X3, X4, X5, X6, X7, X8, X9, X10'; match will be made by position”\n"
          ]
        },
        {
          "output_type": "stream",
          "name": "stdout",
          "text": [
            "Total of 1 of 100 iterations completed! (1%)             \rTotal of 2 of 100 iterations completed! (2%)             \rTotal of 3 of 100 iterations completed! (3%)             \rTotal of 4 of 100 iterations completed! (4%)             \rTotal of 5 of 100 iterations completed! (5%)             \rTotal of 6 of 100 iterations completed! (6%)             \rTotal of 7 of 100 iterations completed! (7%)             \rTotal of 8 of 100 iterations completed! (8%)             \rTotal of 9 of 100 iterations completed! (9%)             \rTotal of 10 of 100 iterations completed! (10%)             \rTotal of 11 of 100 iterations completed! (11%)             \rTotal of 12 of 100 iterations completed! (12%)             \rTotal of 13 of 100 iterations completed! (13%)             \rTotal of 14 of 100 iterations completed! (14%)             \rTotal of 15 of 100 iterations completed! (15%)             \rTotal of 16 of 100 iterations completed! (16%)             \rTotal of 17 of 100 iterations completed! (17%)             \rTotal of 18 of 100 iterations completed! (18%)             \rTotal of 19 of 100 iterations completed! (19%)             \rTotal of 20 of 100 iterations completed! (20%)             \rTotal of 21 of 100 iterations completed! (21%)             \rTotal of 22 of 100 iterations completed! (22%)             \rTotal of 23 of 100 iterations completed! (23%)             \rTotal of 24 of 100 iterations completed! (24%)             \rTotal of 25 of 100 iterations completed! (25%)             \rTotal of 26 of 100 iterations completed! (26%)             \rTotal of 27 of 100 iterations completed! (27%)             \rTotal of 28 of 100 iterations completed! (28%)             \rTotal of 29 of 100 iterations completed! (29%)             \rTotal of 30 of 100 iterations completed! (30%)             \rTotal of 31 of 100 iterations completed! (31%)             \rTotal of 32 of 100 iterations completed! (32%)             \rTotal of 33 of 100 iterations completed! (33%)             \rTotal of 34 of 100 iterations completed! (34%)             \rTotal of 35 of 100 iterations completed! (35%)             \rTotal of 36 of 100 iterations completed! (36%)             \rTotal of 37 of 100 iterations completed! (37%)             \rTotal of 38 of 100 iterations completed! (38%)             \rTotal of 39 of 100 iterations completed! (39%)             \rTotal of 40 of 100 iterations completed! (40%)             \rTotal of 41 of 100 iterations completed! (41%)             \rTotal of 42 of 100 iterations completed! (42%)             \rTotal of 43 of 100 iterations completed! (43%)             \rTotal of 44 of 100 iterations completed! (44%)             \rTotal of 45 of 100 iterations completed! (45%)             \rTotal of 46 of 100 iterations completed! (46%)             \rTotal of 47 of 100 iterations completed! (47%)             \rTotal of 48 of 100 iterations completed! (48%)             \rTotal of 49 of 100 iterations completed! (49%)             \rTotal of 50 of 100 iterations completed! (50%)             \rTotal of 51 of 100 iterations completed! (51%)             \rTotal of 52 of 100 iterations completed! (52%)             \rTotal of 53 of 100 iterations completed! (53%)             \rTotal of 54 of 100 iterations completed! (54%)             \rTotal of 55 of 100 iterations completed! (55%)             \rTotal of 56 of 100 iterations completed! (56%)             \rTotal of 57 of 100 iterations completed! (57%)             \rTotal of 58 of 100 iterations completed! (58%)             \rTotal of 59 of 100 iterations completed! (59%)             \rTotal of 60 of 100 iterations completed! (60%)             \rTotal of 61 of 100 iterations completed! (61%)             \rTotal of 62 of 100 iterations completed! (62%)             \rTotal of 63 of 100 iterations completed! (63%)             \rTotal of 64 of 100 iterations completed! (64%)             \rTotal of 65 of 100 iterations completed! (65%)             \rTotal of 66 of 100 iterations completed! (66%)             \rTotal of 67 of 100 iterations completed! (67%)             \rTotal of 68 of 100 iterations completed! (68%)             \rTotal of 69 of 100 iterations completed! (69%)             \rTotal of 70 of 100 iterations completed! (70%)             \rTotal of 71 of 100 iterations completed! (71%)             \rTotal of 72 of 100 iterations completed! (72%)             \rTotal of 73 of 100 iterations completed! (73%)             \rTotal of 74 of 100 iterations completed! (74%)             \rTotal of 75 of 100 iterations completed! (75%)             \rTotal of 76 of 100 iterations completed! (76%)             \rTotal of 77 of 100 iterations completed! (77%)             \rTotal of 78 of 100 iterations completed! (78%)             \rTotal of 79 of 100 iterations completed! (79%)             \rTotal of 80 of 100 iterations completed! (80%)             \rTotal of 81 of 100 iterations completed! (81%)             \rTotal of 82 of 100 iterations completed! (82%)             \rTotal of 83 of 100 iterations completed! (83%)             \rTotal of 84 of 100 iterations completed! (84%)             \rTotal of 85 of 100 iterations completed! (85%)             \rTotal of 86 of 100 iterations completed! (86%)             \rTotal of 87 of 100 iterations completed! (87%)             \rTotal of 88 of 100 iterations completed! (88%)             \rTotal of 89 of 100 iterations completed! (89%)             \rTotal of 90 of 100 iterations completed! (90%)             \rTotal of 91 of 100 iterations completed! (91%)             \rTotal of 92 of 100 iterations completed! (92%)             \rTotal of 93 of 100 iterations completed! (93%)             \rTotal of 94 of 100 iterations completed! (94%)             \rTotal of 95 of 100 iterations completed! (95%)             \rTotal of 96 of 100 iterations completed! (96%)             \rTotal of 97 of 100 iterations completed! (97%)             \rTotal of 98 of 100 iterations completed! (98%)             \rTotal of 99 of 100 iterations completed! (99%)             \rTotal of 100 of 100 iterations completed! (100%)             \rfitting treatment model via method 'bart'\n"
          ]
        },
        {
          "output_type": "stream",
          "name": "stderr",
          "text": [
            "Warning message in bartc(Y[, 1], Z, X, p.scoreAsCovariate = F, n.chains = 1, n.threads = 1, :\n",
            "“for response method 'bart', propensity score not used unless included as covariate”\n"
          ]
        },
        {
          "output_type": "stream",
          "name": "stdout",
          "text": [
            "fitting response model via method 'bart'\n",
            "fitting treatment model via method 'bart'\n"
          ]
        },
        {
          "output_type": "stream",
          "name": "stderr",
          "text": [
            "Warning message in bartc(Y[, 2], Z, X, p.scoreAsCovariate = F, n.chains = 1, n.threads = 1, :\n",
            "“for response method 'bart', propensity score not used unless included as covariate”\n"
          ]
        },
        {
          "output_type": "stream",
          "name": "stdout",
          "text": [
            "fitting response model via method 'bart'\n",
            "\rFinishing iteration 100 of 100"
          ]
        },
        {
          "output_type": "stream",
          "name": "stderr",
          "text": [
            "Warning message in validateXTest(test, attr(x, \"term.labels\"), ncol(x), colnames(x), :\n",
            "“column names of 'test' does not equal that of 'x': 'X1, X2, X3, X4, X5, X6, X7, X8, X9, X10'; match will be made by position”\n"
          ]
        },
        {
          "output_type": "stream",
          "name": "stdout",
          "text": [
            "Total of 1 of 100 iterations completed! (1%)             \rTotal of 2 of 100 iterations completed! (2%)             \rTotal of 3 of 100 iterations completed! (3%)             \rTotal of 4 of 100 iterations completed! (4%)             \rTotal of 5 of 100 iterations completed! (5%)             \rTotal of 6 of 100 iterations completed! (6%)             \rTotal of 7 of 100 iterations completed! (7%)             \rTotal of 8 of 100 iterations completed! (8%)             \rTotal of 9 of 100 iterations completed! (9%)             \rTotal of 10 of 100 iterations completed! (10%)             \rTotal of 11 of 100 iterations completed! (11%)             \rTotal of 12 of 100 iterations completed! (12%)             \rTotal of 13 of 100 iterations completed! (13%)             \rTotal of 14 of 100 iterations completed! (14%)             \rTotal of 15 of 100 iterations completed! (15%)             \rTotal of 16 of 100 iterations completed! (16%)             \rTotal of 17 of 100 iterations completed! (17%)             \rTotal of 18 of 100 iterations completed! (18%)             \rTotal of 19 of 100 iterations completed! (19%)             \rTotal of 20 of 100 iterations completed! (20%)             \rTotal of 21 of 100 iterations completed! (21%)             \rTotal of 22 of 100 iterations completed! (22%)             \rTotal of 23 of 100 iterations completed! (23%)             \rTotal of 24 of 100 iterations completed! (24%)             \rTotal of 25 of 100 iterations completed! (25%)             \rTotal of 26 of 100 iterations completed! (26%)             \rTotal of 27 of 100 iterations completed! (27%)             \rTotal of 28 of 100 iterations completed! (28%)             \rTotal of 29 of 100 iterations completed! (29%)             \rTotal of 30 of 100 iterations completed! (30%)             \rTotal of 31 of 100 iterations completed! (31%)             \rTotal of 32 of 100 iterations completed! (32%)             \rTotal of 33 of 100 iterations completed! (33%)             \rTotal of 34 of 100 iterations completed! (34%)             \rTotal of 35 of 100 iterations completed! (35%)             \rTotal of 36 of 100 iterations completed! (36%)             \rTotal of 37 of 100 iterations completed! (37%)             \rTotal of 38 of 100 iterations completed! (38%)             \rTotal of 39 of 100 iterations completed! (39%)             \rTotal of 40 of 100 iterations completed! (40%)             \rTotal of 41 of 100 iterations completed! (41%)             \rTotal of 42 of 100 iterations completed! (42%)             \rTotal of 43 of 100 iterations completed! (43%)             \rTotal of 44 of 100 iterations completed! (44%)             \rTotal of 45 of 100 iterations completed! (45%)             \rTotal of 46 of 100 iterations completed! (46%)             \rTotal of 47 of 100 iterations completed! (47%)             \rTotal of 48 of 100 iterations completed! (48%)             \rTotal of 49 of 100 iterations completed! (49%)             \rTotal of 50 of 100 iterations completed! (50%)             \rTotal of 51 of 100 iterations completed! (51%)             \rTotal of 52 of 100 iterations completed! (52%)             \rTotal of 53 of 100 iterations completed! (53%)             \rTotal of 54 of 100 iterations completed! (54%)             \rTotal of 55 of 100 iterations completed! (55%)             \rTotal of 56 of 100 iterations completed! (56%)             \rTotal of 57 of 100 iterations completed! (57%)             \rTotal of 58 of 100 iterations completed! (58%)             \rTotal of 59 of 100 iterations completed! (59%)             \rTotal of 60 of 100 iterations completed! (60%)             \rTotal of 61 of 100 iterations completed! (61%)             \rTotal of 62 of 100 iterations completed! (62%)             \rTotal of 63 of 100 iterations completed! (63%)             \rTotal of 64 of 100 iterations completed! (64%)             \rTotal of 65 of 100 iterations completed! (65%)             \rTotal of 66 of 100 iterations completed! (66%)             \rTotal of 67 of 100 iterations completed! (67%)             \rTotal of 68 of 100 iterations completed! (68%)             \rTotal of 69 of 100 iterations completed! (69%)             \rTotal of 70 of 100 iterations completed! (70%)             \rTotal of 71 of 100 iterations completed! (71%)             \rTotal of 72 of 100 iterations completed! (72%)             \rTotal of 73 of 100 iterations completed! (73%)             \rTotal of 74 of 100 iterations completed! (74%)             \rTotal of 75 of 100 iterations completed! (75%)             \rTotal of 76 of 100 iterations completed! (76%)             \rTotal of 77 of 100 iterations completed! (77%)             \rTotal of 78 of 100 iterations completed! (78%)             \rTotal of 79 of 100 iterations completed! (79%)             \rTotal of 80 of 100 iterations completed! (80%)             \rTotal of 81 of 100 iterations completed! (81%)             \rTotal of 82 of 100 iterations completed! (82%)             \rTotal of 83 of 100 iterations completed! (83%)             \rTotal of 84 of 100 iterations completed! (84%)             \rTotal of 85 of 100 iterations completed! (85%)             \rTotal of 86 of 100 iterations completed! (86%)             \rTotal of 87 of 100 iterations completed! (87%)             \rTotal of 88 of 100 iterations completed! (88%)             \rTotal of 89 of 100 iterations completed! (89%)             \rTotal of 90 of 100 iterations completed! (90%)             \rTotal of 91 of 100 iterations completed! (91%)             \rTotal of 92 of 100 iterations completed! (92%)             \rTotal of 93 of 100 iterations completed! (93%)             \rTotal of 94 of 100 iterations completed! (94%)             \rTotal of 95 of 100 iterations completed! (95%)             \rTotal of 96 of 100 iterations completed! (96%)             \rTotal of 97 of 100 iterations completed! (97%)             \rTotal of 98 of 100 iterations completed! (98%)             \rTotal of 99 of 100 iterations completed! (99%)             \rTotal of 100 of 100 iterations completed! (100%)             \rfitting treatment model via method 'bart'\n"
          ]
        },
        {
          "output_type": "stream",
          "name": "stderr",
          "text": [
            "Warning message in bartc(Y[, 1], Z, X, p.scoreAsCovariate = F, n.chains = 1, n.threads = 1, :\n",
            "“for response method 'bart', propensity score not used unless included as covariate”\n"
          ]
        },
        {
          "output_type": "stream",
          "name": "stdout",
          "text": [
            "fitting response model via method 'bart'\n",
            "fitting treatment model via method 'bart'\n"
          ]
        },
        {
          "output_type": "stream",
          "name": "stderr",
          "text": [
            "Warning message in bartc(Y[, 2], Z, X, p.scoreAsCovariate = F, n.chains = 1, n.threads = 1, :\n",
            "“for response method 'bart', propensity score not used unless included as covariate”\n"
          ]
        },
        {
          "output_type": "stream",
          "name": "stdout",
          "text": [
            "fitting response model via method 'bart'\n",
            "\rFinishing iteration 100 of 100"
          ]
        },
        {
          "output_type": "stream",
          "name": "stderr",
          "text": [
            "Warning message in validateXTest(test, attr(x, \"term.labels\"), ncol(x), colnames(x), :\n",
            "“column names of 'test' does not equal that of 'x': 'X1, X2, X3, X4, X5, X6, X7, X8, X9, X10'; match will be made by position”\n"
          ]
        },
        {
          "output_type": "stream",
          "name": "stdout",
          "text": [
            "Total of 1 of 100 iterations completed! (1%)             \rTotal of 2 of 100 iterations completed! (2%)             \rTotal of 3 of 100 iterations completed! (3%)             \rTotal of 4 of 100 iterations completed! (4%)             \rTotal of 5 of 100 iterations completed! (5%)             \rTotal of 6 of 100 iterations completed! (6%)             \rTotal of 7 of 100 iterations completed! (7%)             \rTotal of 8 of 100 iterations completed! (8%)             \rTotal of 9 of 100 iterations completed! (9%)             \rTotal of 10 of 100 iterations completed! (10%)             \rTotal of 11 of 100 iterations completed! (11%)             \rTotal of 12 of 100 iterations completed! (12%)             \rTotal of 13 of 100 iterations completed! (13%)             \rTotal of 14 of 100 iterations completed! (14%)             \rTotal of 15 of 100 iterations completed! (15%)             \rTotal of 16 of 100 iterations completed! (16%)             \rTotal of 17 of 100 iterations completed! (17%)             \rTotal of 18 of 100 iterations completed! (18%)             \rTotal of 19 of 100 iterations completed! (19%)             \rTotal of 20 of 100 iterations completed! (20%)             \rTotal of 21 of 100 iterations completed! (21%)             \rTotal of 22 of 100 iterations completed! (22%)             \rTotal of 23 of 100 iterations completed! (23%)             \rTotal of 24 of 100 iterations completed! (24%)             \rTotal of 25 of 100 iterations completed! (25%)             \rTotal of 26 of 100 iterations completed! (26%)             \rTotal of 27 of 100 iterations completed! (27%)             \rTotal of 28 of 100 iterations completed! (28%)             \rTotal of 29 of 100 iterations completed! (29%)             \rTotal of 30 of 100 iterations completed! (30%)             \rTotal of 31 of 100 iterations completed! (31%)             \rTotal of 32 of 100 iterations completed! (32%)             \rTotal of 33 of 100 iterations completed! (33%)             \rTotal of 34 of 100 iterations completed! (34%)             \rTotal of 35 of 100 iterations completed! (35%)             \rTotal of 36 of 100 iterations completed! (36%)             \rTotal of 37 of 100 iterations completed! (37%)             \rTotal of 38 of 100 iterations completed! (38%)             \rTotal of 39 of 100 iterations completed! (39%)             \rTotal of 40 of 100 iterations completed! (40%)             \rTotal of 41 of 100 iterations completed! (41%)             \rTotal of 42 of 100 iterations completed! (42%)             \rTotal of 43 of 100 iterations completed! (43%)             \rTotal of 44 of 100 iterations completed! (44%)             \rTotal of 45 of 100 iterations completed! (45%)             \rTotal of 46 of 100 iterations completed! (46%)             \rTotal of 47 of 100 iterations completed! (47%)             \rTotal of 48 of 100 iterations completed! (48%)             \rTotal of 49 of 100 iterations completed! (49%)             \rTotal of 50 of 100 iterations completed! (50%)             \rTotal of 51 of 100 iterations completed! (51%)             \rTotal of 52 of 100 iterations completed! (52%)             \rTotal of 53 of 100 iterations completed! (53%)             \rTotal of 54 of 100 iterations completed! (54%)             \rTotal of 55 of 100 iterations completed! (55%)             \rTotal of 56 of 100 iterations completed! (56%)             \rTotal of 57 of 100 iterations completed! (57%)             \rTotal of 58 of 100 iterations completed! (58%)             \rTotal of 59 of 100 iterations completed! (59%)             \rTotal of 60 of 100 iterations completed! (60%)             \rTotal of 61 of 100 iterations completed! (61%)             \rTotal of 62 of 100 iterations completed! (62%)             \rTotal of 63 of 100 iterations completed! (63%)             \rTotal of 64 of 100 iterations completed! (64%)             \rTotal of 65 of 100 iterations completed! (65%)             \rTotal of 66 of 100 iterations completed! (66%)             \rTotal of 67 of 100 iterations completed! (67%)             \rTotal of 68 of 100 iterations completed! (68%)             \rTotal of 69 of 100 iterations completed! (69%)             \rTotal of 70 of 100 iterations completed! (70%)             \rTotal of 71 of 100 iterations completed! (71%)             \rTotal of 72 of 100 iterations completed! (72%)             \rTotal of 73 of 100 iterations completed! (73%)             \rTotal of 74 of 100 iterations completed! (74%)             \rTotal of 75 of 100 iterations completed! (75%)             \rTotal of 76 of 100 iterations completed! (76%)             \rTotal of 77 of 100 iterations completed! (77%)             \rTotal of 78 of 100 iterations completed! (78%)             \rTotal of 79 of 100 iterations completed! (79%)             \rTotal of 80 of 100 iterations completed! (80%)             \rTotal of 81 of 100 iterations completed! (81%)             \rTotal of 82 of 100 iterations completed! (82%)             \rTotal of 83 of 100 iterations completed! (83%)             \rTotal of 84 of 100 iterations completed! (84%)             \rTotal of 85 of 100 iterations completed! (85%)             \rTotal of 86 of 100 iterations completed! (86%)             \rTotal of 87 of 100 iterations completed! (87%)             \rTotal of 88 of 100 iterations completed! (88%)             \rTotal of 89 of 100 iterations completed! (89%)             \rTotal of 90 of 100 iterations completed! (90%)             \rTotal of 91 of 100 iterations completed! (91%)             \rTotal of 92 of 100 iterations completed! (92%)             \rTotal of 93 of 100 iterations completed! (93%)             \rTotal of 94 of 100 iterations completed! (94%)             \rTotal of 95 of 100 iterations completed! (95%)             \rTotal of 96 of 100 iterations completed! (96%)             \rTotal of 97 of 100 iterations completed! (97%)             \rTotal of 98 of 100 iterations completed! (98%)             \rTotal of 99 of 100 iterations completed! (99%)             \rTotal of 100 of 100 iterations completed! (100%)             \rfitting treatment model via method 'bart'\n"
          ]
        },
        {
          "output_type": "stream",
          "name": "stderr",
          "text": [
            "Warning message in bartc(Y[, 1], Z, X, p.scoreAsCovariate = F, n.chains = 1, n.threads = 1, :\n",
            "“for response method 'bart', propensity score not used unless included as covariate”\n"
          ]
        },
        {
          "output_type": "stream",
          "name": "stdout",
          "text": [
            "fitting response model via method 'bart'\n",
            "fitting treatment model via method 'bart'\n"
          ]
        },
        {
          "output_type": "stream",
          "name": "stderr",
          "text": [
            "Warning message in bartc(Y[, 2], Z, X, p.scoreAsCovariate = F, n.chains = 1, n.threads = 1, :\n",
            "“for response method 'bart', propensity score not used unless included as covariate”\n"
          ]
        },
        {
          "output_type": "stream",
          "name": "stdout",
          "text": [
            "fitting response model via method 'bart'\n",
            "\rFinishing iteration 100 of 100\n",
            "After 90 simulations:\n",
            "Comparison 1: Power = 0.9627, p-value = 0.1507, adjusted p-value = 0.1507\n",
            "Comparison 2: Power = 0.8558, p-value = 0.0005, adjusted p-value = 0.0016\n",
            "Comparison 3: Power = 0.6153, p-value = 0.0012, adjusted p-value = 0.0025\n",
            "Comparison 4: Power = 0.6027, p-value = 0.0000, adjusted p-value = 0.0000\n",
            "Minimum power: 0.6026983 \n",
            "\n",
            "\n",
            "=== TISCA COMPLETED ===\n",
            "Final number of simulations required: 90 \n",
            "Final achieved powers:\n",
            "Comparison 1 (mvbcf_pehe1 vs bcf_pehe1): Power = 0.9627, p-value = 0.1507, adjusted p-value = 0.1507\n",
            "Comparison 2 (mvbcf_pehe2 vs bcf_pehe2): Power = 0.8558, p-value = 0.0005, adjusted p-value = 0.0016\n",
            "Comparison 3 (mvbcf_tau_951 vs bcf_tau_951): Power = 0.6153, p-value = 0.0012, adjusted p-value = 0.0025\n",
            "Comparison 4 (mvbcf_tau_952 vs bcf_tau_952): Power = 0.6027, p-value = 0.0000, adjusted p-value = 0.0000\n",
            "\n",
            "Results saved to CSV files\n",
            "Power vs Simulations plot saved as 'power_vs_simulations.png'\n",
            "P-value comparison plot saved as 'pvalue_comparison.png'\n",
            "\n",
            "TISCA analysis completed.\n",
            "Required number of simulations: 90 \n",
            "Results saved to CSV files and plots generated.\n"
          ]
        }
      ],
      "source": [
        "################################################################################\n",
        "# TISCA (Test-Informed Simulation Count Algorithm) Implementation\n",
        "# Integrating simulation code with TISCA methodology\n",
        "################################################################################\n",
        "\n",
        "# Load required libraries\n",
        "library(progress)\n",
        "library(mvtnorm)\n",
        "library(stochtree)\n",
        "library(mvbcf)\n",
        "library(dbarts)\n",
        "library(bartCause)\n",
        "library(skewBART)\n",
        "library(ggplot2)\n",
        "library(reshape2)\n",
        "\n",
        "################################################################################\n",
        "# Helper Functions\n",
        "################################################################################\n",
        "\n",
        "# Function to check if a value is within a credible interval\n",
        "in_cred <- function(samples, value, interval) {\n",
        "  upper_quantile <- 1-(1-interval)/2\n",
        "  lower_quantile <- 0+(1-interval)/2\n",
        "\n",
        "  q1 <- quantile(samples, lower_quantile)\n",
        "  q2 <- quantile(samples, upper_quantile)\n",
        "\n",
        "  in_cred <- ifelse(value >= q1 & value <= q2, T, F)\n",
        "}\n",
        "\n",
        "# Function to calculate credible interval width\n",
        "cred_width <- function(samples, interval) {\n",
        "  upper_quantile <- 1-(1-interval)/2\n",
        "  lower_quantile <- 0+(1-interval)/2\n",
        "\n",
        "  q1 <- quantile(samples, lower_quantile)\n",
        "  q2 <- quantile(samples, upper_quantile)\n",
        "\n",
        "  return(q2-q1)\n",
        "}\n",
        "\n",
        "# Helper function for Welch's t-test\n",
        "welch_t_test <- function(data, metric_p, metric_b) {\n",
        "  # Extract the metrics for both models\n",
        "  values_p <- data[[metric_p]]\n",
        "  values_b <- data[[metric_b]]\n",
        "\n",
        "  # Perform Welch's t-test\n",
        "  test_result <- t.test(values_p, values_b, paired = FALSE, var.equal = FALSE)\n",
        "\n",
        "  return(list(\n",
        "    p_value = test_result$p.value,\n",
        "    t_stat = test_result$statistic,\n",
        "    sd_p = sd(values_p),\n",
        "    sd_b = sd(values_b),\n",
        "    mean_p = mean(values_p),\n",
        "    mean_b = mean(values_b)\n",
        "  ))\n",
        "}\n",
        "\n",
        "# Helper function to adjust p-values for multiple testing\n",
        "adjust_p_values <- function(p_values, method) {\n",
        "  if (method == \"none\") {\n",
        "    return(p_values)\n",
        "  } else {\n",
        "    return(p.adjust(p_values, method = method))\n",
        "  }\n",
        "}\n",
        "\n",
        "# Helper function to estimate power for Welch's t-test\n",
        "estimate_welch_power <- function(n1, n2, sd1, sd2, delta, alpha) {\n",
        "  # Calculate degrees of freedom using Welch-Satterthwaite equation\n",
        "  df <- ((sd1^2/n1 + sd2^2/n2)^2) /\n",
        "        ((sd1^2/n1)^2/(n1-1) + (sd2^2/n2)^2/(n2-1))\n",
        "\n",
        "  # Calculate non-centrality parameter\n",
        "  ncp <- delta / sqrt(sd1^2/n1 + sd2^2/n2)\n",
        "\n",
        "  # Calculate critical value\n",
        "  crit <- qt(1-alpha/2, df)\n",
        "\n",
        "  # Calculate power\n",
        "  power <- 1 - pt(crit, df, ncp) + pt(-crit, df, ncp)\n",
        "\n",
        "  return(power)\n",
        "}\n",
        "\n",
        "################################################################################\n",
        "# Simulation Function\n",
        "################################################################################\n",
        "\n",
        "# Define the simulation function that will be called by TISCA\n",
        "run_simulation <- function(seed) {\n",
        "  # Set random seed\n",
        "  set.seed(seed)\n",
        "\n",
        "  # Train Data\n",
        "  n <- 300\n",
        "\n",
        "  X1 <- runif(n)\n",
        "  X2 <- runif(n)\n",
        "  X3 <- runif(n)\n",
        "  X4 <- runif(n)\n",
        "  X5 <- runif(n)\n",
        "  X6 <- rbinom(n, 1, 0.5)\n",
        "  X7 <- rbinom(n, 1, 0.5)\n",
        "  X8 <- rbinom(n, 1, 0.5)\n",
        "  X9 <- sample(c(0, 1, 2, 3, 4), n, replace=T)\n",
        "  X10 <- sample(c(0, 1, 2, 3, 4), n, replace=T)\n",
        "\n",
        "  X <- cbind(X1, X2, X3, X4, X5, X6, X7, X8, X9, X10)\n",
        "\n",
        "  Mu1 <- (11*sin(pi*X1*X2)+18*(X3-0.5)^2+10*X4+12*X6+X9)*10+300\n",
        "  Mu2 <- (9*sin(pi*X1*X2)+22*(X3-0.5)^2+14*X4+8*X6+X9)*10+300\n",
        "\n",
        "  Tau1 <- (2*X4+2*X5)*10\n",
        "  Tau2 <- (1*X4+3*X5)*10\n",
        "\n",
        "  true_propensity <- X4\n",
        "\n",
        "  Z <- rbinom(n, 1, true_propensity)\n",
        "\n",
        "  Y <- cbind(Mu1+Z*Tau1, Mu2+Z*Tau2) + mvtnorm::rmvnorm(n, c(0, 0), matrix(c(50^2, 0, 0, 50^2), nrow=2, byrow=T))\n",
        "\n",
        "  # Test Data\n",
        "  n_test <- 1000\n",
        "\n",
        "  X1_test <- runif(n_test)\n",
        "  X2_test <- runif(n_test)\n",
        "  X3_test <- runif(n_test)\n",
        "  X4_test <- runif(n_test)\n",
        "  X5_test <- runif(n_test)\n",
        "  X6_test <- rbinom(n_test, 1, 0.5)\n",
        "  X7_test <- rbinom(n_test, 1, 0.5)\n",
        "  X8_test <- rbinom(n_test, 1, 0.5)\n",
        "  X9_test <- sample(c(0, 1, 2, 3, 4), n_test, replace=T)\n",
        "  X10_test <- sample(c(0, 1, 2, 3, 4), n_test, replace=T)\n",
        "\n",
        "  X_test <- cbind(X1_test, X2_test, X3_test, X4_test, X5_test, X6_test, X7_test, X8_test, X9_test, X10_test)\n",
        "\n",
        "  Mu1_test <- (11*sin(pi*X1_test*X2_test)+18*(X3_test-0.5)^2+10*X4_test+12*X6_test+X9_test)*10+300\n",
        "  Mu2_test <- (9*sin(pi*X1_test*X2_test)+22*(X3_test-0.5)^2+14*X4_test+8*X6_test+X9_test)*10+300\n",
        "\n",
        "  Tau1_test <- (2*X4_test+2*X5_test)*10\n",
        "  Tau2_test <- (1*X4_test+3*X5_test)*10\n",
        "\n",
        "  true_propensity_test <- X4_test\n",
        "\n",
        "  Z_test <- rbinom(n_test, 1, true_propensity_test)\n",
        "\n",
        "  Y_test <- cbind(Mu1_test+Z_test*Tau1_test, Mu2_test+Z_test*Tau2_test) + mvtnorm::rmvnorm(n_test, c(0, 0), matrix(c(50^2, 0, 0, 50^2), nrow=2, byrow=T))\n",
        "\n",
        "  # Estimate of propensity score\n",
        "  p_mod <- bart(x.train = X, y.train = Z, x.test = X_test, k=3, verbose = FALSE)\n",
        "  p <- colMeans(pnorm(p_mod$yhat.train))\n",
        "  p_test <- colMeans(pnorm(p_mod$yhat.test))\n",
        "\n",
        "  # Adding to matrix\n",
        "  X2 <- X\n",
        "  X2_test <- X_test\n",
        "  X <- cbind(X, p)\n",
        "  X_test <- cbind(X_test, p_test)\n",
        "  Z2 <- cbind(Z,Z)\n",
        "\n",
        "  # Set some parameters\n",
        "  n_tree_mu <- 15\n",
        "  n_tree_tau <- 5\n",
        "  n_iter <- 100\n",
        "  n_burn <- 50\n",
        "\n",
        "  mu_val <- 1\n",
        "  tau_val <- 0.375\n",
        "  v_val <- 1\n",
        "  wish_val <- 1\n",
        "  min_val <- 1\n",
        "\n",
        "  # MVBCF model\n",
        "  mvbcf_mod <- run_mvbcf(X,\n",
        "                         Y,\n",
        "                         Z,\n",
        "                         X2,\n",
        "                         X_test, # Test data for the mu part of the model\n",
        "                         X2_test, # Test data for the tau part of the model\n",
        "                         0.95,\n",
        "                         2,\n",
        "                         0.25,\n",
        "                         3,\n",
        "                         diag((mu_val)^2/n_tree_mu, 2),\n",
        "                         diag((tau_val)^2/n_tree_tau, 2),\n",
        "                         v_val,\n",
        "                         diag(wish_val, 2),\n",
        "                         n_iter,\n",
        "                         n_tree_mu,\n",
        "                         n_tree_tau,\n",
        "                         min_val)\n",
        "\n",
        "  mvbcf_tau_preds1 <- rowMeans(mvbcf_mod$predictions_tau_test[,1,-c(1:n_burn)])\n",
        "  mvbcf_ate1 <- mean(mvbcf_tau_preds1)\n",
        "  mvbcf_tau_preds2 <- rowMeans(mvbcf_mod$predictions_tau_test[,2,-c(1:n_burn)])\n",
        "  mvbcf_ate2 <- mean(mvbcf_tau_preds2)\n",
        "\n",
        "  mvbcf_pehe1 <- sqrt(mean((Tau1_test-mvbcf_tau_preds1)^2))\n",
        "  mvbcf_pehe2 <- sqrt(mean((Tau2_test-mvbcf_tau_preds2)^2))\n",
        "\n",
        "  # BCF model 1\n",
        "  bcfmod1 <- bcf(X2, Z, Y[,1], X_test = X2_test,\n",
        "                prognostic_forest_params=list(\"num_trees\"= n_tree_mu, \"sigma2_leaf_init\"=sd(Y[,1])^2),\n",
        "                treatment_effect_forest_params=list(\"num_trees\"= n_tree_tau, \"sigma2_leaf_init\"=(0.375*sd(Y[,1]))^2),\n",
        "                Z_test = Z_test, propensity_test = p_test,\n",
        "                propensity_train=p, num_burnin=n_burn, num_mcmc=n_iter-n_burn, num_gfr = 0)\n",
        "  bcf_pehe1 <- sqrt(mean((Tau1_test-rowMeans(bcfmod1$tau_hat_test))^2))\n",
        "  bcf_ate1 <- mean(rowMeans(bcfmod1$tau_hat_test))\n",
        "\n",
        "  # BCF model 2\n",
        "  bcfmod2 <- bcf(X2, Z, Y[,2], X_test = X2_test,\n",
        "                prognostic_forest_params=list(\"num_trees\"= n_tree_mu, \"sigma2_leaf_init\"=sd(Y[,1])^2),\n",
        "                treatment_effect_forest_params=list(\"num_trees\"= n_tree_tau, \"sigma2_leaf_init\"=(0.375*sd(Y[,1]))^2),\n",
        "                Z_test = Z_test, propensity_test = p_test,\n",
        "                propensity_train=p, num_burnin=n_burn, num_mcmc=n_iter-n_burn, num_gfr = 0)\n",
        "  bcf_pehe2 <- sqrt(mean((Tau2_test-rowMeans(bcfmod2$tau_hat_test))^2))\n",
        "  bcf_ate2 <- mean(rowMeans(bcfmod2$tau_hat_test))\n",
        "\n",
        "  # WSBCF model 1\n",
        "  wsbcfmod1 <- bcf(X2, Z, Y[,1], X_test = X2_test,\n",
        "                  Z_test = Z_test, propensity_test = p_test,\n",
        "                  propensity_train=p, num_burnin=n_burn, num_mcmc=n_iter-n_burn, num_gfr = 50)\n",
        "  wsbcf_pehe1 <- sqrt(mean((Tau1_test-rowMeans(wsbcfmod1$tau_hat_test))^2))\n",
        "  wsbcf_ate1 <- mean(rowMeans(wsbcfmod1$tau_hat_test))\n",
        "\n",
        "  # WSBCF model 2\n",
        "  wsbcfmod2 <- bcf(X2, Z, Y[,2], X_test = X2_test,\n",
        "                  Z_test = Z_test, propensity_test = p_test,\n",
        "                  propensity_train=p, num_burnin=n_burn, num_mcmc=n_iter-n_burn, num_gfr = 50)\n",
        "  wsbcf_pehe2 <- sqrt(mean((Tau2_test-rowMeans(wsbcfmod2$tau_hat_test))^2))\n",
        "  wsbcf_ate2 <- mean(rowMeans(bcfmod2$tau_hat_test))\n",
        "\n",
        "  ate1 <- mean(Tau1_test)\n",
        "  ate2 <- mean(Tau2_test)\n",
        "\n",
        "  # Calculate coverage metrics\n",
        "  mvbcf_tau_951 <- mean(diag(apply(mvbcf_mod$predictions_tau_test[,1,-c(1:n_burn)], 1, in_cred, Tau1_test, 0.95)))\n",
        "  mvbcf_tau_951w <- mean(apply(mvbcf_mod$predictions_tau_test[,1,-c(1:n_burn)], 1, cred_width, 0.95))\n",
        "  bcf_tau_951 <- mean(diag(apply(bcfmod1$tau_hat_test, 1, in_cred, Tau1_test, 0.95)))\n",
        "  bcf_tau_951w <- mean(apply(bcfmod1$tau_hat_test, 1, cred_width, 0.95))\n",
        "\n",
        "  mvbcf_tau_952 <- mean(diag(apply(mvbcf_mod$predictions_tau_test[,2,-c(1:n_burn)], 1, in_cred, Tau2_test, 0.95)))\n",
        "  mvbcf_tau_952w <- mean(apply(mvbcf_mod$predictions_tau_test[,2,-c(1:n_burn)], 1, cred_width, 0.95))\n",
        "  bcf_tau_952 <- mean(diag(apply(bcfmod2$tau_hat_test, 1, in_cred, Tau2_test, 0.95)))\n",
        "  bcf_tau_952w <- mean(apply(bcfmod2$tau_hat_test, 1, cred_width, 0.95))\n",
        "\n",
        "  wsbcf_tau_951 <- mean(diag(apply(wsbcfmod1$tau_hat_test, 1, in_cred, Tau1_test, 0.95)))\n",
        "  wsbcf_tau_952 <- mean(diag(apply(wsbcfmod2$tau_hat_test, 1, in_cred, Tau2_test, 0.95)))\n",
        "\n",
        "  # BART models\n",
        "  colnames(X) <- rep(\"\", ncol(X))\n",
        "  colnames(X_test) <- rep(\"\", ncol(X_test))\n",
        "  colnames(X) <- paste0(\"V\", 1:ncol(X))\n",
        "  colnames(X_test) <- paste0(\"V\", 1:ncol(X_test))\n",
        "\n",
        "  bart_mod1 <- bartc(Y[,1], Z, X, p.scoreAsCovariate = F, n.chains=1, n.threads=1, keepTrees=T, n.trees=n_tree_mu+n_tree_tau)\n",
        "  bart_tau_preds1 <- colMeans(predict(bart_mod1, X_test, type=\"icate\"))\n",
        "  bart_ate1 <- mean(bart_tau_preds1)\n",
        "\n",
        "  bart_mod2 <- bartc(Y[,2], Z, X, p.scoreAsCovariate = F, n.chains=1, n.threads=1, keepTrees=T, n.trees=n_tree_mu+n_tree_tau)\n",
        "  bart_tau_preds2 <- colMeans(predict(bart_mod2, X_test, type=\"icate\"))\n",
        "  bart_ate2 <- mean(bart_tau_preds2)\n",
        "\n",
        "  # Multivariate skew BART\n",
        "  hypers <- Hypers(X = cbind(X, Z), Y = Y, num_tree = n_tree_mu+n_tree_tau)\n",
        "  opts <- Opts(num_burn = n_burn, num_save = n_iter-n_burn)\n",
        "  X_test_z <- rbind(cbind(X_test, 0*Z_test), cbind(X_test, 0*Z_test+1))\n",
        "\n",
        "  fitted_Multiskewbart <- MultiskewBART(X = cbind(X, Z), Y = Y, test_X = X_test_z, hypers=hypers, opts=opts, do_skew = F)\n",
        "\n",
        "  z_0_preds <- fitted_Multiskewbart$y_hat_test[1:n_test,,]\n",
        "  z_1_preds <- fitted_Multiskewbart$y_hat_test[-c(1:n_test),,]\n",
        "  z_1_0_preds <- z_1_preds-z_0_preds\n",
        "\n",
        "  mvbart_icates1 <- rowMeans(z_1_0_preds[,1,])\n",
        "  mvbart_ate1 <- mean(mvbart_icates1)\n",
        "  mvbart_icates2 <- rowMeans(z_1_0_preds[,2,])\n",
        "  mvbart_ate2 <- mean(mvbart_icates2)\n",
        "\n",
        "  bart_pehe1 <- sqrt(mean((Tau1_test-bart_tau_preds1)^2))\n",
        "  mvbart_pehe1 <- sqrt(mean((Tau1_test-mvbart_icates1)^2))\n",
        "  bart_tau_951 <- mean(diag(apply(predict(bart_mod1, X_test, type=\"icate\"), 2, in_cred, Tau1_test, 0.95)))\n",
        "  mvbart_tau_951 <- mean(diag(apply(z_1_0_preds[,1,], 1, in_cred, Tau1_test, 0.95)))\n",
        "\n",
        "  bart_pehe2 <- sqrt(mean((Tau2_test-bart_tau_preds2)^2))\n",
        "  mvbart_pehe2 <- sqrt(mean((Tau2_test-mvbart_icates2)^2))\n",
        "  bart_tau_952 <- mean(diag(apply(predict(bart_mod2, X_test, type=\"icate\"), 2, in_cred, Tau2_test, 0.95)))\n",
        "  mvbart_tau_952 <- mean(diag(apply(z_1_0_preds[,2,], 1, in_cred, Tau2_test, 0.95)))\n",
        "\n",
        "  # Return results as a data frame\n",
        "  results <- data.frame(\n",
        "    mvbcf_pehe1 = mvbcf_pehe1,\n",
        "    mvbcf_pehe2 = mvbcf_pehe2,\n",
        "    bcf_pehe1 = bcf_pehe1,\n",
        "    bcf_pehe2 = bcf_pehe2,\n",
        "    wsbcf_pehe1 = wsbcf_pehe1,\n",
        "    wsbcf_pehe2 = wsbcf_pehe2,\n",
        "    bart_pehe1 = bart_pehe1,\n",
        "    bart_pehe2 = bart_pehe2,\n",
        "    mvbart_pehe1 = mvbart_pehe1,\n",
        "    mvbart_pehe2 = mvbart_pehe2,\n",
        "    mvbcf_tau_951 = mvbcf_tau_951,\n",
        "    mvbcf_tau_952 = mvbcf_tau_952,\n",
        "    bcf_tau_951 = bcf_tau_951,\n",
        "    bcf_tau_952 = bcf_tau_952,\n",
        "    wsbcf_tau_951 = wsbcf_tau_951,\n",
        "    wsbcf_tau_952 = wsbcf_tau_952,\n",
        "    bart_tau_951 = bart_tau_951,\n",
        "    bart_tau_952 = bart_tau_952,\n",
        "    mvbart_tau_951 = mvbart_tau_951,\n",
        "    mvbart_tau_952 = mvbart_tau_952\n",
        "  )\n",
        "\n",
        "  return(results)\n",
        "}\n",
        "\n",
        "################################################################################\n",
        "# TISCA Main Function\n",
        "################################################################################\n",
        "\n",
        "run_tisca <- function(\n",
        "  sim_func,                # Function that runs one simulation and returns metrics\n",
        "  comparison_pairs,        # List of pairs to compare (metric_p, metric_b)\n",
        "  mdes,                    # Vector of minimum detectable effect sizes\n",
        "  target_power = 0.80,     # Target statistical power\n",
        "  alpha = 0.05,            # Significance level\n",
        "  batch_size = 50,         # Number of simulations per batch\n",
        "  initial_count = NULL,    # Initial simulation count (defaults to batch_size if NULL)\n",
        "  correction_method = \"none\", # Multiple testing correction method\n",
        "  verbose = TRUE,          # Whether to print progress updates\n",
        "  save_results = TRUE      # Whether to save results to CSV files\n",
        ") {\n",
        "  # Set initial count to batch_size if not specified\n",
        "  if (is.null(initial_count)) {\n",
        "    initial_count <- batch_size\n",
        "  }\n",
        "\n",
        "  # Initialization Phase\n",
        "  J <- 0\n",
        "  results_agg <- data.frame() # Empty dataframe to store results\n",
        "  K <- length(comparison_pairs)\n",
        "  P_current <- rep(0, K)      # Vector of K zeros for current power\n",
        "\n",
        "  # Create data structures to track power and p-values over iterations\n",
        "  power_tracking <- data.frame(\n",
        "    simulations = numeric(),\n",
        "    comparison = character(),\n",
        "    power = numeric()\n",
        "  )\n",
        "\n",
        "  pvalue_tracking <- data.frame(\n",
        "    simulations = numeric(),\n",
        "    comparison = character(),\n",
        "    p_raw = numeric(),\n",
        "    p_adj = numeric()\n",
        "  )\n",
        "\n",
        "  # Create a progress bar if verbose\n",
        "  if (verbose) {\n",
        "    cat(\"Starting TISCA algorithm...\\n\")\n",
        "    cat(\"Target power:\", target_power, \"\\n\")\n",
        "    cat(\"Significance level:\", alpha, \"\\n\")\n",
        "    cat(\"Batch size:\", batch_size, \"\\n\")\n",
        "    cat(\"Initial count:\", initial_count, \"\\n\")\n",
        "    cat(\"Correction method:\", correction_method, \"\\n\")\n",
        "    cat(\"Number of comparisons:\", K, \"\\n\\n\")\n",
        "  }\n",
        "\n",
        "  # Optional Initial Run\n",
        "  if (initial_count > 0 && initial_count >= batch_size) {\n",
        "    if (verbose) {\n",
        "      cat(\"Running initial\", initial_count, \"simulations...\\n\")\n",
        "      pb <- progress_bar$new(total = initial_count)\n",
        "    }\n",
        "\n",
        "    # Run initial simulations\n",
        "    for (i in 1:initial_count) {\n",
        "      if (verbose) pb$tick()\n",
        "      metrics_run <- sim_func(seed = i)\n",
        "      results_agg <- rbind(results_agg, metrics_run)\n",
        "    }\n",
        "    J <- initial_count\n",
        "\n",
        "    # Perform initial power calculation\n",
        "    p_values_raw <- numeric(K)\n",
        "    test_stats <- numeric(K)\n",
        "    mean_diffs <- numeric(K)\n",
        "\n",
        "    for (k in 1:K) {\n",
        "      # Extract comparison information\n",
        "      metric_p <- comparison_pairs[[k]][1]\n",
        "      metric_b <- comparison_pairs[[k]][2]\n",
        "      comparison_name <- paste(metric_p, \"vs\", metric_b)\n",
        "\n",
        "      # Perform Welch's t-test\n",
        "      test_result <- welch_t_test(results_agg, metric_p, metric_b)\n",
        "\n",
        "      # Store results\n",
        "      p_values_raw[k] <- test_result$p_value\n",
        "      test_stats[k] <- test_result$t_stat\n",
        "      mean_diffs[k] <- test_result$mean_p - test_result$mean_b\n",
        "\n",
        "      # Estimate power if standard deviations are valid\n",
        "      if (test_result$sd_p > 0 && test_result$sd_b > 0) {\n",
        "        P_current[k] <- estimate_welch_power(\n",
        "          J, J,\n",
        "          test_result$sd_p, test_result$sd_b,\n",
        "          mdes[k], alpha\n",
        "        )\n",
        "      } else {\n",
        "        P_current[k] <- 0\n",
        "      }\n",
        "\n",
        "      # Track power\n",
        "      power_tracking <- rbind(power_tracking, data.frame(\n",
        "        simulations = J,\n",
        "        comparison = comparison_name,\n",
        "        power = P_current[k]\n",
        "      ))\n",
        "    }\n",
        "\n",
        "    # Adjust p-values for multiple testing\n",
        "    p_values_adj <- adjust_p_values(p_values_raw, correction_method)\n",
        "\n",
        "    # Track p-values\n",
        "    for (k in 1:K) {\n",
        "      comparison_name <- paste(comparison_pairs[[k]][1], \"vs\", comparison_pairs[[k]][2])\n",
        "      pvalue_tracking <- rbind(pvalue_tracking, data.frame(\n",
        "        simulations = J,\n",
        "        comparison = comparison_name,\n",
        "        p_raw = p_values_raw[k],\n",
        "        p_adj = p_values_adj[k]\n",
        "      ))\n",
        "    }\n",
        "\n",
        "    if (verbose) {\n",
        "      cat(\"\\nAfter initial\", J, \"simulations:\\n\")\n",
        "      for (k in 1:K) {\n",
        "        cat(sprintf(\"Comparison %d: Power = %.4f, p-value = %.4f, adjusted p-value = %.4f\\n\",\n",
        "                    k, P_current[k], p_values_raw[k], p_values_adj[k]))\n",
        "      }\n",
        "      cat(\"Minimum power:\", min(P_current), \"\\n\\n\")\n",
        "    }\n",
        "  }\n",
        "\n",
        "  # Iterative Simulation and Power Check Loop\n",
        "  iteration <- 1\n",
        "\n",
        "  while (min(P_current) < target_power) {\n",
        "    if (verbose) {\n",
        "      cat(sprintf(\"Iteration %d: Running batch of %d simulations (total will be %d)...\\n\",\n",
        "                  iteration, batch_size, J + batch_size))\n",
        "      pb <- progress_bar$new(total = batch_size)\n",
        "    }\n",
        "\n",
        "    # Run a new batch of simulations\n",
        "    start_seed <- J + 1\n",
        "    end_seed <- J + batch_size\n",
        "\n",
        "    for (i in start_seed:end_seed) {\n",
        "      if (verbose) pb$tick()\n",
        "      metrics_run <- sim_func(seed = i)\n",
        "      results_agg <- rbind(results_agg, metrics_run)\n",
        "    }\n",
        "\n",
        "    J <- J + batch_size\n",
        "\n",
        "    # Perform tests and estimate power on current J simulations\n",
        "    p_values_raw <- numeric(K)\n",
        "    test_stats <- numeric(K)\n",
        "    mean_diffs <- numeric(K)\n",
        "\n",
        "    for (k in 1:K) {\n",
        "      # Extract comparison information\n",
        "      metric_p <- comparison_pairs[[k]][1]\n",
        "      metric_b <- comparison_pairs[[k]][2]\n",
        "      comparison_name <- paste(metric_p, \"vs\", metric_b)\n",
        "\n",
        "      # Perform Welch's t-test\n",
        "      test_result <- welch_t_test(results_agg, metric_p, metric_b)\n",
        "\n",
        "      # Store results\n",
        "      p_values_raw[k] <- test_result$p_value\n",
        "      test_stats[k] <- test_result$t_stat\n",
        "      mean_diffs[k] <- test_result$mean_p - test_result$mean_b\n",
        "\n",
        "      # Estimate power if standard deviations are valid\n",
        "      if (test_result$sd_p > 0 && test_result$sd_b > 0) {\n",
        "        P_current[k] <- estimate_welch_power(\n",
        "          J, J,\n",
        "          test_result$sd_p, test_result$sd_b,\n",
        "          mdes[k], alpha\n",
        "        )\n",
        "      } else {\n",
        "        P_current[k] <- 0\n",
        "      }\n",
        "\n",
        "      # Track power\n",
        "      power_tracking <- rbind(power_tracking, data.frame(\n",
        "        simulations = J,\n",
        "        comparison = comparison_name,\n",
        "        power = P_current[k]\n",
        "      ))\n",
        "    }\n",
        "\n",
        "    # Adjust p-values for multiple testing\n",
        "    p_values_adj <- adjust_p_values(p_values_raw, correction_method)\n",
        "\n",
        "    # Track p-values\n",
        "    for (k in 1:K) {\n",
        "      comparison_name <- paste(comparison_pairs[[k]][1], \"vs\", comparison_pairs[[k]][2])\n",
        "      pvalue_tracking <- rbind(pvalue_tracking, data.frame(\n",
        "        simulations = J,\n",
        "        comparison = comparison_name,\n",
        "        p_raw = p_values_raw[k],\n",
        "        p_adj = p_values_adj[k]\n",
        "      ))\n",
        "    }\n",
        "\n",
        "    if (verbose) {\n",
        "      cat(\"\\nAfter\", J, \"simulations:\\n\")\n",
        "      for (k in 1:K) {\n",
        "        cat(sprintf(\"Comparison %d: Power = %.4f, p-value = %.4f, adjusted p-value = %.4f\\n\",\n",
        "                    k, P_current[k], p_values_raw[k], p_values_adj[k]))\n",
        "      }\n",
        "      cat(\"Minimum power:\", min(P_current), \"\\n\\n\")\n",
        "    }\n",
        "\n",
        "    iteration <- iteration + 1\n",
        "  }\n",
        "\n",
        "  # Output Phase\n",
        "  J_final <- J\n",
        "  P_raw <- p_values_raw\n",
        "  P_adj <- p_values_adj\n",
        "  Stats <- test_stats\n",
        "  P_achieved <- P_current\n",
        "\n",
        "  # Create summary table\n",
        "  summary_table <- data.frame(\n",
        "    Comparison = character(),\n",
        "    Proposed_Metric = character(),\n",
        "    Benchmark_Metric = character(),\n",
        "    MDE = numeric(),\n",
        "    Mean_Difference = numeric(),\n",
        "    Power = numeric(),\n",
        "    P_Value = numeric(),\n",
        "    Adjusted_P_Value = numeric(),\n",
        "    T_Statistic = numeric(),\n",
        "    stringsAsFactors = FALSE\n",
        "  )\n",
        "\n",
        "  for (k in 1:length(comparison_pairs)) {\n",
        "    summary_table[k, \"Comparison\"] <- paste(comparison_pairs[[k]][1], \"vs\", comparison_pairs[[k]][2])\n",
        "    summary_table[k, \"Proposed_Metric\"] <- comparison_pairs[[k]][1]\n",
        "    summary_table[k, \"Benchmark_Metric\"] <- comparison_pairs[[k]][2]\n",
        "    summary_table[k, \"MDE\"] <- mdes[k]\n",
        "    summary_table[k, \"Mean_Difference\"] <- mean_diffs[k]\n",
        "    summary_table[k, \"Power\"] <- P_achieved[k]\n",
        "    summary_table[k, \"P_Value\"] <- P_raw[k]\n",
        "    summary_table[k, \"Adjusted_P_Value\"] <- P_adj[k]\n",
        "    summary_table[k, \"T_Statistic\"] <- Stats[k]\n",
        "  }\n",
        "\n",
        "  if (verbose) {\n",
        "    cat(\"\\n=== TISCA COMPLETED ===\\n\")\n",
        "    cat(\"Final number of simulations required:\", J_final, \"\\n\")\n",
        "    cat(\"Final achieved powers:\\n\")\n",
        "    for (k in 1:K) {\n",
        "      cat(sprintf(\"Comparison %d (%s vs %s): Power = %.4f, p-value = %.4f, adjusted p-value = %.4f\\n\",\n",
        "                  k, comparison_pairs[[k]][1], comparison_pairs[[k]][2],\n",
        "                  P_achieved[k], P_raw[k], P_adj[k]))\n",
        "    }\n",
        "  }\n",
        "\n",
        "  # Create power vs simulation plot\n",
        "  if (save_results) {\n",
        "    # Plot power vs simulations\n",
        "    power_plot <- ggplot(power_tracking, aes(x = simulations, y = power, color = comparison, group = comparison)) +\n",
        "      geom_line(linewidth = 1) +\n",
        "      geom_point(size = 2) +\n",
        "      geom_hline(yintercept = target_power, linetype = \"dashed\", color = \"red\") +\n",
        "      labs(\n",
        "        title = \"Power vs Number of Simulations\",\n",
        "        subtitle = paste(\"Target Power =\", target_power),\n",
        "        x = \"Number of Simulations\",\n",
        "        y = \"Estimated Power\",\n",
        "        color = \"Comparison\"\n",
        "      ) +\n",
        "      theme_classic() +\n",
        "      theme(\n",
        "        legend.position = \"bottom\",\n",
        "        plot.title = element_text(hjust = 0.5, face = \"bold\"),\n",
        "        plot.subtitle = element_text(hjust = 0.5)\n",
        "      )\n",
        "\n",
        "    # Save power plot\n",
        "    ggsave(\"power_vs_simulations.png\", power_plot, width = 10, height = 6, dpi = 300)\n",
        "\n",
        "    # Create p-value bar plot\n",
        "    # Get the final p-values\n",
        "    final_pvalues <- pvalue_tracking[pvalue_tracking$simulations == max(pvalue_tracking$simulations), ]\n",
        "\n",
        "    # Transform p-values to -log10 scale for better visualization\n",
        "    final_pvalues$neg_log10_p_raw <- -log10(final_pvalues$p_raw)\n",
        "    final_pvalues$neg_log10_p_adj <- -log10(final_pvalues$p_adj)\n",
        "\n",
        "    # Reshape for plotting\n",
        "    pvalue_plot_data <- data.frame(\n",
        "      comparison = rep(final_pvalues$comparison, 2),\n",
        "      p_type = c(rep(\"Raw p-value\", nrow(final_pvalues)), rep(\"Adjusted p-value\", nrow(final_pvalues))),\n",
        "      neg_log10_p = c(final_pvalues$neg_log10_p_raw, final_pvalues$neg_log10_p_adj)\n",
        "    )\n",
        "\n",
        "    # Create the bar plot\n",
        "    pvalue_plot <- ggplot(pvalue_plot_data, aes(x = comparison, y = neg_log10_p, fill = p_type)) +\n",
        "      geom_bar(stat = \"identity\", position = position_dodge(width = 0.9), width = 0.8) +\n",
        "      geom_hline(yintercept = -log10(0.05), linetype = \"dashed\", color = \"red\") +\n",
        "      labs(\n",
        "        title = \"Significance of Comparisons\",\n",
        "        subtitle = paste(\"After\", J_final, \"Simulations\"),\n",
        "        x = \"Comparison\",\n",
        "        y = \"-log10(p-value)\",\n",
        "        fill = \"P-value Type\"\n",
        "      ) +\n",
        "      theme_classic() +\n",
        "      theme(\n",
        "        axis.text.x = element_text(angle = 45, hjust = 1),\n",
        "        legend.position = \"bottom\",\n",
        "        plot.title = element_text(hjust = 0.5, face = \"bold\"),\n",
        "        plot.subtitle = element_text(hjust = 0.5)\n",
        "      ) +\n",
        "      annotate(\"text\", x = 1, y = -log10(0.05) + 0.2, label = \"α = 0.05\", color = \"red\")\n",
        "\n",
        "    # Save p-value plot\n",
        "    ggsave(\"pvalue_comparison.png\", pvalue_plot, width = 10, height = 6, dpi = 300)\n",
        "\n",
        "    # Save results to CSV\n",
        "    write.csv(results_agg, \"tisca_simulation_results.csv\", row.names = FALSE)\n",
        "    write.csv(summary_table, \"tisca_summary_results.csv\", row.names = FALSE)\n",
        "    write.csv(power_tracking, \"power_tracking.csv\", row.names = FALSE)\n",
        "    write.csv(pvalue_tracking, \"pvalue_tracking.csv\", row.names = FALSE)\n",
        "\n",
        "    if (verbose) {\n",
        "      cat(\"\\nResults saved to CSV files\\n\")\n",
        "      cat(\"Power vs Simulations plot saved as 'power_vs_simulations.png'\\n\")\n",
        "      cat(\"P-value comparison plot saved as 'pvalue_comparison.png'\\n\")\n",
        "    }\n",
        "  }\n",
        "\n",
        "  # Return results\n",
        "  return(list(\n",
        "    J_final = J_final,\n",
        "    P_raw = P_raw,\n",
        "    P_adj = P_adj,\n",
        "    Stats = Stats,\n",
        "    P_achieved = P_achieved,\n",
        "    results = results_agg,\n",
        "    comparison_pairs = comparison_pairs,\n",
        "    mdes = mdes,\n",
        "    summary_table = summary_table,\n",
        "    power_tracking = power_tracking,\n",
        "    pvalue_tracking = pvalue_tracking\n",
        "  ))\n",
        "}\n",
        "\n",
        "################################################################################\n",
        "# Example Usage\n",
        "################################################################################\n",
        "\n",
        "# Define comparison pairs (proposed model vs benchmark)\n",
        "# Format: list(c(\"proposed_metric\", \"benchmark_metric\"), ...)\n",
        "comparison_pairs <- list(\n",
        "  c(\"mvbcf_pehe1\", \"bcf_pehe1\"),     # Compare MVBCF vs BCF for PEHE1\n",
        "  c(\"mvbcf_pehe2\", \"bcf_pehe2\"),     # Compare MVBCF vs BCF for PEHE2\n",
        "  c(\"mvbcf_tau_951\", \"bcf_tau_951\"), # Compare MVBCF vs BCF for coverage1\n",
        "  c(\"mvbcf_tau_952\", \"bcf_tau_952\")  # Compare MVBCF vs BCF for coverage2\n",
        ")\n",
        "\n",
        "# Define minimum detectable effect sizes\n",
        "# Negative values for metrics where lower is better (like PEHE)\n",
        "# Positive values for metrics where higher is better (like coverage)\n",
        "mdes <- c(-2, -2, 0.05, 0.05)\n",
        "\n",
        "# Run TISCA\n",
        "tisca_results <- run_tisca(\n",
        "  sim_func = run_simulation,\n",
        "  comparison_pairs = comparison_pairs,\n",
        "  mdes = mdes,\n",
        "  target_power = 0.60,\n",
        "  alpha = 0.10,\n",
        "  batch_size = 10,\n",
        "  initial_count = 10,\n",
        "  correction_method = \"holm\",\n",
        "  verbose = TRUE,\n",
        "  save_results = TRUE\n",
        ")\n",
        "\n",
        "# Print final message\n",
        "cat(\"\\nTISCA analysis completed.\\n\")\n",
        "cat(\"Required number of simulations:\", tisca_results$J_final, \"\\n\")\n",
        "cat(\"Results saved to CSV files and plots generated.\\n\")\n"
      ]
    },
    {
      "cell_type": "code",
      "source": [],
      "metadata": {
        "id": "CJP_5qKLWqBV"
      },
      "execution_count": null,
      "outputs": []
    }
  ],
  "metadata": {
    "colab": {
      "provenance": []
    },
    "kernelspec": {
      "display_name": "R",
      "name": "ir"
    },
    "language_info": {
      "name": "R"
    }
  },
  "nbformat": 4,
  "nbformat_minor": 0
}